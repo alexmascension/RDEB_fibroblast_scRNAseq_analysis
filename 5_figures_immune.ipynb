{
 "cells": [
  {
   "cell_type": "markdown",
   "id": "aa781ea4-1ef8-4bd8-b09d-1e513ed2c212",
   "metadata": {},
   "source": [
    "# Figures associated to immune processing\n",
    "\n",
    "**You need to tun the notebook 2_ first!!!!**"
   ]
  },
  {
   "cell_type": "code",
   "execution_count": null,
   "id": "beec4b87-e7ae-42fb-a135-12bb7617dfea",
   "metadata": {
    "tags": []
   },
   "outputs": [],
   "source": [
    "from cellassign import assign_cats\n",
    "import gzip\n",
    "import itertools as itl\n",
    "import matplotlib.pyplot as plt\n",
    "import matplotlib as mpl\n",
    "import numpy as np\n",
    "import os\n",
    "import pandas as pd\n",
    "import scanpy as sc\n",
    "import scanpy.external as sce\n",
    "import seaborn as sns\n",
    "import triku as tk\n",
    "import itertools\n",
    "import matplotlib.pylab as pylab"
   ]
  },
  {
   "cell_type": "code",
   "execution_count": null,
   "id": "e1fb0597-20bc-498b-81a7-e05c21bf9083",
   "metadata": {
    "tags": []
   },
   "outputs": [],
   "source": [
    "from functions import adata_plot_KOvsWT, stat_annot_gene\n",
    "from functions import dict_WT_KO_colors"
   ]
  },
  {
   "cell_type": "code",
   "execution_count": null,
   "id": "d42c465d-e373-4ca7-b67e-94d0ffe388b8",
   "metadata": {
    "tags": []
   },
   "outputs": [],
   "source": [
    "from datetime import date\n",
    "\n",
    "today = date.today()\n",
    "today = today.strftime(\"%Y_%m_%d\")"
   ]
  },
  {
   "cell_type": "code",
   "execution_count": null,
   "id": "965d7745-46a9-480c-9c08-4f0630f09114",
   "metadata": {
    "tags": []
   },
   "outputs": [],
   "source": [
    "# Palettes for UMAP gene expression\n",
    "\n",
    "magma = [plt.get_cmap('magma')(i) for i in np.linspace(0,1, 80)]\n",
    "magma[0] = (0.88, 0.88, 0.88, 1)\n",
    "magma = mpl.colors.LinearSegmentedColormap.from_list(\"\", magma[:65])"
   ]
  },
  {
   "cell_type": "code",
   "execution_count": null,
   "id": "2187d104-9f68-4f9f-8d55-4e3f64db639b",
   "metadata": {
    "tags": []
   },
   "outputs": [],
   "source": [
    "params = {'figure.dpi': 200,\n",
    "          'legend.fontsize': 'large',\n",
    "         'axes.labelsize': 'x-large',\n",
    "         'axes.titlesize':'x-large',\n",
    "         'xtick.labelsize':'x-large',\n",
    "         'ytick.labelsize':'x-large', \n",
    "         'axes.grid': False}\n",
    "pylab.rcParams.update(params)\n",
    "# mpl.style.use('default')\n",
    "\n",
    "pd.set_option('display.max_columns', None)"
   ]
  },
  {
   "cell_type": "markdown",
   "id": "851e2f7c-361c-4e68-aa6e-d32abd0b89b3",
   "metadata": {},
   "source": [
    "## Functions and variables"
   ]
  },
  {
   "cell_type": "code",
   "execution_count": null,
   "id": "2cb59f56-277b-498b-b9ea-abe1361a5bab",
   "metadata": {
    "tags": []
   },
   "outputs": [],
   "source": [
    "%store -r dict_WT_KO_colors\n",
    "%store -r seed"
   ]
  },
  {
   "cell_type": "markdown",
   "id": "cd3d67f8-65f4-4a1c-b1dc-4b7de3024ff5",
   "metadata": {},
   "source": [
    "## Load adata"
   ]
  },
  {
   "cell_type": "code",
   "execution_count": null,
   "id": "bab15a72-06de-40b3-b2ba-863299e110cd",
   "metadata": {
    "tags": []
   },
   "outputs": [],
   "source": [
    "adata_all_harmony = sc.read_h5ad('adatas/adata_all_harmony.h5')\n",
    "adata_imm = adata_all_harmony[adata_all_harmony.obs['merged_cell_type_name'].isin(['APC', 'LYM', 'NEU', 'MC'])]"
   ]
  },
  {
   "cell_type": "code",
   "execution_count": null,
   "id": "cbb7b439-e74d-4ea2-a090-6fd296024ad6",
   "metadata": {
    "tags": []
   },
   "outputs": [],
   "source": [
    "sc.pp.filter_genes(adata_imm, min_counts=1)"
   ]
  },
  {
   "cell_type": "code",
   "execution_count": null,
   "id": "5c793023-137c-4e5b-ba27-230a9a79542d",
   "metadata": {
    "tags": []
   },
   "outputs": [],
   "source": [
    "sc.pp.pca(adata_imm, random_state=seed, n_comps=50)\n",
    "sce.pp.harmony_integrate(adata_imm, key='batch', max_iter_harmony=50, plot_convergence=True)\n",
    "sc.pp.neighbors(adata_imm, random_state=seed, n_neighbors=int(len(adata_imm) ** 0.5 * 0.5), metric='cosine', use_rep='X_pca_harmony')\n",
    "tk.tl.triku(adata_imm, use_raw=False)\n",
    "\n",
    "sc.pp.pca(adata_imm, random_state=seed, n_comps=50)\n",
    "sce.pp.harmony_integrate(adata_imm, key='batch', max_iter_harmony=50, plot_convergence=True)\n",
    "sc.pp.neighbors(adata_imm, random_state=seed, n_neighbors=int(len(adata_imm) ** 0.5 * 0.5), metric='cosine', use_rep='X_pca_harmony')"
   ]
  },
  {
   "cell_type": "code",
   "execution_count": null,
   "id": "c7b3c4cd-5666-4620-abb4-7111ae716303",
   "metadata": {
    "tags": []
   },
   "outputs": [],
   "source": [
    "sc.tl.umap(adata_imm, min_dist=1)"
   ]
  },
  {
   "cell_type": "markdown",
   "id": "826677f1-237c-4cf2-9649-dd45324f723e",
   "metadata": {},
   "source": [
    "### Subpopulation annotation\n",
    "\n",
    "To do the annotation we used the characterization made by Joost et al. 2020. There are some populations that are not appearing (Krt75+ to Krt18+) and we are not sure about their functional relationship"
   ]
  },
  {
   "cell_type": "code",
   "execution_count": null,
   "id": "9ea6bf57-ee7e-464e-9357-1412727b477c",
   "metadata": {
    "tags": []
   },
   "outputs": [],
   "source": [
    "dict_immune = {  '0: LC': ['Mfge8', 'Cd207', 'Cldn1', 'Pgf', 'Cd74', 'H2-Aa', 'H2-Eb1',  'Nr4a3', 'Il1r2', 'Pkib', 'Grk3', 'Ktn1', 'Pxdc1', 'Dnah2', 'Timd4', \n",
    "                                      'Epcam', 'Ccr7', 'St14', 'Mreg', 'Cd40'],\n",
    "                 '1: CCR7$^+$ LC': ['Fscn1', 'Cd200', 'Il4i1', 'Pkib', 'Wnk1', 'Cd74', 'Cst3', 'Ccr7', 'Bcl2a1a', 'Cacnb3', 'Ccl22', 'Gm13546', 'Serpinb9b', 'Relb', 'Cd40', 'Arl5a'],\n",
    "\n",
    "                 '2A: Mφ/DCA': ['Pf4', 'C1qb', 'Igf1', 'Grn', 'Dab2', 'C1qc', 'Apoe', 'C1qa', 'Ms4a7', 'Timp2', 'Cd36', 'Mrc1', 'Fxyd2', 'F13a1', 'Rgl1', 'Ednrb', 'Hgsnat', 'Tgfbi', 'Rnase4', \n",
    "                                 'Sash1', 'Folr2', 'Gas6', 'Stab1', 'Ccl8', 'Fcgrt', 'Ms4a6c', 'P2rx7'] ,\n",
    "                '2B: Mφ/DCB': ['Cd209a', 'Cd209d', 'Slc39a14', 'Plbd1', 'Aif1', 'Cd74', 'Clec4e', 'Tgfbi', 'Pdpn', 'Cxcl3', 'Vat1', 'Eps8', 'Tppp3', \n",
    "                                     'Procr', 'Tarm1', 'Clec4a3', 'Ccl5'] ,\n",
    "               '2C: Mφ/DCC': ['Nos2', 'Saa3', 'Arg1', 'Wfdc17', 'Csf1r', 'F10', 'Ly6c2', 'Gsr', 'Anxa5', 'Ptgs2', 'Cxcl3', 'Pid1', 'Serpinb2', 'Csf3', 'Vcan', 'Inhba', 'Ptges', \n",
    "                               'F13a1', 'Met', ],\n",
    "    \n",
    "                 '3: Act. Neu': ['Acod1', 'Il1f9', 'Csta3', 'Rhov', 'Stfa2l1', 'Ccl3', 'Hcar2', 'Slpi', 'Ccrl2', 'Il1rn', 'Cxcl3', 'G0s2', \n",
    "                                      'Stfa2', 'Ptgs2', 'Asprv1', 'Fpr1'],\n",
    "    \n",
    "                 '4: Neu': ['Camp', 'Ltf', 'Chil3', 'S100a8', 'S100a9', 'Tinagl1', 'Stfa1', 'Ngp', 'Chil3', 'Cd177', 'Adpgk', 'Syne1', 'Cebpe', 'Hsd11b1', 'Mgst1', \n",
    "                                 'Tst', 'Ly6c2', 'Pilrb2', 'Fcnb', 'Rab44', 'Nfe2', 'Cpne3', 'Ldhc', 'Hmgn2', 'Adgrg3'],\n",
    "               \n",
    "                 '5: Bas': ['Mcpt8', 'Cyp11a1', 'Cd200r3', 'Ifitm1', 'Ero1l', 'Ccl6', 'Ccl3', 'Lilrb4a', 'Gata2', 'Ccl4', 'Hdc', 'Osm', 'Lat2', 'Tec', 'Rab44', 'Csf2rb2', \n",
    "                               'Os9', 'Ier3', 'Aqp9', 'Cd200r4', 'Emilin2', 'Csf1', 'Slpi', 'Hmox1', 'Mboat1', 'Hs3st1', 'Adgrg3', ],\n",
    "                 \n",
    "                 '6: BC': ['Vpreb3', 'Cd79a', 'Cd79b', 'Chchd10', 'Ighm',  'Stmn1', 'Igll1', 'Dut', 'Top2a', 'Rasgrp2', 'Myb', 'Ssrp1', 'Gimap6', 'Selenoh', 'Apobec3', 'Smc2',\n",
    "                             'Cks1b', 'Lgals9', 'Ebf1', 'Csrp2', 'Adgrg1', 'Pou2af1', 'Tcf3', 'Hist1h1a', 'Parp1', 'Lig1', 'Dntt', 'Sox4'],\n",
    "               \n",
    "                 '7: PC': ['Iglc3', 'Ms4a1', 'Iglc2', 'Ighm', 'Igkc', 'Cd79a', 'Ly6d', 'Cd79b', 'Tnfrsf13c', 'Iglc1', 'Sdc1', 'Cd74', \n",
    "                                  'Txndc16', 'Ighd'],    \n",
    "                  '8: αβT': ['Tnfrsf18', 'Cxcr6', 'Ccr2', 'Ifngr1', 'Cd52', 'Rora', 'Il7r', 'Aebp2', 'Icos', 'Dgat1', 'Shisa5', 'Grap', 'Cd27', 'Pdcd1', 'Ikzf3', 'Il18r1', \n",
    "                             'Gata3', 'Spn', 'Tnfrsf4'],\n",
    "                  '9: γδT': ['Nkg7', 'Ctsw', 'Cd7', 'Rab4a', 'Ctla2a', 'Rgs2', 'Cd3d', 'Cd3g', 'Fermt2', 'Tcrg-C1', 'Klrk1', 'Trf', 'Itk', 'Ubald2', 'Il2rb', 'Map1b', 'Klrb1b', 'Cd2', \n",
    "                              'Trbc2', 'Abcb1b', 'Rasl11b', 'Parp8', 'Tiam1'],\n",
    "                  '10: MC': ['Cma1', 'Tpsb2', 'Mcpt4', 'Fdx1', 'Hs3st1', 'Cd55', 'Tpsab1', 'Hdc', 'Tph1', 'Cpa3', 'Fgfr1', 'Gata2', 'Slco2b1', 'Vwa5a', 'Il1rl1', \n",
    "                                'Cyp11a1', 'Adora3', 'Kit', 'Ap1s3', 'Hexb', 'Creb3l1', 'Mrgprb1', 'Rab27b', 'Penk', 'Hs6st2', 'Adamts9', 'Akap12', 'Slc45a3', 'Mrgprb2', 'Gnai1'], \n",
    "                  }\n",
    "\n",
    "\n",
    "\n",
    "dict_imm_colors = { '0: LC': '#D40055',\n",
    "                    '1: CCR7$^+$ LC': '#f25a97',\n",
    "                    '2: Mφ/DC': '#4D0765',\n",
    "                    '3: Act. Neu': '#D3BC5F',\n",
    "                    '4: Neu': '#A5901A',\n",
    "                    '5: Bas': '#A05A2C',\n",
    "                    '6: BC': '#4c708a',\n",
    "                    '7: PC': '#00171F',\n",
    "                    '8: αβT': '#0086b9',\n",
    "                    '9: γδT': '#99DCF5',\n",
    "                    '10: MC': '#FF9955',\n",
    "                     }\n"
   ]
  },
  {
   "cell_type": "code",
   "execution_count": null,
   "id": "04fb7365-652a-4a31-8942-b42bb1c92bc7",
   "metadata": {
    "tags": []
   },
   "outputs": [],
   "source": [
    "sc.tl.leiden(adata_imm, resolution=4)\n",
    "assign_cats(adata_imm, dict_cats=dict_immune, min_score=0.4, quantile_gene_sel=0.6, key_added='subtype')\n",
    "\n",
    "adata_imm.obs['subtype'] = [i  if i[0] != '2' else '2: Mφ/DC' for i in adata_imm.obs['subtype']]\n",
    "\n",
    "\n",
    "adata_imm.obs['subtype_name'] = [i.split(': ')[1] for i in adata_imm.obs['subtype']]\n",
    "adata_imm.obs['subtype_name'] = adata_imm.obs['subtype_name'].astype('category')\n",
    "adata_imm.obs['subtype_name'].cat.reorder_categories([i.split(': ')[1] for i in dict_imm_colors.keys()], inplace=True)\n",
    "\n",
    "adata_imm.obs['subtype_number'] = [i.split(': ')[0] for i in adata_imm.obs['subtype']]\n",
    "adata_imm.obs['subtype_number'] = adata_imm.obs['subtype_number'].astype('category')\n",
    "adata_imm.obs['subtype_number'].cat.reorder_categories([i.split(': ')[0] for i in dict_imm_colors.keys()], inplace=True)\n",
    "\n",
    "\n",
    "adata_imm.uns['subtype_colors'] = list(dict_imm_colors.values())\n",
    "adata_imm.uns['subtype_name_colors'] = list(dict_imm_colors.values())\n",
    "adata_imm.uns['subtype_number_colors'] = list(dict_imm_colors.values())"
   ]
  },
  {
   "cell_type": "markdown",
   "id": "91003d7d-958f-49c3-97d8-8489b4862117",
   "metadata": {},
   "source": [
    "## UMAP of fibroblast subpopulations and batch"
   ]
  },
  {
   "cell_type": "markdown",
   "id": "55d1f502-c924-49f6-9359-f2f66640f18d",
   "metadata": {},
   "source": [
    "#### Supp Fig to Fig 3"
   ]
  },
  {
   "cell_type": "code",
   "execution_count": null,
   "id": "974adea4-f161-4c5d-ab94-548ad7cb869e",
   "metadata": {
    "tags": []
   },
   "outputs": [],
   "source": [
    "adata_imm_WT = adata_imm[adata_imm.obs['batch'].isin(['WT1', 'WT2'])]\n",
    "adata_imm_WT.uns['batch_colors'] = [dict_WT_KO_colors['WT1'], dict_WT_KO_colors['WT2'], ]\n",
    "adata_imm_KO = adata_imm[adata_imm.obs['batch'].isin(['KO1', 'KO2'])]\n",
    "adata_imm_KO.uns['batch_colors'] = [dict_WT_KO_colors['KO1'], dict_WT_KO_colors['KO2'], ]"
   ]
  },
  {
   "cell_type": "code",
   "execution_count": null,
   "id": "d28d4200-eb2f-4c39-99c4-46a34b7a890b",
   "metadata": {
    "tags": []
   },
   "outputs": [],
   "source": [
    "fig, axs = plt.subplots(1, 1, figsize=(8, 4))\n",
    "s = 18\n",
    "\n",
    "sc.pl.umap(adata_imm, color='subtype_number', s=s, ax = axs, \n",
    "           legend_loc='on data', frameon=False, show=False, \n",
    "           legend_fontoutline=4, legend_fontsize=14)\n",
    "sc.pl.umap(adata_imm, color='subtype', s=s, ax = axs, \n",
    "           frameon=False, show=False)\n",
    "\n",
    "title_obj = axs.set_title('') \n",
    "\n",
    "plt.tight_layout()\n",
    "\n",
    "# plt.savefig(f'results/figures/F3/makers_FB_closeup_{date.today().strftime(\"%Y_%m_%d\")}.png', dpi=300)\n",
    "# plt.savefig(f'results/figures/F3/Supp_Fig3A_closeup_{date.today().strftime(\"%Y_%m_%d\")}.png', dpi=300)"
   ]
  },
  {
   "cell_type": "code",
   "execution_count": null,
   "id": "d547da1b-a229-4674-ab1f-6cbebd0cc4e4",
   "metadata": {
    "tags": []
   },
   "outputs": [],
   "source": [
    "fig, axs = plt.subplots(2, 2, figsize=(12, 7))\n",
    "s = 18\n",
    "\n",
    "\n",
    "sc.pl.umap(adata_imm_WT, color='batch', s=s, ax = axs.ravel()[0], \n",
    "           frameon=False, show=False, na_in_legend=False)\n",
    "\n",
    "\n",
    "sc.pl.umap(adata_imm_WT, color='subtype_number', s=s, ax=axs.ravel()[1], \n",
    "           legend_loc='on data', frameon=False, show=False, legend_fontoutline=4, legend_fontsize=14, \n",
    "           na_in_legend=False, title='condition')\n",
    "sc.pl.umap(adata_imm_WT, color='subtype', s=s, ax = axs.ravel()[1], \n",
    "           frameon=False, show=False, na_in_legend=False, title='FB type')\n",
    "\n",
    "\n",
    "\n",
    "sc.pl.umap(adata_imm_KO, color='batch', s=s, ax = axs.ravel()[2], \n",
    "           frameon=False, show=False, na_in_legend=False, title='')\n",
    "\n",
    "\n",
    "sc.pl.umap(adata_imm_KO, color='subtype_number', s=s, ax=axs.ravel()[3], \n",
    "           legend_loc='on data', frameon=False, show=False, legend_fontoutline=4, legend_fontsize=14, \n",
    "           na_in_legend=False, title='')\n",
    "\n",
    "\n",
    "plt.tight_layout()\n",
    "\n",
    "# plt.savefig(f'results/figures/F3/makers_FB_{date.today().strftime(\"%Y_%m_%d\")}.png', dpi=300)\n",
    "# plt.savefig(f'results/figures/F3/Supp_Fig3A_{date.today().strftime(\"%Y_%m_%d\")}.png', dpi=300)"
   ]
  },
  {
   "cell_type": "markdown",
   "id": "24fcd3fc-4ad0-44bc-9e84-a1ba8d929103",
   "metadata": {},
   "source": [
    "#### Fig 3A"
   ]
  },
  {
   "cell_type": "code",
   "execution_count": null,
   "id": "5c8f1a47-1ac3-4bd5-aa79-e2aae4985a05",
   "metadata": {
    "tags": []
   },
   "outputs": [],
   "source": [
    "selected_cell_types = list(dict_fbs_colors_nan.keys())"
   ]
  },
  {
   "cell_type": "code",
   "execution_count": null,
   "id": "b78faa97-1729-4b15-86ad-231b30af78c2",
   "metadata": {
    "tags": []
   },
   "outputs": [],
   "source": [
    "selected_cell_types"
   ]
  },
  {
   "cell_type": "code",
   "execution_count": null,
   "id": "25dba34e-f1d7-4f02-a688-d77079912047",
   "metadata": {
    "tags": []
   },
   "outputs": [],
   "source": [
    "adata_fb.obs['subtype_nan'] = [i if i in selected_cell_types else np.NaN for i in adata_fb.obs['subtype']]\n",
    "adata_fb.obs['subtype_nan'] = adata_fb.obs['subtype_nan'].astype('category')\n",
    "adata_fb.obs['subtype_nan'].cat.reorder_categories(selected_cell_types, inplace=True)\n",
    "\n",
    "adata_fb.obs['subtype_nan_name'] = [i.split(': ')[1] if i in selected_cell_types else np.NaN for i in adata_fb.obs['subtype_nan']]\n",
    "adata_fb.obs['subtype_nan_name'] = adata_fb.obs['subtype_nan_name'].astype('category')\n",
    "adata_fb.obs['subtype_nan_name'].cat.reorder_categories([i.split(': ')[1] for i in selected_cell_types], inplace=True)\n",
    "\n",
    "adata_fb.obs['subtype_nan_number'] = [i.split(': ')[0] if i in selected_cell_types else np.NaN for i in adata_fb.obs['subtype_nan']]\n",
    "adata_fb.obs['subtype_nan_number'] = adata_fb.obs['subtype_nan_number'].astype('category')\n",
    "adata_fb.obs['subtype_nan_number'].cat.reorder_categories([i.split(': ')[0] for i in selected_cell_types], inplace=True)\n",
    "\n",
    "\n",
    "adata_fb.uns['subtype_nan_colors'] = list(dict_fbs_colors_nan.values())\n",
    "adata_fb.uns['subtype_nan_name_colors'] = list(dict_fbs_colors_nan.values())\n",
    "adata_fb.uns['subtype_nan_number_colors'] = list(dict_fbs_colors_nan.values())"
   ]
  },
  {
   "cell_type": "code",
   "execution_count": null,
   "id": "dccb9019-13de-4e96-ac6f-3497e48bbe01",
   "metadata": {
    "tags": []
   },
   "outputs": [],
   "source": [
    "fig, axs = plt.subplots(1, 1, figsize=(8, 4))\n",
    "s = 12\n",
    "\n",
    "sc.pl.umap(adata_fb, color='subtype_nan_number', s=s, ax = axs, \n",
    "           legend_loc='on data', frameon=False, show=False, \n",
    "           legend_fontoutline=4, legend_fontsize=14, na_in_legend=False)\n",
    "sc.pl.umap(adata_fb, color='subtype_nan', s=s, ax = axs, \n",
    "           frameon=False, show=False, na_in_legend=False)\n",
    "\n",
    "title_obj = axs.set_title('') \n",
    "\n",
    "plt.tight_layout()\n",
    "\n",
    "plt.savefig(f'results/figures/F3/makers_FB_nan_closeup_{date.today().strftime(\"%Y_%m_%d\")}.png', dpi=300)\n",
    "plt.savefig(f'results/figures/F3/Fig3A_closeup_{date.today().strftime(\"%Y_%m_%d\")}.png', dpi=300)"
   ]
  },
  {
   "cell_type": "code",
   "execution_count": null,
   "id": "714bbf90-cec1-449e-aebb-23616d7c4a90",
   "metadata": {
    "tags": []
   },
   "outputs": [],
   "source": [
    "# We repeat the variable naming here (it was done before) because we need to add nan vars to the new adata_fb_WT and adata_fb_KO\n",
    "adata_fb_WT = adata_fb[adata_fb.obs['batch'].isin(['WT1', 'WT2'])]\n",
    "adata_fb_WT.uns['subtype_nan_colors'] = adata_fb.uns['subtype_nan_colors']\n",
    "adata_fb_WT.uns['subtype_nan_number_colors'] = adata_fb.uns['subtype_nan_number_colors']\n",
    "adata_fb_WT.uns['batch_colors'] = [dict_WT_KO_colors['WT1'], dict_WT_KO_colors['WT2']]\n",
    "\n",
    "adata_fb_KO = adata_fb[adata_fb.obs['batch'].isin(['KO1', 'KO2'])]\n",
    "adata_fb_KO.uns['subtype_nan_colors'] = adata_fb.uns['subtype_nan_colors']\n",
    "adata_fb_KO.uns['subtype_nan_number_colors'] = adata_fb.uns['subtype_nan_number_colors']\n",
    "adata_fb_KO.uns['batch_colors'] = [dict_WT_KO_colors['KO1'], dict_WT_KO_colors['KO2']]"
   ]
  },
  {
   "cell_type": "code",
   "execution_count": null,
   "id": "c82790e7-d25e-4981-93e5-8168effb882c",
   "metadata": {
    "tags": []
   },
   "outputs": [],
   "source": [
    "fig, axs = plt.subplots(2, 2, figsize=(12, 7))\n",
    "s = 18\n",
    "\n",
    "\n",
    "sc.pl.umap(adata_fb_WT, color='batch', s=s, ax = axs.ravel()[0], \n",
    "           frameon=False, show=False, na_in_legend=False)\n",
    "\n",
    "\n",
    "sc.pl.umap(adata_fb_WT, color='subtype_nan_number', s=s, ax=axs.ravel()[1], \n",
    "           legend_loc='on data', frameon=False, show=False, legend_fontoutline=4, legend_fontsize=14, \n",
    "           na_in_legend=False, title='condition')\n",
    "sc.pl.umap(adata_fb_WT, color='subtype_nan', s=s, ax = axs.ravel()[1], \n",
    "           frameon=False, show=False, na_in_legend=False, title='FB type')\n",
    "\n",
    "\n",
    "\n",
    "sc.pl.umap(adata_fb_KO, color='batch', s=s, ax = axs.ravel()[2], \n",
    "           frameon=False, show=False, na_in_legend=False, title='')\n",
    "\n",
    "\n",
    "sc.pl.umap(adata_fb_KO, color='subtype_nan_number', s=s, ax=axs.ravel()[3], \n",
    "           legend_loc='on data', frameon=False, show=False, legend_fontoutline=4, legend_fontsize=14, \n",
    "           na_in_legend=False, title='')\n",
    "\n",
    "\n",
    "plt.tight_layout()\n",
    "\n",
    "# plt.savefig(f'results/figures/F3/makers_FB_nan_{date.today().strftime(\"%Y_%m_%d\")}.png', dpi=300)\n",
    "# plt.savefig(f'results/figures/F3/Fig3A_{date.today().strftime(\"%Y_%m_%d\")}.png', dpi=300)"
   ]
  },
  {
   "cell_type": "code",
   "execution_count": null,
   "id": "17dde335-ad6f-4c7e-99a1-d647a30a1880",
   "metadata": {},
   "outputs": [],
   "source": []
  },
  {
   "cell_type": "code",
   "execution_count": null,
   "id": "3c444f1d-4da9-4a55-a156-531407317440",
   "metadata": {},
   "outputs": [],
   "source": []
  },
  {
   "cell_type": "code",
   "execution_count": null,
   "id": "543a8fc2-c32f-45e6-9596-3514343460c0",
   "metadata": {},
   "outputs": [],
   "source": []
  },
  {
   "cell_type": "code",
   "execution_count": null,
   "id": "17eb3784-9a6d-4fa5-b55c-602f29bad041",
   "metadata": {},
   "outputs": [],
   "source": []
  },
  {
   "cell_type": "code",
   "execution_count": null,
   "id": "3d08de03-b655-47d5-8f9f-daf82bb287a1",
   "metadata": {},
   "outputs": [],
   "source": []
  },
  {
   "cell_type": "code",
   "execution_count": null,
   "id": "5a3f25d8-2b80-46c9-a585-1c8f64bcb261",
   "metadata": {},
   "outputs": [],
   "source": []
  },
  {
   "cell_type": "code",
   "execution_count": null,
   "id": "3db65bf6-69ed-4612-8f1c-788464fdf464",
   "metadata": {},
   "outputs": [],
   "source": []
  },
  {
   "cell_type": "code",
   "execution_count": null,
   "id": "58890110-ee03-4e3f-be99-c1ab710d910f",
   "metadata": {},
   "outputs": [],
   "source": []
  },
  {
   "cell_type": "code",
   "execution_count": null,
   "id": "6c1290e4-dd53-49e4-9b18-6f29479b4efa",
   "metadata": {},
   "outputs": [],
   "source": []
  },
  {
   "cell_type": "code",
   "execution_count": null,
   "id": "38d7c814-182d-40eb-a180-9180bd6287c4",
   "metadata": {},
   "outputs": [],
   "source": []
  },
  {
   "cell_type": "code",
   "execution_count": null,
   "id": "f615cf0a-7bba-4153-86e4-f34d66fe6cd9",
   "metadata": {},
   "outputs": [],
   "source": []
  },
  {
   "cell_type": "code",
   "execution_count": null,
   "id": "d27daf68-0c53-4a41-a06f-0b9d15e5a68f",
   "metadata": {},
   "outputs": [],
   "source": []
  },
  {
   "cell_type": "code",
   "execution_count": null,
   "id": "31135d28-1eec-4c3a-ab13-e3ced6bf6d5c",
   "metadata": {},
   "outputs": [],
   "source": []
  },
  {
   "cell_type": "code",
   "execution_count": null,
   "id": "615c690e-90bd-4f84-811b-d434f6cef8d4",
   "metadata": {},
   "outputs": [],
   "source": []
  },
  {
   "cell_type": "code",
   "execution_count": null,
   "id": "fff18101-a4c5-485c-b786-3804cd404713",
   "metadata": {},
   "outputs": [],
   "source": []
  },
  {
   "cell_type": "code",
   "execution_count": null,
   "id": "4bc57c77-f2fa-45ec-bff3-714d43fd40b4",
   "metadata": {},
   "outputs": [],
   "source": []
  },
  {
   "cell_type": "code",
   "execution_count": null,
   "id": "6cf8f269-fbc1-43f8-809c-1141ef157634",
   "metadata": {},
   "outputs": [],
   "source": []
  },
  {
   "cell_type": "code",
   "execution_count": null,
   "id": "1def8546-2a3a-4b9b-bf63-38fd96924a47",
   "metadata": {},
   "outputs": [],
   "source": []
  },
  {
   "cell_type": "code",
   "execution_count": null,
   "id": "5ad85694-77bb-448a-921b-b081f0e63069",
   "metadata": {},
   "outputs": [],
   "source": []
  },
  {
   "cell_type": "code",
   "execution_count": null,
   "id": "cbb64bc2-06a7-4f6e-8bb4-6b3417924ac0",
   "metadata": {},
   "outputs": [],
   "source": []
  },
  {
   "cell_type": "code",
   "execution_count": null,
   "id": "fb1ac453-95b9-4dd1-b225-a37b74a5817a",
   "metadata": {},
   "outputs": [],
   "source": []
  },
  {
   "cell_type": "code",
   "execution_count": null,
   "id": "18dc6a44-7d0d-48e2-8071-ed1416ec1907",
   "metadata": {},
   "outputs": [],
   "source": []
  },
  {
   "cell_type": "code",
   "execution_count": null,
   "id": "ccff9f7a-adcb-49be-967e-c1d99fc62340",
   "metadata": {},
   "outputs": [],
   "source": []
  },
  {
   "cell_type": "code",
   "execution_count": null,
   "id": "aad8eeac-a717-4978-b2c3-f22572a9863d",
   "metadata": {
    "tags": []
   },
   "outputs": [],
   "source": [
    "dict_immune = {  '0: LC': ['Mfge8', 'Cd207', 'Cldn1', 'Pgf', 'Cd74', 'H2-Aa', 'H2-Eb1',  'Nr4a3', 'Il1r2', 'Pkib', 'Grk3', 'Ktn1', 'Pxdc1', 'Dnah2', 'Timd4', \n",
    "                                      'Epcam', 'Ccr7', 'St14', 'Mreg', 'Cd40'],\n",
    "                 '1: CCR7$^+$ LC': ['Fscn1', 'Cd200', 'Il4i1', 'Pkib', 'Wnk1', 'Cd74', 'Cst3', 'Ccr7', 'Bcl2a1a', 'Cacnb3', 'Ccl22', 'Gm13546', 'Serpinb9b', 'Relb', 'Cd40', 'Arl5a'],\n",
    "\n",
    "                 '2: Mφ/DC': ['Pf4', 'C1qb', 'Igf1', 'Grn', 'Dab2', 'C1qc', 'Apoe', 'C1qa', 'Ms4a7', 'Timp2', 'Cd36', 'Mrc1', 'Fxyd2', 'F13a1', 'Rgl1', 'Ednrb', 'Hgsnat', 'Tgfbi', 'Rnase4', \n",
    "                                 'Sash1', 'Folr2', 'Gas6', 'Stab1', 'Ccl8', 'Fcgrt', 'Ms4a6c', 'P2rx7'] + ['Cd209a', 'Cd209d', 'Slc39a14', 'Plbd1', 'Aif1', 'Cd74', 'Clec4e', 'Tgfbi', 'Pdpn', 'Cxcl3', 'Vat1', 'Eps8', 'Tppp3', \n",
    "                                     'Procr', 'Tarm1', 'Clec4a3', 'Ccl5'] + ['Nos2', 'Saa3', 'Arg1', 'Wfdc17', 'Csf1r', 'F10', 'Ly6c2', 'Gsr', 'Anxa5', 'Ptgs2', 'Cxcl3', 'Pid1', 'Serpinb2', 'Csf3', 'Vcan', 'Inhba', 'Ptges', \n",
    "                               'F13a1', 'Met', ],\n",
    "    \n",
    "                 '3: Act. Neu': ['Acod1', 'Il1f9', 'Csta3', 'Rhov', 'Stfa2l1', 'Ccl3', 'Hcar2', 'Slpi', 'Ccrl2', 'Il1rn', 'Cxcl3', 'G0s2', \n",
    "                                      'Stfa2', 'Ptgs2', 'Asprv1', 'Fpr1'],\n",
    "    \n",
    "                 '4: Neu': ['Camp', 'Ltf', 'Chil3', 'S100a8', 'S100a9', 'Tinagl1', 'Stfa1', 'Ngp', 'Chil3', 'Cd177', 'Adpgk', 'Syne1', 'Cebpe', 'Hsd11b1', 'Mgst1', \n",
    "                                 'Tst', 'Ly6c2', 'Pilrb2', 'Fcnb', 'Rab44', 'Nfe2', 'Cpne3', 'Ldhc', 'Hmgn2', 'Adgrg3'],\n",
    "               \n",
    "                 '5: Basophil': ['Mcpt8', 'Cyp11a1', 'Cd200r3', 'Ifitm1', 'Ero1l', 'Ccl6', 'Ccl3', 'Lilrb4a', 'Gata2', 'Ccl4', 'Hdc', 'Osm', 'Lat2', 'Tec', 'Rab44', 'Csf2rb2', \n",
    "                               'Os9', 'Ier3', 'Aqp9', 'Cd200r4', 'Emilin2', 'Csf1', 'Slpi', 'Hmox1', 'Mboat1', 'Hs3st1', 'Adgrg3', ],\n",
    "                 \n",
    "                 '6: B cell': ['Vpreb3', 'Cd79a', 'Cd79b', 'Chchd10', 'Ighm',  'Stmn1', 'Igll1', 'Dut', 'Top2a', 'Rasgrp2', 'Myb', 'Ssrp1', 'Gimap6', 'Selenoh', 'Apobec3', 'Smc2',\n",
    "                             'Cks1b', 'Lgals9', 'Ebf1', 'Csrp2', 'Adgrg1', 'Pou2af1', 'Tcf3', 'Hist1h1a', 'Parp1', 'Lig1', 'Dntt', 'Sox4'],\n",
    "               \n",
    "                 '7: Plasma cell': ['Iglc3', 'Ms4a1', 'Iglc2', 'Ighm', 'Igkc', 'Cd79a', 'Ly6d', 'Cd79b', 'Tnfrsf13c', 'Iglc1', 'Sdc1', 'Cd74', \n",
    "                                  'Txndc16', 'Ighd'],    \n",
    "                  '8: αβT': ['Tnfrsf18', 'Cxcr6', 'Ccr2', 'Ifngr1', 'Cd52', 'Rora', 'Il7r', 'Aebp2', 'Icos', 'Dgat1', 'Shisa5', 'Grap', 'Cd27', 'Pdcd1', 'Ikzf3', 'Il18r1', \n",
    "                             'Gata3', 'Spn', 'Tnfrsf4'],\n",
    "                  '9: γδT': ['Nkg7', 'Ctsw', 'Cd7', 'Rab4a', 'Ctla2a', 'Rgs2', 'Cd3d', 'Cd3g', 'Fermt2', 'Tcrg-C1', 'Klrk1', 'Trf', 'Itk', 'Ubald2', 'Il2rb', 'Map1b', 'Klrb1b', 'Cd2', \n",
    "                              'Trbc2', 'Abcb1b', 'Rasl11b', 'Parp8', 'Tiam1'],\n",
    "                  '10: Mast cell': ['Cma1', 'Tpsb2', 'Mcpt4', 'Fdx1', 'Hs3st1', 'Cd55', 'Tpsab1', 'Hdc', 'Tph1', 'Cpa3', 'Fgfr1', 'Gata2', 'Slco2b1', 'Vwa5a', 'Il1rl1', \n",
    "                                'Cyp11a1', 'Adora3', 'Kit', 'Ap1s3', 'Hexb', 'Creb3l1', 'Mrgprb1', 'Rab27b', 'Penk', 'Hs6st2', 'Adamts9', 'Akap12', 'Slc45a3', 'Mrgprb2', 'Gnai1'], \n",
    "                  }\n",
    "\n",
    "\n",
    "\n",
    "dict_imm_colors = { '0: LC': '#D40055',\n",
    "                    '1: CCR7$^+$ LC': '#8E0C6F',\n",
    "                    '2: Mφ/DC': '#4D0765',\n",
    "                    '3: Act. Neu': '#D3BC5F',\n",
    "                    '4: Neu': '#A5901A',\n",
    "                    '5: Basophil': '#A05A2C',\n",
    "                    '6: B cell': '#229EB2',\n",
    "                    '7: Plasma cell': '#20668D',\n",
    "                    '8: αβT': '#77ECF1',\n",
    "                    '9: γδT': '#702A17',\n",
    "                    '10: Mast cell': '#FF9955',\n",
    "                     }\n"
   ]
  },
  {
   "cell_type": "code",
   "execution_count": null,
   "id": "57165322-2e13-4009-8293-3d5b9b60de48",
   "metadata": {
    "tags": []
   },
   "outputs": [],
   "source": [
    "sc.tl.leiden(adata_imm, resolution=4)\n",
    "assign_cats(adata_imm, dict_cats=dict_immune, min_score=0.4, quantile_gene_sel=0.6, key_added='subtype')\n",
    "\n",
    "adata_imm.uns['subtype_colors'] = list(dict_imm_colors.values())"
   ]
  },
  {
   "cell_type": "markdown",
   "id": "5743749e-bce2-49ef-9e9e-ba5017ee6ee8",
   "metadata": {},
   "source": [
    "## UMAP of fibroblast subpopulations and batch"
   ]
  },
  {
   "cell_type": "code",
   "execution_count": null,
   "id": "29e9a4c4-5b1d-4f7d-b341-300fee50a577",
   "metadata": {
    "tags": []
   },
   "outputs": [],
   "source": [
    "sc.tl.umap(adata_imm, min_dist=1)\n",
    "sc.pl.umap(adata_imm, color=['batch', 'subtype'], ncols=2, frameon=False, cmap=magma)"
   ]
  },
  {
   "cell_type": "code",
   "execution_count": null,
   "id": "01405071-0486-42cd-b366-250a1f2acb69",
   "metadata": {
    "tags": []
   },
   "outputs": [],
   "source": [
    "sc.tl.umap(adata_imm, min_dist=1)\n",
    "sc.pl.umap(adata_imm, color=['batch', 'subtype', 'Klrb1c'], ncols=2, frameon=False, cmap=magma)"
   ]
  }
 ],
 "metadata": {
  "kernelspec": {
   "display_name": "Python [conda env:alex-base] *",
   "language": "python",
   "name": "conda-env-alex-base-py"
  },
  "language_info": {
   "codemirror_mode": {
    "name": "ipython",
    "version": 3
   },
   "file_extension": ".py",
   "mimetype": "text/x-python",
   "name": "python",
   "nbconvert_exporter": "python",
   "pygments_lexer": "ipython3",
   "version": "3.8.0"
  }
 },
 "nbformat": 4,
 "nbformat_minor": 5
}
