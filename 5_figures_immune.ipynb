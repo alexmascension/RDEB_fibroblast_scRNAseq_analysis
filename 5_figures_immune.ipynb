{
 "cells": [
  {
   "cell_type": "markdown",
   "id": "aa781ea4-1ef8-4bd8-b09d-1e513ed2c212",
   "metadata": {},
   "source": [
    "# Figures associated to immune processing\n",
    "\n",
    "**You need to tun the notebook 2_ first!!!!**"
   ]
  },
  {
   "cell_type": "code",
   "execution_count": null,
   "id": "beec4b87-e7ae-42fb-a135-12bb7617dfea",
   "metadata": {
    "tags": []
   },
   "outputs": [],
   "source": [
    "from cellassign import assign_cats\n",
    "import gzip\n",
    "import itertools as itl\n",
    "import matplotlib.pyplot as plt\n",
    "import matplotlib as mpl\n",
    "import numpy as np\n",
    "import os\n",
    "import pandas as pd\n",
    "import scanpy as sc\n",
    "import scanpy.external as sce\n",
    "import seaborn as sns\n",
    "import triku as tk\n",
    "import itertools\n",
    "import matplotlib.pylab as pylab"
   ]
  },
  {
   "cell_type": "code",
   "execution_count": null,
   "id": "e1fb0597-20bc-498b-81a7-e05c21bf9083",
   "metadata": {
    "tags": []
   },
   "outputs": [],
   "source": [
    "from functions import adata_plot_KOvsWT, stat_annot_gene\n",
    "from functions import dict_WT_KO_colors"
   ]
  },
  {
   "cell_type": "code",
   "execution_count": null,
   "id": "d42c465d-e373-4ca7-b67e-94d0ffe388b8",
   "metadata": {
    "tags": []
   },
   "outputs": [],
   "source": [
    "from datetime import date\n",
    "\n",
    "today = date.today()\n",
    "today = today.strftime(\"%Y_%m_%d\")"
   ]
  },
  {
   "cell_type": "code",
   "execution_count": null,
   "id": "965d7745-46a9-480c-9c08-4f0630f09114",
   "metadata": {
    "tags": []
   },
   "outputs": [],
   "source": [
    "# Palettes for UMAP gene expression\n",
    "\n",
    "magma = [plt.get_cmap('magma')(i) for i in np.linspace(0,1, 80)]\n",
    "magma[0] = (0.88, 0.88, 0.88, 1)\n",
    "magma = mpl.colors.LinearSegmentedColormap.from_list(\"\", magma[:65])"
   ]
  },
  {
   "cell_type": "code",
   "execution_count": null,
   "id": "2187d104-9f68-4f9f-8d55-4e3f64db639b",
   "metadata": {
    "tags": []
   },
   "outputs": [],
   "source": [
    "params = {'figure.dpi': 200,\n",
    "          'legend.fontsize': 'large',\n",
    "         'axes.labelsize': 'x-large',\n",
    "         'axes.titlesize':'x-large',\n",
    "         'xtick.labelsize':'x-large',\n",
    "         'ytick.labelsize':'x-large', \n",
    "         'axes.grid': False}\n",
    "pylab.rcParams.update(params)\n",
    "# mpl.style.use('default')\n",
    "\n",
    "pd.set_option('display.max_columns', None)"
   ]
  },
  {
   "cell_type": "code",
   "execution_count": null,
   "id": "73181509-3390-4920-bc12-da30c2fc3295",
   "metadata": {
    "tags": []
   },
   "outputs": [],
   "source": [
    "os.makedirs('results/figures/F3', exist_ok=True)"
   ]
  },
  {
   "cell_type": "markdown",
   "id": "851e2f7c-361c-4e68-aa6e-d32abd0b89b3",
   "metadata": {},
   "source": [
    "## Functions and variables"
   ]
  },
  {
   "cell_type": "code",
   "execution_count": null,
   "id": "2cb59f56-277b-498b-b9ea-abe1361a5bab",
   "metadata": {
    "tags": []
   },
   "outputs": [],
   "source": [
    "%store -r dict_WT_KO_colors\n",
    "%store -r seed"
   ]
  },
  {
   "cell_type": "markdown",
   "id": "cd3d67f8-65f4-4a1c-b1dc-4b7de3024ff5",
   "metadata": {},
   "source": [
    "## Load adata"
   ]
  },
  {
   "cell_type": "code",
   "execution_count": null,
   "id": "bab15a72-06de-40b3-b2ba-863299e110cd",
   "metadata": {
    "tags": []
   },
   "outputs": [],
   "source": [
    "adata_all_harmony = sc.read_h5ad('adatas/adata_all_harmony.h5')\n",
    "adata_imm = adata_all_harmony[adata_all_harmony.obs['merged_cell_type_name'].isin(['APC', 'LYM', 'NEU', 'MC'])]"
   ]
  },
  {
   "cell_type": "code",
   "execution_count": null,
   "id": "cbb7b439-e74d-4ea2-a090-6fd296024ad6",
   "metadata": {
    "tags": []
   },
   "outputs": [],
   "source": [
    "sc.pp.filter_genes(adata_imm, min_counts=1)"
   ]
  },
  {
   "cell_type": "code",
   "execution_count": null,
   "id": "5c793023-137c-4e5b-ba27-230a9a79542d",
   "metadata": {
    "tags": []
   },
   "outputs": [],
   "source": [
    "sc.pp.pca(adata_imm, random_state=seed, n_comps=50)\n",
    "sce.pp.harmony_integrate(adata_imm, key='batch', max_iter_harmony=50, plot_convergence=True)\n",
    "sc.pp.neighbors(adata_imm, random_state=seed, n_neighbors=int(len(adata_imm) ** 0.5 * 0.5), metric='cosine', use_rep='X_pca_harmony')\n",
    "tk.tl.triku(adata_imm, use_raw=False)\n",
    "\n",
    "sc.pp.pca(adata_imm, random_state=seed, n_comps=50)\n",
    "sce.pp.harmony_integrate(adata_imm, key='batch', max_iter_harmony=50, plot_convergence=True)\n",
    "sc.pp.neighbors(adata_imm, random_state=seed, n_neighbors=int(len(adata_imm) ** 0.5 * 0.5), metric='cosine', use_rep='X_pca_harmony')"
   ]
  },
  {
   "cell_type": "code",
   "execution_count": null,
   "id": "c7b3c4cd-5666-4620-abb4-7111ae716303",
   "metadata": {
    "tags": []
   },
   "outputs": [],
   "source": [
    "sc.tl.umap(adata_imm, min_dist=1)"
   ]
  },
  {
   "cell_type": "markdown",
   "id": "826677f1-237c-4cf2-9649-dd45324f723e",
   "metadata": {},
   "source": [
    "### Subpopulation annotation\n",
    "\n",
    "To do the annotation we used the characterization made by Joost et al. 2020. There are some populations that are not appearing (Krt75+ to Krt18+) and we are not sure about their functional relationship"
   ]
  },
  {
   "cell_type": "code",
   "execution_count": null,
   "id": "9ea6bf57-ee7e-464e-9357-1412727b477c",
   "metadata": {
    "tags": []
   },
   "outputs": [],
   "source": [
    "dict_immune = {  '0A: LC': ['Mfge8', 'Cd207', 'Cldn1', 'Pgf', 'Cd74', 'H2-Aa', 'H2-Eb1',  'Nr4a3', 'Il1r2', 'Pkib', 'Grk3', 'Ktn1', 'Pxdc1', 'Dnah2', 'Timd4', \n",
    "                                      'Epcam', 'Ccr7', 'St14', 'Mreg', 'Cd40'],\n",
    "                 '0B: CCR7$^+$ LC': ['Fscn1', 'Cd200', 'Il4i1', 'Pkib', 'Wnk1', 'Cd74', 'Cst3', 'Ccr7', 'Bcl2a1a', 'Cacnb3', 'Ccl22', 'Gm13546', 'Serpinb9b', 'Relb', 'Cd40', 'Arl5a'],\n",
    "\n",
    "                 '1A: Mφ/DCA': ['Pf4', 'C1qb', 'Igf1', 'Grn', 'Dab2', 'C1qc', 'Apoe', 'C1qa', 'Ms4a7', 'Timp2', 'Cd36', 'Mrc1', 'Fxyd2', 'F13a1', 'Rgl1', 'Ednrb', 'Hgsnat', 'Tgfbi', 'Rnase4', \n",
    "                                 'Sash1', 'Folr2', 'Gas6', 'Stab1', 'Ccl8', 'Fcgrt', 'Ms4a6c', 'P2rx7'] ,\n",
    "                '1B: Mφ/DCB': ['Cd209a', 'Cd209d', 'Slc39a14', 'Plbd1', 'Aif1', 'Cd74', 'Clec4e', 'Tgfbi', 'Pdpn', 'Cxcl3', 'Vat1', 'Eps8', 'Tppp3', \n",
    "                                     'Procr', 'Tarm1', 'Clec4a3', 'Ccl5'] ,\n",
    "               '1C: Mφ/DCC': ['Nos2', 'Saa3', 'Arg1', 'Wfdc17', 'Csf1r', 'F10', 'Ly6c2', 'Gsr', 'Anxa5', 'Ptgs2', 'Cxcl3', 'Pid1', 'Serpinb2', 'Csf3', 'Vcan', 'Inhba', 'Ptges', \n",
    "                               'F13a1', 'Met', ],\n",
    "    \n",
    "                 '2A: Act. Neu': ['Acod1', 'Il1f9', 'Csta3', 'Rhov', 'Stfa2l1', 'Ccl3', 'Hcar2', 'Slpi', 'Ccrl2', 'Il1rn', 'Cxcl3', 'G0s2', \n",
    "                                      'Stfa2', 'Ptgs2', 'Asprv1', 'Fpr1'],\n",
    "    \n",
    "                 '2B: Neu': ['Camp', 'Ltf', 'Chil3', 'S100a8', 'S100a9', 'Tinagl1', 'Stfa1', 'Ngp', 'Chil3', 'Cd177', 'Adpgk', 'Syne1', 'Cebpe', 'Hsd11b1', 'Mgst1', \n",
    "                                 'Tst', 'Ly6c2', 'Pilrb2', 'Fcnb', 'Rab44', 'Nfe2', 'Cpne3', 'Ldhc', 'Hmgn2', 'Adgrg3'],\n",
    "               \n",
    "                 '3: Bas': ['Mcpt8', 'Cyp11a1', 'Cd200r3', 'Ifitm1', 'Ero1l', 'Ccl6', 'Ccl3', 'Lilrb4a', 'Gata2', 'Ccl4', 'Hdc', 'Osm', 'Lat2', 'Tec', 'Rab44', 'Csf2rb2', \n",
    "                               'Os9', 'Ier3', 'Aqp9', 'Cd200r4', 'Emilin2', 'Csf1', 'Slpi', 'Hmox1', 'Mboat1', 'Hs3st1', 'Adgrg3', ],\n",
    "                 \n",
    "                 '4: BC': ['Vpreb3', 'Cd79a', 'Cd79b', 'Chchd10', 'Ighm',  'Stmn1', 'Igll1', 'Dut', 'Top2a', 'Rasgrp2', 'Myb', 'Ssrp1', 'Gimap6', 'Selenoh', 'Apobec3', 'Smc2',\n",
    "                             'Cks1b', 'Lgals9', 'Ebf1', 'Csrp2', 'Adgrg1', 'Pou2af1', 'Tcf3', 'Hist1h1a', 'Parp1', 'Lig1', 'Dntt', 'Sox4'],\n",
    "               \n",
    "                 '5: PC': ['Iglc3', 'Ms4a1', 'Iglc2', 'Ighm', 'Igkc', 'Cd79a', 'Ly6d', 'Cd79b', 'Tnfrsf13c', 'Iglc1', 'Sdc1', 'Cd74', \n",
    "                                  'Txndc16', 'Ighd'],    \n",
    "                  '6: αβT': ['Tnfrsf18', 'Cxcr6', 'Ccr2', 'Ifngr1', 'Cd52', 'Rora', 'Il7r', 'Aebp2', 'Icos', 'Dgat1', 'Shisa5', 'Grap', 'Cd27', 'Pdcd1', 'Ikzf3', 'Il18r1', \n",
    "                             'Gata3', 'Spn', 'Tnfrsf4'],\n",
    "                  '7: γδT': ['Nkg7', 'Ctsw', 'Cd7', 'Rab4a', 'Ctla2a', 'Rgs2', 'Cd3d', 'Cd3g', 'Fermt2', 'Tcrg-C1', 'Klrk1', 'Trf', 'Itk', 'Ubald2', 'Il2rb', 'Map1b', 'Klrb1b', 'Cd2', \n",
    "                              'Trbc2', 'Abcb1b', 'Rasl11b', 'Parp8', 'Tiam1'],\n",
    "                  '8: MC': ['Cma1', 'Tpsb2', 'Mcpt4', 'Fdx1', 'Hs3st1', 'Cd55', 'Tpsab1', 'Hdc', 'Tph1', 'Cpa3', 'Fgfr1', 'Gata2', 'Slco2b1', 'Vwa5a', 'Il1rl1', \n",
    "                                'Cyp11a1', 'Adora3', 'Kit', 'Ap1s3', 'Hexb', 'Creb3l1', 'Mrgprb1', 'Rab27b', 'Penk', 'Hs6st2', 'Adamts9', 'Akap12', 'Slc45a3', 'Mrgprb2', 'Gnai1'], \n",
    "                  }\n",
    "\n",
    "\n",
    "\n",
    "dict_imm_colors = { '0: LC': '#D40055',\n",
    "#                     '1: CCR7$^+$ LC': '#f25a97',\n",
    "                    '1: Mφ/DC': '#4D0765',\n",
    "#                     '2: Act. Neu': '#D3BC5F',\n",
    "                    '2: Neu': '#A5901A',\n",
    "                    '3: Bas': '#A05A2C',\n",
    "                    '4: BC': '#4c708a',\n",
    "                    '5: PC': '#00171F',\n",
    "                    '6: αβT': '#0086b9',\n",
    "                    '7: γδT': '#99DCF5',\n",
    "                    '8: MC': '#FF9955',\n",
    "                     }\n"
   ]
  },
  {
   "cell_type": "code",
   "execution_count": null,
   "id": "04fb7365-652a-4a31-8942-b42bb1c92bc7",
   "metadata": {
    "tags": []
   },
   "outputs": [],
   "source": [
    "sc.tl.leiden(adata_imm, resolution=4)\n",
    "assign_cats(adata_imm, dict_cats=dict_immune, min_score=0.4, quantile_gene_sel=0.6, key_added='subtype')\n",
    "\n",
    "adata_imm.obs['subtype'] = [i  if i[0] != '0' else '0: LC' for i in adata_imm.obs['subtype']]\n",
    "adata_imm.obs['subtype'] = [i  if i[0] != '1' else '1: Mφ/DC' for i in adata_imm.obs['subtype']]\n",
    "adata_imm.obs['subtype'] = [i  if i[0] != '2' else '2: Neu' for i in adata_imm.obs['subtype']]\n",
    "\n",
    "\n",
    "adata_imm.obs['subtype_name'] = [i.split(': ')[1] for i in adata_imm.obs['subtype']]\n",
    "adata_imm.obs['subtype_name'] = adata_imm.obs['subtype_name'].astype('category')\n",
    "adata_imm.obs['subtype_name'].cat.reorder_categories([i.split(': ')[1] for i in dict_imm_colors.keys()], inplace=True)\n",
    "\n",
    "adata_imm.obs['subtype_number'] = [i.split(': ')[0] for i in adata_imm.obs['subtype']]\n",
    "adata_imm.obs['subtype_number'] = adata_imm.obs['subtype_number'].astype('category')\n",
    "adata_imm.obs['subtype_number'].cat.reorder_categories([i.split(': ')[0] for i in dict_imm_colors.keys()], inplace=True)\n",
    "\n",
    "\n",
    "adata_imm.uns['subtype_colors'] = list(dict_imm_colors.values())\n",
    "adata_imm.uns['subtype_name_colors'] = list(dict_imm_colors.values())\n",
    "adata_imm.uns['subtype_number_colors'] = list(dict_imm_colors.values())"
   ]
  },
  {
   "cell_type": "markdown",
   "id": "91003d7d-958f-49c3-97d8-8489b4862117",
   "metadata": {},
   "source": [
    "## UMAP of fibroblast subpopulations and batch"
   ]
  },
  {
   "cell_type": "markdown",
   "id": "55d1f502-c924-49f6-9359-f2f66640f18d",
   "metadata": {},
   "source": [
    "#### Supp Fig to Fig 3"
   ]
  },
  {
   "cell_type": "code",
   "execution_count": null,
   "id": "974adea4-f161-4c5d-ab94-548ad7cb869e",
   "metadata": {
    "tags": []
   },
   "outputs": [],
   "source": [
    "adata_imm_WT = adata_imm[adata_imm.obs['batch'].isin(['WT1', 'WT2'])]\n",
    "adata_imm_WT.uns['batch_colors'] = [dict_WT_KO_colors['WT1'], dict_WT_KO_colors['WT2'], ]\n",
    "adata_imm_KO = adata_imm[adata_imm.obs['batch'].isin(['KO1', 'KO2'])]\n",
    "adata_imm_KO.uns['batch_colors'] = [dict_WT_KO_colors['KO1'], dict_WT_KO_colors['KO2'], ]"
   ]
  },
  {
   "cell_type": "code",
   "execution_count": null,
   "id": "d28d4200-eb2f-4c39-99c4-46a34b7a890b",
   "metadata": {
    "tags": []
   },
   "outputs": [],
   "source": [
    "fig, axs = plt.subplots(1, 1, figsize=(8, 4))\n",
    "s = 18\n",
    "\n",
    "sc.pl.umap(adata_imm, color='subtype_number', s=s, ax = axs, \n",
    "           legend_loc='on data', frameon=False, show=False, \n",
    "           legend_fontoutline=4, legend_fontsize=14)\n",
    "sc.pl.umap(adata_imm, color='subtype', s=s, ax = axs, \n",
    "           frameon=False, show=False)\n",
    "\n",
    "title_obj = axs.set_title('') \n",
    "\n",
    "plt.tight_layout()\n",
    "\n",
    "plt.savefig(f'results/figures/F3/makers_imm_closeup_{date.today().strftime(\"%Y_%m_%d\")}.png', dpi=300)\n",
    "plt.savefig(f'results/figures/F3/Supp_Fig3A_closeup_{date.today().strftime(\"%Y_%m_%d\")}.png', dpi=300)"
   ]
  },
  {
   "cell_type": "code",
   "execution_count": null,
   "id": "d547da1b-a229-4674-ab1f-6cbebd0cc4e4",
   "metadata": {
    "tags": []
   },
   "outputs": [],
   "source": [
    "fig, axs = plt.subplots(2, 2, figsize=(12, 7))\n",
    "s = 18\n",
    "\n",
    "\n",
    "sc.pl.umap(adata_imm_WT, color='batch', s=s, ax = axs.ravel()[0], \n",
    "           frameon=False, show=False, na_in_legend=False)\n",
    "\n",
    "\n",
    "sc.pl.umap(adata_imm_WT, color='subtype_number', s=s, ax=axs.ravel()[1], \n",
    "           legend_loc='on data', frameon=False, show=False, legend_fontoutline=4, legend_fontsize=14, \n",
    "           na_in_legend=False, title='condition')\n",
    "sc.pl.umap(adata_imm_WT, color='subtype', s=s, ax = axs.ravel()[1], \n",
    "           frameon=False, show=False, na_in_legend=False, title='FB type')\n",
    "\n",
    "\n",
    "\n",
    "sc.pl.umap(adata_imm_KO, color='batch', s=s, ax = axs.ravel()[2], \n",
    "           frameon=False, show=False, na_in_legend=False, title='')\n",
    "\n",
    "\n",
    "sc.pl.umap(adata_imm_KO, color='subtype_number', s=s, ax=axs.ravel()[3], \n",
    "           legend_loc='on data', frameon=False, show=False, legend_fontoutline=4, legend_fontsize=14, \n",
    "           na_in_legend=False, title='')\n",
    "\n",
    "\n",
    "plt.tight_layout()\n",
    "\n",
    "plt.savefig(f'results/figures/F3/makers_imm_{date.today().strftime(\"%Y_%m_%d\")}.png', dpi=300)\n",
    "plt.savefig(f'results/figures/F3/Supp_Fig3A_{date.today().strftime(\"%Y_%m_%d\")}.png', dpi=300)"
   ]
  },
  {
   "cell_type": "markdown",
   "id": "a87f16f7-baa3-40c2-a0e5-9a538ee9c85c",
   "metadata": {
    "execution": {
     "iopub.execute_input": "2022-08-18T10:30:05.722095Z",
     "iopub.status.busy": "2022-08-18T10:30:05.721551Z",
     "iopub.status.idle": "2022-08-18T10:30:05.726931Z",
     "shell.execute_reply": "2022-08-18T10:30:05.725762Z",
     "shell.execute_reply.started": "2022-08-18T10:30:05.722041Z"
    },
    "tags": []
   },
   "source": [
    "## log2fold heatmap highlighting the expression of specific markers"
   ]
  },
  {
   "cell_type": "code",
   "execution_count": null,
   "id": "2a70faa9-627e-433c-bc59-ba6b9fc58fb6",
   "metadata": {
    "tags": []
   },
   "outputs": [],
   "source": [
    "markers = {'Suppresive': ['Cd274', 'Pdcd1lg2', 'Cd80', 'Lgals9', 'Lgals3', 'Cd74', \n",
    "                          'Adora2a', 'Adora2b', 'Arg1', 'Arg2', 'Il4i1',],  \n",
    "           'Stimulatory': ['Il10', 'Tnfsf9', 'Tnfsf4', 'Cd86',], \n",
    "           'Proinflammatory cytokines': ['Il1a', 'Il1b', 'Il1rn', 'Tnf', 'Il6', 'Ifng', \n",
    "              'Tgfb1',],\n",
    "           'IL1 processing': ['Nlrp3', 'Casp1', 'Casp8', 'Gzmb', ], \n",
    "           'Chemoattractant': ['Ccl3', 'Ccl4', 'Ccl5', 'Ccl17', 'Ccl22', 'Cxcl1', \n",
    "                                'Cxcl2', 'Cxcl3', 'Cxcl16', 'Csf3',],\n",
    "           'Chemoreceptors': ['Ccr1', 'Ccr2', 'Ccr4', 'Ccr7', 'Cxcr6', 'C3ar1']\n",
    "           \n",
    "          }"
   ]
  },
  {
   "cell_type": "code",
   "execution_count": null,
   "id": "743086c3-7c67-4bfd-9aa3-704ceeaf6940",
   "metadata": {
    "scrolled": true,
    "tags": []
   },
   "outputs": [],
   "source": [
    "list_imm_logfold_genes = [j for i in markers.values() for j in i]\n",
    "\n",
    "categories_order = adata_imm.obs['subtype_name'].cat.categories\n",
    "categories_order = [i for i in categories_order if i != 'Bas']\n",
    "# There are no basophil cells in WT, so the logfold is 0\n",
    "\n",
    "df_logfold = pd.DataFrame(columns=categories_order, index=list_imm_logfold_genes)\n",
    "df_mean = pd.DataFrame(columns=categories_order, index=list_imm_logfold_genes)\n",
    "\n",
    "for cell_type in categories_order:\n",
    "    adata_WT = adata_imm_WT[adata_imm_WT.obs['subtype_name'] == f\"{cell_type}\"]\n",
    "    adata_KO = adata_imm_KO[adata_imm_KO.obs['subtype_name'] == f\"{cell_type}\"]\n",
    "    \n",
    "    mean_WT = adata_WT[:, ].X.mean(0).A1\n",
    "    mean_KO = adata_KO[:, ].X.mean(0).A1\n",
    "    \n",
    "    # Creating a df and selecting the genes is actually faster than selecting them with scanpy\n",
    "    df = pd.DataFrame({'WT': mean_WT, 'KO':mean_KO}, index=adata_imm.var_names)\n",
    "    df = df.loc[list_imm_logfold_genes]\n",
    "\n",
    "    min_val = 0.1\n",
    "\n",
    "    logfold = np.log2((df['KO'] + min_val) / (df['WT'] + min_val))\n",
    "    mean = (df['KO'] + df['WT']) / 2\n",
    "    \n",
    "    df_logfold.loc[list_imm_logfold_genes, cell_type] = logfold\n",
    "    df_mean.loc[list_imm_logfold_genes, cell_type] = mean\n",
    "\n",
    "    df_logfold = df_logfold.astype(float)\n",
    "    df_mean = df_mean.astype(float)"
   ]
  },
  {
   "cell_type": "code",
   "execution_count": null,
   "id": "5809443e-5c3a-4c1f-a937-0f4af8c3c477",
   "metadata": {
    "tags": []
   },
   "outputs": [],
   "source": [
    "list_labels = ['Suppresive', 'Stim.', 'Proinf.', 'IL1 proc.', 'Chemoatt.', 'Chemorec.']\n",
    "\n",
    "pylab.rcParams.update(params)\n",
    "\n",
    "fig, ax = plt.subplots(1, 1, figsize=(4*1.5, 7*1.5))\n",
    "text_ax = fig.add_axes([.9, 0.125, .02, 0.755], sharey=ax)\n",
    "cbar_ax = fig.add_axes([.98, .58, .03, .2])\n",
    "\n",
    "\n",
    "sns.heatmap(df_logfold, ax=ax, cbar_ax = cbar_ax, cbar=True, cmap='RdBu_r', center=0, \n",
    "            yticklabels=True, vmax=4, vmin=-2)\n",
    "\n",
    "# Plot the categories\n",
    "counter = 0\n",
    "x_bar = len(categories_order)\n",
    "text_ax.tick_params(labelbottom=False, labelleft=False)\n",
    "text_ax.set_axis_off()\n",
    "\n",
    "for idx, (category, genes) in enumerate(markers.items()):\n",
    "    text_ax.plot([0, 0], [counter + 0.25, counter + len(genes) - 0.25], c=\"#404040\")\n",
    "    text_ax.text(x=0.1, y = counter + len(genes)/2, s=list_labels[idx], rotation=-90, \n",
    "                 ha='center', va='center', size='large')\n",
    "    counter += len(genes)\n",
    "    \n",
    "    \n",
    "plt.savefig(f'results/figures/F3/matrixplot_selected_markers_{date.today().strftime(\"%Y_%m_%d\")}_HEATMAP_LOG2.jpg', dpi=300, bbox_inches=\"tight\")\n",
    "plt.savefig(f'results/figures/F3/Fig3C.jpg', dpi=300, bbox_inches=\"tight\")"
   ]
  },
  {
   "cell_type": "code",
   "execution_count": null,
   "id": "3d08de03-b655-47d5-8f9f-daf82bb287a1",
   "metadata": {
    "tags": []
   },
   "outputs": [],
   "source": [
    "adata_T_cells = adata_imm[adata_imm.obs['subtype_name'].isin(['αβT', 'γδT'])]\n",
    "adata_T_cells.obs['subtype-condition'] = adata_T_cells.obs['subtype_name'].astype(str) + '-' + adata_T_cells.obs['condition'].astype(str)"
   ]
  },
  {
   "cell_type": "code",
   "execution_count": null,
   "id": "5a3f25d8-2b80-46c9-a585-1c8f64bcb261",
   "metadata": {
    "tags": []
   },
   "outputs": [],
   "source": [
    "t_genes = ['Cd3g', 'Trac', 'Tcrg-C1', 'Trdv4', 'Nkg7', 'Cd4', 'Cd8a', 'Foxp3', 'Il2rb',\n",
    "           'Il2rg', 'Il7r', 'Pdcd1', 'Ctla4', 'Tigit', 'Havcr2', 'Lag3', 'Tnfrsf18', \n",
    "           'Tnfrsf4', 'Tnfrsf9', 'Lef1', 'Sell', ]\n",
    "\n",
    "other_t_genes = ['Trdc',  'Cd163l1', 'Il2ra',  'Tcf7',  'Prf1', 'Gzma', 'Gzmb']\n",
    "sc.pl.heatmap(adata_T_cells, var_names=t_genes, groupby='subtype-condition', use_raw=False, swap_axes=True, show=False)\n",
    "\n",
    "plt.savefig(f'results/figures/F3/heatmap_T_markers_{date.today().strftime(\"%Y_%m_%d\")}.jpg', dpi=300, bbox_inches=\"tight\")\n",
    "plt.savefig(f'results/figures/F3/Fig3B.jpg', dpi=300, bbox_inches=\"tight\")"
   ]
  },
  {
   "cell_type": "code",
   "execution_count": null,
   "id": "cc95a62c-1df2-41c1-be62-31111940dc63",
   "metadata": {
    "tags": []
   },
   "outputs": [],
   "source": [
    "sc.pl.matrixplot(adata_T_cells, var_names=t_genes, groupby='subtype-condition', use_raw=False, show=False)\n",
    "\n",
    "plt.savefig(f'results/figures/F3/matrixplot_T_markers_{date.today().strftime(\"%Y_%m_%d\")}.jpg', dpi=300, bbox_inches=\"tight\")"
   ]
  },
  {
   "cell_type": "markdown",
   "id": "bf85185b-8ec8-4a1b-a633-281abb93e35c",
   "metadata": {},
   "source": [
    "### Analysis os KO vs WT in ab and gd T cells"
   ]
  },
  {
   "cell_type": "code",
   "execution_count": null,
   "id": "810e9bc8-f262-4be3-af7c-79c2c57abcc1",
   "metadata": {
    "tags": []
   },
   "outputs": [],
   "source": [
    "sc.tl.rank_genes_groups(adata_T_cells, groupby='subtype-condition', groups=['γδT-KO'], \n",
    "                       reference='γδT-WT')"
   ]
  },
  {
   "cell_type": "code",
   "execution_count": null,
   "id": "0e4ff32a-40b2-4a9e-876c-a186940860c7",
   "metadata": {
    "scrolled": true,
    "tags": []
   },
   "outputs": [],
   "source": [
    "for gene in adata_T_cells.uns['rank_genes_groups']['names']['γδT-KO'][:80]:\n",
    "    sc.pl.umap(adata_T_cells[adata_T_cells.obs['condition'] == 'WT'], \n",
    "               color=['subtype-condition', gene], cmap=magma, use_raw=False, ncols=4)\n",
    "    sc.pl.umap(adata_T_cells[adata_T_cells.obs['condition'] == 'KO'], \n",
    "               color=['subtype-condition', gene], cmap=magma, use_raw=False, ncols=4)"
   ]
  },
  {
   "cell_type": "code",
   "execution_count": null,
   "id": "7ae5f37f-edf6-4234-b924-0e8d9db9bd0d",
   "metadata": {
    "tags": []
   },
   "outputs": [],
   "source": [
    "genesgd = ['Aldoa', 'Tpi1', 'Eno1', 'Ldha', 'Mif', 'Pgk1', 'Gpi1', 'Itm2c', 'Pgam1', 'Col7a1', \n",
    "           'Ypel3', 'Pde7a', 'Usp48', 'Bin1', 'Ssbp2', 'Cflar', 'Slfn2']\n",
    "\n",
    "sc.pl.matrixplot(adata_T_cells, var_names=genesgd, groupby='subtype-condition', use_raw=False, show=False)\n",
    "plt.savefig(f'results/figures/F3/matrixplot_DEG_gdT_markers_{date.today().strftime(\"%Y_%m_%d\")}.jpg', dpi=300, bbox_inches=\"tight\")\n",
    "sc.pl.heatmap(adata_T_cells, var_names=genesgd, groupby='subtype-condition', use_raw=False, swap_axes=True, show=False)\n",
    "plt.savefig(f'results/figures/F3/heatmap_DEG_gdT_markers_{date.today().strftime(\"%Y_%m_%d\")}.jpg', dpi=300, bbox_inches=\"tight\")\n"
   ]
  },
  {
   "cell_type": "code",
   "execution_count": null,
   "id": "60fc471b-43b5-4bd9-b675-43bac6aeae4b",
   "metadata": {
    "tags": []
   },
   "outputs": [],
   "source": [
    "sc.tl.rank_genes_groups(adata_T_cells, groupby='subtype-condition', groups=['αβT-KO'], \n",
    "                       reference='αβT-WT')"
   ]
  },
  {
   "cell_type": "code",
   "execution_count": null,
   "id": "4e667234-9f14-4823-8147-1ee0037823e5",
   "metadata": {
    "scrolled": true,
    "tags": []
   },
   "outputs": [],
   "source": [
    "for gene in adata_T_cells.uns['rank_genes_groups']['names']['αβT-KO'][:80]:\n",
    "    sc.pl.umap(adata_T_cells[adata_T_cells.obs['condition'] == 'WT'], \n",
    "               color=['subtype-condition', gene], cmap=magma, use_raw=False, ncols=4)\n",
    "    sc.pl.umap(adata_T_cells[adata_T_cells.obs['condition'] == 'KO'], \n",
    "               color=['subtype-condition', gene], cmap=magma, use_raw=False, ncols=4)"
   ]
  },
  {
   "cell_type": "code",
   "execution_count": null,
   "id": "3d500bf8-26b5-4116-ad78-c0d72c10c1b5",
   "metadata": {
    "tags": []
   },
   "outputs": [],
   "source": [
    "genesab = ['Aldoa', 'Gpi1', 'Eno1', 'Pgk1', 'Ly6e', 'Tnfrsf9', 'Tpi1', 'Il7r', \n",
    "            'Sdf4', 'Shisa5', 'Gmfg', 'Sept1', 'Hif1a', 'Col7a1', 'Tet2', \n",
    "            'Stk26', 'Scamp3', 'Trabd', 'Apobec3', 'Vma21', ]\n",
    "\n",
    "sc.pl.matrixplot(adata_T_cells, var_names=genesab, groupby='subtype-condition', use_raw=False, show=False)\n",
    "plt.savefig(f'results/figures/F3/matrixplot_DEG_abT_markers_{date.today().strftime(\"%Y_%m_%d\")}.jpg', dpi=300, bbox_inches=\"tight\")\n",
    "sc.pl.heatmap(adata_T_cells, var_names=genesab, groupby='subtype-condition', use_raw=False, swap_axes=True, show=False)\n",
    "plt.savefig(f'results/figures/F3/heatmap_DEG_abT_markers_{date.today().strftime(\"%Y_%m_%d\")}.jpg', dpi=300, bbox_inches=\"tight\")\n"
   ]
  },
  {
   "cell_type": "markdown",
   "id": "ea94ad38-8f4f-42d2-8449-840426d0f7fd",
   "metadata": {},
   "source": [
    "##### Analysis of ab T cells"
   ]
  },
  {
   "cell_type": "code",
   "execution_count": null,
   "id": "4eaa1416-72ae-4ab3-aada-56b6d654018a",
   "metadata": {
    "tags": []
   },
   "outputs": [],
   "source": [
    "adata_T_cells.obs['subtype_name'] == 'αβT'"
   ]
  },
  {
   "cell_type": "code",
   "execution_count": null,
   "id": "e1e3bdc5-41bf-4c87-914d-0d545143054f",
   "metadata": {
    "tags": []
   },
   "outputs": [],
   "source": [
    "[i for i in adata_T_cells.var_names if 'Havcr' in i]"
   ]
  },
  {
   "cell_type": "code",
   "execution_count": null,
   "id": "5668ca54-1355-47b1-b4f0-f52f8e29322a",
   "metadata": {
    "tags": []
   },
   "outputs": [],
   "source": [
    "ab_t_genes = ['Cd3g', 'Trac', 'Trbc2', 'Cd4', 'Cd8a', 'Foxp3', 'Il2ra', 'Il7r', \n",
    "              'Pdcd1', 'Tcf7', 'Slamf6', 'Tox', 'Nfatc2', 'Nr4a1', 'Ctla4', \n",
    "              'Havcr2', 'Havcr1', 'Tigit', 'Lag3', 'Gzmb', 'Tnfrsf18', 'Tnfrsf9', 'Tnfrsf4', ]\n",
    "\n",
    "#Havcr4 is not -> add Havcr1 and Havcr2\n",
    "sc.pl.heatmap(adata_T_cells[adata_T_cells.obs['subtype_name'] == 'αβT'], \n",
    "              var_names=ab_t_genes, groupby='subtype-condition', use_raw=False, swap_axes=True, show=False)\n",
    "\n",
    "plt.savefig(f'results/figures/F3/heatmap_abT_markers_{date.today().strftime(\"%Y_%m_%d\")}.jpg', dpi=300, bbox_inches=\"tight\")"
   ]
  },
  {
   "cell_type": "code",
   "execution_count": null,
   "id": "67419253-1a62-4d5e-84e8-b3d49fa380a5",
   "metadata": {
    "tags": []
   },
   "outputs": [],
   "source": [
    "sc.pl.matrixplot(adata_T_cells[adata_T_cells.obs['subtype_name'] == 'αβT'], \n",
    "                 var_names=ab_t_genes, groupby='subtype-condition', use_raw=False, show=False)\n",
    "\n",
    "plt.savefig(f'results/figures/F3/matrixplot_abT_markers_{date.today().strftime(\"%Y_%m_%d\")}.jpg', dpi=300, bbox_inches=\"tight\")"
   ]
  },
  {
   "cell_type": "markdown",
   "id": "cf416eb3-e3d6-4178-a3b2-7acec4f423c7",
   "metadata": {},
   "source": [
    "### Analysis of KO vs WT in Neutrophils cells"
   ]
  },
  {
   "cell_type": "code",
   "execution_count": null,
   "id": "20ab4707-9ff5-494e-82ee-eca8d4bc4a69",
   "metadata": {
    "tags": []
   },
   "outputs": [],
   "source": [
    "adata_neu = adata_imm[adata_imm.obs['subtype_name'] == 'Neu']\n",
    "adata_neu.obs['subtype-condition'] = adata_neu.obs['subtype_name'].astype(str) + '-' + \\\n",
    "                                     adata_neu.obs['condition'].astype(str)"
   ]
  },
  {
   "cell_type": "code",
   "execution_count": null,
   "id": "58f778a4-d86b-43e3-9632-f2d98b52a473",
   "metadata": {
    "tags": []
   },
   "outputs": [],
   "source": [
    "sc.tl.rank_genes_groups(adata_neu, groupby='subtype-condition', groups=['Neu-KO'], \n",
    "                       reference='Neu-WT')"
   ]
  },
  {
   "cell_type": "code",
   "execution_count": null,
   "id": "5506a438-26ee-4ad7-8bb3-ad4131583e5a",
   "metadata": {
    "scrolled": true,
    "tags": []
   },
   "outputs": [],
   "source": [
    "for gene in adata_neu.uns['rank_genes_groups']['names']['Neu-KO'][:80]:\n",
    "    sc.pl.umap(adata_neu[adata_neu.obs['condition'] == 'WT'], \n",
    "               color=['subtype-condition', gene], cmap=magma, use_raw=False, ncols=4)\n",
    "    sc.pl.umap(adata_neu[adata_neu.obs['condition'] == 'KO'], \n",
    "               color=['subtype-condition', gene], cmap=magma, use_raw=False, ncols=4)"
   ]
  },
  {
   "cell_type": "code",
   "execution_count": null,
   "id": "ed26cd69-70df-4b47-8827-3db49f59a699",
   "metadata": {
    "tags": []
   },
   "outputs": [],
   "source": [
    "genes_neu = ['Hilpda', 'Cxcl2', 'Ccl3', 'Ier3', 'Nfkbia', \n",
    "             'Csta3', 'Hcar2', 'Slpi', 'Mif', 'Il1b', 'Smox', 'Cstb', 'Pim1', \n",
    "             'Ccrl2', 'Il1rn', 'Cxcl3', 'Ankrd33b', 'Ptgs2', 'Asprv1', \n",
    "#              'Stfa2l1', 'G0s2', 'Stfa2',\n",
    "             'Col7a1', 'Basp1', 'Pfkp', 'Ptgs2', \n",
    "             'Upp1', 'Card19', 'Nlrp3', \n",
    "             'Cd274', 'Emilin2',  'Tnfaip3', 'Il1f9',\n",
    "             ] \\\n",
    "\n",
    "sc.pl.matrixplot(adata_neu, var_names=genes_neu, groupby='subtype-condition', \n",
    "                 use_raw=False, show=False, vmax=3)\n",
    "plt.savefig(f'results/figures/F3/matrixplot_DEG_neu_markers_{date.today().strftime(\"%Y_%m_%d\")}.jpg', dpi=300, bbox_inches=\"tight\")\n",
    "sc.pl.heatmap(adata_neu, var_names=genes_neu, groupby='subtype-condition', \n",
    "              use_raw=False, swap_axes=True, show=False, vmax=3)\n",
    "plt.savefig(f'results/figures/F3/heatmap_DEG_neu_markers_{date.today().strftime(\"%Y_%m_%d\")}.jpg', dpi=300, bbox_inches=\"tight\")"
   ]
  },
  {
   "cell_type": "markdown",
   "id": "26de1092-5aef-4d27-ab3b-adad3f0266cf",
   "metadata": {},
   "source": [
    "### Analysis os KO vs WT in Langerhans cells"
   ]
  },
  {
   "cell_type": "code",
   "execution_count": null,
   "id": "f8dd612b-1f77-47cd-8173-46c76d6e2a5a",
   "metadata": {
    "tags": []
   },
   "outputs": [],
   "source": [
    "adata_LC = adata_imm[adata_imm.obs['subtype_name'] == 'LC']\n",
    "adata_LC.obs['subtype-condition'] = adata_LC.obs['subtype_name'].astype(str) + '-' + \\\n",
    "                                     adata_LC.obs['condition'].astype(str)"
   ]
  },
  {
   "cell_type": "code",
   "execution_count": null,
   "id": "264454b0-d74d-4068-a70c-c90647e61ed6",
   "metadata": {
    "tags": []
   },
   "outputs": [],
   "source": [
    "sc.tl.rank_genes_groups(adata_LC, groupby='subtype-condition', groups=['LC-KO'], \n",
    "                       reference='LC-WT')"
   ]
  },
  {
   "cell_type": "code",
   "execution_count": null,
   "id": "1561f75d-ef90-4477-97b0-0d2ce102d286",
   "metadata": {
    "scrolled": true,
    "tags": []
   },
   "outputs": [],
   "source": [
    "for gene in adata_LC.uns['rank_genes_groups']['names']['LC-KO'][:80]:\n",
    "    sc.pl.umap(adata_LC[adata_LC.obs['condition'] == 'WT'], \n",
    "               color=['subtype-condition', gene], cmap=magma, use_raw=False, ncols=4)\n",
    "    sc.pl.umap(adata_LC[adata_LC.obs['condition'] == 'KO'], \n",
    "               color=['subtype-condition', gene], cmap=magma, use_raw=False, ncols=4)"
   ]
  },
  {
   "cell_type": "code",
   "execution_count": null,
   "id": "8da55165-fe76-4db8-8498-7cb9123014ce",
   "metadata": {
    "tags": []
   },
   "outputs": [],
   "source": [
    "genes_LC = ['Actg1', 'Aldoa', 'Anxa2',  'Pgk1', 'Tnfrsf9', 'Mif', \n",
    "            'Ldha', 'Tpi1', 'Ccr7', 'Abracl','Pkib', 'Sin3b', \n",
    "            'Rhoc', 'Samsn1', 'Il4i1', 'Bcl2a1a',\n",
    "             'Ktn1', 'Eno1', 'Slfn2', 'Znrf1', \n",
    "            'Sri', 'Syngr2',  'Rabgap1l', 'Tank', \n",
    "            'Lims1', 'Timd4', 'Cacnb3', 'Sugt1', 'Jak2',  \n",
    "            'Stk24', 'Plxnd1', 'Batf3', \n",
    "            'Lrp1', 'Cyfip1',  'Rnf19b', 'Ddit4',    \n",
    "             ]\n",
    "\n",
    "sc.pl.matrixplot(adata_LC, var_names=genes_LC, groupby='subtype-condition', use_raw=False, \n",
    "                 show=False, vmax=2.5)\n",
    "plt.savefig(f'results/figures/F3/matrixplot_DEG_LC_markers_{date.today().strftime(\"%Y_%m_%d\")}.jpg', dpi=300, bbox_inches=\"tight\")\n",
    "sc.pl.heatmap(adata_LC, var_names=genes_LC, groupby='subtype-condition', use_raw=False, \n",
    "              swap_axes=True, show=False, vmax=2.5)\n",
    "plt.savefig(f'results/figures/F3/heatmap_DEG_LC_markers_{date.today().strftime(\"%Y_%m_%d\")}.jpg', dpi=300, bbox_inches=\"tight\")\n"
   ]
  },
  {
   "cell_type": "code",
   "execution_count": null,
   "id": "ea19fa1c-2bb6-49ef-8697-1a6e6dd8afcb",
   "metadata": {},
   "outputs": [],
   "source": []
  }
 ],
 "metadata": {
  "kernelspec": {
   "display_name": "Python [conda env:alex-base] *",
   "language": "python",
   "name": "conda-env-alex-base-py"
  },
  "language_info": {
   "codemirror_mode": {
    "name": "ipython",
    "version": 3
   },
   "file_extension": ".py",
   "mimetype": "text/x-python",
   "name": "python",
   "nbconvert_exporter": "python",
   "pygments_lexer": "ipython3",
   "version": "3.8.0"
  }
 },
 "nbformat": 4,
 "nbformat_minor": 5
}
