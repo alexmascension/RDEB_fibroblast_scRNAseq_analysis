{
 "cells": [
  {
   "cell_type": "markdown",
   "id": "aa781ea4-1ef8-4bd8-b09d-1e513ed2c212",
   "metadata": {},
   "source": [
    "# Figures associated to immune processing\n",
    "\n",
    "**You need to tun the notebook 2_ first!!!!**"
   ]
  },
  {
   "cell_type": "code",
   "execution_count": null,
   "id": "beec4b87-e7ae-42fb-a135-12bb7617dfea",
   "metadata": {
    "tags": []
   },
   "outputs": [],
   "source": [
    "from cellassign import assign_cats\n",
    "import gzip\n",
    "import itertools as itl\n",
    "import matplotlib.pyplot as plt\n",
    "import matplotlib as mpl\n",
    "import numpy as np\n",
    "import os\n",
    "import pandas as pd\n",
    "import scanpy as sc\n",
    "import scanpy.external as sce\n",
    "import seaborn as sns\n",
    "import triku as tk\n",
    "import itertools\n",
    "import matplotlib.pylab as pylab\n",
    "import matplotlib.patches as mpatches"
   ]
  },
  {
   "cell_type": "code",
   "execution_count": null,
   "id": "e1fb0597-20bc-498b-81a7-e05c21bf9083",
   "metadata": {
    "tags": []
   },
   "outputs": [],
   "source": [
    "from functions import adata_plot_KOvsWT, stat_annot_gene\n",
    "from functions import dict_WT_KO_colors"
   ]
  },
  {
   "cell_type": "code",
   "execution_count": null,
   "id": "d42c465d-e373-4ca7-b67e-94d0ffe388b8",
   "metadata": {
    "tags": []
   },
   "outputs": [],
   "source": [
    "from datetime import date\n",
    "\n",
    "today = date.today()\n",
    "today = today.strftime(\"%Y_%m_%d\")"
   ]
  },
  {
   "cell_type": "code",
   "execution_count": null,
   "id": "965d7745-46a9-480c-9c08-4f0630f09114",
   "metadata": {
    "tags": []
   },
   "outputs": [],
   "source": [
    "# Palettes for UMAP gene expression\n",
    "\n",
    "magma = [plt.get_cmap('magma')(i) for i in np.linspace(0,1, 80)]\n",
    "magma[0] = (0.88, 0.88, 0.88, 1)\n",
    "magma = mpl.colors.LinearSegmentedColormap.from_list(\"\", magma[:65])"
   ]
  },
  {
   "cell_type": "code",
   "execution_count": null,
   "id": "2187d104-9f68-4f9f-8d55-4e3f64db639b",
   "metadata": {
    "tags": []
   },
   "outputs": [],
   "source": [
    "params = {'figure.dpi': 200,\n",
    "          'legend.fontsize': 'large',\n",
    "         'axes.labelsize': 'x-large',\n",
    "         'axes.titlesize':'x-large',\n",
    "         'xtick.labelsize':'x-large',\n",
    "         'ytick.labelsize':'x-large', \n",
    "         'axes.grid': False}\n",
    "pylab.rcParams.update(params)\n",
    "# mpl.style.use('default')\n",
    "\n",
    "pd.set_option('display.max_columns', None)"
   ]
  },
  {
   "cell_type": "code",
   "execution_count": null,
   "id": "73181509-3390-4920-bc12-da30c2fc3295",
   "metadata": {
    "tags": []
   },
   "outputs": [],
   "source": [
    "os.makedirs('results/figures/F3', exist_ok=True)"
   ]
  },
  {
   "cell_type": "markdown",
   "id": "851e2f7c-361c-4e68-aa6e-d32abd0b89b3",
   "metadata": {},
   "source": [
    "## Functions and variables"
   ]
  },
  {
   "cell_type": "code",
   "execution_count": null,
   "id": "2cb59f56-277b-498b-b9ea-abe1361a5bab",
   "metadata": {
    "tags": []
   },
   "outputs": [],
   "source": [
    "%store -r dict_WT_KO_colors\n",
    "%store -r seed"
   ]
  },
  {
   "cell_type": "markdown",
   "id": "cd3d67f8-65f4-4a1c-b1dc-4b7de3024ff5",
   "metadata": {},
   "source": [
    "## Load adata"
   ]
  },
  {
   "cell_type": "code",
   "execution_count": null,
   "id": "bab15a72-06de-40b3-b2ba-863299e110cd",
   "metadata": {
    "tags": []
   },
   "outputs": [],
   "source": [
    "adata_all_harmony = sc.read_h5ad('adatas/adata_all_harmony.h5')\n",
    "adata_imm = adata_all_harmony[adata_all_harmony.obs['merged_cell_type_name'].isin(['APC', 'LYM', 'NEU', 'MC'])]"
   ]
  },
  {
   "cell_type": "code",
   "execution_count": null,
   "id": "cbb7b439-e74d-4ea2-a090-6fd296024ad6",
   "metadata": {
    "tags": []
   },
   "outputs": [],
   "source": [
    "sc.pp.filter_genes(adata_imm, min_counts=1)"
   ]
  },
  {
   "cell_type": "code",
   "execution_count": null,
   "id": "5c793023-137c-4e5b-ba27-230a9a79542d",
   "metadata": {
    "tags": []
   },
   "outputs": [],
   "source": [
    "sc.pp.pca(adata_imm, random_state=seed, n_comps=50)\n",
    "sce.pp.harmony_integrate(adata_imm, key='batch', max_iter_harmony=50, plot_convergence=True)\n",
    "sc.pp.neighbors(adata_imm, random_state=seed, n_neighbors=int(len(adata_imm) ** 0.5 * 0.5), metric='cosine', use_rep='X_pca_harmony')\n",
    "tk.tl.triku(adata_imm, use_raw=False)\n",
    "\n",
    "sc.pp.pca(adata_imm, random_state=seed, n_comps=50)\n",
    "sce.pp.harmony_integrate(adata_imm, key='batch', max_iter_harmony=50, plot_convergence=True)\n",
    "sc.pp.neighbors(adata_imm, random_state=seed, n_neighbors=int(len(adata_imm) ** 0.5 * 0.5), metric='cosine', use_rep='X_pca_harmony')"
   ]
  },
  {
   "cell_type": "code",
   "execution_count": null,
   "id": "c7b3c4cd-5666-4620-abb4-7111ae716303",
   "metadata": {
    "tags": []
   },
   "outputs": [],
   "source": [
    "sc.tl.umap(adata_imm, min_dist=1)"
   ]
  },
  {
   "cell_type": "markdown",
   "id": "826677f1-237c-4cf2-9649-dd45324f723e",
   "metadata": {},
   "source": [
    "### Subpopulation annotation\n",
    "\n",
    "To do the annotation we used the characterization made by Joost et al. 2020. There are some populations that are not appearing (Krt75+ to Krt18+) and we are not sure about their functional relationship"
   ]
  },
  {
   "cell_type": "code",
   "execution_count": null,
   "id": "67a46b76-0f87-42eb-b2ec-37882ae678c1",
   "metadata": {
    "tags": []
   },
   "outputs": [],
   "source": [
    "dict_immune = {  '0: αβT': ['Tnfrsf18', 'Cxcr6', 'Ccr2', 'Ifngr1', 'Cd52', 'Rora', 'Il7r', 'Aebp2', 'Icos', 'Dgat1', 'Shisa5', 'Grap', 'Cd27', 'Pdcd1', 'Ikzf3', 'Il18r1', \n",
    "                             'Gata3', 'Spn', 'Tnfrsf4'],\n",
    "                 '1: γδT': ['Nkg7', 'Ctsw', 'Cd7', 'Rab4a', 'Ctla2a', 'Rgs2', 'Cd3d', 'Cd3g', 'Fermt2', 'Tcrg-C1', 'Klrk1', 'Trf', 'Itk', 'Ubald2', 'Il2rb', 'Map1b', 'Klrb1b', 'Cd2', \n",
    "                              'Trbc2', 'Abcb1b', 'Rasl11b', 'Parp8', 'Tiam1'],\n",
    "                 '2: Act. Neu': ['Acod1', 'Il1f9', 'Csta3', 'Rhov', 'Stfa2l1', 'Ccl3', 'Hcar2', 'Slpi', 'Ccrl2', 'Il1rn', 'Cxcl3', 'G0s2', \n",
    "                                      'Stfa2', 'Ptgs2', 'Asprv1', 'Fpr1'],\n",
    "                 '3: Neu': ['Camp', 'Ltf', 'Chil3', 'S100a8', 'S100a9', 'Tinagl1', 'Stfa1', 'Ngp', 'Chil3', 'Cd177', 'Adpgk', 'Syne1', 'Cebpe', 'Hsd11b1', 'Mgst1', \n",
    "                                 'Tst', 'Ly6c2', 'Pilrb2', 'Fcnb', 'Rab44', 'Nfe2', 'Cpne3', 'Ldhc', 'Hmgn2', 'Adgrg3'],\n",
    "                 '4: CCR7$^+$ LC': ['Fscn1', 'Cd200', 'Il4i1', 'Pkib', 'Wnk1', 'Cd74', 'Cst3', 'Ccr7', 'Bcl2a1a', 'Cacnb3', 'Ccl22', 'Gm13546', 'Serpinb9b', 'Relb', 'Cd40', 'Arl5a'],\n",
    "                 '5: LC': ['Mfge8', 'Cd207', 'Cldn1', 'Pgf', 'Cd74', 'H2-Aa', 'H2-Eb1',  'Nr4a3', 'Il1r2', 'Pkib', 'Grk3', 'Ktn1', 'Pxdc1', 'Dnah2', 'Timd4', \n",
    "                                      'Epcam', 'Ccr7', 'St14', 'Mreg', 'Cd40'],\n",
    "                 '6: Mφ/DCA': ['Nos2', 'Saa3', 'Arg1', 'Wfdc17', 'Csf1r', 'F10', 'Ly6c2', 'Gsr', 'Anxa5', 'Ptgs2', 'Cxcl3', 'Pid1', 'Serpinb2', 'Csf3', 'Vcan', 'Inhba', 'Ptges', \n",
    "                               'F13a1', 'Met', ],\n",
    "                 '7: Mφ/DCB': ['Pf4', 'C1qb', 'Igf1', 'Grn', 'Dab2', 'C1qc', 'Apoe', 'C1qa', 'Ms4a7', 'Timp2', 'Cd36', 'Mrc1', 'Fxyd2', 'F13a1', 'Rgl1', 'Ednrb', 'Hgsnat', 'Tgfbi', 'Rnase4', \n",
    "                                 'Sash1', 'Folr2', 'Gas6', 'Stab1', 'Ccl8', 'Fcgrt', 'Ms4a6c', 'P2rx7'] ,\n",
    "                 '8: Mφ/DCC': ['Cd209a', 'Cd209d', 'Slc39a14', 'Plbd1', 'Aif1', 'Cd74', 'Clec4e', 'Tgfbi', 'Pdpn', 'Cxcl3', 'Vat1', 'Eps8', 'Tppp3', \n",
    "                                     'Procr', 'Tarm1', 'Clec4a3', 'Ccl5'],\n",
    "                 '9: MC': ['Cma1', 'Tpsb2', 'Mcpt4', 'Fdx1', 'Hs3st1', 'Cd55', 'Tpsab1', 'Hdc', 'Tph1', 'Cpa3', 'Fgfr1', 'Gata2', 'Slco2b1', 'Vwa5a', 'Il1rl1', \n",
    "                                'Cyp11a1', 'Adora3', 'Kit', 'Ap1s3', 'Hexb', 'Creb3l1', 'Mrgprb1', 'Rab27b', 'Penk', 'Hs6st2', 'Adamts9', 'Akap12', 'Slc45a3', 'Mrgprb2', 'Gnai1'], \n",
    "                 '10: Bas': ['Mcpt8', 'Cyp11a1', 'Cd200r3', 'Ifitm1', 'Ero1l', 'Ccl6', 'Ccl3', 'Lilrb4a', 'Gata2', 'Ccl4', 'Hdc', 'Osm', 'Lat2', 'Tec', 'Rab44', 'Csf2rb2', \n",
    "                               'Os9', 'Ier3', 'Aqp9', 'Cd200r4', 'Emilin2', 'Csf1', 'Slpi', 'Hmox1', 'Mboat1', 'Hs3st1', 'Adgrg3', ],\n",
    "                 \n",
    "                 '11: BC': ['Vpreb3', 'Cd79a', 'Cd79b', 'Chchd10', 'Ighm',  'Stmn1', 'Igll1', 'Dut', 'Top2a', 'Rasgrp2', 'Myb', 'Ssrp1', 'Gimap6', 'Selenoh', 'Apobec3', 'Smc2',\n",
    "                             'Cks1b', 'Lgals9', 'Ebf1', 'Csrp2', 'Adgrg1', 'Pou2af1', 'Tcf3', 'Hist1h1a', 'Parp1', 'Lig1', 'Dntt', 'Sox4'],\n",
    "               \n",
    "                 '12: PC': ['Iglc3', 'Ms4a1', 'Iglc2', 'Ighm', 'Igkc', 'Cd79a', 'Ly6d', 'Cd79b', 'Tnfrsf13c', 'Iglc1', 'Sdc1', 'Cd74', \n",
    "                                  'Txndc16', 'Ighd'],    \n",
    "                 \n",
    "                                }\n",
    "\n",
    "\n",
    "dict_imm_colors = { '0: αβT': '#0086b9',\n",
    "                    '1: γδT': '#99DCF5',\n",
    "                    '2: Act. Neu': '#D3BC5F',\n",
    "                    '3: Neu': '#A5901A',\n",
    "                    '4: CCR7$^+$ LC': '#8E0C6F',\n",
    "                    '5: LC': '#D40055',\n",
    "                    '6: Mφ/DCA': '#AE54B8',\n",
    "                    '7: Mφ/DCB': '#4D0765',\n",
    "                    '8: Mφ/DCC': '#FF5599',\n",
    "                    '9: MC': '#FF9955',\n",
    "                    '10: Bas': '#A05A2C',\n",
    "                    '11: BC': '#4c708a',\n",
    "                    '12: PC': '#00171F',}\n"
   ]
  },
  {
   "cell_type": "code",
   "execution_count": null,
   "id": "04fb7365-652a-4a31-8942-b42bb1c92bc7",
   "metadata": {
    "tags": []
   },
   "outputs": [],
   "source": [
    "sc.tl.leiden(adata_imm, resolution=4)\n",
    "assign_cats(adata_imm, dict_cats=dict_immune, min_score=0.4, quantile_gene_sel=0.6, key_added='subtype')\n",
    "\n",
    "adata_imm.obs['subtype_name'] = [i.split(': ')[1] for i in adata_imm.obs['subtype']]\n",
    "adata_imm.obs['subtype_name'] = adata_imm.obs['subtype_name'].astype('category')\n",
    "adata_imm.obs['subtype_name'].cat.reorder_categories([i.split(': ')[1] for i in dict_imm_colors.keys()], inplace=True)\n",
    "\n",
    "adata_imm.obs['subtype_number'] = [i.split(': ')[0] for i in adata_imm.obs['subtype']]\n",
    "adata_imm.obs['subtype_number'] = adata_imm.obs['subtype_number'].astype('category')\n",
    "adata_imm.obs['subtype_number'].cat.reorder_categories([i.split(': ')[0] for i in dict_imm_colors.keys()], inplace=True)\n",
    "\n",
    "\n",
    "adata_imm.uns['subtype_colors'] = list(dict_imm_colors.values())\n",
    "adata_imm.uns['subtype_name_colors'] = list(dict_imm_colors.values())\n",
    "adata_imm.uns['subtype_number_colors'] = list(dict_imm_colors.values())"
   ]
  },
  {
   "cell_type": "markdown",
   "id": "fc6c9986-ceb4-4de1-837e-122e51b1adc5",
   "metadata": {},
   "source": [
    "## Merge some subtypes to make general types"
   ]
  },
  {
   "cell_type": "code",
   "execution_count": null,
   "id": "621dcfaa-2019-484c-804d-74c033fb2e5d",
   "metadata": {
    "tags": []
   },
   "outputs": [],
   "source": [
    "dict_changes = {'2: Act. Neu': '2/3: Neu',\n",
    "                '3: Neu': '2/3: Neu',\n",
    "                '4: CCR7$^+$ LC': '4/5: LC',\n",
    "                '5: LC': '4/5: LC',\n",
    "                '6: Mφ/DCA': '6/7/8: Mφ/DC',\n",
    "                '7: Mφ/DCB': '6/7/8: Mφ/DC',\n",
    "                '8: Mφ/DCC': '6/7/8: Mφ/DC',\n",
    "                }\n",
    "\n",
    "\n",
    "dict_imm__merge_colors = {  '0: αβT': '#0086b9',\n",
    "                            '1: γδT': '#99DCF5',\n",
    "                            '2/3: Neu': '#D3BC5F',\n",
    "                            '4/5: LC': '#D40055',\n",
    "                            '6/7/8: Mφ/DC': '#AE54B8',\n",
    "                            '9: MC': '#FF9955',\n",
    "                            '10: Bas': '#A05A2C',\n",
    "                            '11: BC': '#4c708a',\n",
    "                            '12: PC': '#00171F',}"
   ]
  },
  {
   "cell_type": "code",
   "execution_count": null,
   "id": "d673f57a-8e5e-4892-80d2-50094f09bfe5",
   "metadata": {
    "tags": []
   },
   "outputs": [],
   "source": [
    "adata_imm.obs['subtype_merged'] = [dict_changes[i] if i in dict_changes.keys() else i for i in adata_imm.obs['subtype']]\n",
    "\n",
    "\n",
    "adata_imm.obs['subtype_merged_name'] = [i.split(': ')[1] for i in adata_imm.obs['subtype_merged']]\n",
    "adata_imm.obs['subtype_merged_name'] = adata_imm.obs['subtype_merged_name'].astype('category')\n",
    "adata_imm.obs['subtype_merged_name'].cat.reorder_categories([i.split(': ')[1] for i in dict_imm__merge_colors.keys()], inplace=True)\n",
    "\n",
    "adata_imm.obs['subtype_merged_number'] = [i.split(': ')[0] for i in adata_imm.obs['subtype_merged']]\n",
    "adata_imm.obs['subtype_merged_number'] = adata_imm.obs['subtype_merged_number'].astype('category')\n",
    "adata_imm.obs['subtype_merged_number'].cat.reorder_categories([i.split(': ')[0] for i in dict_imm__merge_colors.keys()], inplace=True)\n",
    "\n",
    "\n",
    "adata_imm.uns['subtype_merged_colors'] = list(dict_imm__merge_colors.values())\n",
    "adata_imm.uns['subtype_merged_name_colors'] = list(dict_imm__merge_colors.values())\n",
    "adata_imm.uns['subtype_merged_number_colors'] = list(dict_imm__merge_colors.values())"
   ]
  },
  {
   "cell_type": "markdown",
   "id": "6f0acb64-0447-4027-b25b-01f4efd4b82f",
   "metadata": {},
   "source": [
    "## Table with markers and p-values"
   ]
  },
  {
   "cell_type": "code",
   "execution_count": null,
   "id": "4d030464-e139-4e6e-98e4-5b9bb1b2cf0b",
   "metadata": {
    "tags": []
   },
   "outputs": [],
   "source": [
    "sc.tl.rank_genes_groups(adata_imm, groupby='subtype')\n",
    "names = pd.DataFrame(adata_imm.uns['rank_genes_groups']['names'])\n",
    "pvals = pd.DataFrame(adata_imm.uns['rank_genes_groups']['pvals_adj'])"
   ]
  },
  {
   "cell_type": "code",
   "execution_count": null,
   "id": "1e8e2a10-1b1c-4232-8e8a-233ed406c3b8",
   "metadata": {
    "scrolled": true,
    "tags": []
   },
   "outputs": [],
   "source": [
    "for cell_type, list_cell_markers in dict_immune.items():\n",
    "    print(cell_type)\n",
    "    sc.pl.umap(adata_imm, color=[i for i in list_cell_markers if i in adata_imm.var_names], alpha=0.5, ncols=5, cmap=magma, use_raw=False)"
   ]
  },
  {
   "cell_type": "code",
   "execution_count": null,
   "id": "e85ec1a2-ae2b-4c0d-8bf4-a279dc44a263",
   "metadata": {
    "tags": []
   },
   "outputs": [],
   "source": [
    "# Create a DataFrame with 30 most important genes\n",
    "list_dfs = []\n",
    "for subtype, genes in dict_immune.items():\n",
    "    df = pd.DataFrame({f'{subtype} genes': names[subtype], f'p-value {subtype}': pvals[subtype]}, dtype=object)\n",
    "    df_short = df[df[f'{subtype} genes'].isin(genes)].sort_values(by=f'p-value {subtype}', ascending=True).iloc[:30].reset_index(drop=True)\n",
    "    df[f'p-value {subtype}'] = df[f'p-value {subtype}'].apply(lambda x: '%.3E' % x).values.tolist()\n",
    "    list_dfs.append(df)"
   ]
  },
  {
   "cell_type": "code",
   "execution_count": null,
   "id": "6953a6c6-4907-49e6-8c73-d7a9b9bd43e7",
   "metadata": {
    "tags": []
   },
   "outputs": [],
   "source": [
    "df_all_celltypes = pd.concat(list_dfs, axis=1).iloc[:50]\n",
    "df_all_celltypes.to_csv(f'results/{date.today().strftime(\"%Y_%m_%d\")}-IMM_DEGs.csv.csv', index=False)\n",
    "df_all_celltypes"
   ]
  },
  {
   "cell_type": "markdown",
   "id": "91003d7d-958f-49c3-97d8-8489b4862117",
   "metadata": {},
   "source": [
    "## UMAP of fibroblast subpopulations and batch"
   ]
  },
  {
   "cell_type": "markdown",
   "id": "55d1f502-c924-49f6-9359-f2f66640f18d",
   "metadata": {},
   "source": [
    "#### Supp Fig to Fig 3"
   ]
  },
  {
   "cell_type": "code",
   "execution_count": null,
   "id": "974adea4-f161-4c5d-ab94-548ad7cb869e",
   "metadata": {
    "tags": []
   },
   "outputs": [],
   "source": [
    "adata_imm_WT = adata_imm[adata_imm.obs['batch'].isin(['WT1', 'WT2'])]\n",
    "adata_imm_WT.uns['batch_colors'] = [dict_WT_KO_colors['WT1'], dict_WT_KO_colors['WT2'], ]\n",
    "adata_imm_KO = adata_imm[adata_imm.obs['batch'].isin(['KO1', 'KO2'])]\n",
    "adata_imm_KO.uns['batch_colors'] = [dict_WT_KO_colors['KO1'], dict_WT_KO_colors['KO2'], ]"
   ]
  },
  {
   "cell_type": "code",
   "execution_count": null,
   "id": "d28d4200-eb2f-4c39-99c4-46a34b7a890b",
   "metadata": {
    "tags": []
   },
   "outputs": [],
   "source": [
    "fig, axs = plt.subplots(1, 1, figsize=(8, 4))\n",
    "s = 18\n",
    "\n",
    "sc.pl.umap(adata_imm, color='subtype_number', s=s, ax = axs, \n",
    "           legend_loc='on data', frameon=False, show=False, \n",
    "           legend_fontoutline=4, legend_fontsize=14)\n",
    "sc.pl.umap(adata_imm, color='subtype', s=s, ax = axs, \n",
    "           frameon=False, show=False)\n",
    "\n",
    "title_obj = axs.set_title('') \n",
    "\n",
    "plt.tight_layout()\n",
    "\n",
    "plt.savefig(f'results/figures/F3/makers_imm_closeup_{date.today().strftime(\"%Y_%m_%d\")}.png', dpi=300)\n",
    "plt.savefig(f'results/figures/F3/Supp_Fig3A_closeup_{date.today().strftime(\"%Y_%m_%d\")}.png', dpi=300)"
   ]
  },
  {
   "cell_type": "code",
   "execution_count": null,
   "id": "d547da1b-a229-4674-ab1f-6cbebd0cc4e4",
   "metadata": {
    "tags": []
   },
   "outputs": [],
   "source": [
    "fig, axs = plt.subplots(2, 2, figsize=(12, 7))\n",
    "s = 18\n",
    "\n",
    "\n",
    "sc.pl.umap(adata_imm_WT, color='batch', s=s, ax = axs.ravel()[0], \n",
    "           frameon=False, show=False, na_in_legend=False)\n",
    "\n",
    "\n",
    "sc.pl.umap(adata_imm_WT, color='subtype_number', s=s, ax=axs.ravel()[1], \n",
    "           legend_loc='on data', frameon=False, show=False, legend_fontoutline=4, legend_fontsize=14, \n",
    "           na_in_legend=False, title='condition')\n",
    "sc.pl.umap(adata_imm_WT, color='subtype', s=s, ax = axs.ravel()[1], \n",
    "           frameon=False, show=False, na_in_legend=False, title='FB type')\n",
    "\n",
    "\n",
    "\n",
    "sc.pl.umap(adata_imm_KO, color='batch', s=s, ax = axs.ravel()[2], \n",
    "           frameon=False, show=False, na_in_legend=False, title='')\n",
    "\n",
    "\n",
    "sc.pl.umap(adata_imm_KO, color='subtype_number', s=s, ax=axs.ravel()[3], \n",
    "           legend_loc='on data', frameon=False, show=False, legend_fontoutline=4, legend_fontsize=14, \n",
    "           na_in_legend=False, title='')\n",
    "\n",
    "\n",
    "plt.tight_layout()\n",
    "\n",
    "plt.savefig(f'results/figures/F3/makers_imm_{date.today().strftime(\"%Y_%m_%d\")}.png', dpi=300)\n",
    "plt.savefig(f'results/figures/F3/Supp_Fig3A_{date.today().strftime(\"%Y_%m_%d\")}.png', dpi=300)"
   ]
  },
  {
   "cell_type": "markdown",
   "id": "a87f16f7-baa3-40c2-a0e5-9a538ee9c85c",
   "metadata": {
    "execution": {
     "iopub.execute_input": "2022-08-18T10:30:05.722095Z",
     "iopub.status.busy": "2022-08-18T10:30:05.721551Z",
     "iopub.status.idle": "2022-08-18T10:30:05.726931Z",
     "shell.execute_reply": "2022-08-18T10:30:05.725762Z",
     "shell.execute_reply.started": "2022-08-18T10:30:05.722041Z"
    },
    "tags": []
   },
   "source": [
    "## log2fold heatmap highlighting the expression of specific markers"
   ]
  },
  {
   "cell_type": "code",
   "execution_count": null,
   "id": "2a70faa9-627e-433c-bc59-ba6b9fc58fb6",
   "metadata": {
    "tags": []
   },
   "outputs": [],
   "source": [
    "markers = {'Suppresive': ['Cd274', 'Pdcd1lg2', 'Cd80', 'Lgals9', 'Lgals3', 'Mif', 'Cd74', \n",
    "                          'Adora2a', 'Adora2b', 'Arg1', 'Arg2', 'Il4i1',],  \n",
    "           'Stimulatory': ['Il10', 'Tnfsf9', 'Tnfsf4', 'Cd86',], \n",
    "           'Proinflammatory cytokines': ['Il1a', 'Il1b', 'Il1rn', 'Tnf', 'Il6', 'Ifng', \n",
    "              'Tgfb1',],\n",
    "           'IL1 processing': ['Nlrp3', 'Casp1', 'Casp8', 'Gzmb', ], \n",
    "           'Chemoattractant': ['Ccl3', 'Ccl4', 'Ccl5', 'Ccl17', 'Ccl22', 'Cxcl1', \n",
    "                                'Cxcl2', 'Cxcl3', 'Cxcl16', 'Csf3', 'Csf3r'],\n",
    "           'Chemoreceptors': ['Ccr1', 'Ccr2', 'Ccr4', 'Ccr7', 'Cxcr6', 'C3ar1', 'Il7r', 'Il2ra']\n",
    "           \n",
    "          }"
   ]
  },
  {
   "cell_type": "code",
   "execution_count": null,
   "id": "743086c3-7c67-4bfd-9aa3-704ceeaf6940",
   "metadata": {
    "scrolled": true,
    "tags": []
   },
   "outputs": [],
   "source": [
    "list_imm_logfold_genes = [j for i in markers.values() for j in i]\n",
    "\n",
    "categories_order = adata_imm.obs['subtype_merged_name'].cat.categories\n",
    "categories_order = [i for i in categories_order if i != 'Bas']\n",
    "# There are no basophil cells in WT, so the logfold is 0\n",
    "\n",
    "df_logfold = pd.DataFrame(columns=categories_order, index=list_imm_logfold_genes)\n",
    "df_mean = pd.DataFrame(columns=categories_order, index=list_imm_logfold_genes)\n",
    "\n",
    "for cell_type in categories_order:\n",
    "    adata_WT = adata_imm_WT[adata_imm_WT.obs['subtype_merged_name'] == f\"{cell_type}\"]\n",
    "    adata_KO = adata_imm_KO[adata_imm_KO.obs['subtype_merged_name'] == f\"{cell_type}\"]\n",
    "    \n",
    "    mean_WT = adata_WT[:, ].X.mean(0).A1\n",
    "    mean_KO = adata_KO[:, ].X.mean(0).A1\n",
    "    \n",
    "    # Creating a df and selecting the genes is actually faster than selecting them with scanpy\n",
    "    df = pd.DataFrame({'WT': mean_WT, 'KO':mean_KO}, index=adata_imm.var_names)\n",
    "    df = df.loc[list_imm_logfold_genes]\n",
    "\n",
    "    min_val = 0.1\n",
    "\n",
    "    logfold = np.log2((df['KO'] + min_val) / (df['WT'] + min_val))\n",
    "    mean = (df['KO'] + df['WT']) / 2\n",
    "    \n",
    "    df_logfold.loc[list_imm_logfold_genes, cell_type] = logfold\n",
    "    df_mean.loc[list_imm_logfold_genes, cell_type] = mean\n",
    "\n",
    "    df_logfold = df_logfold.astype(float)\n",
    "    df_mean = df_mean.astype(float)"
   ]
  },
  {
   "cell_type": "code",
   "execution_count": null,
   "id": "5809443e-5c3a-4c1f-a937-0f4af8c3c477",
   "metadata": {
    "tags": []
   },
   "outputs": [],
   "source": [
    "list_labels = ['Suppresive', 'Stim.', 'Proinf.', 'IL1 proc.', 'Chemoatt.', 'Chemorec.']\n",
    "\n",
    "pylab.rcParams.update(params)\n",
    "\n",
    "fig, ax = plt.subplots(1, 1, figsize=(4*1.5, 7*1.5))\n",
    "text_ax = fig.add_axes([.9, 0.125, .02, 0.755], sharey=ax)\n",
    "cbar_ax = fig.add_axes([.98, .58, .03, .2])\n",
    "\n",
    "\n",
    "sns.heatmap(df_logfold, ax=ax, cbar_ax = cbar_ax, cbar=True, cmap='RdBu_r', center=0, \n",
    "            yticklabels=True, vmax=4, vmin=-2)\n",
    "\n",
    "# Plot the categories\n",
    "counter = 0\n",
    "x_bar = len(categories_order)\n",
    "text_ax.tick_params(labelbottom=False, labelleft=False)\n",
    "text_ax.set_axis_off()\n",
    "\n",
    "for idx, (category, genes) in enumerate(markers.items()):\n",
    "    text_ax.plot([0, 0], [counter + 0.25, counter + len(genes) - 0.25], c=\"#404040\")\n",
    "    text_ax.text(x=0.1, y = counter + len(genes)/2, s=list_labels[idx], rotation=-90, \n",
    "                 ha='center', va='center', size='large')\n",
    "    counter += len(genes)\n",
    "    \n",
    "    \n",
    "plt.savefig(f'results/figures/F3/matrixplot_selected_markers_{date.today().strftime(\"%Y_%m_%d\")}_HEATMAP_LOG2.jpg', dpi=300, bbox_inches=\"tight\")\n",
    "plt.savefig(f'results/figures/F3/Fig3C.jpg', dpi=300, bbox_inches=\"tight\")"
   ]
  },
  {
   "cell_type": "code",
   "execution_count": null,
   "id": "3d08de03-b655-47d5-8f9f-daf82bb287a1",
   "metadata": {
    "tags": []
   },
   "outputs": [],
   "source": [
    "adata_T_cells = adata_imm[adata_imm.obs['subtype_merged_name'].isin(['αβT', 'γδT'])]\n",
    "adata_T_cells.obs['subtype-condition'] = adata_T_cells.obs['subtype_merged_name'].astype(str) + '-' + adata_T_cells.obs['condition'].astype(str)"
   ]
  },
  {
   "cell_type": "code",
   "execution_count": null,
   "id": "f6c49351-f562-4be8-9ef0-d831290d4128",
   "metadata": {
    "tags": []
   },
   "outputs": [],
   "source": [
    "t_genes = ['Cd3g', 'Trac', 'Trbc2', 'Cd4', 'Cd8a', 'Foxp3', 'Il2ra', 'Il7r', 'Ctla4', 'Pdcd1', 'Tcf7', \n",
    "           'Tox', 'Havcr2', 'Tigit', 'Lag3', 'Gzmb', 'Tnfrsf18', 'Tnfrsf9', 'Tnfrsf4']"
   ]
  },
  {
   "cell_type": "code",
   "execution_count": null,
   "id": "28f4f651-13c8-4a0e-9fd5-0bc7b838a8ee",
   "metadata": {
    "tags": []
   },
   "outputs": [],
   "source": [
    "adata_sample = adata_T_cells[adata_T_cells.obs['subtype_merged_name'] == 'αβT']\n",
    "adata_sample = adata_sample[:, t_genes]\n",
    "\n",
    "\n",
    "\n",
    "X = adata_sample[:, ['Pdcd1', 'Tcf7']].X.toarray()\n",
    "X_1 = (X[:, 0] * X[:, 1]) + X[:, 0] + X[:, 1]\n",
    "\n",
    "idx_order = X_1.argsort()[::-1]\n",
    "idx_order = [i for i in idx_order if i in np.argwhere((X[:, 0] > 0) & (X[:, 1] > 0)).ravel()] + \\\n",
    "            [i for i in idx_order if i in np.argwhere((X[:, 0] > 0) & (X[:, 1] == 0)).ravel()] + \\\n",
    "            [i for i in idx_order if i in np.argwhere((X[:, 0] == 0) & (X[:, 1] > 0)).ravel()] + \\\n",
    "            [i for i in idx_order if i in np.argwhere((X[:, 0] == 0) & (X[:, 1] == 0)).ravel()] \n",
    "\n",
    "\n",
    "idx_cells = adata_sample.obs_names[idx_order]\n",
    "\n",
    "adata_sample = adata_sample[idx_cells]\n",
    "\n",
    "KO_WT_idx = list(adata_sample[adata_sample.obs['condition'] == 'KO'].obs_names) + list(adata_sample[adata_sample.obs['condition'] == 'WT'].obs_names)\n",
    "\n",
    "adata_sample = adata_sample[KO_WT_idx]"
   ]
  },
  {
   "cell_type": "code",
   "execution_count": null,
   "id": "5a3f25d8-2b80-46c9-a585-1c8f64bcb261",
   "metadata": {
    "tags": []
   },
   "outputs": [],
   "source": [
    "sc.pl.heatmap(adata_sample, var_names=t_genes, groupby='subtype-condition', use_raw=False, swap_axes=True, show=False)\n",
    "\n",
    "plt.savefig(f'results/figures/F3/heatmap_T_markers_{date.today().strftime(\"%Y_%m_%d\")}.jpg', dpi=300, bbox_inches=\"tight\")\n",
    "plt.savefig(f'results/figures/F3/Fig3B.jpg', dpi=300, bbox_inches=\"tight\")"
   ]
  },
  {
   "cell_type": "code",
   "execution_count": null,
   "id": "cc95a62c-1df2-41c1-be62-31111940dc63",
   "metadata": {
    "tags": []
   },
   "outputs": [],
   "source": [
    "sc.pl.matrixplot(adata_sample, var_names=t_genes, groupby='subtype-condition', use_raw=False, show=False)\n",
    "\n",
    "plt.savefig(f'results/figures/F3/matrixplot_T_markers_{date.today().strftime(\"%Y_%m_%d\")}.jpg', dpi=300, bbox_inches=\"tight\")"
   ]
  },
  {
   "cell_type": "markdown",
   "id": "bf85185b-8ec8-4a1b-a633-281abb93e35c",
   "metadata": {},
   "source": [
    "### Analysis os KO vs WT in ab and gd T cells"
   ]
  },
  {
   "cell_type": "code",
   "execution_count": null,
   "id": "810e9bc8-f262-4be3-af7c-79c2c57abcc1",
   "metadata": {
    "tags": []
   },
   "outputs": [],
   "source": [
    "sc.tl.rank_genes_groups(adata_T_cells, groupby='subtype-condition', groups=['γδT-KO'], \n",
    "                       reference='γδT-WT')"
   ]
  },
  {
   "cell_type": "code",
   "execution_count": null,
   "id": "0e4ff32a-40b2-4a9e-876c-a186940860c7",
   "metadata": {
    "scrolled": true,
    "tags": []
   },
   "outputs": [],
   "source": [
    "for gene in adata_T_cells.uns['rank_genes_groups']['names']['γδT-KO'][:80]:\n",
    "    sc.pl.umap(adata_T_cells[adata_T_cells.obs['condition'] == 'WT'], \n",
    "               color=['subtype-condition', gene], cmap=magma, use_raw=False, ncols=4)\n",
    "    sc.pl.umap(adata_T_cells[adata_T_cells.obs['condition'] == 'KO'], \n",
    "               color=['subtype-condition', gene], cmap=magma, use_raw=False, ncols=4)"
   ]
  },
  {
   "cell_type": "code",
   "execution_count": null,
   "id": "7ae5f37f-edf6-4234-b924-0e8d9db9bd0d",
   "metadata": {
    "tags": []
   },
   "outputs": [],
   "source": [
    "genesgd = ['Aldoa', 'Tpi1', 'Eno1', 'Ldha', 'Mif', 'Pgk1', 'Gpi1', 'Itm2c', 'Pgam1', 'Col7a1', \n",
    "           'Ypel3', 'Pde7a', 'Usp48', 'Bin1', 'Ssbp2', 'Cflar', 'Slfn2']\n",
    "\n",
    "sc.pl.matrixplot(adata_T_cells, var_names=genesgd, groupby='subtype-condition', use_raw=False, show=False)\n",
    "plt.savefig(f'results/figures/F3/matrixplot_DEG_gdT_markers_{date.today().strftime(\"%Y_%m_%d\")}.jpg', dpi=300, bbox_inches=\"tight\")\n",
    "sc.pl.heatmap(adata_T_cells, var_names=genesgd, groupby='subtype-condition', use_raw=False, swap_axes=True, show=False)\n",
    "plt.savefig(f'results/figures/F3/heatmap_DEG_gdT_markers_{date.today().strftime(\"%Y_%m_%d\")}.jpg', dpi=300, bbox_inches=\"tight\")\n"
   ]
  },
  {
   "cell_type": "code",
   "execution_count": null,
   "id": "60fc471b-43b5-4bd9-b675-43bac6aeae4b",
   "metadata": {
    "tags": []
   },
   "outputs": [],
   "source": [
    "sc.tl.rank_genes_groups(adata_T_cells, groupby='subtype-condition', groups=['αβT-KO'], \n",
    "                       reference='αβT-WT')"
   ]
  },
  {
   "cell_type": "code",
   "execution_count": null,
   "id": "4e667234-9f14-4823-8147-1ee0037823e5",
   "metadata": {
    "scrolled": true,
    "tags": []
   },
   "outputs": [],
   "source": [
    "for gene in adata_T_cells.uns['rank_genes_groups']['names']['αβT-KO'][:80]:\n",
    "    sc.pl.umap(adata_T_cells[adata_T_cells.obs['condition'] == 'WT'], \n",
    "               color=['subtype-condition', gene], cmap=magma, use_raw=False, ncols=4)\n",
    "    sc.pl.umap(adata_T_cells[adata_T_cells.obs['condition'] == 'KO'], \n",
    "               color=['subtype-condition', gene], cmap=magma, use_raw=False, ncols=4)"
   ]
  },
  {
   "cell_type": "code",
   "execution_count": null,
   "id": "3d500bf8-26b5-4116-ad78-c0d72c10c1b5",
   "metadata": {
    "tags": []
   },
   "outputs": [],
   "source": [
    "genesab = ['Aldoa', 'Gpi1', 'Eno1', 'Pgk1', 'Ly6e', 'Tnfrsf9', 'Tpi1', 'Il7r', \n",
    "            'Sdf4', 'Shisa5', 'Gmfg', 'Sept1', 'Hif1a', 'Col7a1', 'Tet2', \n",
    "            'Stk26', 'Scamp3', 'Trabd', 'Apobec3', 'Vma21', ]\n",
    "\n",
    "sc.pl.matrixplot(adata_T_cells, var_names=genesab, groupby='subtype-condition', use_raw=False, show=False)\n",
    "plt.savefig(f'results/figures/F3/matrixplot_DEG_abT_markers_{date.today().strftime(\"%Y_%m_%d\")}.jpg', dpi=300, bbox_inches=\"tight\")\n",
    "sc.pl.heatmap(adata_T_cells, var_names=genesab, groupby='subtype-condition', use_raw=False, swap_axes=True, show=False)\n",
    "plt.savefig(f'results/figures/F3/heatmap_DEG_abT_markers_{date.today().strftime(\"%Y_%m_%d\")}.jpg', dpi=300, bbox_inches=\"tight\")\n"
   ]
  },
  {
   "cell_type": "markdown",
   "id": "ea94ad38-8f4f-42d2-8449-840426d0f7fd",
   "metadata": {},
   "source": [
    "##### Analysis of ab T cells"
   ]
  },
  {
   "cell_type": "code",
   "execution_count": null,
   "id": "4eaa1416-72ae-4ab3-aada-56b6d654018a",
   "metadata": {
    "tags": []
   },
   "outputs": [],
   "source": [
    "adata_T_cells.obs['subtype_name'] == 'αβT'"
   ]
  },
  {
   "cell_type": "code",
   "execution_count": null,
   "id": "e1e3bdc5-41bf-4c87-914d-0d545143054f",
   "metadata": {
    "tags": []
   },
   "outputs": [],
   "source": [
    "[i for i in adata_T_cells.var_names if 'Havcr' in i]"
   ]
  },
  {
   "cell_type": "code",
   "execution_count": null,
   "id": "5668ca54-1355-47b1-b4f0-f52f8e29322a",
   "metadata": {
    "tags": []
   },
   "outputs": [],
   "source": [
    "ab_t_genes = ['Cd3g', 'Trac', 'Trbc2', 'Cd4', 'Cd8a', 'Foxp3', 'Il2ra', 'Il7r', \n",
    "              'Pdcd1', 'Tcf7', 'Slamf6', 'Tox', 'Nfatc2', 'Nr4a1', 'Ctla4', \n",
    "              'Havcr2', 'Havcr1', 'Tigit', 'Lag3', 'Gzmb', 'Tnfrsf18', 'Tnfrsf9', 'Tnfrsf4', ]\n",
    "\n",
    "#Havcr4 is not -> add Havcr1 and Havcr2\n",
    "sc.pl.heatmap(adata_T_cells[adata_T_cells.obs['subtype_name'] == 'αβT'], \n",
    "              var_names=ab_t_genes, groupby='subtype-condition', use_raw=False, swap_axes=True, show=False)\n",
    "\n",
    "plt.savefig(f'results/figures/F3/heatmap_abT_markers_{date.today().strftime(\"%Y_%m_%d\")}.jpg', dpi=300, bbox_inches=\"tight\")"
   ]
  },
  {
   "cell_type": "code",
   "execution_count": null,
   "id": "67419253-1a62-4d5e-84e8-b3d49fa380a5",
   "metadata": {
    "tags": []
   },
   "outputs": [],
   "source": [
    "sc.pl.matrixplot(adata_T_cells[adata_T_cells.obs['subtype_name'] == 'αβT'], \n",
    "                 var_names=ab_t_genes, groupby='subtype-condition', use_raw=False, show=False)\n",
    "\n",
    "plt.savefig(f'results/figures/F3/matrixplot_abT_markers_{date.today().strftime(\"%Y_%m_%d\")}.jpg', dpi=300, bbox_inches=\"tight\")"
   ]
  },
  {
   "cell_type": "markdown",
   "id": "cf416eb3-e3d6-4178-a3b2-7acec4f423c7",
   "metadata": {},
   "source": [
    "### Analysis of KO vs WT in Neutrophils cells"
   ]
  },
  {
   "cell_type": "code",
   "execution_count": null,
   "id": "20ab4707-9ff5-494e-82ee-eca8d4bc4a69",
   "metadata": {
    "tags": []
   },
   "outputs": [],
   "source": [
    "adata_neu = adata_imm[adata_imm.obs['subtype_merged_name'] == 'Neu']"
   ]
  },
  {
   "cell_type": "code",
   "execution_count": null,
   "id": "58f778a4-d86b-43e3-9632-f2d98b52a473",
   "metadata": {
    "tags": []
   },
   "outputs": [],
   "source": [
    "sc.tl.rank_genes_groups(adata_neu, groupby='subtype_name', groups=['Act. Neu'], \n",
    "                       reference='Neu')"
   ]
  },
  {
   "cell_type": "code",
   "execution_count": null,
   "id": "5506a438-26ee-4ad7-8bb3-ad4131583e5a",
   "metadata": {
    "scrolled": true,
    "tags": []
   },
   "outputs": [],
   "source": [
    "for gene in adata_neu.uns['rank_genes_groups']['names']['Act. Neu'][:80]:\n",
    "    sc.pl.umap(adata_neu[adata_neu.obs['condition'] == 'WT'], \n",
    "               color=['subtype_name', gene], cmap=magma, use_raw=False, ncols=4)\n",
    "    sc.pl.umap(adata_neu[adata_neu.obs['condition'] == 'KO'], \n",
    "               color=['subtype_name', gene], cmap=magma, use_raw=False, ncols=4)"
   ]
  },
  {
   "cell_type": "code",
   "execution_count": null,
   "id": "2ac5fbb5-7cc8-42b1-846f-5759374ad4a5",
   "metadata": {
    "tags": []
   },
   "outputs": [],
   "source": [
    "genes_neu = ['Ccl3', 'Cxcl2', 'Ier3', 'Nfkbia', 'Hilpda', \n",
    "             'Cxcl3', 'Junb', 'Hcar2', 'Gadd45b', 'Ccl4', 'Slpi', 'Clec4d', 'Csta3', \n",
    "             'Il1rn', 'Ccrl2', 'Ptgs2', 'Dusp1', 'Il1b', 'Pim1', 'Pnrc1', \n",
    "             'Ifrd1', 'Smox', 'Clec4e', 'Zeb2', 'Ankrd33b', \n",
    "             'Nlrp3', 'Basp1', 'Ninj1', 'Card19', 'Slc15a3', 'Cd274',  \n",
    "             'Bcl2a1a', 'Bcl2a1b', 'Acod1', 'Pik3ap1', \n",
    "             'Btg1', 'Il1a', 'Ppp1r15a', 'Irak2', \n",
    "             'F3', 'Il1f9', 'Tnfaip3', 'Tgif1', 'Marcksl1'] "
   ]
  },
  {
   "cell_type": "code",
   "execution_count": null,
   "id": "626c0e50-ad6c-4273-ba60-4bfcf20556e8",
   "metadata": {
    "tags": []
   },
   "outputs": [],
   "source": [
    "adata_sample = adata_neu\n",
    "adata_sample = adata_sample[:, genes_neu]\n",
    "\n",
    "\n",
    "idx_cells = adata_sample.obs[['subtype_name', 'condition']].sort_values(by=['subtype_name', 'condition']).index\n",
    "\n",
    "adata_sample = adata_sample[idx_cells]\n",
    "\n",
    "adata_X = adata_sample.X.toarray()\n",
    "adata_X[adata_X > 3] = 3"
   ]
  },
  {
   "cell_type": "code",
   "execution_count": null,
   "id": "ed26cd69-70df-4b47-8827-3db49f59a699",
   "metadata": {
    "tags": []
   },
   "outputs": [],
   "source": [
    "sc.pl.matrixplot(adata_sample, var_names=genes_neu, groupby='subtype_name', \n",
    "                 use_raw=False, show=False, vmax=3)\n",
    "plt.savefig(f'results/figures/F3/matrixplot_DEG_neu_markers_{date.today().strftime(\"%Y_%m_%d\")}.jpg', dpi=300, bbox_inches=\"tight\")\n",
    "\n",
    "fig = plt.figure(figsize=(6, 8))\n",
    "N = 30\n",
    "axht = fig.add_subplot(N, 1, (3, N-2))\n",
    "axwt = fig.add_subplot(N, 1, N-1, sharex=axht)\n",
    "axcell = fig.add_subplot(N, 1, N, sharex=axht)\n",
    "\n",
    "sns.heatmap(pd.factorize(adata_sample.obs['condition'].values)[0].reshape(1, len(adata_sample)), \n",
    "            ax=axwt, cbar=False, cmap=[dict_WT_KO_colors['KO1'], dict_WT_KO_colors['WT1']], \n",
    "            yticklabels=False, xticklabels=False)\n",
    "sns.heatmap(pd.factorize(adata_sample.obs['subtype_name'].values)[0].reshape(1, len(adata_sample)), \n",
    "            ax=axcell, cbar=False, cmap=[dict_imm_colors['2: Act. Neu'], dict_imm_colors['3: Neu']], \n",
    "            yticklabels=False, xticklabels=False)\n",
    "sns.heatmap(adata_X.transpose(), ax=axht, cmap='viridis', cbar=False, yticklabels=True, \n",
    "            xticklabels=False)\n",
    "\n",
    "# axht.set_xticklabels(adata_sample.obs_names)\n",
    "axht.set_yticklabels(adata_sample.var_names, size=8)\n",
    "\n",
    "axcell.legend(handles=[mpatches.Patch(color=dict_WT_KO_colors['KO1'], label='KO'), \n",
    "                       mpatches.Patch(color=dict_WT_KO_colors['WT1'], label='WT'), \n",
    "                       mpatches.Patch(color=dict_imm_colors['2: Act. Neu'], label='Act. Neu'), \n",
    "                       mpatches.Patch(color=dict_imm_colors['3: Neu'], label='Neu')], \n",
    "               frameon=False, bbox_to_anchor=(0.95, -0.1), ncol=4, fontsize='medium')\n",
    "\n",
    "plt.savefig(f'results/figures/F3/heatmap_DEG_neu_markers_{date.today().strftime(\"%Y_%m_%d\")}.jpg', dpi=300, bbox_inches=\"tight\")"
   ]
  },
  {
   "cell_type": "markdown",
   "id": "26de1092-5aef-4d27-ab3b-adad3f0266cf",
   "metadata": {},
   "source": [
    "### Analysis os KO vs WT in Langerhans cells"
   ]
  },
  {
   "cell_type": "code",
   "execution_count": null,
   "id": "f8dd612b-1f77-47cd-8173-46c76d6e2a5a",
   "metadata": {
    "tags": []
   },
   "outputs": [],
   "source": [
    "adata_LC = adata_imm[adata_imm.obs['subtype_merged_name'] == 'LC']"
   ]
  },
  {
   "cell_type": "code",
   "execution_count": null,
   "id": "264454b0-d74d-4068-a70c-c90647e61ed6",
   "metadata": {
    "tags": []
   },
   "outputs": [],
   "source": [
    "sc.tl.rank_genes_groups(adata_LC, groupby='subtype_name', groups=['CCR7$^+$ LC'], \n",
    "                       reference='LC')"
   ]
  },
  {
   "cell_type": "code",
   "execution_count": null,
   "id": "1561f75d-ef90-4477-97b0-0d2ce102d286",
   "metadata": {
    "scrolled": true,
    "tags": []
   },
   "outputs": [],
   "source": [
    "for gene in adata_LC.uns['rank_genes_groups']['names']['CCR7$^+$ LC'][:80]:\n",
    "    sc.pl.umap(adata_LC[adata_LC.obs['condition'] == 'WT'], \n",
    "               color=['subtype_name', gene], cmap=magma, use_raw=False, ncols=4)\n",
    "    sc.pl.umap(adata_LC[adata_LC.obs['condition'] == 'KO'], \n",
    "               color=['subtype_name', gene], cmap=magma, use_raw=False, ncols=4)"
   ]
  },
  {
   "cell_type": "code",
   "execution_count": null,
   "id": "f5abb87c-159f-4f17-b539-a7a7dc0cd616",
   "metadata": {
    "tags": []
   },
   "outputs": [],
   "source": [
    "genes_LC = ['Actg1', 'Ccr7', 'Bcl2a1b', 'Myl6', 'Crip1', \n",
    "            'Samsn1',  'Gng5', 'Il4i1', 'Tspo', 'Psmb8', 'Arpc2', 'Abracl', 'Fscn1',     \n",
    "            'Bcl2a1a', 'Bcl2a1d', 'Arhgdia', 'Coro1a', 'Ostf1',    \n",
    "            'Plxnd1', 'Selplg',  \n",
    "            'Cacnb3', 'Wdr1', 'Iscu', 'Cd200', 'Jak2', 'Psme2', 'Ramp3', \n",
    "            'Tmem123', 'Necap2', 'Sri', 'Wnk1', 'Sin3b', 'Tpm4', 'Myo1g', 'Stk4', 'Serpinb9b', 'Sept9', \n",
    "            'St8sia4', 'Cyfip1', 'Psme1', 'Rassf2', 'Ppdpf'\n",
    "             ]"
   ]
  },
  {
   "cell_type": "code",
   "execution_count": null,
   "id": "66617afc-eb97-4e1e-820e-a52fd135efac",
   "metadata": {
    "tags": []
   },
   "outputs": [],
   "source": [
    "adata_sample = adata_LC\n",
    "adata_sample = adata_sample[:, genes_LC]\n",
    "\n",
    "\n",
    "idx_cells = adata_sample.obs[['subtype_name', 'condition']].sort_values(by=['subtype_name', 'condition']).index\n",
    "\n",
    "adata_sample = adata_sample[idx_cells]\n",
    "\n",
    "adata_X = adata_sample.X.toarray()\n",
    "adata_X[adata_X > 3] = 3"
   ]
  },
  {
   "cell_type": "code",
   "execution_count": null,
   "id": "d0e13c03-5cea-4cd0-9ab1-00477068fd4a",
   "metadata": {
    "tags": []
   },
   "outputs": [],
   "source": [
    "sc.pl.matrixplot(adata_sample, var_names=genes_LC, groupby='subtype_name', \n",
    "                 use_raw=False, show=False, vmax=3)\n",
    "plt.savefig(f'results/figures/F3/matrixplot_DEG_LC_markers_{date.today().strftime(\"%Y_%m_%d\")}.jpg', dpi=300, bbox_inches=\"tight\")\n",
    "\n",
    "fig = plt.figure(figsize=(6, 8))\n",
    "N = 30\n",
    "axht = fig.add_subplot(N, 1, (3, N-2))\n",
    "axwt = fig.add_subplot(N, 1, N-1, sharex=axht)\n",
    "axcell = fig.add_subplot(N, 1, N, sharex=axht)\n",
    "\n",
    "sns.heatmap(pd.factorize(adata_sample.obs['condition'].values)[0].reshape(1, len(adata_sample)), \n",
    "            ax=axwt, cbar=False, cmap=[dict_WT_KO_colors['KO1'], dict_WT_KO_colors['WT1']], \n",
    "            yticklabels=False, xticklabels=False)\n",
    "sns.heatmap(pd.factorize(adata_sample.obs['subtype_name'].values)[0].reshape(1, len(adata_sample)), \n",
    "            ax=axcell, cbar=False, cmap=[dict_imm_colors['4: CCR7$^+$ LC'], dict_imm_colors['5: LC']], \n",
    "            yticklabels=False, xticklabels=False)\n",
    "sns.heatmap(adata_X.transpose(), ax=axht, cmap='viridis', cbar=False, yticklabels=True, \n",
    "            xticklabels=False)\n",
    "\n",
    "# axht.set_xticklabels(adata_sample.obs_names)\n",
    "axht.set_yticklabels(adata_sample.var_names, size=8)\n",
    "\n",
    "axcell.legend(handles=[mpatches.Patch(color=dict_WT_KO_colors['KO1'], label='KO'), \n",
    "                       mpatches.Patch(color=dict_WT_KO_colors['WT1'], label='WT'), \n",
    "                       mpatches.Patch(color=dict_imm_colors['4: CCR7$^+$ LC'], label='CCR7$^+$ LC'), \n",
    "                       mpatches.Patch(color=dict_imm_colors['5: LC'], label='LC')], \n",
    "               frameon=False, bbox_to_anchor=(0.95, -0.1), ncol=4, fontsize='medium')\n",
    "\n",
    "plt.savefig(f'results/figures/F3/heatmap_DEG_LC_markers_{date.today().strftime(\"%Y_%m_%d\")}.jpg', dpi=300, bbox_inches=\"tight\")"
   ]
  },
  {
   "cell_type": "code",
   "execution_count": null,
   "id": "ea19fa1c-2bb6-49ef-8697-1a6e6dd8afcb",
   "metadata": {},
   "outputs": [],
   "source": []
  }
 ],
 "metadata": {
  "kernelspec": {
   "display_name": "Python [conda env:alex-base] *",
   "language": "python",
   "name": "conda-env-alex-base-py"
  },
  "language_info": {
   "codemirror_mode": {
    "name": "ipython",
    "version": 3
   },
   "file_extension": ".py",
   "mimetype": "text/x-python",
   "name": "python",
   "nbconvert_exporter": "python",
   "pygments_lexer": "ipython3",
   "version": "3.8.0"
  }
 },
 "nbformat": 4,
 "nbformat_minor": 5
}
