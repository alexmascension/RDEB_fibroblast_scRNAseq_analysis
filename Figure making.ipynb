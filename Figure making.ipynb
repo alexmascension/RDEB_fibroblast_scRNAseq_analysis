{
 "cells": [
  {
   "cell_type": "markdown",
   "id": "aa781ea4-1ef8-4bd8-b09d-1e513ed2c212",
   "metadata": {},
   "source": [
    "# Figures for YanLing"
   ]
  },
  {
   "cell_type": "code",
   "execution_count": null,
   "id": "beec4b87-e7ae-42fb-a135-12bb7617dfea",
   "metadata": {},
   "outputs": [],
   "source": [
    "from cellassign import assign_cats\n",
    "import gzip\n",
    "import itertools as itl\n",
    "import matplotlib.pyplot as plt\n",
    "import matplotlib as mpl\n",
    "import numpy as np\n",
    "import os\n",
    "import pandas as pd\n",
    "import scanpy as sc\n",
    "import scanpy.external as sce\n",
    "import seaborn as sns\n",
    "import triku as tk"
   ]
  },
  {
   "cell_type": "code",
   "execution_count": null,
   "id": "965d7745-46a9-480c-9c08-4f0630f09114",
   "metadata": {},
   "outputs": [],
   "source": [
    "# Palettes for UMAP gene expression\n",
    "\n",
    "magma = [plt.get_cmap('magma')(i) for i in np.linspace(0,1, 80)]\n",
    "magma[0] = (0.88, 0.88, 0.88, 1)\n",
    "magma = mpl.colors.LinearSegmentedColormap.from_list(\"\", magma[:65])"
   ]
  },
  {
   "cell_type": "code",
   "execution_count": null,
   "id": "3b5fc60d-a00c-4a00-ab55-829a8c481c3b",
   "metadata": {},
   "outputs": [],
   "source": [
    "mpl.rcParams['figure.dpi'] = 250"
   ]
  },
  {
   "cell_type": "code",
   "execution_count": null,
   "id": "62ac5239-3a50-4621-93a3-17871609a4ee",
   "metadata": {},
   "outputs": [],
   "source": []
  },
  {
   "cell_type": "code",
   "execution_count": null,
   "id": "ff8bb1c6-4393-4da5-b6d5-908a9fa8b02a",
   "metadata": {},
   "outputs": [],
   "source": []
  },
  {
   "cell_type": "code",
   "execution_count": null,
   "id": "05d32e57-73e5-4ee6-a910-d6cd80a5658d",
   "metadata": {},
   "outputs": [],
   "source": [
    "adata_all_harmony = sc.read_h5ad('adatas/adata_all_harmony.h5')"
   ]
  },
  {
   "cell_type": "markdown",
   "id": "61e3d09c-3eea-4edf-b8f6-0596deabcd8b",
   "metadata": {},
   "source": [
    "## Figure of main populations"
   ]
  },
  {
   "cell_type": "code",
   "execution_count": null,
   "id": "188081e6-3e0c-4dc7-a91e-ceb80bd3086f",
   "metadata": {},
   "outputs": [],
   "source": [
    "# Join al subpopulations into one\n",
    "major_merged_types = ['Fibroblast', 'Keratinocyte', 'Neutrophil', 'Perivascular cell', 'T cell']"
   ]
  },
  {
   "cell_type": "code",
   "execution_count": null,
   "id": "4ded0614-8f4a-41f1-9f3e-ff18bca06c15",
   "metadata": {},
   "outputs": [],
   "source": [
    "merged_cell_types = adata_all_harmony.obs['cell_type_whole'].astype(str)\n",
    "\n",
    "for mct in major_merged_types:\n",
    "    mask = [mct in i for i in adata_all_harmony.obs['cell_type_whole']]\n",
    "    merged_cell_types[mask] = mct\n",
    "\n",
    "merged_cell_types[['Acan' in i for i in adata_all_harmony.obs['cell_type_whole']]] = 'Fibroblast $Acan^+$' \n",
    "\n",
    "merged_cell_types[[('B cell' in i) or ('T cell' in i) or ('NK cell' in i) or ('Plasma cell' in i) for i in adata_all_harmony.obs['cell_type_whole']]] = 'Lymphoid' \n",
    "merged_cell_types[[(('Fibroblast' in i) and ('Acan' not in i)) or ('Skeletal' in i) for i in adata_all_harmony.obs['cell_type_whole']]] = 'Fibroblast' \n",
    "merged_cell_types[[('Monocyte' in i) or ('Dendritic' in i) or ('Macrophage' in i) for i in adata_all_harmony.obs['cell_type_whole']]] = 'APC' \n",
    "\n",
    "\n",
    "\n",
    "adata_all_harmony.obs['merged_cell_type'] = merged_cell_types\n",
    "\n",
    "dict_cell_types_colors = {'Fibroblast $Acan^+$': '#d38d5f', \n",
    "                          'Neutrophil': '#5599ff',\n",
    "                          \n",
    "                          'Fibroblast': '#a05a2c',\n",
    "                          'APC': '#87decd',\n",
    "                          \n",
    "                          'Perivascular cell': '#ff9955',\n",
    "                          'Langerhans cell': '#87d283',\n",
    "                          \n",
    "                          'Keratinocyte': '#338000',\n",
    "                          'Lymphoid': '#5f5fd3',\n",
    "                          \n",
    "                          'Endothelial': '#d40055',\n",
    "                          'Schwann cell': '#d3bc5f',\n",
    "                          \n",
    "                          'Lymphatic': '#ff5599',\n",
    "                          'Mast cell': '#442178',\n",
    "                          \n",
    "                          'Red blood cell': '#800033',\n",
    "                    }\n",
    "\n",
    "\n",
    "adata_all_harmony.obs['merged_cell_type'] = adata_all_harmony.obs['merged_cell_type'].astype('category')\n",
    "adata_all_harmony.uns['merged_cell_type_colors'] = [dict_cell_types_colors[i] for i in adata_all_harmony.obs['merged_cell_type'].cat.categories]"
   ]
  },
  {
   "cell_type": "code",
   "execution_count": null,
   "id": "a4b5c3a6-b065-43cb-b228-d71b023007ce",
   "metadata": {},
   "outputs": [],
   "source": [
    "sc.pl.umap(adata_all_harmony, color='merged_cell_type')"
   ]
  },
  {
   "cell_type": "code",
   "execution_count": null,
   "id": "9c25d43d-7a13-4eb5-9ec2-71c2fc9fefa1",
   "metadata": {},
   "outputs": [],
   "source": [
    "fig, axs = plt.subplots(2, 2, figsize=(12, 8))\n",
    "s = 8\n",
    "plt.tight_layout()\n",
    "sc.pl.umap(adata_all_harmony[adata_all_harmony.obs['batch'] == 'KOD11'], color='merged_cell_type', s=s, ax = axs[0, 0], legend_loc=False, title='KOD11', frameon=False, show=False)\n",
    "sc.pl.umap(adata_all_harmony[adata_all_harmony.obs['batch'] == 'KOD12'], color='merged_cell_type', s=s, ax = axs[0, 1], legend_loc=False, title='KOD12', frameon=False, show=False)\n",
    "\n",
    "sc.pl.umap(adata_all_harmony[adata_all_harmony.obs['batch'] == 'WT1'], color='merged_cell_type', s=s, ax = axs[1, 0], legend_loc=False, title='WT1', frameon=False, show=False)\n",
    "sc.pl.umap(adata_all_harmony[adata_all_harmony.obs['batch'] == 'WT2'], color='merged_cell_type', s=s, ax = axs[1, 1], legend_loc=False, title='WT2', frameon=False,  show=False)\n",
    "\n",
    "plt.subplots_adjust(wspace=0.025, hspace=0.1)\n",
    "\n",
    "fig2, ax = plt.subplots(1, 1)\n",
    "plt.axis('off')\n",
    "legend_elements = [mpl.lines.Line2D([0], [0], marker='o', color=(1, 1, 1, 1), label=name_i, markerfacecolor=color_i, markersize=15) for name_i, color_i in dict_cell_types_colors.items()]\n",
    "ax.legend(handles=legend_elements, loc='upper left', ncol=7, frameon=False, fontsize=25)\n",
    "\n",
    "plt.show()"
   ]
  }
 ],
 "metadata": {
  "kernelspec": {
   "display_name": "Python [conda env:alex-base] *",
   "language": "python",
   "name": "conda-env-alex-base-py"
  },
  "language_info": {
   "codemirror_mode": {
    "name": "ipython",
    "version": 3
   },
   "file_extension": ".py",
   "mimetype": "text/x-python",
   "name": "python",
   "nbconvert_exporter": "python",
   "pygments_lexer": "ipython3",
   "version": "3.8.0"
  }
 },
 "nbformat": 4,
 "nbformat_minor": 5
}
