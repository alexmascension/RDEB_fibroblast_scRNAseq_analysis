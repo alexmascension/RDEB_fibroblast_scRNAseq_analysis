{
 "cells": [
  {
   "cell_type": "markdown",
   "id": "aa781ea4-1ef8-4bd8-b09d-1e513ed2c212",
   "metadata": {},
   "source": [
    "# Figures for YanLing"
   ]
  },
  {
   "cell_type": "code",
   "execution_count": null,
   "id": "beec4b87-e7ae-42fb-a135-12bb7617dfea",
   "metadata": {
    "tags": []
   },
   "outputs": [],
   "source": [
    "from cellassign import assign_cats\n",
    "import gzip\n",
    "import itertools as itl\n",
    "import matplotlib.pyplot as plt\n",
    "import matplotlib as mpl\n",
    "import numpy as np\n",
    "import os\n",
    "import pandas as pd\n",
    "import scanpy as sc\n",
    "import scanpy.external as sce\n",
    "import seaborn as sns\n",
    "import triku as tk\n",
    "import itertools"
   ]
  },
  {
   "cell_type": "code",
   "execution_count": null,
   "id": "d42c465d-e373-4ca7-b67e-94d0ffe388b8",
   "metadata": {
    "tags": []
   },
   "outputs": [],
   "source": [
    "from datetime import date\n",
    "\n",
    "today = date.today()\n",
    "today = today.strftime(\"%Y_%m_%d\")"
   ]
  },
  {
   "cell_type": "code",
   "execution_count": null,
   "id": "965d7745-46a9-480c-9c08-4f0630f09114",
   "metadata": {
    "tags": []
   },
   "outputs": [],
   "source": [
    "# Palettes for UMAP gene expression\n",
    "\n",
    "magma = [plt.get_cmap('magma')(i) for i in np.linspace(0,1, 80)]\n",
    "magma[0] = (0.88, 0.88, 0.88, 1)\n",
    "magma = mpl.colors.LinearSegmentedColormap.from_list(\"\", magma[:65])"
   ]
  },
  {
   "cell_type": "code",
   "execution_count": null,
   "id": "3b5fc60d-a00c-4a00-ab55-829a8c481c3b",
   "metadata": {
    "tags": []
   },
   "outputs": [],
   "source": [
    "mpl.rcParams['figure.dpi'] = 200\n",
    "\n",
    "pd.set_option('display.max_columns', None)"
   ]
  },
  {
   "cell_type": "code",
   "execution_count": null,
   "id": "ff8bb1c6-4393-4da5-b6d5-908a9fa8b02a",
   "metadata": {},
   "outputs": [],
   "source": []
  },
  {
   "cell_type": "code",
   "execution_count": null,
   "id": "05d32e57-73e5-4ee6-a910-d6cd80a5658d",
   "metadata": {
    "tags": []
   },
   "outputs": [],
   "source": [
    "adata_all_harmony = sc.read_h5ad('adatas/adata_all_harmony.h5')\n",
    "sc.tl.umap(adata_all_harmony, min_dist=0.4)"
   ]
  },
  {
   "cell_type": "markdown",
   "id": "61e3d09c-3eea-4edf-b8f6-0596deabcd8b",
   "metadata": {},
   "source": [
    "## Figure of main populations in 4 panels"
   ]
  },
  {
   "cell_type": "code",
   "execution_count": null,
   "id": "188081e6-3e0c-4dc7-a91e-ceb80bd3086f",
   "metadata": {
    "tags": []
   },
   "outputs": [],
   "source": [
    "# Join al subpopulations into one\n",
    "major_merged_types = ['Fibroblast', 'Keratinocyte', 'Neutrophil', 'Perivascular cell', 'T cell']"
   ]
  },
  {
   "cell_type": "code",
   "execution_count": null,
   "id": "4ded0614-8f4a-41f1-9f3e-ff18bca06c15",
   "metadata": {
    "tags": []
   },
   "outputs": [],
   "source": [
    "merged_cell_types = adata_all_harmony.obs['cell_type_whole'].astype(str)\n",
    "\n",
    "for mct in major_merged_types:\n",
    "    mask = [mct in i for i in adata_all_harmony.obs['cell_type_whole']]\n",
    "    merged_cell_types[mask] = mct\n",
    "\n",
    "merged_cell_types[[('B cell' in i) or ('T cell' in i) or ('NK cell' in i) or ('Plasma cell' in i) for i in adata_all_harmony.obs['cell_type_whole']]] = 'Lymphoid' \n",
    "merged_cell_types[[('Fibroblast' in i) or ('Skeletal' in i) or ('Melanocyte' in i) for i in adata_all_harmony.obs['cell_type_whole']]] = 'Fibroblast' \n",
    "merged_cell_types[[('Schwann' in i) or ('Glial' in i) for i in adata_all_harmony.obs['cell_type_whole']]] = 'Schwann cell' \n",
    "\n",
    "\n",
    "adata_all_harmony.obs['merged_cell_type'] = merged_cell_types\n",
    "\n",
    "dict_cell_types_colors = {'Keratinocyte': '#308914',\n",
    "                          'Mast cell': '#4d0765',\n",
    "                          \n",
    "                          'Fibroblast': '#a05a2c',\n",
    "                          'Lymphoid': '#8e0c6f',\n",
    "                          \n",
    "                          'Endothelial': '#d40055',\n",
    "                          'Neutrophil': '#ae54b8',\n",
    "                          \n",
    "                          'Lymphatic': '#ff5599',\n",
    "                          'Monocyte': '#77dcf9',\n",
    "                          \n",
    "                          'Perivascular cell': '#ff9955',\n",
    "                          'Macrophage': '#47bcd1',\n",
    "                          \n",
    "                          'Schwann cell': '#d3bc5f',\n",
    "                          'Langerhans cell': '#002d72',\n",
    "                    }\n",
    "\n",
    "list_cell_types = list(dict_cell_types_colors.keys())[::2] + list(dict_cell_types_colors.keys())[1::2]\n",
    "\n",
    "adata_all_harmony.obs['merged_cell_type'] = adata_all_harmony.obs['merged_cell_type'].astype('category')\n",
    "adata_all_harmony.uns['merged_cell_type_colors'] = [dict_cell_types_colors[i] for i in adata_all_harmony.obs['merged_cell_type'].cat.categories]"
   ]
  },
  {
   "cell_type": "code",
   "execution_count": null,
   "id": "9c25d43d-7a13-4eb5-9ec2-71c2fc9fefa1",
   "metadata": {
    "tags": []
   },
   "outputs": [],
   "source": [
    "fig, axs = plt.subplots(2, 2, figsize=(12, 8))\n",
    "s = 10\n",
    "plt.tight_layout()\n",
    "sc.pl.umap(adata_all_harmony[adata_all_harmony.obs['batch'] == 'KOD11'], color='merged_cell_type', s=s, ax = axs[0, 0], legend_loc=False, title='KO11', frameon=False, show=False)\n",
    "sc.pl.umap(adata_all_harmony[adata_all_harmony.obs['batch'] == 'KOD12'], color='merged_cell_type', s=s, ax = axs[0, 1], legend_loc=False, title='KO12', frameon=False, show=False)\n",
    "\n",
    "sc.pl.umap(adata_all_harmony[adata_all_harmony.obs['batch'] == 'WT1'], color='merged_cell_type', s=s, ax = axs[1, 0], legend_loc=False, title='WT1', frameon=False, show=False)\n",
    "sc.pl.umap(adata_all_harmony[adata_all_harmony.obs['batch'] == 'WT2'], color='merged_cell_type', s=s, ax = axs[1, 1], legend_loc=False, title='WT2', frameon=False,  show=False)\n",
    "\n",
    "plt.subplots_adjust(wspace=0.025, hspace=0.1)\n",
    "plt.savefig(f'results/figures/makers_4_panels_{today}.png', dpi=300)\n",
    "\n",
    "\n",
    "fig2, ax = plt.subplots(1, 1, figsize=(25, 3))\n",
    "plt.axis('off')\n",
    "legend_elements = [mpl.lines.Line2D([0], [0], marker='o', color=(1, 1, 1, 1), label=name_i, markerfacecolor=color_i, markersize=25) for name_i, color_i in dict_cell_types_colors.items()]\n",
    "ax.legend(handles=legend_elements, loc='upper left', ncol=6, frameon=False, fontsize=25)\n",
    "plt.tight_layout()\n",
    "plt.savefig(f'results/figures/makers_4_panels_legend_{today}.png', dpi=300)\n",
    "plt.show()"
   ]
  },
  {
   "cell_type": "markdown",
   "id": "605218f3-eb72-473b-8c5b-9230099d22dd",
   "metadata": {},
   "source": [
    "### Main population markers"
   ]
  },
  {
   "cell_type": "code",
   "execution_count": null,
   "id": "de6a5425-f92b-4fc6-9728-1af4cb1f0b11",
   "metadata": {
    "tags": []
   },
   "outputs": [],
   "source": [
    "cell_markers = {'Keratinocyte': ['Lgals7', 'S100a14', 'Perp', 'Sfn', 'Dmkn', 'Dsp', 'Ly6d', 'Krt14', 'Dsc3', 'Krt5', 'Pkp3', 'Pkp1', 'Rab25', 'Apoc1', 'Aqp3', \n",
    "                                 'Tacstd2', 'Lypd3', 'Krtdap', 'Calm4', 'Krt15', 'Col17a1', 'Serpinb5', 'Fam25c', 'Dsg1a', 'Ckmt1', 'Urah', 'Esrp1', 'Capns2', \n",
    "                                 'Trp63', 'Sbsn', 'Dapl1', 'Fgfbp1', 'Krt80', 'Stard10', 'Tfap2a', 'Cldn4', 'Sytl1', 'Celsr2',], \n",
    "                'Fibroblast': ['Bgn', 'Sparc', 'Col6a1', 'Dcn', 'Col1a1', 'Col1a2', 'Mmp2', 'Serpinf1', 'Lum', 'Pcolce', 'Ccdc80', 'Mfap4', 'Mfap2', 'Plac9b', \n",
    "                               'Comp', 'Gpc3', 'Ikbip', 'Clec3b', 'Ecgr4', 'Thbs2', 'Igf2', 'Lox', 'Prrx2', 'Ntn1', 'Fkbp7', 'Cyp26b1', 'Apod', 'Lhfp', 'Srpx', \n",
    "                               'Cpq', 'Creb3l1', 'Cthrc1', 'P3h3', 'Crtap', 'Gpx7'], \n",
    "                'Endothelial': ['Pecam1', 'Cdh5', 'Arhgap29', 'Adgrf5', 'Emcn', 'Egfl7', 'Rasip1', 'Plvap', 'Eng', 'Cd93', 'Gimap6', 'Fabp4', 'Mast4', 'Gng11', \n",
    "                                'Pdlim1', 'Ecscr', 'Ptprb', 'Cldn5', 'Tie1', 'Kitl', 'Depp1', 'Serpine1', 'S1pr1', 'Flt1', 'Neurl3', 'Adgrl4', 'Sox7', 'Aqp1', \n",
    "                                'Lrrc32', 'Upp1', 'Pdgfb', 'Robo4', 'Slfn5', 'Icam2', 'Parvb', 'Kdr', 'Podxl', 'Sox17', 'Erg', 'Mmrn2', 'Dll4', ], \n",
    "                'Lymphatic': ['Fgl2', 'Olfm1', 'Gdf15', 'Mmrn1', 'Prox1', 'Pard6g', 'Ccl21a', 'Lyve1', 'Reln', 'Dtx1', 'Tbx1', 'Sh3gl3', 'Flt4', 'Slc45a3', \n",
    "                              'Nts', 'Slc38a4', 'Klhl4', 'Pgm5', 'Flt4', 'Klhl4', 'Slc5a3', 'Pgm5', 'Sgk3', 'Fam189a2', 'Mical2', 'Tbc1d4', 'Clca3a1', 'Scn3a', 'Prkcz',\n",
    "                              'Cox19', 'Eif2b2', 'Stab1', 'Stmn2', 'Rnf141', 'Tec'], \n",
    "                'Perivascular cell': ['Igfbp7', 'Rgs5', 'Procr', 'Acta2', 'Ndufa4l2', 'Ptp4a3', 'Tagln', 'Aoc3', 'Myh11', 'Cox4l2', \n",
    "                                      'Mustn1', 'Apold1', 'Epas1', 'Esam', 'Pdgfrb', 'Myl9', 'Mcam', 'Rgs4', 'Ngf', 'Tinagl1', \n",
    "                                      'Ppp1r14a', 'Kcne4', 'Gja4', 'Ednrb', 'Gucy1b1', 'Carmn', 'Gucy1a1', 'Synpo2', 'Abcc9', 'Itga7', \n",
    "                                      'Notch3', 'Mylk', 'Actg2', 'Higd1b'],\n",
    "                'Schwann cell': ['Plp1', 'Egfl8', 'Kcna1', 'Mpz', 'Pmp22', 'Cadm4', 'Foxd3', 'Sema3b', 'Mal', 'Gatm', 'Mbp', 'Cnp', 'Limch1', \n",
    "                                 'Plekha4', 'Art3', 'Aatk', 'Gas2l3', 'Col28a1', 'Prx', 'Dmd', 'Plekhb1', 'Sox10', 'Utrn', 'Cldn19', 'Ncmap', \n",
    "                                 'Mag', 'Zfp536', 'Hspa12a', 'Mlip', 'Itgb8', 'Bcas1', 'Cd59a', 'Cmtm5', 'Pea15a', 'Snca', 'Gjc3', 'Fam178b', \n",
    "                                 'Ugt8a', 'Adam23', 'Drp2', 'Kcna2', 'Cadm1'], \n",
    "                'Lymphoid': ['Ctla2a', 'Rgs1', 'Cd3d', 'Cd3g', 'Trbc2', 'Ptprcap', 'Neurl3', 'Tnfrsf9', 'Trdv4', 'Trbc1', 'Klrk1', 'Cd3e', 'Cd2', 'Nkg7', 'Il2rg', \n",
    "                             'Cd7', 'Tcrg-C1', 'Itk', 'Ctsw', 'Il2rb', 'Ltb', 'Ptpn22', 'Satb1', 'Klrb1b', 'Klrd1', 'Sytl3', 'Lck', 'Sipa1l1', 'Grap2', 'Cd69', 'Camk4'],\n",
    "                'Neutrophil': ['Cstdc4', 'S100a8', 'Csta2', 'S100a9', 'Cstdc5', 'Stfa2l1', 'Wfdc21', 'G0s2', 'Hcar2', 'Csta3', 'Stfa3', 'Lyz2', 'Itgam', \n",
    "                               'Retnlg', 'Ngp', 'Pglyrp1', 'Clec4e', 'Camp', 'Hdc', 'C3', 'Cd300lf', 'Hp', 'F10', 'Trem3', 'Mcemp1', 'Chil1', 'Ltf', 'Slc2a3', \n",
    "                               'Asprv1', 'Sp140', 'Chil3', 'Msra', 'Cstdc6',],\n",
    "                'Monocyte': ['Clec4d', 'Cd14', 'Ctss', 'Pla2g7', 'Clec4e', 'Thbs1', 'Lgmn', 'Csf1r', 'Cybb', 'Wfdc17', 'Fcgr2b', 'F10', 'Syk', 'Pid1', \n",
    "                             'Mpeg1', 'Slc11a1', 'Ccrl2', 'Lilr4b', 'Ctsb', 'Sirpa', 'F13a1', 'Hcls1', 'Pf4', 'Clec4n', 'Csf3', 'Cd36', 'Saa3', 'Slc7a8', 'Ifi204', 'Msr1'],\n",
    "                'Macrophage': ['Lyz2', 'C1qa', 'C1qb', 'Pf4', 'C1qc', 'Trem2', 'Cd36', 'Ms4a7', 'Stab1', 'Fxyd2', 'Pld4', 'Adgre1', 'Folr2', 'Cbr2', 'Mrc1', 'Ly86', 'Aif1', \n",
    "                               'Clec4a3', 'Gusb', 'Selenop', 'Cfh', 'Rab3il1', 'Ms4a6b', 'Alox5', 'Dok2', 'Tmem37', 'Fcrls', 'Mgl2', 'Tbxas1', 'Slamf9', 'P2ry12', 'Ccl24'],\n",
    "                'Langerhans cell': ['Cd74', 'H2-Aa', 'H2-Eb1', 'H2-Ab1', 'Ctss', 'Tbc1d4', 'Csf2rb2', 'Bcl2a1d', 'Gngt2', 'Pkib', 'Myo1g', 'Nr4a3', 'Zmynd15', 'Ccr7', \n",
    "                                    'Cd86', 'Cd207', 'Ccl22', 'Ltc4s', 'H2-DMa', 'Il1r2', 'Il4i1', 'Dnah2', 'Grk3', 'Ncoa7', 'Gpd2', 'Osgin2', 'St14', 'Cacnb3', 'Ly75', \n",
    "                                    'Irf5', 'Rhof', 'Timd4', 'Rogdi', 'Mreg', 'Map3k14', 'Cd40']}"
   ]
  },
  {
   "cell_type": "code",
   "execution_count": null,
   "id": "7845739d-170b-404a-b630-a9eb776d94be",
   "metadata": {
    "tags": []
   },
   "outputs": [],
   "source": [
    "sc.tl.rank_genes_groups(adata_all_harmony, groupby='merged_cell_type')"
   ]
  },
  {
   "cell_type": "code",
   "execution_count": null,
   "id": "fc88e6e6-0e3c-437a-8a89-34ffc371da02",
   "metadata": {
    "scrolled": true,
    "tags": []
   },
   "outputs": [],
   "source": [
    "for cell_type in list_cell_types:\n",
    "    print(cell_type)\n",
    "    sc.pl.umap(adata_all_harmony, color=adata_all_harmony.uns['rank_genes_groups']['names'][cell_type][120:250], alpha=0.5, ncols=3, cmap=magma)"
   ]
  },
  {
   "cell_type": "code",
   "execution_count": null,
   "id": "0f4d28ae-6d81-493c-84f0-ece8b73fe52e",
   "metadata": {
    "tags": []
   },
   "outputs": [],
   "source": [
    "names = pd.DataFrame(adata_all_harmony.uns['rank_genes_groups']['names'])\n",
    "pvals = pd.DataFrame(adata_all_harmony.uns['rank_genes_groups']['pvals_adj'])"
   ]
  },
  {
   "cell_type": "code",
   "execution_count": null,
   "id": "c9f3adaa-a63f-471c-83c9-73bb625b461a",
   "metadata": {
    "tags": []
   },
   "outputs": [],
   "source": [
    "# Create a DataFrame with 30 most important genes\n",
    "list_dfs = []\n",
    "for cell_type, genes in cell_markers.items():\n",
    "    df = pd.DataFrame({f'{cell_type} genes': names[cell_type], f'p-value {cell_type}': pvals[cell_type]}, dtype=object)\n",
    "    df_short = df[df[f'{cell_type} genes'].isin(genes)].sort_values(by=f'p-value {cell_type}', ascending=True).iloc[:30].reset_index(drop=True)\n",
    "    df[f'p-value {cell_type}'] = df[f'p-value {cell_type}'].apply(lambda x: '%.3E' % x).values.tolist()\n",
    "    list_dfs.append(df_short)"
   ]
  },
  {
   "cell_type": "code",
   "execution_count": null,
   "id": "bdb43c95-248c-43ee-9c0e-a7a4383b9b67",
   "metadata": {
    "tags": []
   },
   "outputs": [],
   "source": [
    "df_all_celltypes = pd.concat(list_dfs, axis=1)\n",
    "df_all_celltypes.to_csv(f'results/{today}-markers_4_pops.csv', index=False)\n",
    "df_all_celltypes"
   ]
  },
  {
   "cell_type": "code",
   "execution_count": null,
   "id": "527b380a-d96f-42ee-8783-26012dd1c87c",
   "metadata": {
    "tags": []
   },
   "outputs": [],
   "source": [
    "sc.pl.tracksplot(adata_all_harmony, groupby='merged_cell_type', var_names=df_all_celltypes.iloc[:7,::2].values.transpose().ravel(), \n",
    "                 dendrogram=True, xticklabels=False)"
   ]
  },
  {
   "cell_type": "code",
   "execution_count": null,
   "id": "d84161aa-9427-481b-9deb-315c056b61ea",
   "metadata": {
    "tags": []
   },
   "outputs": [],
   "source": [
    "sc.pl.dotplot(adata_all_harmony, groupby='merged_cell_type', var_names=df_all_celltypes.iloc[:9,::2].values.transpose().ravel(), dendrogram=True, show=False)"
   ]
  },
  {
   "cell_type": "markdown",
   "id": "6f0b1108-3573-4dcf-9c7f-5f190163ca69",
   "metadata": {},
   "source": [
    "## Figure of main populations in 2 panels (WT / KO)"
   ]
  },
  {
   "cell_type": "code",
   "execution_count": null,
   "id": "5fab0e8e-e2f3-4257-b4d5-fba3265a8a17",
   "metadata": {
    "tags": []
   },
   "outputs": [],
   "source": [
    "adata_all_harmony.obs['conditon-cell_type'] = (adata_all_harmony.obs['merged_cell_type'].astype(str) + '-' + adata_all_harmony.obs['condition'].astype(str)).astype('category')\n",
    "adata_all_harmony.uns['conditon-cell_type_colors'] = list(itertools.chain(*list(zip(adata_all_harmony.uns['merged_cell_type_colors'], adata_all_harmony.uns['merged_cell_type_colors']))))"
   ]
  },
  {
   "cell_type": "code",
   "execution_count": null,
   "id": "ad0ab446-e2c2-41d8-9e3a-bf2ae157f051",
   "metadata": {
    "tags": []
   },
   "outputs": [],
   "source": [
    "fig, axs = plt.subplots(1, 2, figsize=(12, 4))\n",
    "s = 10\n",
    "plt.tight_layout()\n",
    "sc.pl.umap(adata_all_harmony[adata_all_harmony.obs['condition'] == 'KO'], color='merged_cell_type', s=s, ax = axs[0], title='KO', legend_loc=False, frameon=False, show=False)\n",
    "sc.pl.umap(adata_all_harmony[adata_all_harmony.obs['condition'] == 'WT'], color='merged_cell_type', s=s, ax = axs[1], title='WT', legend_loc=False, frameon=False, show=False)\n",
    "\n",
    "plt.subplots_adjust(wspace=0.025, hspace=0.1)\n",
    "plt.savefig(f'results/figures/makers_2_panels_{today}.png', dpi=300)"
   ]
  },
  {
   "cell_type": "markdown",
   "id": "e2826a98-fbeb-41b6-9d91-338f46b7f85a",
   "metadata": {},
   "source": [
    "### Main population markers (whole KO VS whole WT)"
   ]
  },
  {
   "cell_type": "code",
   "execution_count": null,
   "id": "ef407d86-d32d-4e4c-b26c-fc133e696ddf",
   "metadata": {
    "tags": []
   },
   "outputs": [],
   "source": [
    "sc.tl.rank_genes_groups(adata_all_harmony, groupby='condition')"
   ]
  },
  {
   "cell_type": "code",
   "execution_count": null,
   "id": "9dc043d5-fbce-4bc9-bead-3bb74f8b1e5c",
   "metadata": {
    "scrolled": true,
    "tags": []
   },
   "outputs": [],
   "source": [
    "for condition in ['KO', 'WT']:\n",
    "    print(condition)\n",
    "    N = 30\n",
    "    fig, axs =  plt.subplots(N, 2, figsize=(5 * 2, 4 * N))\n",
    "    \n",
    "    for i in range(2 * N):\n",
    "        sc.pl.violin(adata_all_harmony, adata_all_harmony.uns['rank_genes_groups']['names'][condition][i], groupby='conditon-cell_type', rotation=90, \n",
    "                     ax=axs.ravel()[i], show=False)\n",
    "        plt.tight_layout()\n",
    "    \n",
    "    plt.savefig(f'results/figures/{today}-violinplots_high_{condition}.png')"
   ]
  },
  {
   "cell_type": "code",
   "execution_count": null,
   "id": "d94b68a5-debc-4547-be53-c3b7486fbaf8",
   "metadata": {
    "tags": []
   },
   "outputs": [],
   "source": [
    "names = pd.DataFrame(adata_all_harmony.uns['rank_genes_groups']['names'])\n",
    "pvals = pd.DataFrame(adata_all_harmony.uns['rank_genes_groups']['pvals_adj'])\n",
    "logfold = pd.DataFrame(adata_all_harmony.uns['rank_genes_groups']['logfoldchanges'])"
   ]
  },
  {
   "cell_type": "code",
   "execution_count": null,
   "id": "34545ae6-cfa3-4c98-9eee-6c184f748f19",
   "metadata": {
    "tags": []
   },
   "outputs": [],
   "source": [
    "names"
   ]
  },
  {
   "cell_type": "code",
   "execution_count": null,
   "id": "672d1d59-4756-4684-a8a2-c5a0deeab57c",
   "metadata": {
    "tags": []
   },
   "outputs": [],
   "source": [
    "# Create a DataFrame with 30 most important genes\n",
    "list_dfs = []\n",
    "for condition in ['KO', 'WT']:\n",
    "    df = pd.DataFrame({f'{condition} genes': names[condition], f'p-value {condition}': pvals[condition], f'logfold {condition}': logfold[condition]}, dtype=object)\n",
    "    df_short = df.iloc[:250].reset_index(drop=True)\n",
    "    df[f'p-value {condition}'] = df[f'p-value {condition}'].apply(lambda x: '%.3E' % x).values.tolist()\n",
    "    list_dfs.append(df_short)"
   ]
  },
  {
   "cell_type": "code",
   "execution_count": null,
   "id": "a3b955d7-bafb-4e9e-9cd8-8d5bd0ad22d9",
   "metadata": {
    "tags": []
   },
   "outputs": [],
   "source": [
    "df_all_celltypes = pd.concat(list_dfs, axis=1)\n",
    "df_all_celltypes.to_csv(f'results/{today}-markers_KO_VS_WT.csv', index=False)\n",
    "df_all_celltypes"
   ]
  },
  {
   "cell_type": "markdown",
   "id": "952861ee-efca-49ff-b8db-98539f326eb9",
   "metadata": {},
   "source": [
    "### Main population markers (individual cell type KO VS WT)"
   ]
  },
  {
   "cell_type": "code",
   "execution_count": null,
   "id": "47a8f917-6acc-4a08-8a0e-5e6773036a36",
   "metadata": {
    "tags": []
   },
   "outputs": [],
   "source": [
    "list_dfs = []\n",
    "\n",
    "for cell_type in list_cell_types:\n",
    "    sc.tl.rank_genes_groups(adata_all_harmony, groupby='conditon-cell_type', groups=[f'{cell_type}-KO'], reference=f'{cell_type}-WT')\n",
    "\n",
    "    df = pd.DataFrame({f'genes {cell_type}': adata_all_harmony.uns['rank_genes_groups']['names'][f'{cell_type}-KO'], \n",
    "                       f'p-value {cell_type}': adata_all_harmony.uns['rank_genes_groups']['pvals_adj'][f'{cell_type}-KO'], \n",
    "                       f'logfold {cell_type}': adata_all_harmony.uns['rank_genes_groups']['logfoldchanges'][f'{cell_type}-KO']}, dtype=object)\n",
    "    df_short = df.sort_values(by=f'p-value {cell_type}', ascending=True).iloc[:250].reset_index(drop=True)\n",
    "    list_dfs.append(df_short)\n",
    "    \n",
    "df_all_celltypes = pd.concat(list_dfs, axis=1)\n",
    "df_all_celltypes.to_csv(f'results/{today}-markers_KO(hi)_VS_WT(lo)_per_cell_type.csv', index=False)\n",
    "df_all_celltypes"
   ]
  },
  {
   "cell_type": "code",
   "execution_count": null,
   "id": "40bd2517-4d3e-4856-aee3-52910a048acf",
   "metadata": {
    "tags": []
   },
   "outputs": [],
   "source": [
    "list_dfs = []\n",
    "\n",
    "for cell_type in list_cell_types:\n",
    "    sc.tl.rank_genes_groups(adata_all_harmony, groupby='conditon-cell_type', groups=[f'{cell_type}-WT'], reference=f'{cell_type}-KO')\n",
    "\n",
    "    df = pd.DataFrame({f'genes {cell_type}': adata_all_harmony.uns['rank_genes_groups']['names'][f'{cell_type}-WT'], \n",
    "                       f'p-value {cell_type}': adata_all_harmony.uns['rank_genes_groups']['pvals_adj'][f'{cell_type}-WT'], \n",
    "                       f'logfold {cell_type}': adata_all_harmony.uns['rank_genes_groups']['logfoldchanges'][f'{cell_type}-WT']}, dtype=object)\n",
    "    df_short = df.sort_values(by=f'p-value {cell_type}', ascending=True).iloc[:250].reset_index(drop=True)\n",
    "    list_dfs.append(df_short)\n",
    "    \n",
    "df_all_celltypes = pd.concat(list_dfs, axis=1)\n",
    "df_all_celltypes.to_csv(f'results/{today}-markers_WT(hi)_VS_KO(lo)_per_cell_type.csv', index=False)\n",
    "df_all_celltypes"
   ]
  }
 ],
 "metadata": {
  "kernelspec": {
   "display_name": "Python [conda env:alex-base] *",
   "language": "python",
   "name": "conda-env-alex-base-py"
  },
  "language_info": {
   "codemirror_mode": {
    "name": "ipython",
    "version": 3
   },
   "file_extension": ".py",
   "mimetype": "text/x-python",
   "name": "python",
   "nbconvert_exporter": "python",
   "pygments_lexer": "ipython3",
   "version": "3.8.0"
  }
 },
 "nbformat": 4,
 "nbformat_minor": 5
}
