{
 "cells": [
  {
   "cell_type": "markdown",
   "id": "aa781ea4-1ef8-4bd8-b09d-1e513ed2c212",
   "metadata": {},
   "source": [
    "# Figures associated to fibroblast processing\n",
    "\n",
    "**You need to tun the notebook 2_ first!!!!**"
   ]
  },
  {
   "cell_type": "code",
   "execution_count": null,
   "id": "beec4b87-e7ae-42fb-a135-12bb7617dfea",
   "metadata": {
    "tags": []
   },
   "outputs": [],
   "source": [
    "from cellassign import assign_cats\n",
    "import gzip\n",
    "import itertools as itl\n",
    "import matplotlib.pyplot as plt\n",
    "import matplotlib as mpl\n",
    "import numpy as np\n",
    "import os\n",
    "import pandas as pd\n",
    "import scanpy as sc\n",
    "import scanpy.external as sce\n",
    "import seaborn as sns\n",
    "import triku as tk\n",
    "import itertools\n",
    "import matplotlib.pylab as pylab\n",
    "from datetime import date"
   ]
  },
  {
   "cell_type": "code",
   "execution_count": null,
   "id": "e1fb0597-20bc-498b-81a7-e05c21bf9083",
   "metadata": {
    "tags": []
   },
   "outputs": [],
   "source": [
    "from functions import adata_plot_KOvsWT_2bars, stat_annot_gene, plot_WT_KO_genes\n",
    "from functions import dict_WT_KO_colors"
   ]
  },
  {
   "cell_type": "code",
   "execution_count": null,
   "id": "965d7745-46a9-480c-9c08-4f0630f09114",
   "metadata": {
    "tags": []
   },
   "outputs": [],
   "source": [
    "# Palettes for UMAP gene expression\n",
    "\n",
    "magma = [plt.get_cmap('magma')(i) for i in np.linspace(0,1, 80)]\n",
    "magma[0] = (0.88, 0.88, 0.88, 1)\n",
    "magma = mpl.colors.LinearSegmentedColormap.from_list(\"\", magma[:65])"
   ]
  },
  {
   "cell_type": "code",
   "execution_count": null,
   "id": "b3ed26bc-7b95-41b2-8e21-71373bb1962f",
   "metadata": {
    "tags": []
   },
   "outputs": [],
   "source": [
    "params = {'figure.dpi': 200,\n",
    "          'legend.fontsize': 'large',\n",
    "         'axes.labelsize': 'x-large',\n",
    "         'axes.titlesize':'x-large',\n",
    "         'xtick.labelsize':'x-large',\n",
    "         'ytick.labelsize':'x-large', \n",
    "         'axes.grid': False}\n",
    "pylab.rcParams.update(params)\n",
    "# mpl.style.use('default')\n",
    "\n",
    "pd.set_option('display.max_columns', None)"
   ]
  },
  {
   "cell_type": "code",
   "execution_count": null,
   "id": "a61799f5-6c31-4710-a7be-27eff8fb2eb1",
   "metadata": {
    "tags": []
   },
   "outputs": [],
   "source": [
    "os.makedirs('results/figures/F2', exist_ok=True)"
   ]
  },
  {
   "cell_type": "markdown",
   "id": "851e2f7c-361c-4e68-aa6e-d32abd0b89b3",
   "metadata": {},
   "source": [
    "## Functions and variables"
   ]
  },
  {
   "cell_type": "code",
   "execution_count": null,
   "id": "2cb59f56-277b-498b-b9ea-abe1361a5bab",
   "metadata": {
    "tags": []
   },
   "outputs": [],
   "source": [
    "%store -r seed"
   ]
  },
  {
   "cell_type": "markdown",
   "id": "cd3d67f8-65f4-4a1c-b1dc-4b7de3024ff5",
   "metadata": {},
   "source": [
    "## Load adata"
   ]
  },
  {
   "cell_type": "code",
   "execution_count": null,
   "id": "bab15a72-06de-40b3-b2ba-863299e110cd",
   "metadata": {
    "tags": []
   },
   "outputs": [],
   "source": [
    "adata_all_harmony = sc.read_h5ad('adatas/adata_all_harmony.h5')\n",
    "adata_fb = adata_all_harmony[adata_all_harmony.obs['merged_cell_type_name'] == 'FB']\n",
    "adata_fb.uns['batch_colors'] = adata_all_harmony.uns['batch_colors']"
   ]
  },
  {
   "cell_type": "code",
   "execution_count": null,
   "id": "cbb7b439-e74d-4ea2-a090-6fd296024ad6",
   "metadata": {
    "tags": []
   },
   "outputs": [],
   "source": [
    "sc.pp.filter_genes(adata_fb, min_counts=1)"
   ]
  },
  {
   "cell_type": "code",
   "execution_count": null,
   "id": "5c793023-137c-4e5b-ba27-230a9a79542d",
   "metadata": {
    "scrolled": true,
    "tags": []
   },
   "outputs": [],
   "source": [
    "sc.pp.pca(adata_fb, random_state=seed, n_comps=50)\n",
    "sce.pp.harmony_integrate(adata_fb, key='batch', max_iter_harmony=50, plot_convergence=True)\n",
    "sc.pp.neighbors(adata_fb, random_state=seed, n_neighbors=int(len(adata_fb) ** 0.5 * 0.5), metric='cosine', use_rep='X_pca_harmony')\n",
    "tk.tl.triku(adata_fb, use_raw=False)\n",
    "\n",
    "sc.pp.pca(adata_fb, random_state=seed, n_comps=50)\n",
    "sce.pp.harmony_integrate(adata_fb, key='batch', max_iter_harmony=50, plot_convergence=True)\n",
    "sc.pp.neighbors(adata_fb, random_state=seed, n_neighbors=int(len(adata_fb) ** 0.5 * 0.5), metric='cosine', use_rep='X_pca_harmony')"
   ]
  },
  {
   "cell_type": "markdown",
   "id": "826677f1-237c-4cf2-9649-dd45324f723e",
   "metadata": {},
   "source": [
    "We see that some populations (*Coch*$^+$ or *Thbs4*$^+$) are separated into two populations. We are going to separate them by finding the corresponding DEGs."
   ]
  },
  {
   "cell_type": "code",
   "execution_count": null,
   "id": "aad8eeac-a717-4978-b2c3-f22572a9863d",
   "metadata": {
    "tags": []
   },
   "outputs": [],
   "source": [
    "dict_fbs = {    '0: FB Pdpn$^+$Il1rl1$^+$': ['Pdpn', 'Sod2', 'Il1rl1', 'Mif', 'Twist2', 'Pgk1', 'Gm29408', 'Ptges', 'Ctsk', 'Pgam1', 'Ets2', \n",
    "                                             'Eno1', 'Znrf1', 'Sh3pxd2b', 'Tnfaip2', 'Olfr1033', 'B2m', 'Fosl1', 'Plin2', 'Dlg1', 'Col7a1',], \n",
    "                '1: FB Msc$^+$Itga7$^+$': ['Bok', 'Lrrc15', 'Msc', 'Itga7', 'Etl4', 'Mcam', 'Ednrb', 'Blnk', 'Mrln', 'Myf5', 'Popdc3', 'Acta2', \n",
    "                                           'Raspn', 'Tnik', 'Sytl2', 'Zic1', 'Tnnt1', 'Jsrp1', 'Vgll2', 'Ank1', 'Cobl',], \n",
    "                '2: FB Serpine2$^+$Col23a1$^+$': ['Serpine2', 'Shox2', 'Wif1', 'Col23a1', 'Gm48159', 'Cd24a', 'Nav2', 'Tfap2c', 'Tanc1', 'Scube3', \n",
    "                                                  'Cblb', 'Fgfr2', 'Olfm', 'Prdm1', 'Alx3', 'Inhba', 'Dio3', 'Rspo1'], \n",
    "                '3: FB Cxcl1$^+$Ccl2$^+$': ['Cxcl1', 'Ccl7', 'Has1', 'Cxcl2', 'Tnfaip6', 'Cxcl10', 'Ccl2', 'Gfpt2', 'Il6', 'Gpc3', 'Ccl11', 'Clec2d', \n",
    "                                            'Slc43a3', 'Pkdcc', 'C1s1', 'Pvr', 'Cd44', 'Mt1', 'Tnfaip6', 'Mt2', 'Abi3bp', 'Has1',],\n",
    "                '4: FB Clec3b$^+$Ly6a$^+$': ['Clec3b', 'Tnxb', 'Ly6a', 'Cd248', 'Ecm1', 'Tppp3', 'Islr', 'Ltbp4', 'Ly6c1', 'Nfib', 'Itm2a', 'Fbn1', \n",
    "                                             'Igf1', 'Lysmd2', 'Ebf1', 'Adamtsl4', 'C1s1', 'Igfbp6', 'Cxcl12', 'Mgst3', 'Cygb', 'Sema3c', ],\n",
    "                '5: FB Rab37$^+$Col22a1$^+$': ['Rab37', 'Col22a1', 'F13a1', 'Htra4', 'Tspan15', 'Rgcc', 'Hbegf', 'Cd55', 'Capg', 'Itga6', 'Pcsk6', 'Sema3c', 'Htra4', 'Sox5', 'Rgs5', 'Aldh1a3', 'Sema3d', \n",
    "                                         'Cmtm8', 'Ackr2'], \n",
    "                '6: FB Cilp2$^+$Acan$^+$': ['Cilp2', 'Chad', 'Egfl6', 'Comp', 'Fmod', 'Tnmd', 'Ecrg4', 'Kera', 'Acan', 'Scx', 'Fibin', 'Tspan2'], \n",
    "                '7: FB Lox$^+$Adam33$^+$': ['Mfap4', 'Lox', 'Adam33', 'Eln', 'Pdgfrl', 'Ccn5', 'Fbln5', 'Vgll3', 'Wnt5a', 'Osr2', 'Igfbp2', 'Phldb2', \n",
    "                                            'Pth1r', 'Ptk7', 'Col8a1', 'Slit2', 'Mmp16', 'C1qtnf3', 'Lrrc15'],\n",
    "                '8: FB Coch$^+$Emid1$^+$': ['Coch', 'Emid1', 'Gldn', 'Ntn5', 'Tnmd', 'Col16a1', 'Col11a1',  'Crabp1', 'Mafb', 'Fmod', 'Fbn2', \n",
    "                                            'Cxcr4', 'Ogn', 'Kera', 'Wfdc1', 'Hs3st6', 'Pi16', 'Trib2'],     \n",
    "                '9: FB Cfh$^+$Spp1$^+$': ['Cfh', 'Alpl', 'Lifr', 'Sp7', 'Spp1', 'Runx2', 'Cp', 'Mmp13', 'Ptprd', 'Hp',  'Ibsp', 'Cadm1', 'Lgmn', \n",
    "                                           'Limch1', 'Vdr', 'Dapk2', 'Dlx5', 'Sept4'],\n",
    "                  }"
   ]
  },
  {
   "cell_type": "code",
   "execution_count": null,
   "id": "6607eaba-bc0f-4464-8e5d-b1c33c6de05a",
   "metadata": {
    "tags": []
   },
   "outputs": [],
   "source": [
    "dict_fbs_colors = {  '0: FB Pdpn$^+$Il1rl1$^+$': '#67dcf1',\n",
    "                     '1: FB Msc$^+$Itga7$^+$': '#df7935',\n",
    "                     '2: FB Serpine2$^+$Col23a1$^+$': '#20668d',\n",
    "                     '3: FB Cxcl1$^+$Ccl2$^+$': '#a05a2c',\n",
    "                     '4: FB Clec3b$^+$Ly6a$^+$': '#ff5599',\n",
    "                     '5: FB Rab37$^+$Col22a1$^+$': '#d40055',\n",
    "                     '6: FB Cilp2$^+$Acan$^+$': '#8e0c6f',\n",
    "                     '7: FB Lox$^+$Adam33$^+$': '#d3bc5f',\n",
    "                     '8: FB Coch$^+$Emid1$^+$': '#4d0765',\n",
    "                     '9: FB Cfh$^+$Spp1$^+$': '#229eb2',\n",
    "                     }\n",
    "\n",
    "dict_fbs_colors_nan = {  '0: FB Pdpn$^+$Il1rl1$^+$': '#67dcf1',\n",
    "                         '1: FB Msc$^+$Itga7$^+$': '#df7935',\n",
    "                         '2: FB Serpine2$^+$Col23a1$^+$': '#20668d',\n",
    "                         '3: FB Cxcl1$^+$Ccl2$^+$': '#a05a2c',\n",
    "                         '4: FB Clec3b$^+$Ly6a$^+$': '#ff5599',\n",
    "                         '5: FB Rab37$^+$Col22a1$^+$': '#d40055',\n",
    "                         }"
   ]
  },
  {
   "cell_type": "code",
   "execution_count": null,
   "id": "00b5b3d1-adf5-4138-9294-641fa0352a66",
   "metadata": {
    "tags": []
   },
   "outputs": [],
   "source": [
    "sc.tl.leiden(adata_fb, resolution=4)\n",
    "assign_cats(adata_fb, dict_cats=dict_fbs, min_score=0.4, quantile_gene_sel=0.7, key_added='subtype')\n",
    "\n",
    "\n",
    "adata_fb.obs['subtype_name'] = [i.split(': ')[1] for i in adata_fb.obs['subtype']]\n",
    "adata_fb.obs['subtype_name'] = adata_fb.obs['subtype_name'].astype('category')\n",
    "adata_fb.obs['subtype_name'].cat.reorder_categories([i.split(': ')[1] for i in dict_fbs.keys()], inplace=True)\n",
    "\n",
    "adata_fb.obs['subtype_number'] = [i.split(': ')[0] for i in adata_fb.obs['subtype']]\n",
    "adata_fb.obs['subtype_number'] = adata_fb.obs['subtype_number'].astype('category')\n",
    "adata_fb.obs['subtype_number'].cat.reorder_categories([i.split(': ')[0] for i in dict_fbs.keys()], inplace=True)\n",
    "\n",
    "\n",
    "adata_fb.uns['subtype_colors'] = list(dict_fbs_colors.values())\n",
    "adata_fb.uns['subtype_name_colors'] = list(dict_fbs_colors.values())\n",
    "adata_fb.uns['subtype_number_colors'] = list(dict_fbs_colors.values())"
   ]
  },
  {
   "cell_type": "code",
   "execution_count": null,
   "id": "425887bd-92b1-4d90-929a-985a49104406",
   "metadata": {
    "tags": []
   },
   "outputs": [],
   "source": [
    "sc.tl.umap(adata_fb, min_dist=0.35)"
   ]
  },
  {
   "cell_type": "markdown",
   "id": "5743749e-bce2-49ef-9e9e-ba5017ee6ee8",
   "metadata": {},
   "source": [
    "## UMAP of fibroblast subpopulations and batch"
   ]
  },
  {
   "cell_type": "markdown",
   "id": "af394bce-2dc7-4e1d-9fd2-015501dd059a",
   "metadata": {},
   "source": [
    "#### Supp Fig to Fig 3"
   ]
  },
  {
   "cell_type": "code",
   "execution_count": null,
   "id": "6e1583f4-1fb6-4b08-84ee-8d27d79d0faa",
   "metadata": {
    "tags": []
   },
   "outputs": [],
   "source": [
    "adata_fb_WT = adata_fb[adata_fb.obs['batch'].isin(['WT1', 'WT2'])]\n",
    "adata_fb_WT.uns['batch_colors'] = [dict_WT_KO_colors['WT1'], dict_WT_KO_colors['WT2'], ]\n",
    "adata_fb_KO = adata_fb[adata_fb.obs['batch'].isin(['KO1', 'KO2'])]\n",
    "adata_fb_KO.uns['batch_colors'] = [dict_WT_KO_colors['KO1'], dict_WT_KO_colors['KO2'], ]"
   ]
  },
  {
   "cell_type": "code",
   "execution_count": null,
   "id": "ce6cdcde-1d7b-4a28-b0a5-3977b2457afb",
   "metadata": {
    "tags": []
   },
   "outputs": [],
   "source": [
    "fig, axs = plt.subplots(1, 1, figsize=(8, 4))\n",
    "s = 18\n",
    "\n",
    "sc.pl.umap(adata_fb, color='subtype_number', s=s, ax = axs, \n",
    "           legend_loc='on data', frameon=False, show=False, \n",
    "           legend_fontoutline=4, legend_fontsize=14)\n",
    "sc.pl.umap(adata_fb, color='subtype', s=s, ax = axs, \n",
    "           frameon=False, show=False)\n",
    "\n",
    "title_obj = axs.set_title('') \n",
    "\n",
    "plt.tight_layout()\n",
    "\n",
    "plt.savefig(f'results/figures/F2/makers_FB_closeup_{date.today().strftime(\"%Y_%m_%d\")}.png', dpi=300)\n",
    "plt.savefig(f'results/figures/F2/Supp_Fig3A_closeup_{date.today().strftime(\"%Y_%m_%d\")}.png', dpi=300)"
   ]
  },
  {
   "cell_type": "code",
   "execution_count": null,
   "id": "8bd3e1ca-ac36-4506-8372-eccffbd80645",
   "metadata": {
    "tags": []
   },
   "outputs": [],
   "source": [
    "fig, axs = plt.subplots(2, 2, figsize=(12, 7))\n",
    "s = 18\n",
    "\n",
    "\n",
    "sc.pl.umap(adata_fb_WT, color='batch', s=s, ax = axs.ravel()[0], \n",
    "           frameon=False, show=False, na_in_legend=False)\n",
    "\n",
    "\n",
    "sc.pl.umap(adata_fb_WT, color='subtype_number', s=s, ax=axs.ravel()[1], \n",
    "           legend_loc='on data', frameon=False, show=False, legend_fontoutline=4, legend_fontsize=14, \n",
    "           na_in_legend=False, title='condition')\n",
    "sc.pl.umap(adata_fb_WT, color='subtype', s=s, ax = axs.ravel()[1], \n",
    "           frameon=False, show=False, na_in_legend=False, title='FB type')\n",
    "\n",
    "\n",
    "\n",
    "sc.pl.umap(adata_fb_KO, color='batch', s=s, ax = axs.ravel()[2], \n",
    "           frameon=False, show=False, na_in_legend=False, title='')\n",
    "\n",
    "\n",
    "sc.pl.umap(adata_fb_KO, color='subtype_number', s=s, ax=axs.ravel()[3], \n",
    "           legend_loc='on data', frameon=False, show=False, legend_fontoutline=4, legend_fontsize=14, \n",
    "           na_in_legend=False, title='')\n",
    "\n",
    "\n",
    "plt.tight_layout()\n",
    "\n",
    "plt.savefig(f'results/figures/F2/makers_FB_{date.today().strftime(\"%Y_%m_%d\")}.png', dpi=300)\n",
    "plt.savefig(f'results/figures/F2/Supp_Fig3A_{date.today().strftime(\"%Y_%m_%d\")}.png', dpi=300)"
   ]
  },
  {
   "cell_type": "markdown",
   "id": "3b804df5-28ad-40e8-8b6d-29eb654b2948",
   "metadata": {},
   "source": [
    "#### Fig 3A"
   ]
  },
  {
   "cell_type": "code",
   "execution_count": null,
   "id": "b71509f7-e50c-4052-8051-395e5c383824",
   "metadata": {
    "tags": []
   },
   "outputs": [],
   "source": [
    "selected_cell_types = list(dict_fbs_colors_nan.keys())"
   ]
  },
  {
   "cell_type": "code",
   "execution_count": null,
   "id": "aa1a07d8-801d-4953-8e92-53e2b0a97ead",
   "metadata": {
    "tags": []
   },
   "outputs": [],
   "source": [
    "selected_cell_types"
   ]
  },
  {
   "cell_type": "code",
   "execution_count": null,
   "id": "126d1184-6b6e-4c87-9532-c3883f32d18e",
   "metadata": {
    "tags": []
   },
   "outputs": [],
   "source": [
    "adata_fb.obs['subtype_nan'] = [i if i in selected_cell_types else np.NaN for i in adata_fb.obs['subtype']]\n",
    "adata_fb.obs['subtype_nan'] = adata_fb.obs['subtype_nan'].astype('category')\n",
    "adata_fb.obs['subtype_nan'].cat.reorder_categories(selected_cell_types, inplace=True)\n",
    "\n",
    "adata_fb.obs['subtype_nan_name'] = [i.split(': ')[1] if i in selected_cell_types else np.NaN for i in adata_fb.obs['subtype_nan']]\n",
    "adata_fb.obs['subtype_nan_name'] = adata_fb.obs['subtype_nan_name'].astype('category')\n",
    "adata_fb.obs['subtype_nan_name'].cat.reorder_categories([i.split(': ')[1] for i in selected_cell_types], inplace=True)\n",
    "\n",
    "adata_fb.obs['subtype_nan_number'] = [i.split(': ')[0] if i in selected_cell_types else np.NaN for i in adata_fb.obs['subtype_nan']]\n",
    "adata_fb.obs['subtype_nan_number'] = adata_fb.obs['subtype_nan_number'].astype('category')\n",
    "adata_fb.obs['subtype_nan_number'].cat.reorder_categories([i.split(': ')[0] for i in selected_cell_types], inplace=True)\n",
    "\n",
    "\n",
    "adata_fb.uns['subtype_nan_colors'] = list(dict_fbs_colors_nan.values())\n",
    "adata_fb.uns['subtype_nan_name_colors'] = list(dict_fbs_colors_nan.values())\n",
    "adata_fb.uns['subtype_nan_number_colors'] = list(dict_fbs_colors_nan.values())"
   ]
  },
  {
   "cell_type": "code",
   "execution_count": null,
   "id": "0790e855-742a-4636-a96a-20eb40cac25d",
   "metadata": {
    "tags": []
   },
   "outputs": [],
   "source": [
    "fig, axs = plt.subplots(1, 1, figsize=(8, 4))\n",
    "s = 12\n",
    "\n",
    "sc.pl.umap(adata_fb, color='subtype_nan_number', s=s, ax = axs, \n",
    "           legend_loc='on data', frameon=False, show=False, \n",
    "           legend_fontoutline=4, legend_fontsize=14, na_in_legend=False)\n",
    "sc.pl.umap(adata_fb, color='subtype_nan', s=s, ax = axs, \n",
    "           frameon=False, show=False, na_in_legend=False)\n",
    "\n",
    "title_obj = axs.set_title('') \n",
    "\n",
    "plt.tight_layout()\n",
    "\n",
    "plt.savefig(f'results/figures/F2/makers_FB_nan_closeup_{date.today().strftime(\"%Y_%m_%d\")}.png', dpi=300)\n",
    "plt.savefig(f'results/figures/F2/Fig2A_closeup_{date.today().strftime(\"%Y_%m_%d\")}.png', dpi=300)"
   ]
  },
  {
   "cell_type": "code",
   "execution_count": null,
   "id": "f6b61b42-50ce-461c-b1ea-130b75a3ac8c",
   "metadata": {
    "tags": []
   },
   "outputs": [],
   "source": [
    "# We repeat the variable naming here (it was done before) because we need to add nan vars to the new adata_fb_WT and adata_fb_KO\n",
    "adata_fb_WT = adata_fb[adata_fb.obs['batch'].isin(['WT1', 'WT2'])]\n",
    "adata_fb_WT.uns['subtype_nan_colors'] = adata_fb.uns['subtype_nan_colors']\n",
    "adata_fb_WT.uns['subtype_nan_number_colors'] = adata_fb.uns['subtype_nan_number_colors']\n",
    "adata_fb_WT.uns['batch_colors'] = [dict_WT_KO_colors['WT1'], dict_WT_KO_colors['WT2']]\n",
    "\n",
    "adata_fb_KO = adata_fb[adata_fb.obs['batch'].isin(['KO1', 'KO2'])]\n",
    "adata_fb_KO.uns['subtype_nan_colors'] = adata_fb.uns['subtype_nan_colors']\n",
    "adata_fb_KO.uns['subtype_nan_number_colors'] = adata_fb.uns['subtype_nan_number_colors']\n",
    "adata_fb_KO.uns['batch_colors'] = [dict_WT_KO_colors['KO1'], dict_WT_KO_colors['KO2']]"
   ]
  },
  {
   "cell_type": "code",
   "execution_count": null,
   "id": "1cc51f74-88d0-491f-8663-d2c654c7dec8",
   "metadata": {
    "tags": []
   },
   "outputs": [],
   "source": [
    "fig, axs = plt.subplots(2, 2, figsize=(12, 7))\n",
    "s = 18\n",
    "\n",
    "\n",
    "sc.pl.umap(adata_fb_WT, color='batch', s=s, ax = axs.ravel()[0], \n",
    "           frameon=False, show=False, na_in_legend=False)\n",
    "\n",
    "\n",
    "sc.pl.umap(adata_fb_WT, color='subtype_nan_number', s=s, ax=axs.ravel()[1], \n",
    "           legend_loc='on data', frameon=False, show=False, legend_fontoutline=4, legend_fontsize=14, \n",
    "           na_in_legend=False, title='condition')\n",
    "sc.pl.umap(adata_fb_WT, color='subtype_nan', s=s, ax = axs.ravel()[1], \n",
    "           frameon=False, show=False, na_in_legend=False, title='FB type')\n",
    "\n",
    "\n",
    "\n",
    "sc.pl.umap(adata_fb_KO, color='batch', s=s, ax = axs.ravel()[2], \n",
    "           frameon=False, show=False, na_in_legend=False, title='')\n",
    "\n",
    "\n",
    "sc.pl.umap(adata_fb_KO, color='subtype_nan_number', s=s, ax=axs.ravel()[3], \n",
    "           legend_loc='on data', frameon=False, show=False, legend_fontoutline=4, legend_fontsize=14, \n",
    "           na_in_legend=False, title='')\n",
    "\n",
    "\n",
    "plt.tight_layout()\n",
    "\n",
    "plt.savefig(f'results/figures/F2/makers_FB_nan_{date.today().strftime(\"%Y_%m_%d\")}.png', dpi=300)\n",
    "plt.savefig(f'results/figures/F2/Fig2A_{date.today().strftime(\"%Y_%m_%d\")}.png', dpi=300)"
   ]
  },
  {
   "cell_type": "markdown",
   "id": "791ad2ec-99e4-4ce4-895a-3ec935313a1f",
   "metadata": {},
   "source": [
    "## Proportion of cell types within WT and KO"
   ]
  },
  {
   "cell_type": "code",
   "execution_count": null,
   "id": "d4c74e4b-5240-46b0-b588-ebd3caeb80bd",
   "metadata": {
    "tags": []
   },
   "outputs": [],
   "source": [
    "adata_plot_KOvsWT_2bars(adata_fb, list(dict_fbs.keys()), do_return=False, col_cell_type='subtype', sort_by='diff', add_number_to_label=True,)\n",
    "plt.savefig(f'results/figures/F2/barplot_fb_diff_{date.today().strftime(\"%Y_%m_%d\")}.png', dpi=300)"
   ]
  },
  {
   "cell_type": "code",
   "execution_count": null,
   "id": "53226bc6-6e90-4519-ae19-bd0cd3fd551b",
   "metadata": {
    "tags": []
   },
   "outputs": [],
   "source": [
    "adata_plot_KOvsWT_2bars(adata_fb, list(dict_fbs.keys()), do_return=False, col_cell_type='subtype', sort_by='counts', add_number_to_label=True)\n",
    "plt.savefig(f'results/figures/F2/barplot_fb_counts_{date.today().strftime(\"%Y_%m_%d\")}.png', dpi=300)"
   ]
  },
  {
   "cell_type": "code",
   "execution_count": null,
   "id": "64ecdf3e-9aef-43e5-a098-6bacd41e58e2",
   "metadata": {
    "tags": []
   },
   "outputs": [],
   "source": [
    "adata_plot_KOvsWT_2bars(adata_fb, list(dict_fbs.keys()), do_return=False, col_cell_type='subtype', sort_by='label', add_number_to_label=True)\n",
    "plt.savefig(f'results/figures/F2/barplot_fb_label_{date.today().strftime(\"%Y_%m_%d\")}.png', dpi=300)"
   ]
  },
  {
   "cell_type": "markdown",
   "id": "6daaeb5c-bfbf-443f-adac-2ef330e9171b",
   "metadata": {},
   "source": [
    "## Table with markers and p-values"
   ]
  },
  {
   "cell_type": "code",
   "execution_count": null,
   "id": "7794407c-3bbd-4501-b4db-994c01be2db5",
   "metadata": {
    "tags": []
   },
   "outputs": [],
   "source": [
    "sc.tl.rank_genes_groups(adata_fb, groupby='subtype')\n",
    "names = pd.DataFrame(adata_fb.uns['rank_genes_groups']['names'])\n",
    "pvals = pd.DataFrame(adata_fb.uns['rank_genes_groups']['pvals_adj'])"
   ]
  },
  {
   "cell_type": "code",
   "execution_count": null,
   "id": "d17f0a76-dbe2-42f5-b65d-4b6bfe851f36",
   "metadata": {
    "scrolled": true,
    "tags": []
   },
   "outputs": [],
   "source": [
    "for cell_type, list_cell_markers in dict_fbs.items():\n",
    "    print(cell_type)\n",
    "    sc.pl.umap(adata_fb, color=[i for i in list_cell_markers if i in adata_fb.var_names], alpha=0.5, ncols=5, cmap=magma, use_raw=False)"
   ]
  },
  {
   "cell_type": "code",
   "execution_count": null,
   "id": "d66e5ce1-84e5-4df5-83ff-45942d1f9bf5",
   "metadata": {
    "tags": []
   },
   "outputs": [],
   "source": [
    "# Create a DataFrame with 30 most important genes\n",
    "list_dfs = []\n",
    "for subtype, genes in dict_fbs.items():\n",
    "    df = pd.DataFrame({f'{subtype} genes': names[subtype], f'p-value {subtype}': pvals[subtype]}, dtype=object)\n",
    "    df_short = df[df[f'{subtype} genes'].isin(genes)].sort_values(by=f'p-value {subtype}', ascending=True).iloc[:30].reset_index(drop=True)\n",
    "    df[f'p-value {subtype}'] = df[f'p-value {subtype}'].apply(lambda x: '%.3E' % x).values.tolist()\n",
    "    list_dfs.append(df)"
   ]
  },
  {
   "cell_type": "code",
   "execution_count": null,
   "id": "7eb885c0-55f5-4d3f-85ff-f5784f731b82",
   "metadata": {
    "tags": []
   },
   "outputs": [],
   "source": [
    "df_all_celltypes = pd.concat(list_dfs, axis=1).iloc[:50]\n",
    "df_all_celltypes.to_csv(f'results/{date.today().strftime(\"%Y_%m_%d\")}-FB_DEGs.csv.csv', index=False)\n",
    "df_all_celltypes"
   ]
  },
  {
   "cell_type": "code",
   "execution_count": null,
   "id": "4997c99f-6138-4c8d-b731-8215bbce5214",
   "metadata": {},
   "outputs": [],
   "source": []
  },
  {
   "cell_type": "code",
   "execution_count": null,
   "id": "8ced2938-d63a-4203-b644-73af3c5b1f37",
   "metadata": {},
   "outputs": [],
   "source": [
    "dict_fbs = {    '0: FB Pdpn$^+$Il1rl1$^+$': ['Pdpn', 'Sod2', 'Il1rl1', 'Mif', 'Twist2', 'Pgk1', 'Gm29408', 'Ptges', 'Ctsk', 'Pgam1', 'Ets2', \n",
    "                                             'Eno1', 'Znrf1', 'Sh3pxd2b', 'Tnfaip2', 'Olfr1033', 'B2m', 'Fosl1', 'Plin2', 'Dlg1', 'Col7a1',], \n",
    "                '1: FB Msc$^+$Itga7$^+$': ['Bok', 'Lrrc15', 'Msc', 'Itga7', 'Etl4', 'Mcam', 'Ednrb', 'Blnk', 'Mrln', 'Myf5', 'Popdc3', 'Acta2', \n",
    "                                           'Raspn', 'Tnik', 'Sytl2', 'Zic1', 'Tnnt1', 'Jsrp1', 'Vgll2', 'Ank1', 'Cobl',], \n",
    "                '2: FB Serpine2$^+$Col23a1$^+$': ['Serpine2', 'Shox2', 'Wif1', 'Col23a1', 'Gm48159', 'Cd24a', 'Nav2', 'Tfap2c', 'Tanc1', 'Scube3', \n",
    "                                                  'Cblb', 'Fgfr2', 'Olfm', 'Prdm1', 'Alx3', 'Inhba', 'Dio3', 'Rspo1'], \n",
    "                '3: FB Cxcl1$^+$Ccl2$^+$': ['Cxcl1', 'Ccl7', 'Has1', 'Cxcl2', 'Tnfaip6', 'Cxcl10', 'Ccl2', 'Gfpt2', 'Il6', 'Gpc3', 'Ccl11', 'Clec2d', \n",
    "                                            'Slc43a3', 'Pkdcc', 'C1s1', 'Pvr', 'Cd44', 'Mt1', 'Tnfaip6', 'Mt2', 'Abi3bp', 'Has1',],\n",
    "                '4: FB Clec3b$^+$Ly6a$^+$': ['Clec3b', 'Tnxb', 'Ly6a', 'Cd248', 'Ecm1', 'Tppp3', 'Islr', 'Ltbp4', 'Ly6c1', 'Nfib', 'Itm2a', 'Fbn1', \n",
    "                                             'Igf1', 'Lysmd2', 'Ebf1', 'Adamtsl4', 'C1s1', 'Igfbp6', 'Cxcl12', 'Mgst3', 'Cygb', 'Sema3c', ],\n",
    "                '5: FB Rab37$^+$Col22a1$^+$': ['Rab37', 'Col22a1', 'F13a1', 'Htra4', 'Tspan15', 'Rgcc', 'Hbegf', 'Cd55', 'Capg', 'Itga6', 'Pcsk6', 'Sema3c', 'Htra4', 'Sox5', 'Rgs5', 'Aldh1a3', 'Sema3d', \n",
    "                                         'Cmtm8', 'Ackr2'], \n",
    "                '6: FB Cilp2$^+$Acan$^+$': ['Cilp2', 'Chad', 'Egfl6', 'Comp', 'Fmod', 'Tnmd', 'Ecrg4', 'Kera', 'Acan', 'Scx', 'Fibin', 'Tspan2'], \n",
    "                '7: FB Lox$^+$Adam33$^+$': ['Mfap4', 'Lox', 'Adam33', 'Eln', 'Pdgfrl', 'Ccn5', 'Fbln5', 'Vgll3', 'Wnt5a', 'Osr2', 'Igfbp2', 'Phldb2', \n",
    "                                            'Pth1r', 'Ptk7', 'Col8a1', 'Slit2', 'Mmp16', 'C1qtnf3', 'Lrrc15'],\n",
    "                '8: FB Coch$^+$Emid1$^+$': ['Coch', 'Emid1', 'Gldn', 'Ntn5', 'Tnmd', 'Col16a1', 'Col11a1',  'Crabp1', 'Mafb', 'Fmod', 'Fbn2', \n",
    "                                            'Cxcr4', 'Ogn', 'Kera', 'Wfdc1', 'Hs3st6', 'Pi16', 'Trib2'],     \n",
    "                '9: FB Cfh$^+$Spp1$^+$': ['Cfh', 'Alpl', 'Lifr', 'Sp7', 'Spp1', 'Runx2', 'Cp', 'Mmp13', 'Ptprd', 'Hp',  'Ibsp', 'Cadm1', 'Lgmn', \n",
    "                                           'Limch1', 'Vdr', 'Dapk2', 'Dlx5', 'Sept4'],\n",
    "                  }"
   ]
  },
  {
   "cell_type": "code",
   "execution_count": null,
   "id": "fd8417af-e497-4b63-a672-a306a71777b1",
   "metadata": {},
   "outputs": [],
   "source": []
  },
  {
   "cell_type": "markdown",
   "id": "29454b5a-4565-48c6-8891-f2f444226a12",
   "metadata": {},
   "source": [
    "## Dotplot with markers of fibroblast subtypes"
   ]
  },
  {
   "cell_type": "code",
   "execution_count": null,
   "id": "3416543a-98b8-42df-ab96-78173166d2bf",
   "metadata": {
    "tags": []
   },
   "outputs": [],
   "source": [
    "markers_fb_dotplot = [\n",
    "     'Pdpn', 'Il1rl1', 'Ptgs2', 'Hilpda', \n",
    "     'Msc', 'Itga7', 'Cdh15', 'Blnk', \n",
    "     'Serpine2', 'Shox2', 'Cd24a', 'Col23a1',  \n",
    "     'Ccl2', 'Cxcl1', 'Ccl7', 'Cxcl2', \n",
    "     'Clec3b', 'Ly6a', 'Ltbp4', 'Cd248',  \n",
    "     'Htra4', 'F13a1', 'Col22a1', 'Rab37',  \n",
    "     'Cilp2', 'Acan', 'Chad', 'Egfl6', \n",
    "     'Igfbp2', 'Phldb2', 'Col8a1', 'Ccn5', \n",
    "     'Coch', 'Emid1', 'Gldn', 'Ntn5', \n",
    "     'Spp1', 'Cfh', 'Lifr', 'Alpl']"
   ]
  },
  {
   "cell_type": "code",
   "execution_count": null,
   "id": "3dabb64b-bf70-477b-aaf9-f8459c192cf2",
   "metadata": {
    "tags": []
   },
   "outputs": [],
   "source": [
    "sc.pl.dotplot(adata_fb, groupby='subtype', var_names=markers_fb_dotplot, dendrogram=False, show=False, \n",
    "             categories_order=list(dict_fbs.keys()), use_raw=False, vmax=3, smallest_dot=0.3)\n",
    "\n",
    "plt.savefig(f'results/figures/F2/markers_dotplot_FB_{date.today().strftime(\"%Y_%m_%d\")}.jpg', dpi=300)"
   ]
  },
  {
   "cell_type": "markdown",
   "id": "961300cf-153d-47d6-a698-71704af3c2cd",
   "metadata": {},
   "source": [
    "## Heatmaps of relevant pathways"
   ]
  },
  {
   "cell_type": "code",
   "execution_count": null,
   "id": "b7c916d7-602c-45c2-927b-6baeaa1a6e41",
   "metadata": {
    "tags": []
   },
   "outputs": [],
   "source": [
    "complement_genes = ['C1qa', 'C1qb', 'C1qbp', 'C1qc', 'C1ra', 'C1rb', 'C1rl', 'C1s1', 'C1s2', \n",
    "                    'C2', 'C3', 'C4a', 'C4b', 'C8g', 'Cd46', \n",
    "                    'Cfb', 'Cfd', 'Cfh',  'Cfhr1', 'Cfhr2', 'Cfp', 'Clu', 'Colec10', 'Colec11', \n",
    "                    'Crp', 'F3', 'Fcna',  'Il1b', 'Krt1', 'Masp2', \n",
    "                    'Phb', 'Procr', 'Rgcc', 'Thbd', 'Trbc1', 'Trbc2', 'Trdc', \n",
    "                    'Trdv4', 'Trem2']  # GO:0006956 - filtering negative regulation of complement activation GO:0045916\n",
    "\n",
    "\n",
    "complement_genes_filtered = ['C1qbp', 'C1s1', 'C3', 'C4b', 'Cfh', 'Clu', 'F3', 'Phb', 'Rgcc', 'Thbd']\n",
    "\n",
    "\n",
    "\n",
    "cytokine_interaction_genes = ['Ackr2', 'Ackr3', 'Ackr4', 'Adam17', 'Amh', 'Angpt1', 'Angpt2', 'Angpt4', 'Babam2', 'Bdnf', 'Bex3', 'Bmp3', 'Bmp4', 'Bmp8a', 'Cadm4', 'Casp3', 'Casp8', 'Ccdc88a', 'Ccl11', \n",
    "                              'Ccl12', 'Ccl19', 'Ccl2', 'Ccl20', 'Ccl21a', 'Ccl24', 'Ccl25', 'Ccl27a', 'Ccl28', 'Ccl3', 'Ccl4', 'Ccl5', 'Ccl6', 'Ccl7', 'Ccl8', 'Ccl9', 'Ccr1', 'Ccr10', 'Ccr5', 'Ccr7', \n",
    "                              'Ccr9', 'Ccrl2', 'Cd2ap', 'Cd300lf', 'Cd4', 'Cd44', 'Cd70', 'Cd74', 'Cdh5', 'Ceacam1', 'Cflar', 'Cklf', 'Clcf1', 'Cnih4', 'Cntfr', 'Creb3', 'Crlf1', 'Crlf2', 'Csf1', 'Csf2', \n",
    "                              'Csf2ra', 'Csf2rb', 'Csf2rb2', 'Csf3', 'Csf3r', 'Ctf1', 'Ctf2', 'Cx3cl1', 'Cx3cr1', 'Cxcl1', 'Cxcl10', 'Cxcl11', 'Cxcl12', 'Cxcl13', 'Cxcl14', 'Cxcl15', 'Cxcl16', 'Cxcl2', \n",
    "                              'Cxcl3', 'Cxcl5', 'Cxcl9', 'Cxcr2', 'Cxcr4', 'Cxcr5', 'Cxcr6', 'Dab2ip', 'Ddt', 'Defb1', 'Defb6', 'Dnaja3', 'Ecm1', 'Eda', 'Edaradd', 'Efna5', 'Eng', 'Epor', 'Erap1', 'F3', \n",
    "                              'Fadd', 'Fem1b', 'Fermt2', 'Fkbp1a', 'Frs2', 'Fzd4', 'Gata3', 'Gdnf', 'Gfra2', 'Gfra4', 'Ghr', 'Gm13272', 'Gm13283', 'Gm13305', 'Gm21970', 'Gpr35', 'Gpr75', 'Grb2', 'Grem1', \n",
    "                              'Grin2b', 'Hsd17b7', 'Ifnar1', 'Ifnar2', 'Ifngr1', 'Ifngr2', 'Ifnlr1', 'Ifnz', 'Il10', 'Il10ra', 'Il10rb', 'Il11', 'Il11ra1', 'Il12a', 'Il12rb1', 'Il12rb2', 'Il13ra1', 'Il13ra2', \n",
    "                              'Il15', 'Il15ra', 'Il16', 'Il17f', 'Il17ra', 'Il17rb', 'Il17rc', 'Il17rd', 'Il17re', 'Il18', 'Il18r1', 'Il18rap', 'Il1b', 'Il1r1', 'Il1r2', 'Il1rap', 'Il1rl1', 'Il1rl2', \n",
    "                              'Il1rn', 'Il20ra', 'Il20rb', 'Il21r', 'Il23a', 'Il27ra', 'Il2ra', 'Il2rg', 'Il31ra', 'Il33', 'Il34', 'Il3ra', 'Il4ra', 'Il6', 'Il6ra', 'Il6st', 'Il7', 'Irak1', 'Irak4', \n",
    "                              'Itch', 'Itgb3', 'Jak1', 'Jak2', 'Jak3', 'Kitl', 'Lefty1', 'Lefty2', 'Lepr', 'Lif', 'Lifr', 'Lta', 'Ltb', 'Lyn', 'Mif', 'Mpl', 'Msmp', 'Myd88', 'Nars', 'Nes', 'Ngf', 'Ngfr', \n",
    "                              'Nol3', 'Nradd', 'Nsmaf', 'Ntf3', 'Ntf5', 'Ntrk1', 'Nucb2', 'Nup85', 'Osm', 'Osmr', 'Pdcl3', 'Pf4', 'Pgf', 'Pibf1', 'Pik3r1', 'Plcg1', 'Prdm4', 'Prl2c3', 'Prl2c5', 'Prl7d1', \n",
    "                              'Prlr', 'Ptpn6', 'Pycard', 'Rasl11b', 'Ripk1', 'Rnf41', 'S100a14', 'Sdcbp', 'Sh2b3', 'Shc1', 'Siva1', 'Smad2', 'Smad3', 'Smad6', 'Smad7', 'Smurf2', 'Snx25', 'Snx6', 'Socs2', \n",
    "                              'Spred1', 'Spred2', 'Spred3', 'Stap1', 'Stat1', 'Stat3', 'Syk', 'Tgfb1', 'Tgfb2', 'Tgfb3', 'Tgfbr1', 'Tgfbr2', 'Tgfbr3', 'Tgfbr3l', 'Tgfbrap1', 'Timm50', 'Tlr5', 'Tmbim1', \n",
    "                              'Tnf', 'Tnfsf10', 'Tnfsf11', 'Tnfsf12', 'Tnfsf13b', 'Tnfsf15', 'Tnfsf4', 'Tnfsf8', 'Tnfsf9', 'Tollip', 'Tradd', 'Traf1', 'Traf2', 'Traf3', 'Traf4', 'Traf5', 'Traf6', 'Trim37', \n",
    "                              'Trip6', 'Tslp', 'Tyk2', 'Usp15', 'Vegfa', 'Vegfb', 'Vegfc', 'Vegfd', 'Xcl1', 'Xcr1', 'Zfp110', 'Zfp369']  # GO:0005126 + GO:0004896\n",
    "\n",
    "cytokine_interaction_genes_filtered = ['Ackr2', 'Adam17', 'Bex3', 'Bmp4', 'Casp3', 'Ccl11', 'Ccl19', 'Ccl2', 'Ccl5', 'Ccl7', \n",
    "                                       'Cd2ap', 'Cd44', 'Cflar', 'Cnih4', 'Crlf1', 'Csf1', 'Cxcl1', 'Cxcl10', 'Cxcl12',\n",
    "                                       'Cxcl14', 'Cxcl2', 'Cxcl5', 'Dab2ip', 'Ddt', 'Ecm1', 'Eng', 'Fermt2', 'Fkbp1a', \n",
    "                                       'Ghr', 'Ifnar2', 'Ifngr1', 'Il11ra1', 'Il13ra1', 'Il1r1', 'Il1rl1', 'Il33', \n",
    "                                       'Il6', 'Il6st', 'Irak1', 'Itch', 'Jak1', 'Jak2', 'Kitl', 'Lepr', 'Lif', 'Lifr', \n",
    "                                       'Mif', 'Nars', 'Nucb2', 'Pdcl3', 'Pgf', 'Pik3r1', 'Rasl11b', 'Sdcbp', 'Siva1', \n",
    "                                       'Smad7', 'Snx6', 'Stat3', 'Tgfb1', 'Tgfb2', 'Tgfb3', 'Tgfbr3', 'Timm50', 'Tmbim1', \n",
    "                                       'Tnfsf12', 'Tnfsf9', 'Tollip', 'Trip6', 'Vegfa',]\n",
    "\n",
    "\n",
    "\n",
    "cytokine_release = ['Csf1', 'Csf2', 'Ccl2', 'Cxcl1', 'Il11']\n",
    "\n",
    "\n",
    "\n",
    "\n",
    "ECM_assembly_disassembly = ['Adamts15', 'Adamts5', 'Agt', 'Antxr1', 'Atp7a', 'Carmil2', 'Clasp1', 'Clasp2', 'Cma1', 'Col1a2', 'Col3a1', 'Ctsg', 'Ctss', 'Dag1', 'Ddr1', 'Ddr2', 'Dpp4', 'Efemp2', \n",
    "                            'Emilin1', 'Eng', 'Ets1', 'Exoc8', 'Fap', 'Fbln5', 'Fgfr4', 'Fkbp10', 'Flot1', 'Fscn1', 'Gpm6b', 'Hapln2', 'Has1', 'Has2', 'Has3', 'Hpn', 'Hpse', 'Ihh', 'Il6', \n",
    "                            'Kif9', 'Klk5', 'Lamb1', 'Lamb2', 'Lamb3', 'Lamc1', 'Lcp1', 'Lox', 'Ltbp3', 'Ltbp4', 'Meltf', 'Mfap4', 'Mmp13', 'Myh11', 'Notch1', 'Noxo1', 'Ntn4', 'Ntng1', 'Ntng2', \n",
    "                            'Pbxip1', 'Pdpn', 'Phldb1', 'Phldb2', 'Plod3', 'Pxdn', 'Qsox1', 'Ramp2', 'Rgcc', 'Sema5a', 'Sh3pxd2b', 'Smad3', 'Smpd3', 'Sox9', 'Tgfb1', 'Tgfb2', 'Thsd4', \n",
    "                            'Tie1', 'Tnxb'] # GO:0022617 + GO:0085029\n",
    "\n",
    "ECM_assembly_disassembly_filtered = ['Agt', 'Antxr1', 'Col1a2', 'Col3a1', 'Dag1', 'Ddr2', 'Efemp2', 'Emilin1', \n",
    "                                     'Eng', 'Ets1', 'Fap', 'Fbln5', 'Fkbp10', 'Flot1', 'Fscn1', 'Gpm6b', 'Has1', \n",
    "                                     'Il6', 'Lamb1', 'Lamb2', 'Lamc1', 'Lox', 'Ltbp3', 'Ltbp4', 'Mfap4', 'Mmp13', \n",
    "                                     'Ntn4', 'Pbxip1', 'Pdpn', 'Phldb2', 'Pxdn', 'Qsox1', 'Rgcc', 'Sema5a', 'Sh3pxd2b', \n",
    "                                    'Smpd3', 'Tgfb1', 'Tgfb2', 'Tnxb' ]\n",
    "\n",
    "\n",
    "\n",
    "\n",
    "hypoxia = ['Acaa2', 'Adam8', 'Ado', 'Adrb2', 'Ajuba', 'Ak4', 'Akt1', 'Aqp1', 'Aqp3', 'Atf2', 'Bad', 'Bcl2', 'Bmyc', 'Bnip3', 'Bnip3l', 'Cbs', 'Cd34', 'Cited2', 'Commd1', 'Cpeb1', 'Cpeb2', 'Cr1l', \n",
    "           'Cybb', 'Ddah1', 'Egln1', 'Egln2', 'Egln3', 'Egr1', 'Eif4ebp1', 'Eno1', 'Eno1b', 'Ep300', 'Epas1', 'Epha4', 'Fam162a', 'Fmn2', 'Fndc1', 'Gata6', 'Gnb1', 'Hif1a', 'Hif1an', 'Hif3a', \n",
    "           'Higd1a', 'Hp1bp3', 'Hyou1', 'Kcnk2', 'Kcnk3', 'Kdm6a', 'Map2k1', 'Mgarp', 'Mir214', 'Mlst8', 'Mtor', 'Myc', 'Ndnf', 'Nfe2l2', 'Nol3', 'Nop53', 'Notch1', 'Npepps', 'Ogt', 'P4hb', \n",
    "           'Pdk1', 'Pdk3', 'Pgk1', 'Pik3cb', 'Pink1', 'Plk3', 'Ppard', 'Pparg', 'Prkce', 'Pten', 'Ptgis', 'Rbpj', 'Rgcc', 'Rock2', 'Rora', 'Rptor', 'Rtn4', 'Rwdd3', 'Scn2a', 'Sdhd', 'Sirt1', \n",
    "           'Sirt2', 'Slc2a4', 'Slc8a3', 'Slc9a1', 'Stox1', 'Stub1', 'Suv39h1', 'Suv39h2', 'Tbl2', 'Tert', 'Tigar', 'Tmbim6', 'Trp53', 'Twist1', 'Ubqln1', 'Usp19', 'Vasn', 'Vegfa', 'Vhl', 'Vldlr', \n",
    "           'Zfas1', 'Zfp36l1']  # GO:0071456\n",
    "\n",
    "hypoxia_filtered = ['Acaa2', 'Akt1', 'Aqp1', 'Bad', 'Bcl2', 'Bmyc', 'Bnip3', 'Bnip3l', 'Cd34', 'Commd1', 'Cr1l', \n",
    "                    'Egln1', 'Egr1', 'Eif4ebp1', 'Eno1', 'Ep300', 'Fam162a', 'Fndc1', 'Gnb1', 'Hif1a', \n",
    "                    'Higd1a', 'Hp1bp3', 'Myc', 'Nfe2l2', 'Nop53', 'Npepps', 'Ogt', 'P4hb', 'Pgk1', 'Pink1', \n",
    "                    'Ppard', 'Pten', 'Ptgis', 'Rbpj', 'Rgcc', 'Rora', 'Rtn4', \n",
    "                    'Sdhd', 'Sirt1', 'Sirt2', 'Slc9a1', 'Tmbim6', 'Trp53', 'Twist1', 'Ubqln1', 'Usp19', 'Vasn', \n",
    "                    'Vegfa', 'Vhl', 'Vldlr', 'Zfas1', 'Zfp36l1']\n",
    "\n",
    "\n",
    "\n",
    "\n",
    "OXPHOS = ['1700066M21Rik', 'Abcd1', 'Actn3', 'Afg1l', 'Ak4', 'Atp5a1', 'Atp5b', 'Atp5c1', 'Atp5d', 'Atp5e', 'Atp5h', 'Atp5j', 'Atp5j2', 'Atp5k', 'Atp5o', 'Atp7a', 'Atpsckmt', 'Bdnf', 'Bid', 'Ccnb1', \n",
    "          'Cdk1', 'Chchd10', 'Coa6', 'Coq7', 'Coq9', 'Cox4i1', 'Cox4i2', 'Cox5a', 'Cox5b', 'Cox6a1', 'Cox6a2', 'Cox6c', 'Cox7a1', 'Cox7a2', 'Cox7a2l', 'Cox7c', 'Cox8a', 'Cox8b', 'Cyc1', 'Cycs', \n",
    "          'Dguok', 'Dld', 'Dnajc15', 'Dnajc30', 'Fxn', 'Iscu', 'Mlxipl', 'Msh2', 'mt-Atp6', 'mt-Atp8', 'mt-Co1', 'mt-Co2', 'mt-Co3', 'mt-Cytb', 'mt-Nd1', 'mt-Nd2', 'mt-Nd3', 'mt-Nd4', 'mt-Nd4l', \n",
    "          'mt-Nd5', 'mt-Nd6', 'Mtch2', 'Myc', 'Myog', 'Ndufa1', 'Ndufa2', 'Ndufa3', 'Ndufa5', 'Ndufa6', 'Ndufa7', 'Ndufa8', 'Ndufa9', 'Ndufa10', 'Ndufa11', 'Ndufa12', 'Ndufa13', 'Ndufab1', 'Ndufaf1',\n",
    "          'Ndufb2', 'Ndufb3', 'Ndufb4', 'Ndufb5', 'Ndufb6', 'Ndufb7', 'Ndufb8', 'Ndufb9', 'Ndufb10', 'Ndufb11', 'Ndufc1', 'Ndufc2', 'Ndufs1', 'Ndufs2', 'Ndufs3', 'Ndufs4', 'Ndufs5', 'Ndufs6', 'Ndufs7', \n",
    "          'Ndufs8', 'Ndufv1', 'Ndufv2', 'Ndufv3', 'Nipsnap2', 'Nupr1', 'Park7', 'Pde2a', 'Pde12', 'Pink1', 'Ppif', 'Rhoa', 'Sdha', 'Sdhaf2', 'Sdhb', 'Sdhc', 'Sdhd', 'Shmt2', 'Slc25a23', 'Slc25a33', \n",
    "          'Snca', 'Stoml2', 'Tefm', 'Tnf', 'Uqcc2', 'Uqcc3', 'Uqcr10', 'Uqcr11', 'Uqcrb', 'Uqcrc1', 'Uqcrc2', 'Uqcrfs1', 'Uqcrh', 'Uqcrq', 'Vcp']  # GO:0006119\n",
    "\n",
    "OXPHOS_filtered = ['Atp5a1', 'Atp5b', 'Atp5c1', 'Atp5d', 'Atp5e', 'Atp5h', 'Atp5j', 'Atp5j2', 'Atp5k', \n",
    "                   'Chchd10', 'Cox4i1', 'Cox4i2', 'Cox5a', 'Cox5b', 'Cox6a1', 'Cox6c', 'Cox7a2', 'Cox7a2l', \n",
    "                   'Cox7c', 'Cox8a', 'Cyc1', 'Dnajc15', 'Iscu', 'mt-Atp6', 'mt-Atp8', 'mt-Co1', 'mt-Cytb', \n",
    "                   'mt-Nd1', 'mt-Nd2', 'mt-Nd3', 'mt-Nd4', 'mt-Nd4l', 'mt-Nd5', 'mt-Nd6', 'Mtch2', 'Myc',\n",
    "                   'Ndufa1', 'Ndufa2', 'Ndufa3', 'Ndufa5', 'Ndufa6', 'Ndufa7', 'Ndufa10', 'Ndufa11', 'Ndufa13', \n",
    "                   'Ndufb2', 'Ndufb3', 'Ndufb5', 'Ndufb7', 'Ndufb9', 'Ndufb10', 'Ndufb11', 'Ndufc2', 'Nupr1', \n",
    "                   'Park7', 'Rhoa', 'Sdhb', 'Sdhd', 'Shmt2', 'Stoml2', 'Uqcc2', 'Uqcr10', 'Uqcr11', 'Uqcrb', 'Uqcrq' ]\n",
    "\n",
    "\n",
    "\n",
    "glycolysis = ['Actn3', 'Adpgk', 'Aldoa', 'Aldoart1', 'Aldob', 'Aldoc', 'App', 'Arl2', 'Bpgm', 'Cbfa2t3', 'Ddit4', 'Dhtkd1', 'Eif6', 'Eno1', 'Eno1b', 'Eno2', 'Eno3', 'Enpp1', 'Ep300', 'Fbp1', 'Flcn', \n",
    "              'Foxk1', 'Foxk2', 'Gale', 'Galk1', 'Galt', 'Gapdh', 'Gapdhs', 'Gck', 'Git1', 'Gpd1', 'Gpi1', 'Hdac4', 'Hif1a', 'Hk1', 'Hk2', 'Hk3', 'Hkdc1', 'Htr2a', 'Ier3', 'Igf1', 'Insr', 'Jmjd8', \n",
    "              'Khk', 'Mlst8', 'Mlxipl', 'Mpi', 'Mtch2', 'Mtor', 'Myc', 'Myog', 'Ncor1', 'Nupr1', 'Ogdh', 'Ogt', 'P2rx7', 'Pfkfb2', 'Pfkl', 'Pfkm', 'Pfkp', 'Pgam1', 'Pgk1', 'Pkm', 'Ppara', 'Ppargc1a', \n",
    "              'Prkaa1', 'Prkaa2', 'Prkag2', 'Prkag3', 'Prxl2c', 'Psen1', 'Rptor', 'Sirt6', 'Slc2a6', 'Slc4a1', 'Slc4a4', 'Stat3', 'Tigar', 'Tkfc', 'Tpi1', 'Zbtb7a', 'Zbtb20']  # GO:0006096\n",
    "\n",
    "\n",
    "glycolysis_filtered = ['Aldoa', 'App', 'Arl2', 'Ddit4', 'Eif6', 'Eno1', 'Enpp1', 'Ep300', 'Flcn', 'Galk1', \n",
    "                       'Gapdh', 'Git1', 'Gpi1', 'Hdac4', 'Hif1a', 'Hk1', 'Ier3', 'Igf1', 'Mtch2', 'Myc', 'Ncor1', \n",
    "                       'Nupr1', 'Ogdh', 'Ogt', 'Pfkp', 'Pgam1', 'Pgk1', 'Pkm', 'Prxl2c', 'Stat3', 'Tpi1', \n",
    "                       'Zbtb7a', 'Zbtb20' ]\n",
    "\n",
    "\n",
    "\n",
    "stress = ['Abcd1', 'Abl1', 'Adnp2', 'Agap3', 'Aif1', 'Aifm2', 'Akr1b3', 'Akr1c14', 'Akr1c18', 'Akr1cl', 'Akt1', 'Aldh2', 'Aldh3b1', 'Alox5', 'Ankzf1', 'Anxa1', 'Apex1', 'App', 'Aqp1', 'Arl6ip5', \n",
    "          'Arnt', 'Arntl', 'Atf2', 'Atf4', 'Atg7', 'Atp13a2', 'Atp2a2', 'Atp7a', 'Axl', 'Bag5', 'Bcl2', 'Bmp4', 'Bnip3', 'Brf2', 'Btk', 'Capn1', 'Cat', 'Ccs', 'Cd36', 'Cdkn2a', 'Cfl1', 'Chchd4', \n",
    "          'Chd6', 'Chuk', 'Coq7', 'Cpeb2', 'Ctnnb1', 'Cyp1b1', 'Dapk1', 'Ddias', 'Ddr2', 'Ddx3x', 'Dhfr', 'Diablo', 'Dnajc3', 'Ect2', 'Edn1', 'Ednra', 'Egfr', 'Eif2ak1', 'Eif2ak3', 'Eif2ak4', \n",
    "          'Eif2s1', 'Eif4g1', 'Endog', 'Epas1', 'Epor', 'Ercc6l2', 'Ermp1', 'Etv5', 'Ezh2', 'Fancc', 'Fancd2', 'Fbln5', 'Fbxo7', 'Fbxw7', 'Fech', 'Fer', 'Fos', 'Foxa1', 'Foxo1', 'Foxo3', 'Foxp1', \n",
    "          'Fut8', 'Fxn', 'Fyn', 'Fzd1', 'G6pdx', 'Gata4', 'Gch1', 'Gfer', 'Gpr37l1', 'Gpx1', 'Gskip', 'Gsr', 'Hdac2', 'Hdac6', 'Hgf', 'Hif1a', 'Hk3', 'Hmox1', 'Hsf1', 'Hspb1', 'Hsph1', 'Htra2', \n",
    "          'Il10', 'Il6', 'Impact', 'Itgam', 'Jak2', 'Jun', 'Kdm6b', 'Keap1', 'Krt13', 'Lancl1', 'Lcn2', 'Lonp1', 'Lrrk2', 'Map3k5', 'Mapk1', 'Mapk13', 'Mapk3', 'Mapk7', 'Mapk8', 'Mapk9', 'Mapkap1', \n",
    "          'Mapt', 'Mcl1', 'Meak7', 'Melk', 'Met', 'Mgat3', 'Mgst1', 'Mmp2', 'Mmp3', 'Mmp9', 'Mpo', 'Mpv17', 'Msra', 'Mt3', 'Nck1', 'Nck2', 'Ncoa7', 'Net1', 'Nfe2l1', 'Nfe2l2', 'Ngb', 'Ngfr', \n",
    "          'Nme5', 'Nol3', 'Nono', 'Nos3', 'Nox1', 'Npm1', 'Nqo1', 'Nr4a2', 'Nr4a3', 'Oser1', 'Oxr1', 'P4hb', 'Park7', 'Parp1', 'Pawr', 'Pcgf2', 'Pdcd10', 'Pde8a', 'Pdgfra', 'Pdgfrb', 'Pdk1', 'Pdk2', \n",
    "          'Pink1', 'Pjvk', 'Pla2r1', 'Plekha1', 'Pml', 'Pnpla8', 'Pnpt1', 'Ppargc1a', 'Ppargc1b', 'Ppia', 'Ppif', 'Ppp1r15a', 'Ppp1r15b', 'Prdx1', 'Prdx2', 'Prdx3', 'Prdx5', 'Prkaa1', 'Prkaa2', \n",
    "          'Prkcd', 'Prkch', 'Prkd1', 'Prkn', 'Prkra', 'Prr5l', 'Psap', 'Ptprk', 'Pycr1', 'Pycr2', 'Pyroxd1', 'Rack1', 'Rad52', 'Rbm11', 'Rbm4', 'Rela', 'Rest', 'Rhob', 'Ripk1', 'Ripk3', 'Rnf112', \n",
    "          'Rnf146', 'Rnf7', 'Romo1', 'Rps3', 'Rwdd1', 'Scly', 'Selenon', 'Selenos', 'Sesn2', 'Setx', 'Sfpq', 'Sigmar1', 'Sin3a', 'Sirpa', 'Sirt1', 'Sirt2', 'Slc11a2', 'Slc1a1', 'Slc25a24', 'Slc35a4', \n",
    "          'Slc4a11', 'Slc7a11', 'Slc8a1', 'Smpd3', 'Snca', 'Sod1', 'Sod2', 'Sod3', 'Sphk1', 'Src', 'Srxn1', 'Stat6', 'Stk24', 'Stk25', 'Stk26', 'Stx2', 'Stx4a', 'Tbc1d24', 'Tlr4', 'Tlr6', 'Tmed2', \n",
    "          'Tmem161a', 'Tnf', 'Tnfaip3', 'Trap1', 'Trem2', 'Trp53', 'Trp53inp1', 'Trpc6', 'Trpm2', 'Tsc1', 'Txn1', 'Txndc2', 'Uaca', 'Ubqln1', 'Ucp1', 'Vkorc1l1', 'Vnn1', 'Vrk2', 'Wnt1', 'Wnt16', \n",
    "          'Xbp1', 'Zc3h12a', 'Zfp277', 'Zfp580', 'Zfp622']  # GO:0043555 + GO:1900407\n",
    "\n",
    "\n",
    "stress_filtered = ['Abl1', 'Akt1', 'Aldh2', 'Anxa1', 'App', 'Aqp1', 'Arl6ip5', 'Arntl', 'Atf4', 'Atp2a2', 'Axl', \n",
    "                   'Bag5', 'Bcl2', 'Bmp4', 'Bnip3', 'Cfl1', 'Ctnnb1', 'Ddr2', 'Ddx3x', 'Ednra', 'Fbln5', \n",
    "                   'Fos', 'Foxo3', 'Foxp1', 'Fyn', 'Fzd1', 'Gpx1', 'Gsr', 'Hif1a', 'Hmox1', 'Hspb1', 'Hsph1', \n",
    "                   'Jak2', 'Jun', 'Kdm6b', 'Lcn2', 'Mapk3', 'Mapkap1', 'Mcl1', 'Mgst1', 'Mmp2', 'Mmp3', \n",
    "                   'Nfe2l1', 'Nfe2l2', 'Nono', 'Nr4a2', 'P4hb', 'Park7', 'Pdcd10', 'Pdgfra', 'Pdgfrb', 'Ppia', \n",
    "                   'Ppp1r15a', 'Prdx1', 'Prdx2', 'Prdx5', 'Psap', 'Rack1', 'Rela', 'Rhob', 'Romo1', 'Rwdd1', \n",
    "                   'Selenos', 'Sfpq', 'Sirpa', 'Smpd3', 'Sod1', 'Sod2', 'Srxn1', 'Stx4a', 'Tmed2', 'Tnfaip3', \n",
    "                   'Trp53', 'Txn1', 'Uaca', 'Xbp1', 'Zfp622', ]\n",
    "\n",
    "\n",
    "positive_regulation_of_acute_inflammatory_response = ['Adam8', 'Alox5ap', 'Aoc3', 'Btk', 'C2cd4a', 'C2cd4b', 'C3', 'Ccl5', 'Ccr7', \n",
    "                        'Cnr1', 'Fcer1a', 'Fcer1g', 'Fcgr1', 'Fcgr3', 'Ffar2', 'Ffar3', \n",
    "                        'Ighg1', 'Ighg2b', 'Il1b', 'Il6', 'Npy5r', 'Park7', 'Pik3cg', \n",
    "                        'Ptger3', 'Ptgs2', 'Tac1', 'Tnf', 'Tnfrsf11a', 'Tnfsf11', 'Zp3', ]  # GO:0002675\n",
    "\n",
    "positive_regulation_of_acute_inflammatory_response_filtered = [\n",
    "                         'Alox5ap', 'Aoc3', 'C3', 'Ccl5', 'Il6', 'Park7', \n",
    "                        'Ptger3', 'Ptgs2', 'Tac1', 'Tnfsf11', \n",
    "                        ]\n",
    "\n",
    "\n",
    "\n",
    "positive_regulation_of_inflammatory_response = ['Abcc1', 'Ace', 'Adam8', 'Adora2b', 'Adora3', 'Ager', 'Aim2', 'Alox5ap', 'Aoc3', \n",
    "                                                'App', 'Btk', 'C2cd4a', 'C2cd4b', 'C3', 'Camk2n1', 'Casp1', 'Casp4', 'Ccl1', 'Ccl24', \n",
    "                                                'Ccl3', 'Ccl5', 'Ccn4', 'Ccr2', 'Ccr5', 'Ccr7', 'Cd24a', 'Cd28', 'Cd47', 'Cd81', \n",
    "                                                'Cdk19', 'Cebpa', 'Cebpb', 'Clock', 'Cnr1', 'Csf1r', 'Ctsc', 'Ctss', 'Ddt', 'Dhx9', \n",
    "                                                'Ednra', 'Egfr', 'Ets1', 'Fabp4', 'Fcer1a', 'Fcer1g', 'Fcgr1', 'Fcgr3', 'Fem1a', \n",
    "                                                'Ffar2', 'Ffar3', 'Fgfr1', 'Gpr4', 'Gprc5b', 'Gpsm3', 'Grn', 'Hspd1', 'Hyal2', 'Ido1', \n",
    "                                                'Ifi35', 'Ifng', 'Ighg1', 'Ighg2b', 'Il16', 'Il17ra', 'Il17rb', 'Il18', \n",
    "                                                'Il1b', 'Il1rl1', 'Il33', 'Il6', 'Itga2', 'Jak2', 'Kars', 'Lbp', 'Ldlr', 'Lgals1', \n",
    "                                                'Lgals2', 'Lilra5', 'Lpl', 'Lrrk2', 'Lta', 'Mdk', 'Mefv', 'Mmp8', 'Napepld', 'Nfkbia', \n",
    "                                                'Nfkbiz', 'Ninj1', 'Nkg7', 'Nlrp10', 'Nlrp1a', 'Nlrp1b', 'Nlrp3', 'Nlrp6', 'Nmi', \n",
    "                                                'Nppa', 'Npy5r', 'Nupr1', 'Osm', 'Park7', 'Pdcd4', 'Pde2a', 'Pde5a', 'Pik3cg', \n",
    "                                                'Pla2g3', 'Pla2g4a', 'Plcg2', 'Prkca', 'Ptger3', 'Ptger4', 'Ptgs2', 'Pycard', \n",
    "                                                'Ripk1', 'Rps19', 'S100a8', 'S100a9', 'Serpine1', 'Setd4', 'Snca', 'Snx4', 'Stap1', \n",
    "                                                'Stat5a', 'Stat5b', 'Sucnr1', 'Tac1', 'Tafa3', 'Tgm2', 'Tlr2', 'Tlr3', 'Tlr4', 'Tlr6', \n",
    "                                                'Tlr9', 'Tnf', 'Tnfrsf11a', 'Tnfrsf1a', 'Tnfsf11', 'Tnfsf18', 'Tnfsf4', 'Tnip1', \n",
    "                                                'Tradd', 'Trem2', 'Trpv4', 'Tslp', 'Ttbk1', 'Vamp7', 'Vamp8', 'Wnt5a', 'Zbp1', 'Zp3']\n",
    "  #  GO:0050729 \n",
    "\n",
    "positive_regulation_of_inflammatory_response_filtered = [\n",
    "                        'Abcc1', 'Ace','App',  'C3',  'Casp4', 'Ccl5', 'Ccn4', 'Cd24a', 'Cd47', 'Cd81', \n",
    "                        'Cebpb', 'Ctsc', 'Ddt', 'Dhx9', 'Egfr', 'Ets1', 'Fabp4', 'Fgfr1', 'Grn', 'Hspd1', \n",
    "                        'Ifi35', 'Il17ra', 'Il1rl1', 'Il33', 'Il6', 'Jak2', 'Lbp', 'Lgals1', \n",
    "                        'Lpl', 'Mdk', 'Nfkbia', 'Nfkbiz', 'Ninj1', 'Nupr1', 'Park7', 'Pdcd4', 'Pla2g4a', 'Prkca', \n",
    "                        'Ptgs2', 'Tac1', 'Tgm2', 'Tlr2', 'Tnfrsf1a', \n",
    "                        'Tnfsf11', 'Tnip1', 'Trpv4', 'Vamp8', 'Wnt5a', \n",
    "                        ]\n",
    "\n",
    "\n",
    "\n",
    "\n",
    "positive_regulation_of_lipid_biosynthetic_process = [\n",
    "    'Abcd1','Abcd2', 'Abcg1', 'Abcg4', 'Abhd6', 'Acsl3', 'Acsl5', 'Adgrf5', 'Adora2b', 'Agt', 'Akt1', 'Anxa1', 'Apoa1',\n",
    "    'Apoe', 'Avp', 'Avpr1a', 'Bmp6', 'Capn2', 'Ccdc3', 'Ccn1', 'Cd74',\n",
    "    'Chp1', 'Cnep1r1', 'Creb1', 'Crebl2', 'Ctdnep1', 'Cyp17a1', 'Dab2', 'Dbi', 'Dgat1', 'Dgat2', 'Elovl5', \n",
    "    'Fabp3', 'Fdps', 'Fgf1', 'Gpam', 'Gpld1', 'Hsd17b13', 'Htr2a', 'Htr2b', \n",
    "    'Igf1', 'Igf1r', 'Igf2', 'Il1b', 'Kat5', 'Ldlr', 'Lpgat1', 'Mapk9', 'Mfsd2a', 'Mid1ip1', 'Mlst8', 'Mlxipl', \n",
    "    'Mtor', 'Nr1d1', 'Nr1h2', 'Nr1h3', 'Pcx', 'Pla2g3', 'Pla2g4a', 'Pla2g6', 'Plin5', 'Por', 'Ppara', 'Ppargc1a', \n",
    "    'Prkcd', 'Ptgs2', 'Rab38', 'Rdh1', 'Rdh10', 'Rdh16', 'Rdh9', 'Rptor', 'Scap', 'Scarb1', 'Scp2', \n",
    "    'Sec14l2', 'Sirt3', 'Sirt4', 'Slc27a1', 'Slc45a3', 'Smpd3', 'Sorbs1', 'Sphk2', 'Srebf1', 'Srebf2', 'Star', 'Stard4', \n",
    "    'Tcf7l2', 'Tnf', 'Wnt4', 'Zbtb20'] # GO:0046889\n",
    "\n",
    "\n",
    "\n",
    "positive_regulation_of_lipid_biosynthetic_process_filtered = [\n",
    "    'Acsl3', 'Agt', 'Akt1', 'Anxa1', 'Apoe', 'Bmp6', 'Capn2', 'Ccdc3', 'Ccn1', \n",
    "    'Chp1', 'Cnep1r1', 'Ctdnep1', 'Dab2', 'Dbi', 'Igf1', 'Igf1r', 'Igf2', 'Lpgat1', 'Mid1ip1',  \n",
    "    'Nr1d1', 'Nr1h2', 'Pla2g4a', 'Por', 'Prkcd', 'Ptgs2', 'Rdh10', 'Rptor', 'Scap', 'Scarb1', 'Scp2', \n",
    "    'Slc27a1', 'Sorbs1', 'Srebf2', 'Tcf7l2', 'Zbtb20'] # GO:0046889"
   ]
  },
  {
   "cell_type": "code",
   "execution_count": null,
   "id": "a8892689-4e73-42c9-8d16-25d65d17c35c",
   "metadata": {
    "tags": []
   },
   "outputs": [],
   "source": [
    "fb_order = list(dict_fbs.keys())\n",
    "fb_num_order = [i.split(': ')[0] for i in fb_order]\n",
    "\n",
    "cmap='Blues'"
   ]
  },
  {
   "cell_type": "code",
   "execution_count": null,
   "id": "118e288b-9174-4533-b003-047c506af71c",
   "metadata": {
    "tags": []
   },
   "outputs": [],
   "source": [
    "adata_fb.obs['condition-cell_type'] = adata_fb.obs['subtype'].astype(str) + '-' + adata_fb.obs['condition'].astype(str)\n",
    "adata_fb.obs['condition-cell_type'] = adata_fb.obs['condition-cell_type'].astype('category')\n",
    "adata_fb.obs['condition-cell_type'].cat.categories"
   ]
  },
  {
   "cell_type": "code",
   "execution_count": null,
   "id": "c0a3ff20-b39b-452b-a563-cfa8902d490c",
   "metadata": {
    "tags": []
   },
   "outputs": [],
   "source": [
    "sc.pl.matrixplot(adata_fb, groupby='subtype', var_names=positive_regulation_of_lipid_biosynthetic_process_filtered, \n",
    "                 use_raw=False, categories_order=fb_order, cmap=cmap, show=False, \n",
    "                 dendrogram=False, swap_axes=True, figsize=(10, 8), vmax=0.7)\n",
    "\n",
    "plt.savefig(f'results/figures/F2/matrixplot_positive_regulation_of_lipid_biosynthetic_process_filtered_{date.today().strftime(\"%Y_%m_%d\")}.jpg', dpi=300)"
   ]
  },
  {
   "cell_type": "code",
   "execution_count": null,
   "id": "d28e2fb6-da3a-4bf2-9f77-988098b73c0a",
   "metadata": {
    "tags": []
   },
   "outputs": [],
   "source": [
    "sc.pl.matrixplot(adata_fb, groupby='subtype', var_names=positive_regulation_of_inflammatory_response_filtered, use_raw=False,\n",
    "                 dendrogram=False, swap_axes=True, figsize=(10, 14), vmax=1, categories_order=fb_order, cmap=cmap, show=False)\n",
    "\n",
    "plt.savefig(f'results/figures/F2/matrixplot_positive_regulation_of_inflammatory_response_filtered_{date.today().strftime(\"%Y_%m_%d\")}.jpg', dpi=300)"
   ]
  },
  {
   "cell_type": "code",
   "execution_count": null,
   "id": "c23f3321-7c9e-4a85-804b-a6e5c39d78d8",
   "metadata": {
    "tags": []
   },
   "outputs": [],
   "source": [
    "sc.pl.matrixplot(adata_fb, groupby='subtype', var_names=positive_regulation_of_acute_inflammatory_response_filtered, \n",
    "                 dendrogram=False, swap_axes=True, figsize=(10, 4), vmax=0.85, categories_order=fb_order, cmap=cmap, show=False)\n",
    "\n",
    "plt.savefig(f'results/figures/F2/matrixplot_positive_regulation_of_acute_inflammatory_response_filtered_{date.today().strftime(\"%Y_%m_%d\")}.jpg', dpi=300)"
   ]
  },
  {
   "cell_type": "code",
   "execution_count": null,
   "id": "15c3b8b6-aca2-4af1-94b9-a501bb384e57",
   "metadata": {
    "tags": []
   },
   "outputs": [],
   "source": [
    "sc.pl.matrixplot(adata_fb, groupby='subtype', var_names=complement_genes_filtered, dendrogram=False, \n",
    "                 swap_axes=True, figsize=(10, 4), vmax=0.85, categories_order=fb_order, cmap=cmap, show=False)\n",
    "\n",
    "plt.savefig(f'results/figures/F2/matrixplot_complement_genes_filtered_{date.today().strftime(\"%Y_%m_%d\")}.jpg', dpi=300)"
   ]
  },
  {
   "cell_type": "code",
   "execution_count": null,
   "id": "2a1db051-0925-433d-b9b4-d4e74045e8cf",
   "metadata": {
    "tags": []
   },
   "outputs": [],
   "source": [
    "sc.pl.matrixplot(adata_fb, groupby='subtype', var_names=cytokine_interaction_genes_filtered, dendrogram=False, \n",
    "                 swap_axes=True, figsize=(10, 13), vmax=0.85, categories_order=fb_order, cmap=cmap, show=False)\n",
    "\n",
    "plt.savefig(f'results/figures/F2/matrixplot_cytokine_interaction_genes_filtered_{date.today().strftime(\"%Y_%m_%d\")}.jpg', dpi=300)"
   ]
  },
  {
   "cell_type": "code",
   "execution_count": null,
   "id": "3e5f7237-6f51-4812-9a0f-15c7437fb935",
   "metadata": {
    "tags": []
   },
   "outputs": [],
   "source": [
    "sc.pl.matrixplot(adata_fb, groupby='subtype', var_names=cytokine_release, dendrogram=False, swap_axes=True, \n",
    "                 figsize=(10, 1), vmax=0.85, categories_order=fb_order, cmap=cmap, show=False)\n",
    "\n",
    "plt.savefig(f'results/figures/F2/matrixplot_cytokine_release_{date.today().strftime(\"%Y_%m_%d\")}.jpg', dpi=300)"
   ]
  },
  {
   "cell_type": "code",
   "execution_count": null,
   "id": "43271992-a48e-4317-94c6-829773f69b61",
   "metadata": {
    "tags": []
   },
   "outputs": [],
   "source": [
    "sc.pl.matrixplot(adata_fb, groupby='subtype', var_names=ECM_assembly_disassembly_filtered, dendrogram=False, \n",
    "                 swap_axes=True, figsize=(10, 6), vmax=0.85, categories_order=fb_order, cmap=cmap, show=False)\n",
    "\n",
    "plt.savefig(f'results/figures/F2/matrixplot_ECM_assembly_disassembly_filtered_{date.today().strftime(\"%Y_%m_%d\")}.jpg', dpi=300)"
   ]
  },
  {
   "cell_type": "code",
   "execution_count": null,
   "id": "18173cfc-8d93-4f5f-b7e5-4f458e0f66f5",
   "metadata": {
    "tags": []
   },
   "outputs": [],
   "source": [
    "sc.pl.matrixplot(adata_fb, groupby='subtype', var_names=hypoxia_filtered, dendrogram=False, swap_axes=True, \n",
    "                 figsize=(10, 8), vmax=0.85, categories_order=fb_order, cmap=cmap, show=False)\n",
    "\n",
    "plt.savefig(f'results/figures/F2/matrixplot_hypoxia_filtered_{date.today().strftime(\"%Y_%m_%d\")}.jpg', dpi=300)"
   ]
  },
  {
   "cell_type": "code",
   "execution_count": null,
   "id": "e97b9c56-caf9-4733-9548-2127861aa289",
   "metadata": {
    "tags": []
   },
   "outputs": [],
   "source": [
    "sc.pl.matrixplot(adata_fb, groupby='subtype', var_names=OXPHOS_filtered, dendrogram=False, swap_axes=True, figsize=(10, 10), \n",
    "                 vmax=1.6, categories_order=fb_order, cmap=cmap, show=False)\n",
    "\n",
    "plt.savefig(f'results/figures/F2/matrixplot_OXPHOS_filtered_{date.today().strftime(\"%Y_%m_%d\")}.jpg', dpi=300)"
   ]
  },
  {
   "cell_type": "code",
   "execution_count": null,
   "id": "c4645135-2feb-4641-8349-3f1e13abec71",
   "metadata": {
    "tags": []
   },
   "outputs": [],
   "source": [
    "sc.pl.matrixplot(adata_fb, groupby='subtype', var_names=glycolysis_filtered, dendrogram=False, swap_axes=True, \n",
    "                 figsize=(10, 5), vmax=0.85, categories_order=fb_order, cmap=cmap, show=False)\n",
    "\n",
    "plt.savefig(f'results/figures/F2/matrixplot_glycolysis_filtered_{date.today().strftime(\"%Y_%m_%d\")}.jpg', dpi=300)"
   ]
  },
  {
   "cell_type": "code",
   "execution_count": null,
   "id": "d45c4ada-961b-484b-bea4-492417138d8f",
   "metadata": {
    "tags": []
   },
   "outputs": [],
   "source": [
    "sc.pl.matrixplot(adata_fb, groupby='subtype', var_names=stress_filtered, dendrogram=False, swap_axes=True, \n",
    "                 figsize=(10, 11), vmax=1.2, categories_order=fb_order, cmap=cmap, show=False)\n",
    "\n",
    "plt.savefig(f'results/figures/F2/matrixplot_stress_filtered_{date.today().strftime(\"%Y_%m_%d\")}.jpg', dpi=300)"
   ]
  },
  {
   "cell_type": "markdown",
   "id": "842474ab-7e3e-4f18-873e-9310f6e3e6f4",
   "metadata": {},
   "source": [
    "## UMAP of scores of selected pathways"
   ]
  },
  {
   "cell_type": "code",
   "execution_count": null,
   "id": "e162175f-371c-4496-8b8c-70721d5299ee",
   "metadata": {
    "tags": []
   },
   "outputs": [],
   "source": [
    "path_names = ['Complement', 'Cytokine', 'ECM', 'Hypoxia', 'OXPHOS', 'Glycolysis', 'Stress', \n",
    "                       'Inflammatory response', 'Acute inflammatory', 'Lipid biosynthesis']\n",
    "path_lists = [complement_genes, cytokine_interaction_genes, ECM_assembly_disassembly, \n",
    "                       hypoxia, OXPHOS, glycolysis, stress, positive_regulation_of_inflammatory_response, \n",
    "                       positive_regulation_of_acute_inflammatory_response, \n",
    "                       positive_regulation_of_lipid_biosynthetic_process]\n",
    "\n",
    "for path_name, path_list  in zip(path_names, path_lists):\n",
    "    sc.tl.score_genes(adata_fb, gene_list=path_list, ctrl_size=50, gene_pool=None, n_bins=25, \\\n",
    "                      score_name=f'{path_name}', random_state=0, copy=False, use_raw=False)\n",
    "\n",
    "    \n",
    "sc.pl.umap(adata_fb, color=['subtype_number'] + path_names, \n",
    "           ncols=3, frameon=False, cmap=cmap, legend_loc = 'on data', show=False, \n",
    "           legend_fontoutline=4, legend_fontsize=14,  vmin=\"p15\",  vmax=\"p95\")\n",
    "\n",
    "plt.savefig(f'results/figures/F2/UMAP_path_scores_fb_{cmap}_{date.today().strftime(\"%Y_%m_%d\")}.jpg', dpi=300)"
   ]
  },
  {
   "cell_type": "code",
   "execution_count": null,
   "id": "be27cda4-8f62-4009-aff9-bb00f181d148",
   "metadata": {
    "tags": []
   },
   "outputs": [],
   "source": [
    "selected_paths = ['Hypoxia', 'Glycolysis', 'Stress', 'Cytokine']\n",
    "\n",
    "fig, axs = plt.subplots(2, 2, figsize=(9, 6))\n",
    "\n",
    "for idx, path in enumerate(selected_paths):\n",
    "    sc.pl.umap(adata_fb, color=path, ax=axs.ravel()[idx],\n",
    "               ncols=2, frameon=False, cmap=cmap, legend_loc = 'on data', show=False, \n",
    "               legend_fontoutline=4, legend_fontsize=14,  vmin=\"p15\",  vmax=\"p95\")\n",
    "    \n",
    "    axs.ravel()[idx].title.set_size('xx-large')\n",
    "\n",
    "plt.savefig(f'results/figures/F2/UMAP_path_scores_selected_fb_{cmap}_{date.today().strftime(\"%Y_%m_%d\")}.jpg', dpi=300)\n",
    "plt.savefig(f'results/figures/F2/Fig2B.jpg', dpi=300)"
   ]
  },
  {
   "cell_type": "code",
   "execution_count": null,
   "id": "9ec18cef-1628-4db3-acdf-6f75555755f8",
   "metadata": {
    "tags": []
   },
   "outputs": [],
   "source": [
    "n_cols = 3\n",
    "n_rows = int(len(path_names) / n_cols) + (len(path_names) % n_cols > 0)\n",
    "\n",
    "fig, axs = plt.subplots(n_rows, n_cols, figsize=(n_cols * 4, n_rows * 2.5))\n",
    "\n",
    "for idx, gene in enumerate(path_names):\n",
    "    sc.pl.violin(adata_fb, keys=gene, groupby='subtype_number', rotation=90, ax = axs.ravel()[idx], show=False, \n",
    "                 order=fb_num_order)\n",
    "    \n",
    "for idx in range(len(path_names), n_rows*n_cols):\n",
    "    axs.ravel()[idx].set_axis_off()\n",
    "\n",
    "plt.tight_layout()\n",
    "\n",
    "plt.savefig(f'results/figures/F2/violinplot_path_scores_fb_{cmap}_{date.today().strftime(\"%Y_%m_%d\")}.jpg', dpi=300)"
   ]
  },
  {
   "cell_type": "markdown",
   "id": "0c981c12-5918-4c26-9ff0-0213b91ccbcf",
   "metadata": {
    "execution": {
     "iopub.execute_input": "2022-08-18T10:30:05.722095Z",
     "iopub.status.busy": "2022-08-18T10:30:05.721551Z",
     "iopub.status.idle": "2022-08-18T10:30:05.726931Z",
     "shell.execute_reply": "2022-08-18T10:30:05.725762Z",
     "shell.execute_reply.started": "2022-08-18T10:30:05.722041Z"
    },
    "tags": []
   },
   "source": [
    "## UMAP/heatmap highlighting the expression of specific markers"
   ]
  },
  {
   "cell_type": "code",
   "execution_count": null,
   "id": "96de0d55-9cc6-4f64-abbe-25cab22bb0ba",
   "metadata": {
    "tags": []
   },
   "outputs": [],
   "source": [
    "markers = {'Carbohydrate metabolism': ['Slc2a1', 'Slc2a3', 'Pfkfb3', 'Aldoa', 'Gapdh', 'Pgam1', 'Eno1', 'Pgk1', \n",
    "                                       'Ldha', 'Slc16a4', 'Pdk1'],  # Pkm2 not present\n",
    "           'Hypoxia-induced autophagy and stress response': ['Hif1a', 'Bnip3', 'Bnip3l', 'Malat1', 'Neat1', 'Ero1l', \n",
    "                                                             'Ier3', 'Mif'],\n",
    "           'Lipid metabolism': ['Vldlr', 'Lrp1', 'Fabp5', 'Plin2', 'Hilpda',],\n",
    "           'Aminoacid transport and metabolism': ['Slc3a2', 'Slc7a2', 'Slc7a1', 'Nos2', 'Arg1', 'Arg2'], \n",
    "           'Angiogenesis': ['Vegfa', 'Vegfb', 'Vegfc', 'Pgf', ], \n",
    "           'Proinflammatory cytokines': ['Il1b', 'Tnf', 'C3', 'Cxcl1', 'Cxcl2', 'Cxcl3', \n",
    "                                         'Apobec1', 'Apobec3'], # 'Il1a' not present\n",
    "           'CAF': ['Pdpn', 'Pdgfra',  'Dcn', 'Il6', 'Cxcl1', 'Cxcl2', 'Ccl2', \n",
    "                   'Cxcl12', 'Has1', 'Has2', 'Cd44', 'Il1r1'] # Cd24 not present\n",
    "          }\n",
    "\n",
    "\n",
    "sc.pl.matrixplot(adata_fb, var_names=markers, groupby='condition-cell_type', dendrogram=False, \n",
    "                 use_raw=False, swap_axes=True,  vmax=0.8, figsize=(7, 12), cmap=cmap, show=False)\n",
    "\n",
    "plt.savefig(f'results/figures/F2/matrixplot_selected_markers_{date.today().strftime(\"%Y_%m_%d\")}.jpg', dpi=300)"
   ]
  },
  {
   "cell_type": "markdown",
   "id": "85cbea11-0917-4bab-b8ab-98a970d2a12e",
   "metadata": {
    "execution": {
     "iopub.execute_input": "2022-11-30T11:43:59.185467Z",
     "iopub.status.busy": "2022-11-30T11:43:59.184829Z",
     "iopub.status.idle": "2022-11-30T11:43:59.190592Z",
     "shell.execute_reply": "2022-11-30T11:43:59.189368Z",
     "shell.execute_reply.started": "2022-11-30T11:43:59.185407Z"
    },
    "tags": []
   },
   "source": [
    "## UMAPs of selected markers"
   ]
  },
  {
   "cell_type": "code",
   "execution_count": null,
   "id": "b058f5b2-3195-4db1-9c7e-09d827f4fcb1",
   "metadata": {
    "tags": []
   },
   "outputs": [],
   "source": [
    "def plot_WT_KO_genes(adata, genes, n_cols=3, figsize=None, plot_labels_batch=True, plot_KO_vs_WT=True):\n",
    "    p_p = plot_labels_batch + plot_KO_vs_WT\n",
    "    \n",
    "    adata_WT, adata_KO = adata[adata.obs['batch'].isin(['WT1', 'WT2'])], adata[adata.obs['batch'].isin(['KO1', 'KO2'])]\n",
    "    adata_WT.uns['batch_colors'] = [dict_WT_KO_colors['WT1'], dict_WT_KO_colors['WT2']]\n",
    "    adata_KO.uns['batch_colors'] = [dict_WT_KO_colors['KO1'], dict_WT_KO_colors['KO2']]\n",
    "    \n",
    "    n_rows = int((len(genes) + p_p) / n_cols) + ((len(genes) + p_p) % n_cols > 0)\n",
    "    \n",
    "    if figsize is None:\n",
    "        figsize = (n_cols * 4, n_rows * 2 * 2.5)\n",
    "    \n",
    "    fig, axs = plt.subplots(n_rows * 2, n_cols, figsize=figsize)\n",
    "    \n",
    "    start = 0\n",
    "    if plot_labels_batch:\n",
    "        sc.pl.umap(adata, color='batch', frameon=False, cmap=magma, title='batch',\n",
    "                   show=False, ax=axs[1][start])\n",
    "        sc.pl.umap(adata, color='subtype_number', frameon=False, cmap=magma, show=False, title='Subtype',\n",
    "                   legend_fontoutline=4, legend_fontsize='x-large', legend_loc='on data', ax=axs[0][start])\n",
    "        start += 1\n",
    "        \n",
    "    if plot_KO_vs_WT:\n",
    "        sc.pl.umap(adata_WT, color='batch', frameon=False, cmap=magma, title='WT',\n",
    "                   show=False, ax=axs[0][start])\n",
    "        sc.pl.umap(adata_KO, color='batch', frameon=False, cmap=magma, title='KO',\n",
    "                   show=False, ax=axs[1][start])\n",
    "    \n",
    "    for idx, gene in enumerate(genes, start=p_p):\n",
    "        row_gene = int(idx / n_cols) \n",
    "        col_gene = idx % n_cols\n",
    "        \n",
    "        min_gene, max_gene = adata[:, gene].X.min(), adata[:, gene].X.max()\n",
    "        \n",
    "        sc.pl.umap(adata_WT, color=gene, frameon=True, cmap=magma, use_raw=False,\n",
    "                   show=False, legend_loc='on data', ax=axs[row_gene * 2][col_gene], \n",
    "                   vmin=min_gene, vmax=max_gene)\n",
    "        \n",
    "        sc.pl.umap(adata_KO, color=gene, frameon=True, cmap=magma, use_raw=False,\n",
    "                   show=False, legend_loc='on data', ax=axs[row_gene * 2 + 1][col_gene], \n",
    "                   vmin=min_gene, vmax=max_gene, title='')        \n",
    "    \n",
    "    \n",
    "    for row in range(n_rows):\n",
    "        axs[2 * row][0].set_ylabel('WT', fontsize=pylab.rcParams['font.size'] * 2.5)\n",
    "        axs[2 * row + 1][0].set_ylabel('KO', fontsize=pylab.rcParams['font.size'] * 2.5)\n",
    "    \n",
    "    for ax in axs[::2, :].ravel():\n",
    "        ax.title.set_fontsize(pylab.rcParams['font.size'] * 2.5)\n",
    "    \n",
    "    for ax in axs[:, 1:].ravel():\n",
    "        ax.set_ylabel('')\n",
    "    \n",
    "    for ax in axs.ravel():\n",
    "        ax.set_xlabel('')\n",
    "        for spine in ax.spines.values():\n",
    "            spine.set_visible(False)\n",
    "        \n",
    "    # clean axes\n",
    "    for col in range(col_gene + 1, n_cols):\n",
    "        axs[row_gene * 2][col].set_axis_off()\n",
    "        axs[row_gene * 2 + 1][col].set_axis_off()\n",
    "    \n",
    "    plt.tight_layout()"
   ]
  },
  {
   "cell_type": "code",
   "execution_count": null,
   "id": "c48abe26-8e09-4d6c-b7c3-5860ba9b2036",
   "metadata": {
    "tags": []
   },
   "outputs": [],
   "source": [
    "list_markers_up = ['Il1rl1', 'Pdpn', 'C3', 'Saa3', 'Acta2', 'Tagln'] \n",
    "list_markers_down = ['Il1r1','Tnfrsf1b', 'Ifngr1', 'Il6ra', 'Tgfbr3', 'Vegfc']\n",
    "\n",
    "plot_WT_KO_genes(adata_fb, genes=list_markers_up + list_markers_down, n_cols=6, \n",
    "                     figsize=None, plot_labels_batch=False, plot_KO_vs_WT=False)\n",
    "\n",
    "plt.savefig(f'results/figures/F2/UMAP_selected_markers_{date.today().strftime(\"%Y_%m_%d\")}.jpg', dpi=300)\n",
    "plt.savefig(f'results/figures/F2/Fig2C.jpg', dpi=300)"
   ]
  },
  {
   "cell_type": "code",
   "execution_count": null,
   "id": "418f86b0-4807-45e0-a07f-ba8967f7fa9a",
   "metadata": {
    "tags": []
   },
   "outputs": [],
   "source": [
    "list_markers_up = ['Entpd1', 'Il11'] \n",
    "\n",
    "plot_WT_KO_genes(adata_fb, genes=list_markers_up , n_cols=3, \n",
    "                     figsize=None, plot_labels_batch=True, plot_KO_vs_WT=False)\n"
   ]
  },
  {
   "cell_type": "code",
   "execution_count": null,
   "id": "df194a7a-39a1-43bc-aa09-0ae93a41e1fd",
   "metadata": {},
   "outputs": [],
   "source": []
  },
  {
   "cell_type": "code",
   "execution_count": null,
   "id": "71252e3a-fa87-4c90-bd73-c8d3d416d7be",
   "metadata": {},
   "outputs": [],
   "source": []
  },
  {
   "cell_type": "markdown",
   "id": "2f63731f-3649-41cf-9621-b1ca1111a35d",
   "metadata": {},
   "source": [
    "### Save adata"
   ]
  },
  {
   "cell_type": "code",
   "execution_count": null,
   "id": "56037c6c-5c7b-4fd3-91d5-0c128d4ebf0d",
   "metadata": {
    "tags": []
   },
   "outputs": [],
   "source": [
    "adata_fb.write_h5ad('adatas/adata_fibroblast.h5')"
   ]
  },
  {
   "cell_type": "code",
   "execution_count": null,
   "id": "492ed362-912c-4447-8262-07a8e64fc8c3",
   "metadata": {},
   "outputs": [],
   "source": []
  }
 ],
 "metadata": {
  "kernelspec": {
   "display_name": "Python [conda env:alex-base] *",
   "language": "python",
   "name": "conda-env-alex-base-py"
  },
  "language_info": {
   "codemirror_mode": {
    "name": "ipython",
    "version": 3
   },
   "file_extension": ".py",
   "mimetype": "text/x-python",
   "name": "python",
   "nbconvert_exporter": "python",
   "pygments_lexer": "ipython3",
   "version": "3.8.0"
  }
 },
 "nbformat": 4,
 "nbformat_minor": 5
}
