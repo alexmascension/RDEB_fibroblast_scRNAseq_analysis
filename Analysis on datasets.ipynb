{
 "cells": [
  {
   "cell_type": "markdown",
   "id": "aa781ea4-1ef8-4bd8-b09d-1e513ed2c212",
   "metadata": {},
   "source": [
    "# YanLing single-cell analysis"
   ]
  },
  {
   "cell_type": "code",
   "execution_count": null,
   "id": "beec4b87-e7ae-42fb-a135-12bb7617dfea",
   "metadata": {},
   "outputs": [],
   "source": [
    "from cellassign import assign_cats\n",
    "import gzip\n",
    "import itertools as itl\n",
    "import matplotlib.pyplot as plt\n",
    "import matplotlib as mpl\n",
    "import numpy as np\n",
    "import os\n",
    "import pandas as pd\n",
    "import scanpy as sc\n",
    "import scanpy.external as sce\n",
    "import seaborn as sns\n",
    "import triku as tk"
   ]
  },
  {
   "cell_type": "code",
   "execution_count": null,
   "id": "965d7745-46a9-480c-9c08-4f0630f09114",
   "metadata": {},
   "outputs": [],
   "source": [
    "# Palettes for UMAP gene expression\n",
    "\n",
    "magma = [plt.get_cmap('magma')(i) for i in np.linspace(0,1, 80)]\n",
    "magma[0] = (0.88, 0.88, 0.88, 1)\n",
    "magma = mpl.colors.LinearSegmentedColormap.from_list(\"\", magma[:65])"
   ]
  },
  {
   "cell_type": "code",
   "execution_count": null,
   "id": "3b5fc60d-a00c-4a00-ab55-829a8c481c3b",
   "metadata": {},
   "outputs": [],
   "source": [
    "mpl.rcParams['figure.dpi'] = 250"
   ]
  },
  {
   "cell_type": "code",
   "execution_count": null,
   "id": "d8f6ae2a-c403-443b-be5e-0cb5a338742b",
   "metadata": {},
   "outputs": [],
   "source": [
    "def plot_batch_abundance(adatax, plot_status=False):\n",
    "    samples, clusters, list_prop = sorted(dict.fromkeys(adatax.obs['batch'])), sorted(dict.fromkeys(adatax.obs['leiden'])), []\n",
    "    product = itl.product(*[samples, clusters])\n",
    "\n",
    "    correction_factor = {sample: len(adatax)/(len(samples) * np.sum(adatax.obs['batch'] == sample)) for sample in samples}\n",
    "\n",
    "    for sample, cluster in product:\n",
    "        list_prop.append(correction_factor[sample] * \n",
    "                         len(adatax[(adatax.obs['leiden'] == cluster) & (adatax.obs['batch'] == sample)])/\n",
    "                         len(adatax[adatax.obs['leiden'] == cluster]))\n",
    "\n",
    "    df = pd.DataFrame({'x':clusters * len(samples), 'y':list_prop, 'hue':sorted(samples * len(clusters))})\n",
    "    if plot_status:\n",
    "        df['hue_status'] = [i[0] for i in df['hue']]\n",
    "        fig, axs = plt.subplots(1, 2, figsize=(16,4))\n",
    "        sns.barplot(x='x', y='y', hue='hue', data=df, ax=axs[0])\n",
    "        sns.barplot(x='x', y='y', hue='hue_status', data=df, ax=axs[1])\n",
    "    else:\n",
    "        fig, axs = plt.subplots(1, 1, figsize=(8,4))\n",
    "        sns.barplot(x='x', y='y', hue='hue', data=df, ax=axs)"
   ]
  },
  {
   "cell_type": "markdown",
   "id": "61e3d09c-3eea-4edf-b8f6-0596deabcd8b",
   "metadata": {},
   "source": [
    "## Dataset processing\n",
    "\n",
    "The reads are produced based on the 10X v3 library preparation kit, which consists of a cell barcode of 16 bp, a UMI of 12 bp, and a read of 91 bp.\n",
    "To process the files we are going to first trim the reads to that length, and then preprocess them using `loompy fastq`."
   ]
  },
  {
   "cell_type": "code",
   "execution_count": null,
   "id": "4a9d818e-1acf-4fca-aab0-2557d160860e",
   "metadata": {},
   "outputs": [],
   "source": [
    "fastq_dir = f'{os.getcwd()}/fastq' \n",
    "mouse_gencode_dir = \"/media/seth/SETH_DATA/SETH_Alex/Programs/mouse_GRCm38_gencode.v31\""
   ]
  },
  {
   "cell_type": "code",
   "execution_count": null,
   "id": "aa246718-a292-47e4-ab43-f8d7d457a9f8",
   "metadata": {},
   "outputs": [],
   "source": [
    "prefixes = ['KOD11', 'KOD12', 'WT1', 'WT2']"
   ]
  },
  {
   "cell_type": "code",
   "execution_count": null,
   "id": "2132af20-7505-4c43-9d20-471b9400d3e1",
   "metadata": {},
   "outputs": [],
   "source": [
    "df = pd.DataFrame({'name': prefixes, 'technology': ['10xv3'] * len(prefixes), 'targetnumcells': [1000] * len(prefixes)})\n",
    "df.to_csv(fastq_dir + '/metadata.tab', sep='\\t', index=None)"
   ]
  },
  {
   "cell_type": "code",
   "execution_count": null,
   "id": "1d24bb7b-eb59-4b03-8551-076affab371d",
   "metadata": {},
   "outputs": [],
   "source": [
    "for filename_root in prefixes: \n",
    "    fileinR1 = gzip.open(f'{fastq_dir}/{filename_root}/long_{filename_root}_L001_R1_001.fastq.gz', 'rt') \n",
    "    fileinR2 = gzip.open(f'{fastq_dir}/{filename_root}/long_{filename_root}_L001_R2_001.fastq.gz', 'rt') \n",
    "    \n",
    "    fileoutR1 = open(f'{fastq_dir}/{filename_root}/{filename_root}_L001_R1_001.fastq', 'w') \n",
    "    fileoutR2 = open(f'{fastq_dir}/{filename_root}/{filename_root}_L001_R2_001.fastq', 'w') \n",
    "\n",
    "\n",
    "    count = 0\n",
    "\n",
    "    while True: \n",
    "        count += 1\n",
    "\n",
    "        # Get next line from file \n",
    "        lineR1 = fileinR1.readline() \n",
    "        lineR2 = fileinR2.readline() \n",
    "\n",
    "        if count % 4 in [1, 3]:\n",
    "            fileoutR1.write(lineR1.replace('\\n', '') + '\\n')\n",
    "            fileoutR2.write(lineR2.replace('\\n', '') + '\\n')\n",
    "        elif count == 2:\n",
    "            fileoutR1.write(lineR1.replace('\\n', '')[:28] + '\\n')\n",
    "            fileoutR2.write(lineR2.replace('\\n', '')[:91] + '\\n')\n",
    "        else:\n",
    "            fileoutR1.write(lineR1.replace('\\n', '')[:28] + '\\n')\n",
    "            fileoutR2.write(lineR2.replace('\\n', '')[:91] + '\\n')\n",
    "\n",
    "\n",
    "        # if line is empty \n",
    "        # end of file is reached \n",
    "        if not lineR1: \n",
    "            break\n",
    "\n",
    "    fileinR1.close() \n",
    "    fileinR2.close()\n",
    "    fileoutR1.close()\n",
    "    fileoutR2.close()\n",
    "    \n",
    "    os.system(f\"cd {fastq_dir}/{filename_root} && gzip {filename_root}_L001_R1_001.fastq\")\n",
    "    os.system(f\"cd {fastq_dir}/{filename_root} && gzip {filename_root}_L001_R2_001.fastq\")\n",
    "    os.system(f\"cd {fastq_dir} && loompy fromfq {filename_root}.loom {filename_root} {mouse_gencode_dir} metadata.tab {fastq_dir}/{filename_root}/{filename_root}_L001_R1_001.fastq.gz {fastq_dir}/{filename_root}/{filename_root}_L001_R2_001.fastq.gz\")"
   ]
  },
  {
   "cell_type": "markdown",
   "id": "2245aaa6-66ce-46a7-a910-0fc7a0e2cec3",
   "metadata": {},
   "source": [
    "## Load adatas"
   ]
  },
  {
   "cell_type": "code",
   "execution_count": null,
   "id": "2ebdf76b-fdda-44b8-a80c-7d726d381ef6",
   "metadata": {},
   "outputs": [],
   "source": [
    "seed = 0"
   ]
  },
  {
   "cell_type": "code",
   "execution_count": null,
   "id": "b0f34535-b700-4c28-8a65-a42041b5a076",
   "metadata": {},
   "outputs": [],
   "source": [
    "adata_KOD11 = sc.read(f\"{fastq_dir}/KOD11.loom\")\n",
    "adata_KOD11.var_names_make_unique()\n",
    "\n",
    "adata_KOD12 = sc.read(f\"{fastq_dir}/KOD12.loom\")\n",
    "adata_KOD12.var_names_make_unique()\n",
    "\n",
    "adata_WT1 = sc.read(f\"{fastq_dir}/WT1.loom\")\n",
    "adata_WT1.var_names_make_unique()\n",
    "\n",
    "adata_WT2 = sc.read(f\"{fastq_dir}/WT2.loom\")\n",
    "adata_WT2.var_names_make_unique()"
   ]
  },
  {
   "cell_type": "code",
   "execution_count": null,
   "id": "048e5a87-483b-4802-b512-be95f06b54e8",
   "metadata": {},
   "outputs": [],
   "source": [
    "adata_all = sc.AnnData.concatenate(adata_KOD11, adata_KOD12, adata_WT1, adata_WT2, batch_categories=['KOD11', 'KOD12', 'WT1', 'WT2'])"
   ]
  },
  {
   "cell_type": "code",
   "execution_count": null,
   "id": "5587a0db-c6bd-42ea-bfc6-1063fdc602f2",
   "metadata": {},
   "outputs": [],
   "source": [
    "adata_all.obs['status'] = [i[0] for i in adata_all.obs['batch']]"
   ]
  },
  {
   "cell_type": "code",
   "execution_count": null,
   "id": "312ca422-dcdc-4984-948c-f778fe627489",
   "metadata": {},
   "outputs": [],
   "source": [
    "for prefix in prefixes:\n",
    "    adata_all.obs[f'is_{prefix}'] = (adata_all.obs['batch'] == prefix).astype(str)\n",
    "    adata_all.uns[f'is_{prefix}_colors'] = ['#bcbcbc', '#bc0000']"
   ]
  },
  {
   "cell_type": "code",
   "execution_count": null,
   "id": "9eef6e9a-d4f9-4560-8762-aeb68fe2e3a7",
   "metadata": {},
   "outputs": [],
   "source": [
    "adata_all"
   ]
  },
  {
   "cell_type": "code",
   "execution_count": null,
   "id": "3612708e-9c7b-4236-80ca-b49bceb58715",
   "metadata": {},
   "outputs": [],
   "source": [
    "# Basic QC filtering\n",
    "adata_all.var['mt'] = adata_all.var_names.str.startswith('mt-')  # annotate the group of mitochondrial genes as 'mt'\n",
    "sc.pp.calculate_qc_metrics(adata_all, qc_vars=['mt'], percent_top=None, inplace=True)"
   ]
  },
  {
   "cell_type": "code",
   "execution_count": null,
   "id": "da9ccd4d-537e-43da-b4e2-80af7b118a81",
   "metadata": {},
   "outputs": [],
   "source": [
    "sc.pl.violin(adata_all, ['n_genes_by_counts', 'total_counts', 'pct_counts_mt'],\n",
    "             jitter=0.4, multi_panel=True)\n",
    "\n",
    "sc.pl.scatter(adata_all, x='total_counts', y='pct_counts_mt')\n",
    "sc.pl.scatter(adata_all, x='total_counts', y='n_genes_by_counts')"
   ]
  },
  {
   "cell_type": "code",
   "execution_count": null,
   "id": "443b8883-e72c-4c74-9fe1-9b140989d9e4",
   "metadata": {},
   "outputs": [],
   "source": [
    "fig, ax = plt.subplots(1, 1, figsize=(10, 4))\n",
    "df = pd.DataFrame({'x': adata_all.obs['batch'], 'y': np.log1p(adata_all.obs['pct_counts_mt'])})\n",
    "sns.violinplot(x='x', y='y', data=df, ax=ax)"
   ]
  },
  {
   "cell_type": "code",
   "execution_count": null,
   "id": "3b5409d9-e2fc-4cfc-bc1c-edacb8dc3339",
   "metadata": {},
   "outputs": [],
   "source": [
    "fig, ax = plt.subplots(1, 1, figsize=(10, 4))\n",
    "df = pd.DataFrame({'x': adata_all.obs['batch'], 'y': adata_all.obs['log1p_n_genes_by_counts']})\n",
    "sns.violinplot(x='x', y='y', data=df, ax=ax)"
   ]
  },
  {
   "cell_type": "code",
   "execution_count": null,
   "id": "d3a77957-a166-4633-a7e8-31980eea41dd",
   "metadata": {},
   "outputs": [],
   "source": [
    "adata_all = adata_all[\n",
    "(((adata_all.obs.batch == 'KOD11') & (adata_all.obs.log1p_n_genes_by_counts < 8.2) & (adata_all.obs.log1p_n_genes_by_counts > 5.5)) |\n",
    " ((adata_all.obs.batch == 'KOD12') & (adata_all.obs.log1p_n_genes_by_counts < 8.0) & (adata_all.obs.log1p_n_genes_by_counts > 6.5)) |\n",
    " ((adata_all.obs.batch == 'WT1')   & (adata_all.obs.log1p_n_genes_by_counts < 8.0) & (adata_all.obs.log1p_n_genes_by_counts > 6.5)) |\n",
    " ((adata_all.obs.batch == 'WT2')   & (adata_all.obs.log1p_n_genes_by_counts < 8.0) & (adata_all.obs.log1p_n_genes_by_counts > 6.5)))]\n",
    "adata_all = adata_all[adata_all.obs.pct_counts_mt < 10, :]"
   ]
  },
  {
   "cell_type": "code",
   "execution_count": null,
   "id": "efcf6d71-1216-4994-a649-15f15257be7c",
   "metadata": {},
   "outputs": [],
   "source": [
    "sc.pp.filter_genes(adata_all, min_counts=1)\n",
    "sc.pp.normalize_total(adata_all)\n",
    "sc.pp.log1p(adata_all)"
   ]
  },
  {
   "cell_type": "markdown",
   "id": "9bf4784f-dedd-4140-a9af-a4f761dc7774",
   "metadata": {},
   "source": [
    "## \"Fast\" cell type identification"
   ]
  },
  {
   "cell_type": "code",
   "execution_count": null,
   "id": "a90f6ce3-a6a5-408e-8e52-e3d2e1220eaa",
   "metadata": {},
   "outputs": [],
   "source": [
    "# 5 good genes per cell type\n",
    "# For immune cell types I used http://rstats.immgen.org/Skyline/skyline.html\n",
    "\n",
    "dict_celltypes = {'Keratinocyte': ['Lgals7', 'Dmkn', 'S100a14', 'Perp', 'Dsc3'], \n",
    "                  'Keratinocyte Krt79$^+$': ['Apoc1', 'Ldhb', 'Krt79', 'Ldhb', 'Cidea'],\n",
    "                  'Fibroblast': ['Lum', 'Pdgfra', 'Mfap2', 'Mfap5', 'Clec3b'],\n",
    "                  'Fibroblast Rab37$^+$': ['Rab37', 'Col22a1', 'F13a1', 'Htra4', 'Tspan15'],\n",
    "                  'Fibroblast Chf$^+$': ['Cfh', 'Alpl', 'Lifr', 'Sp7', 'Spp1'],\n",
    "                  'Fibroblast Il1rl1$^+$': ['Il1rl1', 'Ptgs2', 'Nr4a2', 'Gxylt2', 'Lum'],\n",
    "                  'Fibroblast Serpine2$^+$': ['Serpine2', 'Shox2', 'Wif1', 'Gm48159', 'Col23a1'],\n",
    "                  'Chondrocyte?': ['Col9a1', 'Col9a2', 'Scrg1', 'Hapln1', 'Trpv4'],\n",
    "                  'Endothelial': ['Pecam1', 'Cldn5', 'Cdh5', 'Ptprb', 'Tie1'],\n",
    "                  'Lymphatic': ['Mmrn1', 'Ccl21a', 'Prox1', 'Lyve1', 'Flt4'],\n",
    "                  'Perivascular cell Inpp4b$^+$': ['Rgs5', 'Myh11', 'Aoc3', 'Inpp4b', 'Mrvi1'],\n",
    "                  'Perivascular cell Il6$^+$': ['Rgs5', 'Myh11', 'Il6', 'Procr', 'Ngf'],\n",
    "                  'Schwann cell': ['Prx', 'Mbp', 'Mpz', 'Ncmap', 'Cldn19'], \n",
    "                  'Glial cell': ['Fgl2', 'Cdh19', 'Adam23', 'Fcgr2b', 'Rxrg'], \n",
    "                  'Melanocyte': ['Pmel', 'Mlana', 'Dct'],\n",
    "                  'Skeletal muscle': ['Msc', 'Myod1', 'Cdh15', 'Peg3', 'Dag1'], \n",
    "                  'Red blood cell': ['Hba-a1', 'Hbb-bt', 'Hbb-bs', 'Car2', 'Rhd'],\n",
    "                  'T cell': ['Cd3d', 'Cd3e', 'Ifngr1', 'Klf2', 'Cd27'],\n",
    "                  'T cell (ILC/gd)?': ['Cd7', 'Cd3e', 'Ctsw', 'Cd3d', 'Cd3g'],\n",
    "                  'B cell': ['Rrm2', 'Rpa3', 'Cd79b', 'Dntt', 'Cd79a'],\n",
    "                  'Plasma cell': ['Ighm', 'Igkc', 'Cd79b', 'Iglc1', 'Iglc2'],\n",
    "                  'NK cell': ['Cd3d', 'Cd3e', 'Nkg7', 'Klrk1', 'Trdv4'],\n",
    "                  'Macrophage': ['C1qa', 'C1qc', 'Wfdc17', 'Pf4', 'Folr2'],\n",
    "                  'Monocyte': ['Wfdc17', 'Csf1r', 'F10', 'Ly6c2', 'Gsr'],\n",
    "                  'Neutrophil': ['S100a8', 'S100a9', 'Camp', 'Ltf', 'Chil3'],\n",
    "                  'Dendritic cell': ['Cd209a', 'Irf5', 'Plbd1', 'Aif1', 'Cd209d'],\n",
    "                  'Langerhans cell': ['Cd207', 'Mfge8', 'Cd74', 'Il1r2', 'Tnfaip2'],\n",
    "                  'Mast cell': ['Cpa3', 'Cyp11a1', 'Cma1', 'Mcpt4', 'Tpsb2']\n",
    "                  }"
   ]
  },
  {
   "cell_type": "markdown",
   "id": "8e33d133-435f-4350-bcde-324f55131e04",
   "metadata": {},
   "source": [
    "### WT1"
   ]
  },
  {
   "cell_type": "code",
   "execution_count": null,
   "id": "8deb0754-35a9-4b42-8466-a1ed12a82442",
   "metadata": {},
   "outputs": [],
   "source": [
    "adata_WT1 = adata_all[adata_all.obs['batch'] == 'WT1']\n",
    "sc.pp.filter_genes(adata_WT1, min_counts=1)\n",
    "\n",
    "sc.pp.pca(adata_WT1, random_state=seed, n_comps=30)\n",
    "sc.pp.neighbors(adata_WT1, random_state=seed, n_neighbors=int(0.5 * len(adata_WT1) ** 0.5), metric='cosine')\n",
    "tk.tl.triku(adata_WT1)\n",
    "\n",
    "sc.tl.umap(adata_WT1, min_dist=0.3, random_state=seed)\n",
    "sc.tl.leiden(adata_WT1, resolution=13, random_state=seed)\n",
    "\n",
    "assign_cats(adata_WT1, dict_cats=dict_celltypes, min_score=0.4, quantile_gene_sel=0.7, key_added='cell_type')\n",
    "\n",
    "sc.pp.subsample(adata_WT1, fraction=1, random_state=seed, copy=False)\n",
    "sc.pl.umap(adata_WT1, color=['log1p_n_genes_by_counts', 'leiden',], alpha=0.5, ncols=3, legend_loc='on data')\n",
    "sc.pl.umap(adata_WT1, color=['cell_type'], ncols=3)"
   ]
  },
  {
   "cell_type": "code",
   "execution_count": null,
   "id": "a53f1cce-3adc-4378-bbda-8015bf11bf0b",
   "metadata": {},
   "outputs": [],
   "source": [
    "sc.tl.rank_genes_groups(adata_WT1, groupby='leiden', groups=['30'])\n",
    "sc.pl.rank_genes_groups_tracksplot(adata_WT1, dendrogram=False, n_genes=200)"
   ]
  },
  {
   "cell_type": "code",
   "execution_count": null,
   "id": "af560a6d-02e6-4150-935e-8ab7b1a15e60",
   "metadata": {
    "scrolled": true,
    "tags": []
   },
   "outputs": [],
   "source": [
    "for key, val in dict_celltypes.items():\n",
    "    print(key)\n",
    "    sc.pl.umap(adata_WT1, color=['cell_type'] + [i for i in val if i in adata_WT1.var_names], legend_loc='on data', cmap=magma, use_raw=False, ncols=4) "
   ]
  },
  {
   "cell_type": "markdown",
   "id": "b288814f-131f-40c9-8595-0230a2b424c0",
   "metadata": {},
   "source": [
    "### WT2"
   ]
  },
  {
   "cell_type": "code",
   "execution_count": null,
   "id": "48a568a9-716a-4fea-b454-1321ed721e50",
   "metadata": {
    "tags": []
   },
   "outputs": [],
   "source": [
    "adata_WT2 = adata_all[adata_all.obs['batch'] == 'WT2']\n",
    "sc.pp.filter_genes(adata_WT2, min_counts=1)\n",
    "\n",
    "sc.pp.pca(adata_WT2, random_state=seed, n_comps=50)\n",
    "sc.pp.neighbors(adata_WT2, random_state=seed, n_neighbors=int(0.5 * len(adata_WT2) ** 0.5), metric='cosine')\n",
    "tk.tl.triku(adata_WT2)\n",
    "\n",
    "sc.tl.umap(adata_WT2, min_dist=0.3, random_state=seed)\n",
    "sc.tl.leiden(adata_WT2, resolution=13, random_state=seed)\n",
    "\n",
    "assign_cats(adata_WT2, dict_cats=dict_celltypes, min_score=0.45, quantile_gene_sel=0.8, key_added='cell_type')\n",
    "\n",
    "sc.pp.subsample(adata_WT2, fraction=1, random_state=seed, copy=False)\n",
    "sc.pl.umap(adata_WT2, color=['log1p_n_genes_by_counts', 'leiden'], alpha=0.5, ncols=2, legend_loc='on data')\n",
    "sc.pl.umap(adata_WT2, color=['cell_type'], ncols=2, cmap=magma)"
   ]
  },
  {
   "cell_type": "code",
   "execution_count": null,
   "id": "1f55fff7-70a8-43af-a64c-735f7fe9023d",
   "metadata": {
    "scrolled": true,
    "tags": []
   },
   "outputs": [],
   "source": [
    "sc.tl.rank_genes_groups(adata_WT2, groupby='leiden', groups=['8', '10'])\n",
    "sc.pl.rank_genes_groups_tracksplot(adata_WT2, dendrogram=False, n_genes=150)"
   ]
  },
  {
   "cell_type": "code",
   "execution_count": null,
   "id": "48e37d20-00ab-47cc-afc9-bd37d8aeaf3f",
   "metadata": {
    "scrolled": true,
    "tags": []
   },
   "outputs": [],
   "source": [
    "for key, val in dict_celltypes.items():\n",
    "    print(key)\n",
    "    sc.pl.umap(adata_WT2, color=['cell_type'] + [i for i in val if i in adata_WT2.var_names], legend_loc='on data', cmap=magma, use_raw=False, ncols=4) "
   ]
  },
  {
   "cell_type": "markdown",
   "id": "577fcf75-3898-46f0-86b7-b688a9124937",
   "metadata": {},
   "source": [
    "### KOD11"
   ]
  },
  {
   "cell_type": "code",
   "execution_count": null,
   "id": "e3b33926-20e3-4bfa-ad60-2f5a4b2824d3",
   "metadata": {},
   "outputs": [],
   "source": [
    "adata_KOD11 = adata_all[adata_all.obs['batch'] == 'KOD11']\n",
    "sc.pp.filter_genes(adata_KOD11, min_counts=1)\n",
    "\n",
    "sc.pp.pca(adata_KOD11, random_state=seed, n_comps=50)\n",
    "sc.pp.neighbors(adata_KOD11, random_state=seed, n_neighbors=int(len(adata_KOD11) ** 0.5), metric='cosine')\n",
    "tk.tl.triku(adata_KOD11)\n",
    "\n",
    "sc.tl.umap(adata_KOD11, min_dist=0.3, random_state=seed)\n",
    "sc.tl.leiden(adata_KOD11, resolution=11, random_state=seed)\n",
    "\n",
    "assign_cats(adata_KOD11, dict_cats=dict_celltypes, min_score=0.4, quantile_gene_sel=0.7, key_added='cell_type')\n",
    "\n",
    "sc.pp.subsample(adata_KOD11, fraction=1, random_state=seed, copy=False)\n",
    "sc.pl.umap(adata_KOD11, color=['log1p_n_genes_by_counts', 'leiden',], alpha=0.5, ncols=3, legend_loc='on data')\n",
    "sc.pl.umap(adata_KOD11, color=['cell_type'], ncols=3)"
   ]
  },
  {
   "cell_type": "code",
   "execution_count": null,
   "id": "4de6d488-6c66-4ffb-8324-6e6f956a3ae8",
   "metadata": {
    "scrolled": true,
    "tags": []
   },
   "outputs": [],
   "source": [
    "sc.tl.rank_genes_groups(adata_KOD11, groupby='cell_type', groups=['Schwann cell'])\n",
    "sc.pl.rank_genes_groups_tracksplot(adata_KOD11, dendrogram=False, n_genes=100)"
   ]
  },
  {
   "cell_type": "code",
   "execution_count": null,
   "id": "cea74434-689f-4960-a8f9-4c5ea6e483b5",
   "metadata": {
    "scrolled": true,
    "tags": []
   },
   "outputs": [],
   "source": [
    "for key, val in dict_celltypes.items():\n",
    "    print(key)\n",
    "    sc.pl.umap(adata_KOD11, color=['cell_type'] + [i for i in val if i in adata_KOD11.var_names], legend_loc='on data', cmap=magma, use_raw=False, ncols=4) "
   ]
  },
  {
   "cell_type": "markdown",
   "id": "14cc7d4e-d7eb-4cf8-b52c-444f9b4461b8",
   "metadata": {},
   "source": [
    "### KOD12"
   ]
  },
  {
   "cell_type": "code",
   "execution_count": null,
   "id": "22bb7d17-cc9d-4c00-b86a-a8f53aef4dc0",
   "metadata": {},
   "outputs": [],
   "source": [
    "adata_KOD12 = adata_all[adata_all.obs['batch'] == 'KOD12']\n",
    "sc.pp.filter_genes(adata_KOD12, min_counts=1)\n",
    "\n",
    "sc.pp.pca(adata_KOD12, random_state=seed, n_comps=35)\n",
    "sc.pp.neighbors(adata_KOD12, random_state=seed, n_neighbors=int(0.5 * len(adata_KOD12) ** 0.5), metric='cosine')\n",
    "tk.tl.triku(adata_KOD12)\n",
    "\n",
    "sc.tl.umap(adata_KOD12, min_dist=0.5, random_state=seed)\n",
    "sc.tl.leiden(adata_KOD12, resolution=13, random_state=seed)\n",
    "\n",
    "assign_cats(adata_KOD12, dict_cats=dict_celltypes, min_score=0.4, quantile_gene_sel=0.7, key_added='cell_type')\n",
    "\n",
    "sc.pp.subsample(adata_KOD12, fraction=1, random_state=seed, copy=False)\n",
    "sc.pl.umap(adata_KOD12, color=['log1p_n_genes_by_counts', 'leiden',], alpha=0.5, ncols=3, legend_loc='on data')\n",
    "sc.pl.umap(adata_KOD12, color=['cell_type'], ncols=3)"
   ]
  },
  {
   "cell_type": "code",
   "execution_count": null,
   "id": "3f7c0ebc-c3c0-4975-a155-3dbb5786baf6",
   "metadata": {},
   "outputs": [],
   "source": [
    "sc.tl.rank_genes_groups(adata_KOD12, groupby='leiden', groups=['20', '31'], method='wilcoxon')\n",
    "sc.pl.rank_genes_groups_tracksplot(adata_KOD12, dendrogram=False, n_genes=100)"
   ]
  },
  {
   "cell_type": "code",
   "execution_count": null,
   "id": "60e2f26f-41a7-4dce-b6bf-f9126d78684d",
   "metadata": {
    "scrolled": true,
    "tags": []
   },
   "outputs": [],
   "source": [
    "for key, val in dict_celltypes.items():\n",
    "    print(key)\n",
    "    sc.pl.umap(adata_KOD12, color=['cell_type'] + [i for i in val if i in adata_KOD12.var_names], legend_loc='on data', cmap=magma, use_raw=False, ncols=4) "
   ]
  },
  {
   "cell_type": "markdown",
   "id": "4949f1c4-ee8b-46b4-bc45-2bc5b98bdcbc",
   "metadata": {},
   "source": [
    "## WT dataset analysis"
   ]
  },
  {
   "cell_type": "markdown",
   "id": "2220760e-c243-45f3-8b55-b6cc3f5ea725",
   "metadata": {},
   "source": [
    "### Dataset analysis (WT-bbknn)"
   ]
  },
  {
   "cell_type": "code",
   "execution_count": null,
   "id": "d7e0f74b-4f77-48fb-bd21-a61e78498dd3",
   "metadata": {},
   "outputs": [],
   "source": [
    "adata_WT_bbknn = adata_all[adata_all.obs['batch'].isin(['WT1', 'WT2'])]\n",
    "sc.pp.filter_genes(adata_WT_bbknn, min_counts=1)"
   ]
  },
  {
   "cell_type": "code",
   "execution_count": null,
   "id": "517ccc3a-67d6-4c5b-99c6-b5c1c50afeb4",
   "metadata": {},
   "outputs": [],
   "source": [
    "sc.pp.pca(adata_WT_bbknn, random_state=seed, n_comps=50)\n",
    "sce.pp.bbknn(adata_WT_bbknn, metric='angular', batch_key='batch', neighbors_within_batch=int(len(adata_WT_bbknn) ** 0.5 / len(prefixes)))\n",
    "tk.tl.triku(adata_WT_bbknn)"
   ]
  },
  {
   "cell_type": "code",
   "execution_count": null,
   "id": "70f0ab37-e4bb-456e-b521-4c01c43436a7",
   "metadata": {},
   "outputs": [],
   "source": [
    "sc.tl.umap(adata_WT_bbknn, min_dist=0.4, random_state=seed)\n",
    "sc.tl.leiden(adata_WT_bbknn, resolution=0.3, random_state=seed)"
   ]
  },
  {
   "cell_type": "code",
   "execution_count": null,
   "id": "212559ba-4882-47dd-8200-e9c523b555a4",
   "metadata": {},
   "outputs": [],
   "source": [
    "sc.pp.subsample(adata_WT_bbknn, fraction=1, random_state=seed, copy=False)\n",
    "sc.pl.umap(adata_WT_bbknn, color=['batch', 'log1p_n_genes_by_counts', 'leiden'], alpha=0.5)"
   ]
  },
  {
   "cell_type": "code",
   "execution_count": null,
   "id": "eeb9469a-5ae2-440c-a185-6750b0f651f1",
   "metadata": {
    "scrolled": true,
    "tags": []
   },
   "outputs": [],
   "source": [
    "sc.pl.umap(adata_WT_bbknn, color=['Lum', 'Pdgfra',  # Fb\n",
    "                                  'Rgs5', 'Abcc9', 'Myl9',  # Peri\n",
    "                                  'Pecam1', 'Cldn5', 'Rgcc',  # Endo\n",
    "                                  'Krt5', 'Krt14', 'Krt17', 'Krt79', 'Krt10',  # Krt\n",
    "                                  'Cd3e', 'Thy1',  # T cells\n",
    "                                  'C1qa', 'Cd209f',  # MC\n",
    "                                  'Cd209a', # DC\n",
    "                                  'Cd207', 'Mfge8', # Langerhans\n",
    "                                  'Cnp', 'Mbp', 'Mpz', # Schwann\n",
    "                                  'Pmel', 'Tyr', 'Dct', # Mel1+Mel2\n",
    "                                  'Hba-a1', 'Hbb-bt', # RBC\n",
    "                                  'Des', 'Acta1', 'Cxcl1', # Skeletal muscle\n",
    "                                 ], alpha=0.5, cmap=magma)"
   ]
  },
  {
   "cell_type": "code",
   "execution_count": null,
   "id": "8ec54929-5e7c-43df-ba00-2691cc35b4da",
   "metadata": {},
   "outputs": [],
   "source": [
    "plot_batch_abundance(adata_WT_bbknn, plot_status=False)"
   ]
  },
  {
   "cell_type": "code",
   "execution_count": null,
   "id": "b8c90b2c-6aab-4052-95a5-cddcfb961d31",
   "metadata": {},
   "outputs": [],
   "source": [
    "sc.tl.rank_genes_groups(adata_WT_bbknn, groupby='leiden', groups=['0'])\n",
    "sc.pl.rank_genes_groups_tracksplot(adata_WT_bbknn, dendrogram=False, n_genes=50)"
   ]
  },
  {
   "cell_type": "markdown",
   "id": "e9ce7697-c47e-4859-8555-69527b530a82",
   "metadata": {},
   "source": [
    "### Dataset analysis (WT-harmony)"
   ]
  },
  {
   "cell_type": "code",
   "execution_count": null,
   "id": "71039710-dce0-4ec5-9886-e1a9d0a12ba8",
   "metadata": {},
   "outputs": [],
   "source": [
    "adata_WT_harmony = adata_all[adata_all.obs['batch'].isin(['WT1', 'WT2'])]\n",
    "sc.pp.filter_genes(adata_WT_harmony, min_counts=1)"
   ]
  },
  {
   "cell_type": "code",
   "execution_count": null,
   "id": "97ac6d92-56fd-45c1-8c59-6c9b8db72046",
   "metadata": {},
   "outputs": [],
   "source": [
    "sc.pp.pca(adata_WT_harmony, random_state=seed, n_comps=50)\n",
    "sce.pp.harmony_integrate(adata_WT_harmony, key='batch', max_iter_harmony=50, plot_convergence=True)\n",
    "sc.pp.neighbors(adata_WT_harmony, random_state=seed, n_neighbors=int(len(adata_WT_harmony) ** 0.5), metric='cosine', use_rep='X_pca_harmony')\n",
    "tk.tl.triku(adata_WT_harmony)"
   ]
  },
  {
   "cell_type": "code",
   "execution_count": null,
   "id": "217686f7-de49-4479-a6bb-b9ff563dbc67",
   "metadata": {},
   "outputs": [],
   "source": [
    "sc.tl.umap(adata_WT_harmony, min_dist=0.5, random_state=seed)\n",
    "sc.tl.leiden(adata_WT_harmony, resolution=0.5, random_state=seed)"
   ]
  },
  {
   "cell_type": "code",
   "execution_count": null,
   "id": "08f45f55-2059-4bb4-9804-0e056c2cf006",
   "metadata": {},
   "outputs": [],
   "source": [
    "sc.pp.subsample(adata_WT_harmony, fraction=1, random_state=seed, copy=False)\n",
    "sc.pl.umap(adata_WT_harmony, color=['batch', 'leiden', 'log1p_n_genes_by_counts'], alpha=0.5)"
   ]
  },
  {
   "cell_type": "code",
   "execution_count": null,
   "id": "340dfe6f-9226-43c0-8d51-f3f33717be42",
   "metadata": {},
   "outputs": [],
   "source": [
    "sc.pp.subsample(adata_WT_harmony, fraction=1, random_state=seed, copy=False)\n",
    "sc.pl.umap(adata_WT_harmony, color=['Msc', 'Cdh15'], alpha=0.5, cmap=magma)"
   ]
  },
  {
   "cell_type": "code",
   "execution_count": null,
   "id": "3f6deea6-944c-4f20-b8d7-5b913c7da244",
   "metadata": {},
   "outputs": [],
   "source": [
    "plot_batch_abundance(adata_WT_harmony, plot_status=False)"
   ]
  },
  {
   "cell_type": "markdown",
   "id": "21deceac-9255-4c40-8c57-358b564a8487",
   "metadata": {},
   "source": [
    "### Dataset analysis (WT-scanorama)"
   ]
  },
  {
   "cell_type": "code",
   "execution_count": null,
   "id": "0d9d5530-6caa-4466-8188-ddac62f063fa",
   "metadata": {},
   "outputs": [],
   "source": [
    "adata_WT_scanorama = adata_all[adata_all.obs['batch'].isin(['WT1', 'WT2'])]\n",
    "sc.pp.filter_genes(adata_WT_scanorama, min_counts=1)\n",
    "adata_WT_scanorama = adata_WT_scanorama[adata_WT_scanorama.obs.sort_values(by='batch').index, :]"
   ]
  },
  {
   "cell_type": "code",
   "execution_count": null,
   "id": "c73b48bd-92c5-4e07-bf0e-c15b72c14aa2",
   "metadata": {},
   "outputs": [],
   "source": [
    "sc.pp.pca(adata_WT_scanorama, random_state=seed, n_comps=50)\n",
    "sce.pp.scanorama_integrate(adata_WT_scanorama, 'batch', knn=int(len(adata_WT_scanorama) ** 0.5))\n",
    "sc.pp.neighbors(adata_WT_scanorama, random_state=seed, n_neighbors=int(len(adata_WT_scanorama) ** 0.5), metric='cosine', use_rep='X_scanorama')\n",
    "tk.tl.triku(adata_WT_scanorama)"
   ]
  },
  {
   "cell_type": "code",
   "execution_count": null,
   "id": "634d35b1-4ef2-4018-8c05-d36f51000ace",
   "metadata": {},
   "outputs": [],
   "source": [
    "sc.tl.umap(adata_WT_scanorama, min_dist=0.5, random_state=seed)\n",
    "sc.tl.leiden(adata_WT_scanorama, resolution=1.3, random_state=seed)"
   ]
  },
  {
   "cell_type": "code",
   "execution_count": null,
   "id": "7a811b01-d1a8-4310-979d-289e2d68cf57",
   "metadata": {},
   "outputs": [],
   "source": [
    "sc.pp.subsample(adata_WT_scanorama, fraction=1, random_state=seed, copy=False)\n",
    "sc.pl.umap(adata_WT_scanorama, color=['batch', 'leiden', 'log1p_n_genes_by_counts'], alpha=0.5)"
   ]
  },
  {
   "cell_type": "markdown",
   "id": "2f87958a-3127-4e37-920f-5aeaa061b9d5",
   "metadata": {},
   "source": [
    "## Results on integration of WT datasets\n",
    "All 3 methods seem to integrate the datasets correctly. bbknn and harmony seem to yield similar UMAPs. We will select bbknn as the WT dataset batch effect correction. In general, we observe a predominance of WT1 cells, mainly because there are fewer WT2 cells. We observe several cases, however, where the predominance of WT1 cells is much higher:\n",
    "* A large cluster expressing *Col12a1*, *Col9a1* and *Snorc*, possibly fibroblasts.\n",
    "* A small cluster expressing *"
   ]
  },
  {
   "cell_type": "markdown",
   "id": "183a2308-10ac-4dce-b980-5c656462d742",
   "metadata": {},
   "source": [
    "### Dataset analysis (KOD-bbknn)"
   ]
  },
  {
   "cell_type": "code",
   "execution_count": null,
   "id": "a389b880-1de7-44ab-81ac-4003830a4ee4",
   "metadata": {},
   "outputs": [],
   "source": [
    "adata_KOD = adata_all[adata_all.obs['batch'].isin(['KOD11', 'KOD12'])]\n",
    "sc.pp.filter_genes(adata_KOD, min_counts=1)"
   ]
  },
  {
   "cell_type": "code",
   "execution_count": null,
   "id": "4a8bda7f-90b9-44ec-9741-59271e8e6608",
   "metadata": {},
   "outputs": [],
   "source": [
    "sc.pp.pca(adata_KOD, random_state=seed, n_comps=50)\n",
    "sce.pp.bbknn(adata_KOD, metric='angular', batch_key='batch', neighbors_within_batch=3)\n",
    "tk.tl.triku(adata_KOD)"
   ]
  },
  {
   "cell_type": "code",
   "execution_count": null,
   "id": "3f2d5329-c985-4dae-9e1e-5321624fab4e",
   "metadata": {},
   "outputs": [],
   "source": [
    "sc.tl.umap(adata_KOD, min_dist=0.5, random_state=seed)\n",
    "sc.tl.leiden(adata_KOD, resolution=1.3, random_state=seed)"
   ]
  },
  {
   "cell_type": "code",
   "execution_count": null,
   "id": "b4cf7218-aead-4dbd-b8d2-9c4601768f75",
   "metadata": {},
   "outputs": [],
   "source": [
    "sc.pp.subsample(adata_KOD, fraction=1, random_state=seed, copy=False)"
   ]
  },
  {
   "cell_type": "code",
   "execution_count": null,
   "id": "8e044c58-dc82-4e23-bf34-d157a8149727",
   "metadata": {},
   "outputs": [],
   "source": [
    "sc.pl.umap(adata_KOD, color=['batch', 'leiden'], alpha=0.5)"
   ]
  },
  {
   "cell_type": "code",
   "execution_count": null,
   "id": "1a411cb1-f570-4843-b8fe-88279248bd8b",
   "metadata": {},
   "outputs": [],
   "source": [
    "sc.pl.umap(adata_KOD, color=['KRT10', 'KRT13', 'TMEM238', 'HBB', 'FAM117A', 'SOX6'], cmap=magma, ncols=3)"
   ]
  },
  {
   "cell_type": "markdown",
   "id": "bb5d8ba9-6f0e-4d1d-9016-58523b8c8b43",
   "metadata": {},
   "source": [
    "### Dataset analysis (KOD-harmony)"
   ]
  },
  {
   "cell_type": "code",
   "execution_count": null,
   "id": "9a97ab9c-a6f8-4461-983b-7288c602d00f",
   "metadata": {},
   "outputs": [],
   "source": [
    "adata_KOD = adata_all[adata_all.obs['batch'].isin(['KOD11', 'KOD12'])]\n",
    "sc.pp.filter_genes(adata_KOD, min_counts=1)"
   ]
  },
  {
   "cell_type": "code",
   "execution_count": null,
   "id": "7c144a68-c25d-488f-ac0f-bc08ecc2f340",
   "metadata": {},
   "outputs": [],
   "source": [
    "sc.pp.pca(adata_KOD, random_state=seed, n_comps=50)\n",
    "sce.pp.harmony_integrate(adata_KOD, key='batch', max_iter_harmony=50, plot_convergence=True)\n",
    "sc.pp.neighbors(adata_KOD, random_state=seed, n_neighbors=int(0.5 * len(adata_KOD) ** 0.5), metric='cosine', use_rep='X_pca_harmony')\n",
    "tk.tl.triku(adata_KOD)"
   ]
  },
  {
   "cell_type": "code",
   "execution_count": null,
   "id": "3a34036b-b100-4908-bcd3-b44036ff7f61",
   "metadata": {},
   "outputs": [],
   "source": [
    "sc.tl.umap(adata_KOD, min_dist=0.2, random_state=seed)\n",
    "sc.tl.leiden(adata_KOD, resolution=1.3, random_state=seed)"
   ]
  },
  {
   "cell_type": "code",
   "execution_count": null,
   "id": "05756a5f-43f8-4d97-bf59-eee48bf1699f",
   "metadata": {},
   "outputs": [],
   "source": [
    "sc.pl.umap(adata_KOD, color=['batch', 'leiden'], alpha=0.5)"
   ]
  },
  {
   "cell_type": "code",
   "execution_count": null,
   "id": "ad2d341f-e2b2-4b99-9a9c-84f712510f72",
   "metadata": {},
   "outputs": [],
   "source": [
    "sc.pl.umap(adata_KOD, color=['KRT10', 'KRT13', 'TMEM238', 'HBB', 'FAM117A', 'SOX6'], cmap=magma, ncols=3)"
   ]
  },
  {
   "cell_type": "markdown",
   "id": "5cabdaec-09b5-43e7-85ba-05963f7480e8",
   "metadata": {},
   "source": [
    "### Dataset analysis (KOD-scanorama)"
   ]
  },
  {
   "cell_type": "code",
   "execution_count": null,
   "id": "5ee92c9b-307a-48e9-81d8-c5428fbe3925",
   "metadata": {},
   "outputs": [],
   "source": [
    "adata_KOD = adata_all[adata_all.obs['batch'].isin(['KOD11', 'KOD12'])]\n",
    "sc.pp.filter_genes(adata_KOD, min_counts=1)\n",
    "adata_KOD = adata_KOD[adata_KOD.obs.sort_values(by='batch').index, :]"
   ]
  },
  {
   "cell_type": "code",
   "execution_count": null,
   "id": "2b1960ad-eb44-4bbc-81c9-669b740183f9",
   "metadata": {},
   "outputs": [],
   "source": [
    "sc.pp.pca(adata_KOD, random_state=seed, n_comps=50)\n",
    "sce.pp.scanorama_integrate(adata_KOD, 'batch', knn=12)\n",
    "sc.pp.neighbors(adata_KOD, random_state=seed, n_neighbors=int(0.5 * len(adata_KOD) ** 0.5), metric='cosine', use_rep='X_scanorama')\n",
    "tk.tl.triku(adata_KOD)"
   ]
  },
  {
   "cell_type": "code",
   "execution_count": null,
   "id": "29501d7b-4bd2-4455-b99e-46b3ef40e0ce",
   "metadata": {},
   "outputs": [],
   "source": [
    "sc.tl.umap(adata_KOD, min_dist=0.2, random_state=seed)\n",
    "sc.tl.leiden(adata_KOD, resolution=1.3, random_state=seed)"
   ]
  },
  {
   "cell_type": "code",
   "execution_count": null,
   "id": "765e5b6b-9379-4b39-85eb-d017069b60c2",
   "metadata": {},
   "outputs": [],
   "source": [
    "sc.pl.umap(adata_KOD, color=['batch', 'leiden'], alpha=0.5)"
   ]
  },
  {
   "cell_type": "code",
   "execution_count": null,
   "id": "a59f13a8-601b-453b-b466-802c68f6627d",
   "metadata": {},
   "outputs": [],
   "source": [
    "sc.pl.umap(adata_KOD, color=['KRT10', 'KRT13', 'TMEM238', 'HBB', 'FAM117A', 'SOX6'], cmap=magma, ncols=3)"
   ]
  },
  {
   "cell_type": "code",
   "execution_count": null,
   "id": "edaa01c0-b105-4b01-aa66-e313f67f90d9",
   "metadata": {},
   "outputs": [],
   "source": [
    "sc.tl.rank_genes_groups(adata_KOD, groupby='leiden', groups=['7', '11'])\n",
    "sc.pl.rank_genes_groups_tracksplot(adata_KOD, dendrogram=False, n_genes=35)"
   ]
  },
  {
   "cell_type": "markdown",
   "id": "c8ac559d-43eb-4a74-8840-521410e001a2",
   "metadata": {},
   "source": [
    "## Dataset analysis (whole-bbknn)"
   ]
  },
  {
   "cell_type": "code",
   "execution_count": null,
   "id": "38b35b0b-2c55-467e-8c2a-f02d167bd283",
   "metadata": {},
   "outputs": [],
   "source": [
    "# neighbors_within_batch"
   ]
  },
  {
   "cell_type": "code",
   "execution_count": null,
   "id": "7a83591d-2753-47b5-a19d-14f33dd80edd",
   "metadata": {},
   "outputs": [],
   "source": [
    "adata_all_bbknn = adata_all.copy()\n",
    "sc.pp.pca(adata_all_bbknn, random_state=seed, n_comps=50)\n",
    "sce.pp.bbknn(adata_all_bbknn, metric='angular', batch_key='batch', neighbors_within_batch=int(len(adata_all_bbknn) ** 0.5 / len(prefixes)))\n",
    "tk.tl.triku(adata_all_bbknn)\n",
    "\n",
    "sc.tl.umap(adata_all_bbknn, min_dist=0.3, random_state=seed)\n",
    "sc.tl.leiden(adata_all_bbknn, resolution=1.3, random_state=seed)\n",
    "\n",
    "sc.pp.subsample(adata_all_bbknn, fraction=1, random_state=seed, copy=False)\n",
    "sc.pl.umap(adata_all_bbknn, color=['batch', 'status', 'log1p_n_genes_by_counts', 'leiden'], alpha=0.5, ncols=2)\n",
    "sc.pl.umap(adata_all_bbknn, color=[f'is_{prefix}' for prefix in prefixes], alpha=0.5, ncols=2)"
   ]
  },
  {
   "cell_type": "code",
   "execution_count": null,
   "id": "f2d1a0ed-2327-4ed0-8373-fa693a04099e",
   "metadata": {},
   "outputs": [],
   "source": [
    "adata_all_bbknn = adata_all.copy()\n",
    "sc.pp.pca(adata_all_bbknn, random_state=seed, n_comps=50)\n",
    "sce.pp.bbknn(adata_all_bbknn, metric='angular', batch_key='batch', neighbors_within_batch=int(0.5 * len(adata_all_bbknn) ** 0.5 / len(prefixes)))\n",
    "tk.tl.triku(adata_all_bbknn)\n",
    "\n",
    "sc.tl.umap(adata_all_bbknn, min_dist=0.3, random_state=seed)\n",
    "sc.tl.leiden(adata_all_bbknn, resolution=1.3, random_state=seed)\n",
    "\n",
    "sc.pp.subsample(adata_all_bbknn, fraction=1, random_state=seed, copy=False)\n",
    "sc.pl.umap(adata_all_bbknn, color=['batch', 'status', 'log1p_n_genes_by_counts', 'leiden'], alpha=0.5, ncols=2)\n",
    "sc.pl.umap(adata_all_bbknn, color=[f'is_{prefix}' for prefix in prefixes], alpha=0.5, ncols=2)"
   ]
  },
  {
   "cell_type": "code",
   "execution_count": null,
   "id": "c634a414-53d4-4466-9fa4-cd87562a73d9",
   "metadata": {},
   "outputs": [],
   "source": [
    "adata_all_bbknn = adata_all.copy()\n",
    "sc.pp.pca(adata_all_bbknn, random_state=seed, n_comps=50)\n",
    "sce.pp.bbknn(adata_all_bbknn, metric='angular', batch_key='batch', neighbors_within_batch=int(0.1 * len(adata_all_bbknn) ** 0.5 / len(prefixes)))\n",
    "tk.tl.triku(adata_all_bbknn)\n",
    "\n",
    "sc.tl.umap(adata_all_bbknn, min_dist=0.3, random_state=seed)\n",
    "sc.tl.leiden(adata_all_bbknn, resolution=1.3, random_state=seed)\n",
    "\n",
    "sc.pp.subsample(adata_all_bbknn, fraction=1, random_state=seed, copy=False)\n",
    "sc.pl.umap(adata_all_bbknn, color=['batch', 'status', 'log1p_n_genes_by_counts', 'leiden'], alpha=0.5, ncols=2)\n",
    "sc.pl.umap(adata_all_bbknn, color=[f'is_{prefix}' for prefix in prefixes], alpha=0.5, ncols=2)"
   ]
  },
  {
   "cell_type": "code",
   "execution_count": null,
   "id": "7e212132-c016-40d1-ab81-2d404ae0a0f0",
   "metadata": {},
   "outputs": [],
   "source": [
    "adata_all_bbknn = adata_all.copy()\n",
    "sc.pp.pca(adata_all_bbknn, random_state=seed, n_comps=50)\n",
    "sce.pp.bbknn(adata_all_bbknn, metric='angular', batch_key='batch', neighbors_within_batch=int(0.05 * len(adata_all_bbknn) ** 0.5 / len(prefixes)))\n",
    "tk.tl.triku(adata_all_bbknn)\n",
    "\n",
    "sc.tl.umap(adata_all_bbknn, min_dist=0.3, random_state=seed)\n",
    "sc.tl.leiden(adata_all_bbknn, resolution=1.3, random_state=seed)\n",
    "\n",
    "sc.pp.subsample(adata_all_bbknn, fraction=1, random_state=seed, copy=False)\n",
    "sc.pl.umap(adata_all_bbknn, color=['batch', 'status', 'log1p_n_genes_by_counts', 'leiden'], alpha=0.5, ncols=2)\n",
    "sc.pl.umap(adata_all_bbknn, color=[f'is_{prefix}' for prefix in prefixes], alpha=0.5, ncols=2)"
   ]
  },
  {
   "cell_type": "code",
   "execution_count": null,
   "id": "d007fc7b-e1c8-4675-990b-0f0c7cf2d8fb",
   "metadata": {},
   "outputs": [],
   "source": []
  },
  {
   "cell_type": "code",
   "execution_count": null,
   "id": "c1a263e8-b9d5-414b-8212-44415f816dd0",
   "metadata": {},
   "outputs": [],
   "source": []
  },
  {
   "cell_type": "code",
   "execution_count": null,
   "id": "4cdf2b32-e6ef-4f9a-ac95-002488a7b42d",
   "metadata": {},
   "outputs": [],
   "source": []
  },
  {
   "cell_type": "code",
   "execution_count": null,
   "id": "fd4ac550-685c-4298-a10e-5ccf5e5a6386",
   "metadata": {},
   "outputs": [],
   "source": []
  },
  {
   "cell_type": "code",
   "execution_count": null,
   "id": "e81b74db-0c40-4fb7-8342-3112706c53ad",
   "metadata": {},
   "outputs": [],
   "source": []
  },
  {
   "cell_type": "code",
   "execution_count": null,
   "id": "b346e4b6-eaf5-460a-8dea-65285cf576f3",
   "metadata": {},
   "outputs": [],
   "source": []
  },
  {
   "cell_type": "code",
   "execution_count": null,
   "id": "7884f14a-fc74-4640-b5c3-9286cbacea0b",
   "metadata": {},
   "outputs": [],
   "source": [
    "adata_all_bbknn = adata_all.copy()"
   ]
  },
  {
   "cell_type": "code",
   "execution_count": null,
   "id": "18facdc5-4b68-453b-83e0-69a666a9e642",
   "metadata": {},
   "outputs": [],
   "source": [
    "sc.pp.pca(adata_all_bbknn, random_state=seed, n_comps=50)\n",
    "sce.pp.bbknn(adata_all_bbknn, metric='angular', batch_key='batch', neighbors_within_batch=int(len(adata_all_bbknn) ** 0.5 / len(prefixes)))\n",
    "tk.tl.triku(adata_all_bbknn)"
   ]
  },
  {
   "cell_type": "code",
   "execution_count": null,
   "id": "9ab3a982-f52f-44af-aec3-ff52e2c3ff26",
   "metadata": {},
   "outputs": [],
   "source": [
    "sc.tl.umap(adata_all_bbknn, min_dist=0.3, random_state=seed)\n",
    "sc.tl.leiden(adata_all_bbknn, resolution=0.8, random_state=seed)"
   ]
  },
  {
   "cell_type": "code",
   "execution_count": null,
   "id": "7eb1055c-95e3-467b-ac9a-ff7fdf1e8565",
   "metadata": {},
   "outputs": [],
   "source": [
    "sc.pp.subsample(adata_all_bbknn, fraction=1, random_state=seed, copy=False)\n",
    "sc.pl.umap(adata_all_bbknn, color=['batch', 'status', 'leiden'], alpha=0.5)\n",
    "sc.pl.umap(adata_all_bbknn, color=['status', 'leiden'], alpha=0.5, legend_loc='on data', ncols=2)"
   ]
  },
  {
   "cell_type": "code",
   "execution_count": null,
   "id": "7140522f-260a-46a5-917a-76e8dfeb23ac",
   "metadata": {},
   "outputs": [],
   "source": [
    "plot_batch_abundance(adata_all_bbknn, plot_status=True)"
   ]
  },
  {
   "cell_type": "markdown",
   "id": "b2536afe-d008-4361-a4d2-2ace07db794f",
   "metadata": {},
   "source": [
    "## Dataset imbalance analysis (whole-harmony)"
   ]
  },
  {
   "cell_type": "code",
   "execution_count": null,
   "id": "878d2b35-4fc3-4d75-869a-2f52c3bcb83a",
   "metadata": {},
   "outputs": [],
   "source": [
    "#Changing sigma"
   ]
  },
  {
   "cell_type": "code",
   "execution_count": null,
   "id": "4e09a11a-4057-4d04-a3b0-28670fd4cd7e",
   "metadata": {},
   "outputs": [],
   "source": [
    "adata_all_harmony = adata_all.copy()\n",
    "sc.pp.pca(adata_all_harmony, random_state=seed, n_comps=30)\n",
    "sce.pp.harmony_integrate(adata_all_harmony, key='batch', max_iter_harmony=50, plot_convergence=True, sigma=0.1)\n",
    "sc.pp.neighbors(adata_all_harmony, random_state=seed, n_neighbors=int(0.5 * len(adata_all_harmony) ** 0.5), metric='cosine', use_rep='X_pca_harmony')\n",
    "tk.tl.triku(adata_all_harmony)\n",
    "\n",
    "sc.tl.umap(adata_all_harmony, min_dist=0.3, random_state=seed)\n",
    "sc.tl.leiden(adata_all_harmony, resolution=1.3, random_state=seed)\n",
    "\n",
    "sc.pp.subsample(adata_all_harmony, fraction=1, random_state=seed, copy=False)\n",
    "\n",
    "sc.pl.umap(adata_all_harmony, color=['batch', 'status', 'log1p_n_genes_by_counts', 'leiden'], alpha=0.5, ncols=2)\n",
    "sc.pl.umap(adata_all_harmony, color=[f'is_{prefix}' for prefix in prefixes], alpha=0.5, ncols=2)"
   ]
  },
  {
   "cell_type": "code",
   "execution_count": null,
   "id": "ef82f402-8094-41ab-97b2-4dab48d1536a",
   "metadata": {},
   "outputs": [],
   "source": [
    "adata_all_harmony = adata_all.copy()\n",
    "sc.pp.pca(adata_all_harmony, random_state=seed, n_comps=30)\n",
    "sce.pp.harmony_integrate(adata_all_harmony, key='batch', max_iter_harmony=50, plot_convergence=True, sigma=0.5)\n",
    "sc.pp.neighbors(adata_all_harmony, random_state=seed, n_neighbors=int(0.5 * len(adata_all_harmony) ** 0.5), metric='cosine', use_rep='X_pca_harmony')\n",
    "tk.tl.triku(adata_all_harmony)\n",
    "\n",
    "sc.tl.umap(adata_all_harmony, min_dist=0.3, random_state=seed)\n",
    "sc.tl.leiden(adata_all_harmony, resolution=1.3, random_state=seed)\n",
    "\n",
    "sc.pp.subsample(adata_all_harmony, fraction=1, random_state=seed, copy=False)\n",
    "sc.pl.umap(adata_all_harmony, color=['batch', 'status', 'log1p_n_genes_by_counts', 'leiden'], alpha=0.5, ncols=2)\n",
    "sc.pl.umap(adata_all_harmony, color=[f'is_{prefix}' for prefix in prefixes], alpha=0.5, ncols=2)"
   ]
  },
  {
   "cell_type": "code",
   "execution_count": null,
   "id": "69bc10de-ce0d-4eb4-9e08-039de58c0980",
   "metadata": {},
   "outputs": [],
   "source": [
    "adata_all_harmony = adata_all.copy()\n",
    "sc.pp.pca(adata_all_harmony, random_state=seed, n_comps=30)\n",
    "sce.pp.harmony_integrate(adata_all_harmony, key='batch', max_iter_harmony=50, plot_convergence=True, sigma=0.01)\n",
    "sc.pp.neighbors(adata_all_harmony, random_state=seed, n_neighbors=int(0.5 * len(adata_all_harmony) ** 0.5), metric='cosine', use_rep='X_pca_harmony')\n",
    "tk.tl.triku(adata_all_harmony)\n",
    "\n",
    "sc.tl.umap(adata_all_harmony, min_dist=0.3, random_state=seed)\n",
    "sc.tl.leiden(adata_all_harmony, resolution=1.3, random_state=seed)\n",
    "\n",
    "sc.pp.subsample(adata_all_harmony, fraction=1, random_state=seed, copy=False)\n",
    "sc.pl.umap(adata_all_harmony, color=['batch', 'status', 'log1p_n_genes_by_counts', 'leiden'], alpha=0.5, ncols=2)\n",
    "sc.pl.umap(adata_all_harmony, color=[f'is_{prefix}' for prefix in prefixes], alpha=0.5, ncols=2)"
   ]
  },
  {
   "cell_type": "code",
   "execution_count": null,
   "id": "9b7f4fdd-81fa-4ff1-a737-39ae1443b091",
   "metadata": {},
   "outputs": [],
   "source": []
  },
  {
   "cell_type": "code",
   "execution_count": null,
   "id": "eb07197c-92b9-4d70-8056-8eee8c35dcf0",
   "metadata": {},
   "outputs": [],
   "source": []
  },
  {
   "cell_type": "code",
   "execution_count": null,
   "id": "a17cd699-0ace-4130-be08-053b8e9a819a",
   "metadata": {},
   "outputs": [],
   "source": []
  },
  {
   "cell_type": "code",
   "execution_count": null,
   "id": "ed4bc90c-0182-4e48-bde6-789763ba5270",
   "metadata": {},
   "outputs": [],
   "source": []
  },
  {
   "cell_type": "code",
   "execution_count": null,
   "id": "2688228d-f9b8-4801-b78e-5cdedca4884a",
   "metadata": {},
   "outputs": [],
   "source": []
  },
  {
   "cell_type": "code",
   "execution_count": null,
   "id": "c08833a4-6b29-4572-87b9-4c633e4481ad",
   "metadata": {},
   "outputs": [],
   "source": []
  },
  {
   "cell_type": "code",
   "execution_count": null,
   "id": "799268ef-655a-4e06-a338-b702d32a815d",
   "metadata": {},
   "outputs": [],
   "source": []
  },
  {
   "cell_type": "code",
   "execution_count": null,
   "id": "13e19b86-c389-4e4e-b10f-be35369d9e04",
   "metadata": {},
   "outputs": [],
   "source": []
  },
  {
   "cell_type": "code",
   "execution_count": null,
   "id": "70c59c81-570b-4675-9963-164f364f0030",
   "metadata": {},
   "outputs": [],
   "source": []
  },
  {
   "cell_type": "code",
   "execution_count": null,
   "id": "afa8d4df-bd88-4334-8ef1-bd6f9abfe714",
   "metadata": {},
   "outputs": [],
   "source": []
  },
  {
   "cell_type": "code",
   "execution_count": null,
   "id": "f168fba7-336b-45d3-b310-fc2da265b430",
   "metadata": {},
   "outputs": [],
   "source": []
  },
  {
   "cell_type": "code",
   "execution_count": null,
   "id": "45cb788c-02f0-42e8-95cc-c7cc571e8c87",
   "metadata": {},
   "outputs": [],
   "source": [
    "adata_all_harmony = adata_all.copy()"
   ]
  },
  {
   "cell_type": "code",
   "execution_count": null,
   "id": "445152b4-4b72-4a0c-81f8-44011e01add0",
   "metadata": {},
   "outputs": [],
   "source": [
    "sc.pp.pca(adata_all_harmony, random_state=seed, n_comps=30)\n",
    "sce.pp.harmony_integrate(adata_all_harmony, key='batch', max_iter_harmony=50, plot_convergence=True)\n",
    "sc.pp.neighbors(adata_all_harmony, random_state=seed, n_neighbors=int(0.5 * len(adata_all_harmony) ** 0.5), metric='cosine', use_rep='X_pca_harmony')\n",
    "tk.tl.triku(adata_all_harmony)"
   ]
  },
  {
   "cell_type": "code",
   "execution_count": null,
   "id": "b80491ba-9aeb-4686-af5e-0cb6928e7977",
   "metadata": {},
   "outputs": [],
   "source": [
    "sc.tl.umap(adata_all_harmony, min_dist=0.2, random_state=seed)\n",
    "sc.tl.leiden(adata_all_harmony, resolution=1.3, random_state=seed)"
   ]
  },
  {
   "cell_type": "code",
   "execution_count": null,
   "id": "af1044c5-9315-4b30-a36e-a5c2b85b7d0b",
   "metadata": {},
   "outputs": [],
   "source": [
    "sc.pp.subsample(adata_all_harmony, fraction=1, random_state=seed, copy=False)\n",
    "sc.pl.umap(adata_all_harmony, color=['batch', 'status', 'leiden'], alpha=0.5)\n",
    "sc.pl.umap(adata_all_harmony, color=['status', 'leiden'], alpha=0.5, legend_loc='on data', ncols=2)"
   ]
  },
  {
   "cell_type": "code",
   "execution_count": null,
   "id": "8e664c03-a1e3-456f-ba05-5193703ef5fb",
   "metadata": {},
   "outputs": [],
   "source": [
    "plot_batch_abundance(adata_all_harmony, plot_status=True)"
   ]
  },
  {
   "cell_type": "markdown",
   "id": "b907d90a-fc09-413d-b519-9ea3aca07679",
   "metadata": {},
   "source": [
    "## Dataset analysis (whole-scanorama)"
   ]
  },
  {
   "cell_type": "code",
   "execution_count": null,
   "id": "0876b9f5-7a0c-4d19-880f-48a71e6b8057",
   "metadata": {},
   "outputs": [],
   "source": [
    "adata_all_scanorama = adata_all.copy()"
   ]
  },
  {
   "cell_type": "code",
   "execution_count": null,
   "id": "05be230c-715e-4ee7-b075-5f0644b21b7c",
   "metadata": {},
   "outputs": [],
   "source": [
    "adata_all_scanorama = adata_all_scanorama[adata_all_scanorama.obs.sort_values(by='batch').index, :]"
   ]
  },
  {
   "cell_type": "code",
   "execution_count": null,
   "id": "e100d0a6-94e6-4f80-93c5-3f4a5a812b03",
   "metadata": {},
   "outputs": [],
   "source": [
    "sc.pp.pca(adata_all_scanorama, random_state=seed, n_comps=50)\n",
    "sce.pp.scanorama_integrate(adata_all_scanorama, 'batch', knn=int(0.5 * len(adata_all_scanorama) ** 0.5), alpha=2)\n",
    "sc.pp.neighbors(adata_all_scanorama, random_state=seed, n_neighbors=int(0.5 * len(adata_all_scanorama) ** 0.5), metric='cosine', use_rep='X_scanorama')\n",
    "tk.tl.triku(adata_all_scanorama)"
   ]
  },
  {
   "cell_type": "code",
   "execution_count": null,
   "id": "feafa98f-5436-4f60-bba2-bc873579e676",
   "metadata": {},
   "outputs": [],
   "source": [
    "sc.tl.umap(adata_all_scanorama, min_dist=0.5, random_state=seed)\n",
    "sc.tl.leiden(adata_all_scanorama, resolution=1.3, random_state=seed)"
   ]
  },
  {
   "cell_type": "code",
   "execution_count": null,
   "id": "d40fe559-2b7f-465c-95c6-8a787b881b4e",
   "metadata": {},
   "outputs": [],
   "source": [
    "sc.pl.umap(adata_all_scanorama, color=['batch', 'status', 'leiden'], alpha=0.5)"
   ]
  },
  {
   "cell_type": "code",
   "execution_count": null,
   "id": "ecbd0dc0-bc71-4275-a634-8cef9e2397ae",
   "metadata": {},
   "outputs": [],
   "source": [
    "plot_batch_abundance(adata_all_scanorama, plot_status=True)"
   ]
  },
  {
   "cell_type": "code",
   "execution_count": null,
   "id": "9b48b244-d907-4697-8416-856b87406903",
   "metadata": {},
   "outputs": [],
   "source": []
  }
 ],
 "metadata": {
  "kernelspec": {
   "display_name": "Python [conda env:alex-base] *",
   "language": "python",
   "name": "conda-env-alex-base-py"
  },
  "language_info": {
   "codemirror_mode": {
    "name": "ipython",
    "version": 3
   },
   "file_extension": ".py",
   "mimetype": "text/x-python",
   "name": "python",
   "nbconvert_exporter": "python",
   "pygments_lexer": "ipython3",
   "version": "3.8.0"
  }
 },
 "nbformat": 4,
 "nbformat_minor": 5
}
