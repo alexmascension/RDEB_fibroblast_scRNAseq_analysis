{
 "cells": [
  {
   "cell_type": "markdown",
   "id": "aa781ea4-1ef8-4bd8-b09d-1e513ed2c212",
   "metadata": {},
   "source": [
    "# Figures associated to keratinocyte processing\n",
    "\n",
    "**You need to tun the notebook 1_ first!!!!**"
   ]
  },
  {
   "cell_type": "code",
   "execution_count": null,
   "id": "beec4b87-e7ae-42fb-a135-12bb7617dfea",
   "metadata": {
    "tags": []
   },
   "outputs": [],
   "source": [
    "from cellassign import assign_cats\n",
    "import gzip\n",
    "import itertools as itl\n",
    "import matplotlib.pyplot as plt\n",
    "import matplotlib as mpl\n",
    "import numpy as np\n",
    "import os\n",
    "import pandas as pd\n",
    "import scanpy as sc\n",
    "import scanpy.external as sce\n",
    "import seaborn as sns\n",
    "import triku as tk\n",
    "import itertools\n",
    "import matplotlib.pylab as pylab"
   ]
  },
  {
   "cell_type": "code",
   "execution_count": null,
   "id": "e1fb0597-20bc-498b-81a7-e05c21bf9083",
   "metadata": {
    "tags": []
   },
   "outputs": [],
   "source": [
    "from functions import adata_plot_KOvsWT, stat_annot_gene, save_adata\n",
    "from functions import dict_WT_KO_colors, plot_WT_KO_genes"
   ]
  },
  {
   "cell_type": "code",
   "execution_count": null,
   "id": "d42c465d-e373-4ca7-b67e-94d0ffe388b8",
   "metadata": {
    "tags": []
   },
   "outputs": [],
   "source": [
    "from datetime import date\n",
    "\n",
    "today = date.today()\n",
    "today = today.strftime(\"%Y_%m_%d\")"
   ]
  },
  {
   "cell_type": "code",
   "execution_count": null,
   "id": "965d7745-46a9-480c-9c08-4f0630f09114",
   "metadata": {
    "tags": []
   },
   "outputs": [],
   "source": [
    "# Palettes for UMAP gene expression\n",
    "\n",
    "magma = [plt.get_cmap('magma')(i) for i in np.linspace(0,1, 80)]\n",
    "magma[0] = (0.88, 0.88, 0.88, 1)\n",
    "magma = mpl.colors.LinearSegmentedColormap.from_list(\"\", magma[:65])"
   ]
  },
  {
   "cell_type": "code",
   "execution_count": null,
   "id": "42fd079d-eb29-4f6d-84db-528e1e1f1848",
   "metadata": {
    "tags": []
   },
   "outputs": [],
   "source": [
    "params = {'figure.dpi': 200,\n",
    "          'legend.fontsize': 'large',\n",
    "         'axes.labelsize': 'x-large',\n",
    "         'axes.titlesize':'x-large',\n",
    "         'xtick.labelsize':'x-large',\n",
    "         'ytick.labelsize':'x-large', \n",
    "         'axes.grid': False}\n",
    "pylab.rcParams.update(params)\n",
    "# mpl.style.use('default')\n",
    "\n",
    "pd.set_option('display.max_columns', None)"
   ]
  },
  {
   "cell_type": "markdown",
   "id": "851e2f7c-361c-4e68-aa6e-d32abd0b89b3",
   "metadata": {},
   "source": [
    "## Functions and variables"
   ]
  },
  {
   "cell_type": "code",
   "execution_count": null,
   "id": "2cb59f56-277b-498b-b9ea-abe1361a5bab",
   "metadata": {
    "tags": []
   },
   "outputs": [],
   "source": [
    "%store -r dict_WT_KO_colors\n",
    "%store -r seed"
   ]
  },
  {
   "cell_type": "markdown",
   "id": "cd3d67f8-65f4-4a1c-b1dc-4b7de3024ff5",
   "metadata": {},
   "source": [
    "## Load adata"
   ]
  },
  {
   "cell_type": "code",
   "execution_count": null,
   "id": "bab15a72-06de-40b3-b2ba-863299e110cd",
   "metadata": {
    "tags": []
   },
   "outputs": [],
   "source": [
    "adata_all_harmony = sc.read_h5ad('adatas/adata_all_harmony.h5')\n",
    "adata_all_harmony.uns['log1p'] = {'base': None}  # Becuase sometimes it fails at DEG calculation\n",
    "adata_krt = adata_all_harmony[adata_all_harmony.obs['merged_cell_type_name'] == 'KRT']"
   ]
  },
  {
   "cell_type": "code",
   "execution_count": null,
   "id": "cbb7b439-e74d-4ea2-a090-6fd296024ad6",
   "metadata": {
    "tags": []
   },
   "outputs": [],
   "source": [
    "sc.pp.filter_genes(adata_krt, min_counts=1)"
   ]
  },
  {
   "cell_type": "code",
   "execution_count": null,
   "id": "5c793023-137c-4e5b-ba27-230a9a79542d",
   "metadata": {
    "tags": []
   },
   "outputs": [],
   "source": [
    "sc.pp.pca(adata_krt, random_state=seed, n_comps=50)\n",
    "sce.pp.harmony_integrate(adata_krt, key='batch', max_iter_harmony=50, plot_convergence=True)\n",
    "sc.pp.neighbors(adata_krt, random_state=seed, n_neighbors=int(len(adata_krt) ** 0.5 * 0.5), metric='cosine', use_rep='X_pca_harmony')\n",
    "tk.tl.triku(adata_krt, use_raw=False)\n",
    "\n",
    "sc.pp.pca(adata_krt, random_state=seed, n_comps=50)\n",
    "sce.pp.harmony_integrate(adata_krt, key='batch', max_iter_harmony=50, plot_convergence=True)\n",
    "sc.pp.neighbors(adata_krt, random_state=seed, n_neighbors=int(len(adata_krt) ** 0.5 * 0.5), metric='cosine', use_rep='X_pca_harmony')"
   ]
  },
  {
   "cell_type": "markdown",
   "id": "826677f1-237c-4cf2-9649-dd45324f723e",
   "metadata": {},
   "source": [
    "### Subpopulation annotation\n",
    "\n",
    "To do the annotation we used the characterization made by Joost et al. 2020. There are some populations that are not appearing (Krt75+ to Krt18+) and we are not sure about their functional relationship"
   ]
  },
  {
   "cell_type": "code",
   "execution_count": null,
   "id": "aad8eeac-a717-4978-b2c3-f22572a9863d",
   "metadata": {
    "tags": []
   },
   "outputs": [],
   "source": [
    "dict_krts = {   \n",
    "                '0: KRT Krt27$^+$' : ['Krt25', 'Krt27', 'Krt71', 'Tchh', 'Prss53', 'Ttyh2', 'Crnn', 'Sprr1a', \n",
    "                                                   'Cdsn', 'Sytl2', 'Arg1', 'Padi1', 'Nrxn2', 'Tmem229b', 'Capn8'],\n",
    "                \n",
    "                '1: KRT Nkd2$^+$' : ['Krt73', 'Msx2', 'Nkd2', 'Ctsc', 'Crym', 'Fbp1', 'Dusp2', 'Taf13', 'Gata3', 'Dlx2', \n",
    "                                                    'Msx1', 'Prr9', 'Slc39a8', 'Wdr47', 'Csgalnact1', 'Neo1', 'Wnt5a'],\n",
    "    \n",
    "                '2: KRT Krt35$^+$': ['Krt35', 'Krt36', 'Rexo2', 'Mt4', 'Gm49425', 'Msx1', 'S100a3', 'Krtap7-1', 'Krtap8-1', \n",
    "                                           'Ly6g6d', 'Selenbp1', 'Krt81', 'Krtap13-1', 'Rab3ip', 'Krtap22-2'],\n",
    "                \n",
    "                '3: KRT Shisa2$^+$': ['Barx2', 'Krt6a', 'Sprr1a', 'Rnase12', 'Krt14', 'Gja1', 'Krt6a', 'Pdzrn3', 'Pthlh', 'Shisa2', 'Clasrp', 'Pfn2', 'Mgat4a'],\n",
    "    \n",
    "                '4: KRT Il11ra1$^+$': ['Il11ra1', 'Col16a1', 'Tagln', 'Slc7a8', 'Cxcl14', 'Bgn', 'Vdr', 'Ucp2', 'Gclm', 'Col16a1', 'Smtn', 'Tbx1', \n",
    "                                                    'Myl9', 'Lamb1', 'Gclc', 'Slc1a3', 'Col4a2', 'Fhod3', 'Cxcl12', 'Cntfr'],\n",
    "    \n",
    "                '5: KRT Id3$^+$': ['Id3', 'Mt2', 'Fos', 'Mt1', 'Ier2', 'Krt17', 'Slc3a2', 'Fgfr1', 'Slpi', \n",
    "                                              'Tnc', 'Junb', 'Tnfrsf12a', 'Fgfr1', 'Thbs1', 'Ndrg1', 'Klf10', 'Nedd9',],\n",
    "    \n",
    "                '6: KRT Anln$^+$': ['Anln', 'Prc1', 'Cdk1', 'Cenpf', 'Dnph1', 'Cdca8', 'Birc5', 'Cdca3', \n",
    "                                          'Spc24', 'Nusap1', 'Cenpa', 'Ccnb1', 'Ccnb2', 'Racgap1', 'Cdc20'],\n",
    "    \n",
    "                '7: KRT Krt5$^+$': ['Krt5', 'Igfbp2', 'Ly6a', 'Sparc', 'Cdh13', 'Il1r2', 'Efemp1', 'Smoc2', 'Ccdc3', \n",
    "                                          'Igfbp6', 'Antxr1', 'Ppic', 'Cotl1', 'Cav1', 'Thy1'], \n",
    "    \n",
    "                '8: KRT Ifi202b$^+$': ['Krt5', 'S100a10', 'Eif5', 'Serpinb2', 'Ifi202b', 'Cxcl16', 'Fosl1', 'Sqstm1', \n",
    "                                             'Tiparp', 'Tinagl1', 'Krt16', 'Ptgs2', 'Epgn', 'Adam8', 'Cnksr1', 'Ccdc71l'], \n",
    "    \n",
    "    \n",
    "                '9: KRT Krt10$^+$': ['Krt1', 'Krt10', 'Mt4', 'Lgals3', 'Acsl1', 'Chit1', 'Endou', 'Krtdap', \n",
    "                                                       'Them5', 'Stfa1', 'Calm5', 'Gm15432', 'Sdr16c5', 'Tmem45a', 'Agpat3', 'Ablim1'], \n",
    "    \n",
    "\n",
    "                '10: KRT Krt78$^+$': ['Krt78', 'Dkkl1', 'Gm94', 'Skint5', 'Klk5', 'Klk8', 'Oas1f', 'Prxl2b', 'Tmprss4', 'Sbsn', \n",
    "                                                 'Ly6g6c', 'Cnfn', 'Agpat4', 'Hal', 'Pdzk1ip1', 'Rbp2', 'Crabp2', 'Nrtn', 'Mboat2', 'Susd2', 'Gjb5'], \n",
    "\n",
    "                \n",
    "                '11: KRT Lor$^+$': ['Lor', 'Nccrp1', 'Trex2', 'Lce1a1', 'Lce1b', 'Flg', 'Lce1f', 'Hrnr', 'Crct1', 'Lce1g', \n",
    "                                         'Lce1e', 'Kprp', 'Il18', 'Lce1m', 'Lce1i', 'Lce1c', 'Lce1h', 'Lce1j', 'Flg2'],  # Granular\n",
    "        \n",
    "                '12: KRT Defb6$^+$': ['Krt79', 'Krt17', 'Cst6', 'Ly6g6c', 'Defb6', 'Defb1', 'Klk7', 'Dpysl3', \n",
    "                                                       'Gata6', 'Alox12e', 'Nebl', 'Teddm3', 'Rbp1', 'Susd2', 'Pdzk1ip1', 'Ano9'],\n",
    "                \n",
    "                '13: KRT Sprr1b$^+$': ['Krt16', 'Sprr1b', 'Sprr1a', 'Asprv1', 'Ehf', 'Sbsn', 'Krt80', 'Cnfn', 'Sprr2h', 'Gm9774', 'Ppif', 'Lpin2', 'Il1f9'],\n",
    "    \n",
    "                '14: KRT Cidea$^+$': ['Mgst1', 'Cidea', 'Ldhb', 'Acsbg1', 'Pparg', 'Bex1', 'Krt79', 'Psph', 'Far2', 'Cyp2g1', 'Elovl3',\n",
    "                                          'Aadac', 'Glrx5', 'Sdc1', 'Eci2', 'Cbr1', 'Scp2', 'Aco1', 'Alad', 'Soat1', 'Cat', 'Lpl'],\n",
    "    \n",
    "                '15: KRT Cd74$^+$': ['Cd74', 'H2-Eb1', 'H2-Aa', 'Vim', 'Tyrobp', 'Mfge8', 'Alox5ap', 'Cd52', 'Ltc4s', 'Gngt2', 'S100a4', 'Emp3', 'Fcer1g', 'Rgs1', 'Fxyd5', \n",
    "                                           'Napsa', 'Ptpn18', 'Hpgds', 'Ctss', 'Csf1r', 'Cd207',],\n",
    "    \n",
    "                '16: KRT Krt75$^+$': ['Krt17', 'Tm4sf1', 'Gjb2', 'Wnt11', 'Slc39a6', 'Krt75', 'Fzd5', 'Clu', 'Trim2', 'Sulf2', \n",
    "                                           'Lap3', 'Gm44460', 'Sult2b1', 'Slc39a8', 'Gm12446', 'Cyth1', 'Cdr2'],\n",
    "                '17: KRT Gpx2$^+$': ['Gpx2', 'Ly6g6c', 'Krt6a', 'Cpm', 'Cryab', 'Fads3', 'Pinlyp', 'Pgap2', 'Cd82', \n",
    "                                          'Klk7', 'Palld', 'Acot1', 'Ss18l2', 'Phactr1', 'Kcne1', 'Gabrp', 'Klk10', 'Ace2'],\n",
    "                '18: KRT Fxyd1$^+$': ['Sparc', 'Vim', 'Lgals1', 'Emp3', 'Crip1', 'S100a4', 'Col6a1', 'Fxyd1', \n",
    "                                           'Fstl1', 'Col3a1', 'Matn2', 'Col6a3', 'Zeb2', 'Col5a1', 'Dcn', 'Pcolce'],\n",
    "                '19: KRT Myh11$^+$': ['Tagln', 'Col4a2', 'Col4a1', 'Acta2', 'Myh11', 'Igfbp2', 'Rbpms', 'Myl9', \n",
    "                                           'Gm48529', 'Ero1l', 'Anxa6', 'Ptprz1'],\n",
    "                '20: KRT Krt18$^+$': ['Krt18', 'Krt9', 'Cldn3', 'Cystm1', 'Wfdc18', 'Ceacam1', 'Wfdc2', 'Mapre2', \n",
    "                                          'Sec14l1', 'Hk1', 'Kcnn4', 'Tesc', 'Rbm47', 'Tpd52l1', 'Ppp1r1b'],\n",
    "                  }"
   ]
  },
  {
   "cell_type": "code",
   "execution_count": null,
   "id": "21c26aef-7bf9-4655-af07-37032e1bb66c",
   "metadata": {
    "tags": []
   },
   "outputs": [],
   "source": [
    "dict_krt_colors = {  '0: KRT Krt27$^+$': '#67dcf1',\n",
    "                     '1: KRT Nkd2$^+$': '#df7935',\n",
    "                     '2: KRT Krt35$^+$': '#20668d',\n",
    "                     '3: KRT Shisa2$^+$': '#a05a2c',\n",
    "                     '4: KRT Il11ra1$^+$': '#ff5599',\n",
    "                     '5: KRT Id3$^+$': '#d40055',\n",
    "                     '6: KRT Anln$^+$': '#8e0c6f',\n",
    "                     '7: KRT Krt5$^+$': '#d3bc5f',\n",
    "                     '8: KRT Ifi202b$^+$': '#4d0765',\n",
    "                     '9: KRT Krt10$^+$': '#229eb2',\n",
    "                     '10: KRT Krt78$^+$': '#67dcf1',\n",
    "                     '11: KRT Lor$^+$': '#df7935',\n",
    "                     '12: KRT Defb6$^+$': '#20668d',\n",
    "                     '13: KRT Sprr1b$^+$': '#a05a2c',\n",
    "                     '14: KRT Cidea$^+$': '#ff5599',\n",
    "                     '15: KRT Cd74$^+$': '#d40055',\n",
    "                     '16: KRT Krt75$^+$': '#8e0c6f',\n",
    "                     '17: KRT Gpx2$^+$': '#d3bc5f',\n",
    "                     '18: KRT Fxyd1$^+$': '#4d0765',\n",
    "                     '19: KRT Myh11$^+$': '#229eb2',\n",
    "                     '20: KRT Krt18$^+$': '#67dcf1',}"
   ]
  },
  {
   "cell_type": "code",
   "execution_count": null,
   "id": "57165322-2e13-4009-8293-3d5b9b60de48",
   "metadata": {
    "tags": []
   },
   "outputs": [],
   "source": [
    "sc.tl.leiden(adata_krt, resolution=4)\n",
    "assign_cats(adata_krt, dict_cats=dict_krts, min_score=0.4, quantile_gene_sel=0.7, key_added='subtype')"
   ]
  },
  {
   "cell_type": "code",
   "execution_count": null,
   "id": "01c51040-f7ef-432a-8e81-642883d4ab98",
   "metadata": {
    "tags": []
   },
   "outputs": [],
   "source": [
    "sc.tl.leiden(adata_krt, resolution=4)\n",
    "assign_cats(adata_krt, dict_cats=dict_krts, min_score=0.4, quantile_gene_sel=0.7, key_added='subtype')\n",
    "\n",
    "\n",
    "adata_krt.obs['subtype_name'] = [i.split(': ')[1] for i in adata_krt.obs['subtype']]\n",
    "adata_krt.obs['subtype_name'] = adata_krt.obs['subtype_name'].astype('category')\n",
    "adata_krt.obs['subtype_name'].cat.reorder_categories([i.split(': ')[1] for i in dict_krts.keys()], inplace=True)\n",
    "\n",
    "adata_krt.obs['subtype_number'] = [i.split(': ')[0] for i in adata_krt.obs['subtype']]\n",
    "adata_krt.obs['subtype_number'] = adata_krt.obs['subtype_number'].astype('category')\n",
    "adata_krt.obs['subtype_number'].cat.reorder_categories([i.split(': ')[0] for i in dict_krts.keys()], inplace=True)\n",
    "\n",
    "\n",
    "adata_krt.uns['subtype_colors'] = list(dict_krt_colors.values())\n",
    "adata_krt.uns['subtype_name_colors'] = list(dict_krt_colors.values())\n",
    "adata_krt.uns['subtype_number_colors'] = list(dict_krt_colors.values())"
   ]
  },
  {
   "cell_type": "markdown",
   "id": "cdb8bc38-71ed-4e57-8d1b-d26b4dffd154",
   "metadata": {},
   "source": [
    "## Table with markers and p-values"
   ]
  },
  {
   "cell_type": "code",
   "execution_count": null,
   "id": "f5f63c21-ed7d-45f9-aad9-c414f85ccc67",
   "metadata": {
    "tags": []
   },
   "outputs": [],
   "source": [
    "sc.tl.rank_genes_groups(adata_krt, groupby='subtype')\n",
    "names = pd.DataFrame(adata_krt.uns['rank_genes_groups']['names'])\n",
    "pvals = pd.DataFrame(adata_krt.uns['rank_genes_groups']['pvals_adj'])"
   ]
  },
  {
   "cell_type": "code",
   "execution_count": null,
   "id": "cd4fd1d6-9f27-42b8-bd16-5edfb75b169e",
   "metadata": {
    "scrolled": true,
    "tags": []
   },
   "outputs": [],
   "source": [
    "for cell_type, list_cell_markers in dict_krts.items():\n",
    "    print(cell_type)\n",
    "    sc.pl.umap(adata_krt, color=[i for i in list_cell_markers if i in adata_krt.var_names], alpha=0.5, ncols=5, cmap=magma, use_raw=False)"
   ]
  },
  {
   "cell_type": "code",
   "execution_count": null,
   "id": "8c8fb12e-5c0d-4136-95bf-b68e55f30e02",
   "metadata": {
    "tags": []
   },
   "outputs": [],
   "source": [
    "# Create a DataFrame with 30 most important genes\n",
    "list_dfs = []\n",
    "for subtype, genes in dict_krts.items():\n",
    "    df = pd.DataFrame({f'{subtype} genes': names[subtype], f'p-value {subtype}': pvals[subtype]}, dtype=object)\n",
    "    df_short = df[df[f'{subtype} genes'].isin(genes)].sort_values(by=f'p-value {subtype}', ascending=True).iloc[:30].reset_index(drop=True)\n",
    "    df[f'p-value {subtype}'] = df[f'p-value {subtype}'].apply(lambda x: '%.3E' % x).values.tolist()\n",
    "    list_dfs.append(df)"
   ]
  },
  {
   "cell_type": "code",
   "execution_count": null,
   "id": "ef742b32-70cc-4bce-8f54-feb12f009053",
   "metadata": {
    "tags": []
   },
   "outputs": [],
   "source": [
    "df_all_celltypes = pd.concat(list_dfs, axis=1).iloc[:50]\n",
    "df_all_celltypes.to_csv(f'results/{date.today().strftime(\"%Y_%m_%d\")}-KRT_DEGs.csv.csv', index=False)\n",
    "df_all_celltypes"
   ]
  },
  {
   "cell_type": "markdown",
   "id": "5743749e-bce2-49ef-9e9e-ba5017ee6ee8",
   "metadata": {},
   "source": [
    "## UMAP of fibroblast subpopulations and batch"
   ]
  },
  {
   "cell_type": "code",
   "execution_count": null,
   "id": "29e9a4c4-5b1d-4f7d-b341-300fee50a577",
   "metadata": {
    "tags": []
   },
   "outputs": [],
   "source": [
    "sc.tl.umap(adata_krt, min_dist=1.1)\n",
    "sc.pl.umap(adata_krt, color=['batch', 'subtype'], ncols=2, frameon=False, cmap=magma)"
   ]
  },
  {
   "cell_type": "code",
   "execution_count": null,
   "id": "1cdca82a-7174-49df-b239-00220217870a",
   "metadata": {
    "tags": []
   },
   "outputs": [],
   "source": [
    "sc.pl.umap(adata_krt[adata_krt.obs['batch'].isin(['KO1', 'KO2'])] , color=['batch', 'subtype'], ncols=2, frameon=False, cmap=magma, size=35)\n",
    "sc.pl.umap(adata_krt[adata_krt.obs['batch'].isin(['WT1', 'WT2'])] , color=['batch', 'subtype'], ncols=2, frameon=False, cmap=magma, size=35)"
   ]
  },
  {
   "cell_type": "code",
   "execution_count": null,
   "id": "c02f58d1-1116-4192-b613-9196960f2d49",
   "metadata": {
    "tags": []
   },
   "outputs": [],
   "source": [
    "fig, axs = plt.subplots(1, 2, figsize=(12, 3.5))\n",
    "sc.pl.umap(adata_krt[adata_krt.obs['batch'].isin(['KO1', 'KO2'])] , color=['subtype_number'], ncols=1, frameon=False, cmap=magma, size=35, \n",
    "           ax=axs[0], show=False, legend_loc='on data', legend_fontoutline=4, legend_fontsize=14, title='KO')\n",
    "sc.pl.umap(adata_krt[adata_krt.obs['batch'].isin(['WT1', 'WT2'])] , color=['subtype'], ncols=1, frameon=False, cmap=magma, size=35, \n",
    "           ax=axs[1], show=False, title='')\n",
    "sc.pl.umap(adata_krt[adata_krt.obs['batch'].isin(['WT1', 'WT2'])] , color=['subtype_number'], ncols=1, frameon=False, cmap=magma, size=35, \n",
    "           ax=axs[1], show=False, legend_loc='on data', legend_fontoutline=4, legend_fontsize=14, title='WT' )\n",
    "\n",
    "plt.tight_layout()\n",
    "\n",
    "plt.savefig(f'results/figures/F4/krt_subtypes_{date.today().strftime(\"%Y_%m_%d\")}.png', dpi=300)\n",
    "plt.savefig(f'results/figures/F4/Fig4A_{date.today().strftime(\"%Y_%m_%d\")}.png', dpi=300)"
   ]
  },
  {
   "cell_type": "code",
   "execution_count": null,
   "id": "e2ce6da3-1dcb-448c-a1a3-9d94c6a2baa6",
   "metadata": {
    "tags": []
   },
   "outputs": [],
   "source": [
    "plot_WT_KO_genes(adata_krt, genes=['Krt27', 'Nkd2', 'Krt35', 'Shisa2', 'Il11ra1', 'Id3', 'Anln', 'Krt5', 'Ifi202b', 'Krt10', 'Krt78'], \n",
    "                 plot_labels_batch=False, plot_KO_vs_WT=False, n_cols=11)\n",
    "plt.savefig(f'results/figures/F4/Fig4A_UP_{date.today().strftime(\"%Y_%m_%d\")}.png', dpi=300)\n",
    "\n",
    "plot_WT_KO_genes(adata_krt, genes=['Lor', 'Defb6', 'Sprr1b', 'Cidea', 'Cd74', 'Krt75', 'Gpx2', 'Fxyd1', 'Myh11', 'Krt18'],\n",
    "                 plot_labels_batch=False, plot_KO_vs_WT=False, n_cols=11)\n",
    "plt.savefig(f'results/figures/F4/Fig4A_DOWN_{date.today().strftime(\"%Y_%m_%d\")}.png', dpi=300)"
   ]
  },
  {
   "cell_type": "code",
   "execution_count": null,
   "id": "3f7aba64-2fc8-406a-9c58-686fc2b58c0b",
   "metadata": {
    "tags": []
   },
   "outputs": [],
   "source": [
    "plot_WT_KO_genes(adata_krt, genes=['Tslp', 'Sprr1a', 'Sprr1b', 'Krt6a', 'Krt16'], \n",
    "                 plot_labels_batch=True, plot_KO_vs_WT=False, n_cols=6)\n",
    "plot_WT_KO_genes(adata_krt, genes=['Krt17', 'Il1f9', 'Krt2', 'Krt15', 'Krt24'],\n",
    "                 plot_labels_batch=False, plot_KO_vs_WT=True, n_cols=6)"
   ]
  },
  {
   "cell_type": "markdown",
   "id": "8e65f54a-d02a-41de-958c-fe625297215c",
   "metadata": {},
   "source": [
    "## Proportion of cell types within WT and KO"
   ]
  },
  {
   "cell_type": "code",
   "execution_count": null,
   "id": "d4c74e4b-5240-46b0-b588-ebd3caeb80bd",
   "metadata": {
    "tags": []
   },
   "outputs": [],
   "source": [
    "adata_plot_KOvsWT(adata_krt, list(dict_krts.keys()), col_cell_type='subtype')"
   ]
  },
  {
   "cell_type": "markdown",
   "id": "6daaeb5c-bfbf-443f-adac-2ef330e9171b",
   "metadata": {},
   "source": [
    "## Table with markers and p-values"
   ]
  },
  {
   "cell_type": "code",
   "execution_count": null,
   "id": "7794407c-3bbd-4501-b4db-994c01be2db5",
   "metadata": {
    "tags": []
   },
   "outputs": [],
   "source": [
    "sc.tl.rank_genes_groups(adata_krt, groupby='subtype')\n",
    "names = pd.DataFrame(adata_krt.uns['rank_genes_groups']['names'])\n",
    "pvals = pd.DataFrame(adata_krt.uns['rank_genes_groups']['pvals_adj'])"
   ]
  },
  {
   "cell_type": "code",
   "execution_count": null,
   "id": "d66e5ce1-84e5-4df5-83ff-45942d1f9bf5",
   "metadata": {
    "tags": []
   },
   "outputs": [],
   "source": [
    "# Create a DataFrame with 30 most important genes\n",
    "list_dfs = []\n",
    "for subtype, genes in dict_krts.items():\n",
    "    df = pd.DataFrame({f'{subtype} genes': names[subtype], f'p-value {subtype}': pvals[subtype]}, dtype=object)\n",
    "    df_short = df[df[f'{subtype} genes'].isin(genes)].sort_values(by=f'p-value {subtype}', ascending=True).iloc[:30].reset_index(drop=True)\n",
    "    df[f'p-value {subtype}'] = df[f'p-value {subtype}'].apply(lambda x: '%.3E' % x).values.tolist()\n",
    "    list_dfs.append(df_short)"
   ]
  },
  {
   "cell_type": "code",
   "execution_count": null,
   "id": "7eb885c0-55f5-4d3f-85ff-f5784f731b82",
   "metadata": {
    "tags": []
   },
   "outputs": [],
   "source": [
    "df_all_celltypes = pd.concat(list_dfs, axis=1)\n",
    "df_all_celltypes.to_csv(f'results/{today}-markers_4_pops.csv', index=False)\n",
    "df_all_celltypes"
   ]
  },
  {
   "cell_type": "markdown",
   "id": "29454b5a-4565-48c6-8891-f2f444226a12",
   "metadata": {},
   "source": [
    "## Dotplot with markers of fibroblast subtypes"
   ]
  },
  {
   "cell_type": "code",
   "execution_count": null,
   "id": "3dabb64b-bf70-477b-aaf9-f8459c192cf2",
   "metadata": {
    "tags": []
   },
   "outputs": [],
   "source": [
    "sc.pl.dotplot(adata_krt, groupby='subtype', var_names=df_all_celltypes.iloc[:3,::2].values.transpose().ravel(), dendrogram=False, show=False, \n",
    "             categories_order=list(dict_krts.keys()))"
   ]
  },
  {
   "cell_type": "markdown",
   "id": "2b348e44-2d7b-47b1-92d4-cdb3474620dc",
   "metadata": {
    "execution": {
     "iopub.execute_input": "2022-08-18T10:30:05.722095Z",
     "iopub.status.busy": "2022-08-18T10:30:05.721551Z",
     "iopub.status.idle": "2022-08-18T10:30:05.726931Z",
     "shell.execute_reply": "2022-08-18T10:30:05.725762Z",
     "shell.execute_reply.started": "2022-08-18T10:30:05.722041Z"
    },
    "tags": []
   },
   "source": [
    "## UMAP highlighting the expression of specific markers"
   ]
  },
  {
   "cell_type": "code",
   "execution_count": null,
   "id": "67664d30-e50c-427a-a30e-35e48a1a0d43",
   "metadata": {
    "tags": []
   },
   "outputs": [],
   "source": [
    "plot_WT_KO_genes(adata_krt, genes=['Krt2', 'Krt15', 'Krt24'], \n",
    "                 plot_labels_batch=False, plot_KO_vs_WT=False, n_cols=3)\n",
    "plt.savefig(f'results/figures/F4/Fig4B_{date.today().strftime(\"%Y_%m_%d\")}.png', dpi=300)"
   ]
  },
  {
   "cell_type": "code",
   "execution_count": null,
   "id": "ad2bd51d-5938-4db7-b4c0-5702c46c33db",
   "metadata": {
    "tags": []
   },
   "outputs": [],
   "source": [
    "plot_WT_KO_genes(adata_krt, genes=['Krt6a', 'Krt6b', 'Krt16', 'Krt17'], \n",
    "                 plot_labels_batch=False, plot_KO_vs_WT=False, n_cols=4)\n",
    "plt.savefig(f'results/figures/F4/Fig4C_{date.today().strftime(\"%Y_%m_%d\")}.png', dpi=300)"
   ]
  },
  {
   "cell_type": "code",
   "execution_count": null,
   "id": "9d617402-c52f-4992-ac1a-de6c6fc0f5b9",
   "metadata": {
    "tags": []
   },
   "outputs": [],
   "source": [
    "plot_WT_KO_genes(adata_krt, genes=['Sprr1a', 'Sprr1b'], \n",
    "                 plot_labels_batch=False, plot_KO_vs_WT=False, n_cols=2)\n",
    "plt.savefig(f'results/figures/F4/Fig4E_{date.today().strftime(\"%Y_%m_%d\")}.png', dpi=300)"
   ]
  },
  {
   "cell_type": "code",
   "execution_count": null,
   "id": "2c29f950-851d-4b3c-9ea0-f2a21a2a6567",
   "metadata": {
    "tags": []
   },
   "outputs": [],
   "source": [
    "plot_WT_KO_genes(adata_krt, genes=['Tslp', 'Il1f9', 'Cxcl16', 'Il1a', 'Il1b', 'Il1rn'], \n",
    "                 plot_labels_batch=False, plot_KO_vs_WT=False, n_cols=6)\n",
    "plt.savefig(f'results/figures/F4/Fig4F_{date.today().strftime(\"%Y_%m_%d\")}.png', dpi=300)"
   ]
  },
  {
   "cell_type": "code",
   "execution_count": null,
   "id": "48bdef01-ed81-4746-a90b-30e12ee8157a",
   "metadata": {
    "tags": []
   },
   "outputs": [],
   "source": [
    "plot_WT_KO_genes(adata_krt, genes=['Pkm', 'Krt15', ], \n",
    "                 plot_labels_batch=False, plot_KO_vs_WT=False, n_cols=2)"
   ]
  },
  {
   "cell_type": "markdown",
   "id": "d97ed7eb-f69b-4858-ba56-5eceb5c6469f",
   "metadata": {
    "execution": {
     "iopub.execute_input": "2022-08-18T10:30:05.722095Z",
     "iopub.status.busy": "2022-08-18T10:30:05.721551Z",
     "iopub.status.idle": "2022-08-18T10:30:05.726931Z",
     "shell.execute_reply": "2022-08-18T10:30:05.725762Z",
     "shell.execute_reply.started": "2022-08-18T10:30:05.722041Z"
    },
    "tags": []
   },
   "source": [
    "## Check UP and DOWN genes between KO and WT"
   ]
  },
  {
   "cell_type": "code",
   "execution_count": null,
   "id": "308ed45f-0a49-407b-89a7-3372bf8ff8e4",
   "metadata": {
    "tags": []
   },
   "outputs": [],
   "source": [
    "sc.tl.rank_genes_groups(adata_krt, groupby='condition')\n",
    "names = pd.DataFrame(adata_krt.uns['rank_genes_groups']['names'])\n",
    "pvals = pd.DataFrame(adata_krt.uns['rank_genes_groups']['pvals_adj'])"
   ]
  },
  {
   "cell_type": "code",
   "execution_count": null,
   "id": "123a7f18-3125-44da-8eba-f9b804c52966",
   "metadata": {
    "tags": []
   },
   "outputs": [],
   "source": [
    "df_pvals_KO_WT = pd.DataFrame({'KO_gene': names['KO'], 'KO_pval': pvals['KO'], 'WT_gene': names['WT'], 'WT_pval': pvals['WT'], })"
   ]
  },
  {
   "cell_type": "code",
   "execution_count": null,
   "id": "e50457e8-32c1-4b34-92de-6039ac558a95",
   "metadata": {
    "tags": []
   },
   "outputs": [],
   "source": [
    "df_pvals_KO_WT.to_csv(f'results/{date.today().strftime(\"%Y_%m_%d\")}-KRT_DEGs_WTvsKT.csv.csv', index=False)\n",
    "df_pvals_KO_WT"
   ]
  },
  {
   "cell_type": "code",
   "execution_count": null,
   "id": "a97f21ed-f350-4146-84d0-d947b446f562",
   "metadata": {
    "tags": []
   },
   "outputs": [],
   "source": [
    "df_pvals_KO_WT[df_pvals_KO_WT['KO_gene'] == 'Krt10']"
   ]
  },
  {
   "cell_type": "code",
   "execution_count": null,
   "id": "f4945fae-9167-4222-b640-52d7e3c95c92",
   "metadata": {
    "tags": []
   },
   "outputs": [],
   "source": [
    "df_pvals_KO_WT[df_pvals_KO_WT['WT_gene'] == 'Krt5']"
   ]
  },
  {
   "cell_type": "markdown",
   "id": "f13791b6-eb92-40dd-9c37-f01578bad54d",
   "metadata": {},
   "source": [
    "### Save adata"
   ]
  },
  {
   "cell_type": "code",
   "execution_count": null,
   "id": "e1d1b567-33af-44d8-80b6-407a35b2cfba",
   "metadata": {
    "tags": []
   },
   "outputs": [],
   "source": [
    "adata_krt.write_h5ad('adatas/adata_keratinocyte.h5', compression='gzip')"
   ]
  },
  {
   "cell_type": "code",
   "execution_count": null,
   "id": "2f0137b8-407f-44fa-84be-04fdffe822c3",
   "metadata": {
    "tags": []
   },
   "outputs": [],
   "source": [
    "os.system('jupyter nbconvert --to html 3_figures_keratinocyte.ipynb')"
   ]
  }
 ],
 "metadata": {
  "kernelspec": {
   "display_name": "Python [conda env:alex-base] *",
   "language": "python",
   "name": "conda-env-alex-base-py"
  },
  "language_info": {
   "codemirror_mode": {
    "name": "ipython",
    "version": 3
   },
   "file_extension": ".py",
   "mimetype": "text/x-python",
   "name": "python",
   "nbconvert_exporter": "python",
   "pygments_lexer": "ipython3",
   "version": "3.8.0"
  }
 },
 "nbformat": 4,
 "nbformat_minor": 5
}
