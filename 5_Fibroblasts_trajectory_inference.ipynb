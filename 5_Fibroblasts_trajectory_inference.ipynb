{
 "cells": [
  {
   "cell_type": "code",
   "execution_count": null,
   "id": "398f52fb-b436-4324-b71e-12ab1b305ce4",
   "metadata": {},
   "outputs": [],
   "source": [
    "import scanpy as sc\n",
    "from anndata import AnnData\n",
    "import pandas as pd\n",
    "import matplotlib.pyplot as plt\n",
    "import numpy as np\n",
    "import seaborn as sns\n",
    "import scanpy.external as sce\n",
    "import triku as tk\n",
    "seed = 0"
   ]
  },
  {
   "cell_type": "markdown",
   "id": "e440200c-0d70-43cc-8026-ca72c7ccf38a",
   "metadata": {},
   "source": [
    "# Trajectory inference of the fibroblast population\n",
    "In this notebook we run the trajectory analysis and we obtain the graphs shown in **Figure 2C** from the manuscript. "
   ]
  },
  {
   "cell_type": "markdown",
   "id": "ba8bc90d-939b-4a5e-917c-9d960c7b5910",
   "metadata": {},
   "source": [
    "## Preliminary analysis"
   ]
  },
  {
   "cell_type": "code",
   "execution_count": null,
   "id": "85d6e177-e360-42f6-a4e9-1181dffad6cc",
   "metadata": {},
   "outputs": [],
   "source": [
    "# Load dataset\n",
    "adata = sc.read('../data/adata_fibroblast.h5')"
   ]
  },
  {
   "cell_type": "code",
   "execution_count": null,
   "id": "30920e5c-3091-4488-9f7a-734bf11dfe8c",
   "metadata": {},
   "outputs": [],
   "source": [
    "# Set color for each fibroblast subpopulation for consistency across figures\n",
    "dict_fbs_colors = {  '0A: FB Ptgs2$^+$Crispl2$^+$': '#67dcf1',\n",
    "                     '0B: FB Hilpda$^+$Mt2$^+$': '#702a17',\n",
    "                     '1: FB Msc$^+$Itga7$^+$': '#df7935',\n",
    "                     '2: FB Serpine2$^+$Col23a1$^+$': '#20668d',\n",
    "                     '3: FB Cxcl1$^+$Ccl2$^+$': '#a05a2c',\n",
    "                     '4: FB Rab37$^+$Col22a1$^+$': '#d40055',\n",
    "                     '5: FB Clec3b$^+$Comp$^+$': '#ff5599',\n",
    "                     '6: FB Cilp2$^+$Fbn1$^+$': '#8e0c6f',\n",
    "                     '7: FB Cxcl12$^+$C1s1$^+$': '#ff9955',\n",
    "                     '8: FB Ccn5$^+$Phldb2$^+$': '#d3bc5f',\n",
    "                     '9: FB Ltbp2$^+$Chodl$^+$': '#ae54b8',\n",
    "                     '10: FB Coch$^+$Emid1$^+$': '#4d0765',\n",
    "                     '11: FB Cfh$^+$Spp1$^+$': '#229eb2',\n",
    "                     }"
   ]
  },
  {
   "cell_type": "code",
   "execution_count": null,
   "id": "9c306c5f-e96b-4913-b751-a943ddce5ed3",
   "metadata": {},
   "outputs": [],
   "source": [
    "adata.uns['subtype_colors'] = list(dict_fbs_colors.values())\n",
    "adata.uns['subtype_number_colors'] = list(dict_fbs_colors.values())\n",
    "adata.uns['subtype_name_colors'] = list(dict_fbs_colors.values())"
   ]
  },
  {
   "cell_type": "code",
   "execution_count": null,
   "id": "6d19a655-e5e8-4428-973a-5fbfd29a2d20",
   "metadata": {},
   "outputs": [],
   "source": [
    "sc.pl.umap(adata, color='subtype_number', legend_loc='on data', alpha=0.8)"
   ]
  },
  {
   "cell_type": "markdown",
   "id": "5098dd3d-082a-4504-aa3d-015c407bec82",
   "metadata": {},
   "source": [
    "### Run PAGA"
   ]
  },
  {
   "cell_type": "code",
   "execution_count": null,
   "id": "e5765d2f-18b5-423e-a2ba-23e3488a5444",
   "metadata": {},
   "outputs": [],
   "source": [
    "# sc.tl.diffmap(adata)\n",
    "# sc.pp.neighbors(adata, n_neighbors=10, use_rep='X_diffmap')"
   ]
  },
  {
   "cell_type": "code",
   "execution_count": null,
   "id": "95988ee1-f81d-475c-8ea0-31495cb91274",
   "metadata": {},
   "outputs": [],
   "source": [
    "sc.tl.draw_graph(adata)"
   ]
  },
  {
   "cell_type": "code",
   "execution_count": null,
   "id": "3ea9b878-7886-405d-b9dc-926ceda5cbdd",
   "metadata": {},
   "outputs": [],
   "source": [
    "sc.pl.draw_graph(adata, color='subtype_number', legend_loc='on data')"
   ]
  },
  {
   "cell_type": "code",
   "execution_count": null,
   "id": "85e42ce1-6454-4b1c-bbc2-b0662f7f2af6",
   "metadata": {},
   "outputs": [],
   "source": [
    "sc.tl.paga(adata, groups='subtype_number')"
   ]
  },
  {
   "cell_type": "code",
   "execution_count": null,
   "id": "23b9c800-101f-4d0b-9ffd-96165fa50dd4",
   "metadata": {},
   "outputs": [],
   "source": [
    "sc.pl.paga(adata, color=['subtype_number'], fontsize=16, node_size_scale=10, cmap='viridis', fontoutline=4)"
   ]
  },
  {
   "cell_type": "code",
   "execution_count": null,
   "id": "84edc611-f6f1-4462-b9b5-e7b68261b831",
   "metadata": {},
   "outputs": [],
   "source": [
    "sc.tl.draw_graph(adata, init_pos='paga')"
   ]
  },
  {
   "cell_type": "code",
   "execution_count": null,
   "id": "24038536-82c8-4b1d-8817-22f85b3d6cee",
   "metadata": {},
   "outputs": [],
   "source": [
    "sc.pl.paga(adata, color=['subtype_number', 'Hilpda', 'Ptgs2', 'Pdpn', 'Il1rl1'],fontsize=16, node_size_scale=10, cmap='viridis', fontoutline=4)"
   ]
  },
  {
   "cell_type": "markdown",
   "id": "45c3c153-e7f0-4ab3-9f35-b8a972900a84",
   "metadata": {},
   "source": [
    "### Generate graph with all fibroblast populations\n"
   ]
  },
  {
   "cell_type": "code",
   "execution_count": null,
   "id": "cd9e224b-61b7-4135-90ae-36c92fb72712",
   "metadata": {},
   "outputs": [],
   "source": [
    "sc.pl.paga_compare(\n",
    "    adata, threshold=0.03, title='', right_margin=0.2, size=10, edge_width_scale=0.5,\n",
    "    legend_fontsize=12, fontsize=12, frameon=False, edges=True, save=True)"
   ]
  },
  {
   "cell_type": "code",
   "execution_count": null,
   "id": "4af05bab-a21a-4cee-bc9a-06b6498756eb",
   "metadata": {},
   "outputs": [],
   "source": [
    "adata.uns['iroot'] = np.flatnonzero(adata.obs['subtype_number']  == '4')[0]"
   ]
  },
  {
   "cell_type": "code",
   "execution_count": null,
   "id": "82a91230-0839-45dc-a750-8d21bb355439",
   "metadata": {},
   "outputs": [],
   "source": [
    "sc.tl.paga(adata, groups='subtype_number')"
   ]
  },
  {
   "cell_type": "code",
   "execution_count": null,
   "id": "6811d5d4-6a80-45dc-aa9b-668599c18096",
   "metadata": {},
   "outputs": [],
   "source": [
    "sc.tl.dpt(adata)"
   ]
  },
  {
   "cell_type": "code",
   "execution_count": null,
   "id": "9cc43215-ec8a-4141-89cf-a99d9e772479",
   "metadata": {},
   "outputs": [],
   "source": [
    "markers = ['Postn', 'Tnc', 'Ccn2', 'Cd14', 'Pi16', 'Clu', 'Cd14', 'Ecrg4']"
   ]
  },
  {
   "cell_type": "code",
   "execution_count": null,
   "id": "c4149d7d-25fb-4557-a95e-ee80e68bc299",
   "metadata": {},
   "outputs": [],
   "source": [
    "sc.pl.umap(adata, color=['dpt_pseudotime', 'Pdpn', 'Ptgs2', 'Hilpda', 'Il1rl1'] + markers, use_raw=False)"
   ]
  },
  {
   "cell_type": "code",
   "execution_count": null,
   "id": "c58f4c0a-dce9-4393-9254-50fdcb9b6496",
   "metadata": {},
   "outputs": [],
   "source": [
    "gene_names = ['Pdpn', 'Ptgs2', 'Hilpda', 'Il1rl1'] + markers"
   ]
  },
  {
   "cell_type": "code",
   "execution_count": null,
   "id": "8d472a30-78ae-4a45-8013-474582887038",
   "metadata": {},
   "outputs": [],
   "source": [
    "gene_names = markers"
   ]
  },
  {
   "cell_type": "code",
   "execution_count": null,
   "id": "a69d7405-33ce-45f9-86db-2be6717f94ae",
   "metadata": {},
   "outputs": [],
   "source": [
    "sc.pl.draw_graph(adata, color=['subtype_number', 'dpt_pseudotime'], legend_loc='on data')"
   ]
  },
  {
   "cell_type": "code",
   "execution_count": null,
   "id": "fade9f40-ffe7-4b3b-bfac-b8978ffa40ed",
   "metadata": {},
   "outputs": [],
   "source": [
    "paths = [('4-3-1-2', ['4', '3', '1', '2']),\n",
    "         ('4-3-0', ['4', '3', '0'])]"
   ]
  },
  {
   "cell_type": "code",
   "execution_count": null,
   "id": "a0a9b94c-16f3-45ad-be2f-3373a9ac8c58",
   "metadata": {},
   "outputs": [],
   "source": [
    "adata.obs['distance'] = adata.obs['dpt_pseudotime']"
   ]
  },
  {
   "cell_type": "code",
   "execution_count": null,
   "id": "5feb1a97-899b-44ed-b1ce-cc4aa58877c4",
   "metadata": {},
   "outputs": [],
   "source": [
    "adata.obs['clusters'] = adata.obs['subtype_number']  # just a cosmetic change: change names to subtype"
   ]
  },
  {
   "cell_type": "code",
   "execution_count": null,
   "id": "b6c43705-0717-49c3-b755-eefaf1985092",
   "metadata": {},
   "outputs": [],
   "source": [
    "adata.uns['clusters_colors'] = adata.uns['subtype_number_colors']"
   ]
  },
  {
   "cell_type": "code",
   "execution_count": null,
   "id": "5c5405d9-2d71-42b5-ba55-f2db402914ae",
   "metadata": {},
   "outputs": [],
   "source": [
    "_, axs = plt.subplots(ncols=2, figsize=(6, 4), gridspec_kw={'wspace': 0.05, 'left': 0.12})\n",
    "plt.subplots_adjust(left=0.05, right=0.98, top=0.82, bottom=0.2)\n",
    "for ipath, (descr, path) in enumerate(paths):\n",
    "    _, data = sc.pl.paga_path(\n",
    "        adata, path, gene_names,\n",
    "        show_node_names=False,\n",
    "        ax=axs[ipath],\n",
    "        ytick_fontsize=12,\n",
    "        left_margin=0.15,\n",
    "        n_avg=50,\n",
    "        annotations=['distance'],\n",
    "        show_yticks=True if ipath==0 else False,\n",
    "        show_colorbar=False,\n",
    "        # color_map='Greys',\n",
    "        color_map='Blues',\n",
    "        groups_key='clusters',\n",
    "        color_maps_annotations={'distance': 'viridis'},\n",
    "        title='{} path'.format(descr),\n",
    "        return_data=True,\n",
    "        show=False)\n",
    "    data.to_csv('../output/paga_path_{}.csv'.format(descr))\n",
    "plt.savefig('../output/paga_path_fibros_selected_markers_flipped.pdf')\n",
    "plt.show()"
   ]
  },
  {
   "cell_type": "markdown",
   "id": "430ec65c-2b14-4762-935b-daea02ee2b3c",
   "metadata": {},
   "source": [
    "## Analysis on populations 0, 1, 2, 3 and 4\n",
    "We study the two trajectories: '4-3-0' and '4-3-1-2'. "
   ]
  },
  {
   "cell_type": "code",
   "execution_count": null,
   "id": "f6786afe-0932-4b8d-a405-8bca31c641a8",
   "metadata": {},
   "outputs": [],
   "source": [
    "adata = sc.read('../data/adata_fibroblast.h5')"
   ]
  },
  {
   "cell_type": "code",
   "execution_count": null,
   "id": "c23a6954-91e6-41f9-972a-e5e4333d581c",
   "metadata": {},
   "outputs": [],
   "source": [
    "dict_fbs_colors = {  '0A: FB Ptgs2$^+$Crispl2$^+$': '#67dcf1',\n",
    "                     '0B: FB Hilpda$^+$Mt2$^+$': '#702a17',\n",
    "                     '1: FB Msc$^+$Itga7$^+$': '#df7935',\n",
    "                     '2: FB Serpine2$^+$Col23a1$^+$': '#20668d',\n",
    "                     '3: FB Cxcl1$^+$Ccl2$^+$': '#a05a2c',\n",
    "                     '4: FB Rab37$^+$Col22a1$^+$': '#d40055',\n",
    "                     '5: FB Clec3b$^+$Comp$^+$': '#ff5599',\n",
    "                     '6: FB Cilp2$^+$Fbn1$^+$': '#8e0c6f',\n",
    "                     '7: FB Cxcl12$^+$C1s1$^+$': '#ff9955',\n",
    "                     '8: FB Ccn5$^+$Phldb2$^+$': '#d3bc5f',\n",
    "                     '9: FB Ltbp2$^+$Chodl$^+$': '#ae54b8',\n",
    "                     '10: FB Coch$^+$Emid1$^+$': '#4d0765',\n",
    "                     '11: FB Cfh$^+$Spp1$^+$': '#229eb2',\n",
    "                     }"
   ]
  },
  {
   "cell_type": "code",
   "execution_count": null,
   "id": "78553eb2-293d-4ef5-be04-1474edbfccb6",
   "metadata": {},
   "outputs": [],
   "source": [
    "adata.uns['subtype_colors'] = list(dict_fbs_colors.values())\n",
    "adata.uns['subtype_number_colors'] = list(dict_fbs_colors.values())\n",
    "adata.uns['subtype_name_colors'] = list(dict_fbs_colors.values())"
   ]
  },
  {
   "cell_type": "code",
   "execution_count": null,
   "id": "278eb7f1-7731-4d02-9de8-a714a97d46d6",
   "metadata": {},
   "outputs": [],
   "source": [
    "# Select populations 0-4\n",
    "adata = adata[adata.obs['subtype_number'].isin(['4', '3', '1', '2', '0'])]\n",
    "sc.pp.filter_genes(adata, min_cells=5)"
   ]
  },
  {
   "cell_type": "code",
   "execution_count": null,
   "id": "3b20ab82-5c92-44c5-a1e6-69f958cc995d",
   "metadata": {},
   "outputs": [],
   "source": [
    "sc.pl.umap(adata, color=['subtype_number', 'batch'], legend_loc='on data')"
   ]
  },
  {
   "cell_type": "code",
   "execution_count": null,
   "id": "03f04e8a-008e-48fa-b832-27fa5182a1e8",
   "metadata": {},
   "outputs": [],
   "source": [
    "# Rerun preprocessing\n",
    "sc.pp.pca(adata, random_state=seed, n_comps=50)\n",
    "sce.pp.harmony_integrate(adata, key='batch', max_iter_harmony=50, plot_convergence=True)\n",
    "sc.pp.neighbors(adata, random_state=seed, n_neighbors=int(len(adata) ** 0.5 * 0.5), metric='cosine', use_rep='X_pca_harmony')\n",
    "tk.tl.triku(adata, use_raw=False) \n",
    "sc.pp.pca(adata, random_state=seed, n_comps=50)\n",
    "sce.pp.harmony_integrate(adata, key='batch', max_iter_harmony=50, plot_convergence=True)\n",
    "sc.pp.neighbors(adata, random_state=seed, n_neighbors=int(len(adata) ** 0.5 * 0.5), metric='cosine', use_rep='X_pca_harmony')\n",
    "sc.tl.umap(adata)"
   ]
  },
  {
   "cell_type": "code",
   "execution_count": null,
   "id": "b5b05ec9-59ae-4be1-8bf1-bd4586e7daa4",
   "metadata": {},
   "outputs": [],
   "source": [
    "sc.pl.umap(adata, color='subtype_number', legend_loc = 'on data', alpha=0.6)"
   ]
  },
  {
   "cell_type": "code",
   "execution_count": null,
   "id": "2871d38c-fe1a-4557-995a-aa152b48f579",
   "metadata": {},
   "outputs": [],
   "source": [
    "markers = ['Vim', 'Tgfb1', 'Tgfb2', 'Tgfbr1', 'Tgfbr3', 'Fap', 'Cd14', 'Ccn2', 'Spp1', 'Clu', \n",
    "           'Ecrg4', 'Tagln', 'Acta2', 'Cxcl1', 'Ccl2', 'Il6', 'Il1r1', 'Lif', 'Tnc', \n",
    "           'Ptgs2', 'Has1', 'Ly6c1', 'Pi16', 'Mmp2', 'Mmp3']"
   ]
  },
  {
   "cell_type": "code",
   "execution_count": null,
   "id": "142bd7da-e507-4a79-9e55-e8c6947b1579",
   "metadata": {},
   "outputs": [],
   "source": [
    "# We plot two sets of markers that have different mean expression in order to better study their expression\n",
    "scale_1 = ['Vim', 'Mmp2', 'Mmp14', 'Mmp3', 'Mmp13', 'Timp3', 'Serpine2', 'Pdpn', 'Ptgs2', 'Ccn2', 'Tnc', 'Cxcl1', 'Ccl2']\n",
    "scale_2 = ['Il6', 'Lif', 'Has1', 'Acta2', 'Tagln', 'Ly6c1', 'Fap', 'Il1r1', 'Tgfb1', 'Tgfb2', 'Tgfbr1']"
   ]
  },
  {
   "cell_type": "code",
   "execution_count": null,
   "id": "f5fe64eb-36e8-45ff-b3bf-39a75019cdcc",
   "metadata": {},
   "outputs": [],
   "source": [
    "for gene in scale_2: \n",
    "    print(gene)"
   ]
  },
  {
   "cell_type": "code",
   "execution_count": null,
   "id": "11bdcb85-adcb-47de-837b-25b2632e4685",
   "metadata": {},
   "outputs": [],
   "source": [
    "markers = scale_1 + scale_2"
   ]
  },
  {
   "cell_type": "code",
   "execution_count": null,
   "id": "5acd8e33-0400-484f-ab90-1898527c4ed4",
   "metadata": {},
   "outputs": [],
   "source": [
    "sc.pl.umap(adata, color=['subtype_number'] + scale_1, use_raw=False, legend_loc='on data', legend_fontsize=14, legend_fontoutline=5)"
   ]
  },
  {
   "cell_type": "code",
   "execution_count": null,
   "id": "af5101d2-cb95-458e-a97d-3b1deb97e7ca",
   "metadata": {},
   "outputs": [],
   "source": [
    "sc.pl.heatmap(adata, var_names=markers, groupby='subtype_number', use_raw=False, show=False, vmax=4)\n",
    "plt.savefig('../output/figures/Fibro_subtypes_markers_2023_02_03.png', dpi=400)"
   ]
  },
  {
   "cell_type": "code",
   "execution_count": null,
   "id": "f1e1fdd5-9f0e-413a-8d83-912f667ffb2d",
   "metadata": {},
   "outputs": [],
   "source": [
    "sc.pl.umap(adata, color=['subtype_number', 'Tgfbr3', 'Il1r1'], use_raw=False, legend_loc='on data', legend_fontsize=14, legend_fontoutline=5, show=False)\n",
    "plt.savefig('../output/Il1r1_and_Tgfbr3.png', dpi=400)"
   ]
  },
  {
   "cell_type": "markdown",
   "id": "c5010449-9c69-42c6-9ee2-d512faa130c8",
   "metadata": {},
   "source": [
    "### Generate Figure 2C\n",
    "In Figure 2C, we show the PAGA graph superposed over the scatter graph. We obtain the two plots as follows:  "
   ]
  },
  {
   "cell_type": "code",
   "execution_count": null,
   "id": "0412ca57-4d18-4ddf-88f2-a88f6775b045",
   "metadata": {},
   "outputs": [],
   "source": [
    "sc.tl.pca(adata)"
   ]
  },
  {
   "cell_type": "code",
   "execution_count": null,
   "id": "f7ad19e5-a39b-41c7-addb-b804e8d77085",
   "metadata": {},
   "outputs": [],
   "source": [
    "sc.tl.diffmap(adata)"
   ]
  },
  {
   "cell_type": "code",
   "execution_count": null,
   "id": "95aa238f-2183-49c6-acf3-ac715c816700",
   "metadata": {},
   "outputs": [],
   "source": [
    "sc.tl.draw_graph(adata)"
   ]
  },
  {
   "cell_type": "code",
   "execution_count": null,
   "id": "586b7dcc-d166-4234-bb30-846e2a136a60",
   "metadata": {},
   "outputs": [],
   "source": [
    "sc.tl.paga(adata, groups='subtype_number')"
   ]
  },
  {
   "cell_type": "code",
   "execution_count": null,
   "id": "51c59bd1-355e-4524-b23a-b5d0c43af91f",
   "metadata": {},
   "outputs": [],
   "source": [
    "sc.tl.draw_graph(adata, init_pos='paga')"
   ]
  },
  {
   "cell_type": "code",
   "execution_count": null,
   "id": "a23f16c8-f57b-473b-a791-a42e26ca78da",
   "metadata": {},
   "outputs": [],
   "source": [
    "# fig, ax = plt.subplots(1, 1, figsize=(10, 10))\n",
    "sc.pl.paga_compare(\n",
    "    adata, threshold=0.03, title='', right_margin=0.2, size=20, edge_width_scale=0.5,\n",
    "    legend_fontsize=14, fontsize=12, frameon=False, edges=True, legend_fontoutline=3,show=False)\n",
    "# plt.savefig('../output/paga_graph.png', dpi=400)\n",
    "# plt.savefig('../output/paga_graph.svg')"
   ]
  },
  {
   "cell_type": "code",
   "execution_count": null,
   "id": "ab0ce5db-91bf-47ec-a892-1ec8115d6aa8",
   "metadata": {},
   "outputs": [],
   "source": [
    "adata.uns['iroot'] = np.flatnonzero(adata.obs['subtype_number']  == '4')[0]"
   ]
  },
  {
   "cell_type": "code",
   "execution_count": null,
   "id": "c3c451d8-2262-40b0-a88d-f4c7b4ddc5f7",
   "metadata": {},
   "outputs": [],
   "source": [
    "sc.tl.paga(adata, groups='subtype_number')"
   ]
  },
  {
   "cell_type": "code",
   "execution_count": null,
   "id": "2f9e3fb4-c3cf-4438-ab6e-22898df55f45",
   "metadata": {},
   "outputs": [],
   "source": [
    "sc.tl.dpt(adata)"
   ]
  },
  {
   "cell_type": "markdown",
   "id": "a8763ef6-c1ef-44c3-984c-8a7b7e02ed11",
   "metadata": {},
   "source": [
    "## Define trajectories"
   ]
  },
  {
   "cell_type": "code",
   "execution_count": null,
   "id": "6c430d7b-fd7a-4264-8c23-ea3b7f26dd4e",
   "metadata": {},
   "outputs": [],
   "source": [
    "paths = [('4-3-0', ['4', '3', '0']),\n",
    "         ('4-3-1-2', ['4', '3', '1', '2'])]"
   ]
  },
  {
   "cell_type": "code",
   "execution_count": null,
   "id": "c9253554-84db-4bf2-9012-838ab868f09b",
   "metadata": {},
   "outputs": [],
   "source": [
    "adata.obs['distance'] = adata.obs['dpt_pseudotime']"
   ]
  },
  {
   "cell_type": "code",
   "execution_count": null,
   "id": "f6a36a46-9a28-4d57-8684-2ec415cc55d1",
   "metadata": {},
   "outputs": [],
   "source": [
    "adata.obs['clusters'] = adata.obs['subtype_number']  # just a cosmetic change"
   ]
  },
  {
   "cell_type": "code",
   "execution_count": null,
   "id": "497591c8-4b9a-4113-abc6-c80dc324535d",
   "metadata": {},
   "outputs": [],
   "source": [
    "adata.uns['clusters_colors'] = adata.uns['subtype_number_colors']"
   ]
  },
  {
   "cell_type": "code",
   "execution_count": null,
   "id": "7bbff70a-88a2-455a-8844-e810e0dc9b3b",
   "metadata": {},
   "outputs": [],
   "source": [
    "_, axs = plt.subplots(ncols=2, figsize=(4, 8), gridspec_kw={'wspace': 0.05, 'left': 0.12})\n",
    "plt.subplots_adjust(left=0.05, right=0.98, top=0.82, bottom=0.2)\n",
    "for ipath, (descr, path) in enumerate(paths):\n",
    "    _, data = sc.pl.paga_path(\n",
    "        adata, path, markers,\n",
    "        show_node_names=False,\n",
    "        ax=axs[ipath],\n",
    "        ytick_fontsize=12,\n",
    "        left_margin=0.15,\n",
    "        n_avg=50,\n",
    "        annotations=['distance'],\n",
    "        show_yticks=True if ipath==0 else False,\n",
    "        show_colorbar=False,\n",
    "        # color_map='Greys',\n",
    "        color_map='Blues',\n",
    "        groups_key='clusters',\n",
    "        color_maps_annotations={'distance': 'viridis'},\n",
    "        title='{} path'.format(descr),\n",
    "        return_data=True,\n",
    "        use_raw=False,\n",
    "        show=False)\n",
    "    data.to_csv('../output/paga_path_{}.csv'.format(descr))\n",
    "plt.savefig('../output/trajectories.pdf', bbox_inches = 'tight')\n",
    "plt.savefig('../output/trajectories.png', dpi=400, bbox_inches = 'tight')\n",
    "\n",
    "plt.show()"
   ]
  },
  {
   "cell_type": "code",
   "execution_count": null,
   "id": "4ba5bcba-2b37-463a-b358-0772600c0569",
   "metadata": {},
   "outputs": [],
   "source": [
    "gene_names = {'4-3-1-2': ['Clec3b', 'C1s1', 'Cxcl12', 'Acta2', 'Ccl2', 'Cxcl1', 'Comp', 'Ccn2'],\n",
    "              '4-3-0': ['Clec3b', 'Cxcl12', 'C1s1', 'Cxcl1', 'Acta2', 'Ccl2', 'Mt2', 'Hilpda', 'Il1rl1', 'Pdpn', 'Tnc', 'Ptgs2', 'Serpine2', 'Crispld2']}"
   ]
  },
  {
   "cell_type": "code",
   "execution_count": null,
   "id": "edd36662-2977-42b1-9ad7-40fb6a8475a0",
   "metadata": {},
   "outputs": [],
   "source": [
    "for g in gene_names['4-3-0']: \n",
    "    print(g)"
   ]
  },
  {
   "cell_type": "code",
   "execution_count": null,
   "id": "92b457dd-b68b-4fda-bbaa-b7c3485b86ec",
   "metadata": {},
   "outputs": [],
   "source": [
    "def plot_path_trajectory(trajectory):\n",
    "    \"\"\"\n",
    "    Takes trajectory and plots heatmap of marker expression together with the\n",
    "    cluster identity and the distance from the root. \n",
    "    \"\"\"\n",
    "    fig, ax = plt.subplots(1, 1, figsize=(2,4), gridspec_kw={'wspace': 0.05, 'left': 0.12})\n",
    "    plt.subplots_adjust(left=0.05, right=0.98, top=0.82, bottom=0.2)\n",
    "    descr, path = trajectory\n",
    "    fig, data = sc.pl.paga_path(\n",
    "            adata, path, gene_names[descr],\n",
    "            show_node_names=False,\n",
    "            ax=ax,\n",
    "            ytick_fontsize=12,\n",
    "            left_margin=0.15,\n",
    "            n_avg=50,\n",
    "            annotations=['distance'],\n",
    "            show_colorbar=False,\n",
    "            color_map='Blues',\n",
    "            groups_key='clusters',\n",
    "            color_maps_annotations={'distance': 'viridis'},\n",
    "            title='{} path'.format(descr),\n",
    "            return_data=True,\n",
    "            use_raw=False, \n",
    "            show=False)\n",
    "    data.to_csv(f'../output/paga_path_{descr}.csv')\n",
    "    plt.savefig(f'../output/paga_path_{descr}.pdf',bbox_inches='tight')\n",
    "    plt.savefig(f'../output/paga_path_{descr}.png', dpi=400, bbox_inches='tight')"
   ]
  },
  {
   "cell_type": "markdown",
   "id": "cacea9d5-7f7d-4291-97f2-2cac0f3feab1",
   "metadata": {},
   "source": [
    "###  Trajectory 4-3-0"
   ]
  },
  {
   "cell_type": "code",
   "execution_count": null,
   "id": "49c157af-1550-4cbb-b604-bcb17c827ab6",
   "metadata": {},
   "outputs": [],
   "source": [
    "plot_path_trajectory(paths[0])"
   ]
  },
  {
   "cell_type": "markdown",
   "id": "96a12d5d-3d38-45d2-b58f-a6b2aebc41bd",
   "metadata": {},
   "source": [
    "###  Trajectory 4-3-1-2"
   ]
  },
  {
   "cell_type": "code",
   "execution_count": null,
   "id": "8e270413-da03-4f4d-85ed-643b289899a0",
   "metadata": {},
   "outputs": [],
   "source": [
    "plot_path_trajectory(paths[1])"
   ]
  },
  {
   "cell_type": "markdown",
   "id": "4c8c4408-b50a-4349-84d1-ebe3ae7d05a5",
   "metadata": {},
   "source": [
    "# Umaps for specific markers\n",
    "Pdpn, Saa3, Il1rl1, C3, MMP2, Acta2, Tagln, Vegfa, Pgf, Vegfc"
   ]
  },
  {
   "cell_type": "code",
   "execution_count": null,
   "id": "89ed8ea7-43b1-41ef-a1d5-3a47fd341d57",
   "metadata": {},
   "outputs": [],
   "source": [
    "adata = sc.read('../data/adata_yanling_fbs.h5ad')"
   ]
  },
  {
   "cell_type": "code",
   "execution_count": null,
   "id": "199cbc0b-8819-4bf9-a6fe-73d4bd259bf9",
   "metadata": {},
   "outputs": [],
   "source": [
    "dict_fbs_colors = {  '0A: FB Ptgs2$^+$Crispl2$^+$': '#67dcf1',\n",
    "                     '0B: FB Hilpda$^+$Mt2$^+$': '#702a17',\n",
    "                     '1: FB Msc$^+$Itga7$^+$': '#df7935',\n",
    "                     '2: FB Serpine2$^+$Col23a1$^+$': '#20668d',\n",
    "                     '3: FB Cxcl1$^+$Ccl2$^+$': '#a05a2c',\n",
    "                     '4: FB Rab37$^+$Col22a1$^+$': '#d40055',\n",
    "                     '5: FB Clec3b$^+$Comp$^+$': '#ff5599',\n",
    "                     '6: FB Cilp2$^+$Fbn1$^+$': '#8e0c6f',\n",
    "                     '7: FB Cxcl12$^+$C1s1$^+$': '#ff9955',\n",
    "                     '8: FB Ccn5$^+$Phldb2$^+$': '#d3bc5f',\n",
    "                     '9: FB Ltbp2$^+$Chodl$^+$': '#ae54b8',\n",
    "                     '10: FB Coch$^+$Emid1$^+$': '#4d0765',\n",
    "                     '11: FB Cfh$^+$Spp1$^+$': '#229eb2',\n",
    "                     }"
   ]
  },
  {
   "cell_type": "code",
   "execution_count": null,
   "id": "f1d91329-4c3f-4f4f-805a-dc4bd6cb03ce",
   "metadata": {},
   "outputs": [],
   "source": [
    "adata.uns['subtype_colors'] = list(dict_fbs_colors.values())\n",
    "adata.uns['subtype_number_colors'] = list(dict_fbs_colors.values())\n",
    "adata.uns['subtype_name_colors'] = list(dict_fbs_colors.values())"
   ]
  },
  {
   "cell_type": "code",
   "execution_count": null,
   "id": "564ffa88-b399-4619-827d-198c1bb5e2b6",
   "metadata": {},
   "outputs": [],
   "source": [
    "markers = ['Pdpn', 'Saa3', 'Il1rl1', 'C3', 'Mmp2', 'Acta2', 'Tagln', 'Vegfa', 'Pgf', 'Vegfc',\n",
    "           'Tnfrsf1b', 'Ifngr1', 'Il6ra', 'Tgfbr3', 'Pdgfra', 'Cd24a', 'Dcn', 'Il6', \n",
    "           'Cxcl1', 'Cxcl2', 'Ccl2', 'Cxcl12', 'Has1', 'Has2', 'Cd44']"
   ]
  },
  {
   "cell_type": "code",
   "execution_count": null,
   "id": "41c0d8fb-042a-4ca9-9cee-9559f1fde0fc",
   "metadata": {},
   "outputs": [],
   "source": [
    "fig, axs = plt.subplots(5, 5, figsize=(15, 15))\n",
    "markers = np.array(markers).reshape((5, 5))\n",
    "for i in range(markers.shape[0]):\n",
    "    for j in range(markers.shape[1]): \n",
    "        sc.pl.umap(adata, color=markers[i][j], ax=axs[i][j], show=False, s=20, use_raw=False)\n",
    "        axs[i][j].set_title(markers[i][j])\n",
    "        axs[i][j].set_xlabel('')\n",
    "        axs[i][j].set_ylabel('')\n",
    "plt.tight_layout()\n",
    "plt.savefig('../output/Fibroblasts_selected_markers_on_UMAP.pdf')"
   ]
  },
  {
   "cell_type": "code",
   "execution_count": null,
   "id": "b438ffb8-696c-4d76-a821-a430418e40ae",
   "metadata": {},
   "outputs": [],
   "source": [
    "markers_sep = ['C3', 'Hif1a', 'Pgam1', 'Ndrg1', 'Ptgs2', 'Pdpn', 'Saa3', 'Il1rl1', 'Acta2', 'Tagln']"
   ]
  },
  {
   "cell_type": "code",
   "execution_count": null,
   "id": "d3c4bc95-e087-4a75-9c87-43103ba37718",
   "metadata": {},
   "outputs": [],
   "source": [
    "fig, axs = plt.subplots(2, 10, figsize=(20, 4))\n",
    "\n",
    "for j in range(len(markers_sep)):\n",
    "    # WT\n",
    "    sc.pl.umap(adata[adata.obs['condition'] == 'WT'], color=markers_sep[j], ax=axs[0][j], show=False, s=20, use_raw=False)\n",
    "    axs[0][j].set_title(markers_sep[j])\n",
    "    axs[0][j].set_xlabel('')\n",
    "    axs[0][j].set_ylabel('')\n",
    "    \n",
    "    # KO\n",
    "    sc.pl.umap(adata[adata.obs['condition'] == 'KO'], color=markers_sep[j], ax=axs[1][j], show=False, s=20, use_raw=False)\n",
    "    axs[1][j].set_title(markers_sep[j])\n",
    "    axs[1][j].set_xlabel('')\n",
    "    axs[1][j].set_ylabel('')\n",
    "    \n",
    "axs[0][0].set_ylabel('WT')  \n",
    "axs[1][0].set_ylabel('KO')\n",
    "\n",
    "plt.tight_layout()\n",
    "plt.savefig('../output/Fibroblasts_selected_markers_on_UMAP_KO_and_WT_separated.pdf')"
   ]
  },
  {
   "cell_type": "code",
   "execution_count": null,
   "id": "e259a185-e284-4546-ad51-0aaa53f0e695",
   "metadata": {},
   "outputs": [],
   "source": [
    "markers_sep = ['Tgfb1', 'Tgfbr3', 'Postn', 'Tnc', 'Ccn2', 'Cd14', 'Pi16', 'Clu']"
   ]
  },
  {
   "cell_type": "code",
   "execution_count": null,
   "id": "b9ff9145-e101-48dd-9d62-42c2232c45c4",
   "metadata": {},
   "outputs": [],
   "source": [
    "fig, axs = plt.subplots(2, 8, figsize=(16, 4))\n",
    "\n",
    "for j in range(len(markers_sep)):\n",
    "    # WT\n",
    "    sc.pl.umap(adata[adata.obs['condition'] == 'WT'], color=markers_sep[j], ax=axs[0][j], show=False, s=20, use_raw=False)\n",
    "    axs[0][j].set_title(markers_sep[j])\n",
    "    axs[0][j].set_xlabel('')\n",
    "    axs[0][j].set_ylabel('')\n",
    "    \n",
    "    # KO\n",
    "    sc.pl.umap(adata[adata.obs['condition'] == 'KO'], color=markers_sep[j], ax=axs[1][j], show=False, s=20, use_raw=False)\n",
    "    axs[1][j].set_title(markers_sep[j])\n",
    "    axs[1][j].set_xlabel('')\n",
    "    axs[1][j].set_ylabel('')\n",
    "    \n",
    "axs[0][0].set_ylabel('WT')  \n",
    "axs[1][0].set_ylabel('KO')\n",
    "\n",
    "plt.tight_layout()\n",
    "plt.savefig('../output/Fibroblasts_more_markers_on_UMAP_KO_and_WT_separated.pdf')"
   ]
  }
 ],
 "metadata": {
  "kernelspec": {
   "display_name": "Python 3 (ipykernel)",
   "language": "python",
   "name": "python3"
  },
  "language_info": {
   "codemirror_mode": {
    "name": "ipython",
    "version": 3
   },
   "file_extension": ".py",
   "mimetype": "text/x-python",
   "name": "python",
   "nbconvert_exporter": "python",
   "pygments_lexer": "ipython3",
   "version": "3.10.6"
  }
 },
 "nbformat": 4,
 "nbformat_minor": 5
}
