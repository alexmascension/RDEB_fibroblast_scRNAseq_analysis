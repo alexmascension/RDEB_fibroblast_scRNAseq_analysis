{
 "cells": [
  {
   "cell_type": "markdown",
   "id": "aa781ea4-1ef8-4bd8-b09d-1e513ed2c212",
   "metadata": {},
   "source": [
    "# General figures"
   ]
  },
  {
   "cell_type": "code",
   "execution_count": null,
   "id": "beec4b87-e7ae-42fb-a135-12bb7617dfea",
   "metadata": {
    "tags": []
   },
   "outputs": [],
   "source": [
    "from cellassign import assign_cats\n",
    "import gzip\n",
    "import itertools as itl\n",
    "import matplotlib.pyplot as plt\n",
    "import matplotlib as mpl\n",
    "import numpy as np\n",
    "import os\n",
    "import pandas as pd\n",
    "import scanpy as sc\n",
    "import scanpy.external as sce\n",
    "import seaborn as sns\n",
    "import triku as tk\n",
    "import itertools\n",
    "import matplotlib.pylab as pylab"
   ]
  },
  {
   "cell_type": "code",
   "execution_count": null,
   "id": "06c29c2e-63f7-46f6-bdf5-dd3a6236cd36",
   "metadata": {
    "tags": []
   },
   "outputs": [],
   "source": [
    "from functions import adata_plot_KOvsWT, dict_WT_KO_colors, adata_plot_KOvsWT_2bars"
   ]
  },
  {
   "cell_type": "code",
   "execution_count": null,
   "id": "d42c465d-e373-4ca7-b67e-94d0ffe388b8",
   "metadata": {
    "tags": []
   },
   "outputs": [],
   "source": [
    "from datetime import date\n",
    "\n",
    "today = date.today()\n",
    "today = today.strftime(\"%Y_%m_%d\")"
   ]
  },
  {
   "cell_type": "code",
   "execution_count": null,
   "id": "965d7745-46a9-480c-9c08-4f0630f09114",
   "metadata": {
    "tags": []
   },
   "outputs": [],
   "source": [
    "# Palettes for UMAP gene expression\n",
    "\n",
    "magma = [plt.get_cmap('magma')(i) for i in np.linspace(0,1, 80)]\n",
    "magma[0] = (0.88, 0.88, 0.88, 1)\n",
    "magma = mpl.colors.LinearSegmentedColormap.from_list(\"\", magma[:65])"
   ]
  },
  {
   "cell_type": "code",
   "execution_count": null,
   "id": "3b5fc60d-a00c-4a00-ab55-829a8c481c3b",
   "metadata": {
    "tags": []
   },
   "outputs": [],
   "source": [
    "params = {'figure.dpi': 200,\n",
    "          'legend.fontsize': 'large',\n",
    "         'axes.labelsize': 'x-large',\n",
    "         'axes.titlesize':'x-large',\n",
    "         'xtick.labelsize':'x-large',\n",
    "         'ytick.labelsize':'x-large', \n",
    "         'axes.grid': False}\n",
    "pylab.rcParams.update(params)\n",
    "# mpl.style.use('default')\n",
    "\n",
    "pd.set_option('display.max_columns', None)"
   ]
  },
  {
   "cell_type": "markdown",
   "id": "851e2f7c-361c-4e68-aa6e-d32abd0b89b3",
   "metadata": {},
   "source": [
    "## Functions and variables"
   ]
  },
  {
   "cell_type": "code",
   "execution_count": null,
   "id": "0111cfec-7d30-40d2-8ba1-d7aad69cc2d6",
   "metadata": {
    "tags": []
   },
   "outputs": [],
   "source": [
    "seed = 0\n",
    "%store seed"
   ]
  },
  {
   "cell_type": "markdown",
   "id": "cd3d67f8-65f4-4a1c-b1dc-4b7de3024ff5",
   "metadata": {},
   "source": [
    "## Load adata"
   ]
  },
  {
   "cell_type": "code",
   "execution_count": null,
   "id": "bab15a72-06de-40b3-b2ba-863299e110cd",
   "metadata": {
    "tags": []
   },
   "outputs": [],
   "source": [
    "adata_all_harmony = sc.read_h5ad('adatas/adata_all_harmony.h5')\n",
    "sc.tl.umap(adata_all_harmony, min_dist=0.7, random_state=seed)"
   ]
  },
  {
   "cell_type": "markdown",
   "id": "61e3d09c-3eea-4edf-b8f6-0596deabcd8b",
   "metadata": {},
   "source": [
    "## Figure of main populations in 4 panels"
   ]
  },
  {
   "cell_type": "code",
   "execution_count": null,
   "id": "188081e6-3e0c-4dc7-a91e-ceb80bd3086f",
   "metadata": {
    "tags": []
   },
   "outputs": [],
   "source": [
    "# Join al subpopulations into one\n",
    "major_merged_types = ['Fibroblast', 'Keratinocyte', 'Neutrophil', 'Vascular cell', 'T cell']"
   ]
  },
  {
   "cell_type": "code",
   "execution_count": null,
   "id": "4ded0614-8f4a-41f1-9f3e-ff18bca06c15",
   "metadata": {
    "tags": []
   },
   "outputs": [],
   "source": [
    "merged_cell_types = adata_all_harmony.obs['cell_type_whole'].astype(str)\n",
    "\n",
    "for mct in major_merged_types:\n",
    "    mask = [mct in i for i in adata_all_harmony.obs['cell_type_whole']]\n",
    "    merged_cell_types[mask] = mct\n",
    "\n",
    "merged_cell_types[[('B cell' in i) or ('T cell' in i) or ('NK cell' in i) or \n",
    "                   ('Plasma cell' in i) for i in adata_all_harmony.obs['cell_type_whole']]] = 'Lymphocyte' \n",
    "merged_cell_types[[('Fibroblast' in i) or ('Skeletal' in i) or \n",
    "                   ('Melanocyte' in i) for i in adata_all_harmony.obs['cell_type_whole']]] = 'Fibroblast' \n",
    "merged_cell_types[[('Schwann' in i) or ('Glial' in i) for i in adata_all_harmony.obs['cell_type_whole']]] = 'Schwann cell' \n",
    "merged_cell_types[[('Monocyte' in i) or ('Macrophage' in i) or \n",
    "                   ('Langerhans cell' in i) for i in adata_all_harmony.obs['cell_type_whole']]] = 'APC' \n",
    "merged_cell_types[['Perivascular' in i for i in adata_all_harmony.obs['cell_type_whole']]] = 'Perivascular cell' \n",
    "\n",
    "adata_all_harmony.obs['merged_cell_type'] = merged_cell_types\n",
    "adata_all_harmony.obs['merged_cell_type'].astype('category')\n",
    "\n",
    "dict_rename = {'Keratinocyte': '0: KRT', \n",
    "               'Fibroblast': '1: FB', \n",
    "               'Chondrogenic fibroblast': '2: CHFB',\n",
    "               'Vascular endothelial cell': '3: VEC', \n",
    "               'Lymphatic endothelial cell': '4: LEC',\n",
    "               'Perivascular cell': '5: PVC', \n",
    "               'Schwann cell': '6: SCH',\n",
    "               'Mast cell': '7: MC',\n",
    "               'Lymphocyte': '8: LYM', \n",
    "               'Neutrophil': '9: NEU',\n",
    "               'APC': '10: APC'}\n",
    "\n",
    "adata_all_harmony.obs['merged_cell_type'] = [dict_rename[i] for i in adata_all_harmony.obs['merged_cell_type']]\n",
    "adata_all_harmony.obs['merged_cell_type'] = adata_all_harmony.obs['merged_cell_type'].astype('category')\n",
    "adata_all_harmony.obs['merged_cell_type'].cat.reorder_categories(list(dict_rename.values()), inplace=True)\n",
    "\n",
    "adata_all_harmony.obs['merged_cell_type_name'] = [i.split(': ') [1] for i in adata_all_harmony.obs['merged_cell_type']]\n",
    "adata_all_harmony.obs['merged_cell_type_name'] = adata_all_harmony.obs['merged_cell_type_name'].astype('category')\n",
    "adata_all_harmony.obs['merged_cell_type_name'].cat.reorder_categories([i.split(': ') [1] for i in dict_rename.values()], inplace=True)\n",
    "\n",
    "adata_all_harmony.obs['merged_cell_type_number'] = [i.split(': ') [0] for i in adata_all_harmony.obs['merged_cell_type']]\n",
    "adata_all_harmony.obs['merged_cell_type_number'] = adata_all_harmony.obs['merged_cell_type_number'].astype('category')\n",
    "adata_all_harmony.obs['merged_cell_type_number'].cat.reorder_categories([i.split(': ') [0] for i in dict_rename.values()], inplace=True)\n",
    "\n",
    "\n",
    "dict_cell_types_colors = {'0: KRT': '#308914',\n",
    "                          '6: SCH': '#d3bc5f',\n",
    "                          \n",
    "                          '1: FB': '#A0302B',\n",
    "                          '7: MC': '#4d0765',\n",
    "                          \n",
    "                          '2: CHFB': \"#C97C79\",\n",
    "                          '8: LYM': '#8e0c6f',\n",
    "                          \n",
    "                          '3: VEC': '#d40055',\n",
    "                          '9: NEU': '#E179ED',\n",
    "                          \n",
    "                          '4: LEC': '#ff5599',\n",
    "                          '10: APC': '#47bcd1',\n",
    "                          \n",
    "                          '5: PVC': '#ff9955', \n",
    "                    }\n",
    "\n",
    "list_cell_types = list(dict_cell_types_colors.keys())[::2] + list(dict_cell_types_colors.keys())[1::2]\n",
    "\n",
    "adata_all_harmony.uns['merged_cell_type_colors'] = [dict_cell_types_colors[i] for i in adata_all_harmony.obs['merged_cell_type'].cat.categories]\n",
    "adata_all_harmony.uns['merged_cell_type_number_colors'] = adata_all_harmony.uns['merged_cell_type_colors']"
   ]
  },
  {
   "cell_type": "code",
   "execution_count": null,
   "id": "9c25d43d-7a13-4eb5-9ec2-71c2fc9fefa1",
   "metadata": {
    "tags": []
   },
   "outputs": [],
   "source": [
    "fig, axs = plt.subplots(2, 2, figsize=(12, 8))\n",
    "s = 10\n",
    "plt.tight_layout()\n",
    "sc.pl.umap(adata_all_harmony[adata_all_harmony.obs['batch'] == 'KO1'], color='merged_cell_type', s=s, ax = axs[0, 0], legend_loc=False, title='KO1', frameon=False, show=False)\n",
    "sc.pl.umap(adata_all_harmony[adata_all_harmony.obs['batch'] == 'KO2'], color='merged_cell_type', s=s, ax = axs[0, 1], legend_loc=False, title='KO2', frameon=False, show=False)\n",
    "\n",
    "sc.pl.umap(adata_all_harmony[adata_all_harmony.obs['batch'] == 'WT1'], color='merged_cell_type', s=s, ax = axs[1, 0], legend_loc=False, title='WT1', frameon=False, show=False)\n",
    "sc.pl.umap(adata_all_harmony[adata_all_harmony.obs['batch'] == 'WT2'], color='merged_cell_type', s=s, ax = axs[1, 1], legend_loc=False, title='WT2', frameon=False,  show=False)\n",
    "\n",
    "plt.subplots_adjust(wspace=0.025, hspace=0.1)\n",
    "plt.savefig(f'results/figures/makers_4_panels_{today}.png', dpi=300)\n",
    "\n",
    "\n",
    "fig2, ax = plt.subplots(1, 1, figsize=(25, 3))\n",
    "plt.axis('off')\n",
    "legend_elements = [mpl.lines.Line2D([0], [0], marker='o', color=(1, 1, 1, 1), label=name_i, markerfacecolor=color_i, markersize=25) for name_i, color_i in dict_cell_types_colors.items()]\n",
    "ax.legend(handles=legend_elements, loc='upper left', ncol=6, frameon=False, fontsize=25)\n",
    "plt.tight_layout()\n",
    "# plt.savefig(f'results/figures/makers_4_panels_legend_{today}.jpg', dpi=300)\n",
    "plt.show()"
   ]
  },
  {
   "cell_type": "markdown",
   "id": "2e48793f-f226-42ae-9774-f9c310764005",
   "metadata": {},
   "source": [
    "## Figure of main populations in 2 panels (WT / KO)"
   ]
  },
  {
   "cell_type": "code",
   "execution_count": null,
   "id": "91dd4abe-f958-45f2-83c2-bf0590d650d8",
   "metadata": {
    "tags": []
   },
   "outputs": [],
   "source": [
    "adata_all_harmony.obs['conditon-cell_type'] = (adata_all_harmony.obs['merged_cell_type_name'].astype(str) + '-' + adata_all_harmony.obs['condition'].astype(str)).astype('category')\n",
    "adata_all_harmony.uns['conditon-cell_type_colors'] = list(itertools.chain(*list(zip(adata_all_harmony.uns['merged_cell_type_colors'], adata_all_harmony.uns['merged_cell_type_colors']))))"
   ]
  },
  {
   "cell_type": "code",
   "execution_count": null,
   "id": "2cc11e32-b364-4fb7-b812-e952000d2adb",
   "metadata": {
    "tags": []
   },
   "outputs": [],
   "source": [
    "fig, axs = plt.subplots(1, 2, figsize=(12, 4))\n",
    "s = 14\n",
    "plt.tight_layout()\n",
    "sc.pl.umap(adata_all_harmony[adata_all_harmony.obs['condition'] == 'KO'], color='merged_cell_type_number', s=s, ax = axs[0], \n",
    "           legend_loc='on data', frameon=False, show=False, \n",
    "           legend_fontoutline=4, legend_fontsize=14)\n",
    "\n",
    "title_obj = axs[0].set_title('KO',fontweight='bold', fontsize='xx-large') \n",
    "plt.setp(title_obj, color=dict_WT_KO_colors['KO'])\n",
    "\n",
    "sc.pl.umap(adata_all_harmony[adata_all_harmony.obs['condition'] == 'WT'], color='merged_cell_type_number', s=s, ax = axs[1], \n",
    "           legend_loc='on data', frameon=False, show=False, \n",
    "           legend_fontoutline=4, legend_fontsize=14)\n",
    "sc.pl.umap(adata_all_harmony[adata_all_harmony.obs['condition'] == 'WT'], color='merged_cell_type', s=s, ax = axs[1], \n",
    "           frameon=False, show=False)\n",
    "\n",
    "title_obj = axs[1].set_title('WT',fontweight='bold', fontsize='xx-large') \n",
    "plt.setp(title_obj, color=dict_WT_KO_colors['WT'])\n",
    "\n",
    "plt.subplots_adjust(wspace=0.025, hspace=0.1)\n",
    "plt.tight_layout()\n",
    "\n",
    "plt.savefig(f'results/figures/Fig2A_{today}.jpg', dpi=300)\n",
    "plt.savefig(f'results/figures/Fig2A.jpg', dpi=300)"
   ]
  },
  {
   "cell_type": "markdown",
   "id": "8a759d71-1e7a-40f9-9eb1-4a29c1caaf8a",
   "metadata": {},
   "source": [
    "## UMAP with cell types and batches"
   ]
  },
  {
   "cell_type": "code",
   "execution_count": null,
   "id": "5c5db111-1b54-44e7-b526-b0aeb3c711f3",
   "metadata": {
    "tags": []
   },
   "outputs": [],
   "source": [
    "adata_all_harmony.uns['batch_colors'] = list(dict_WT_KO_colors.values())\n",
    "fig, axs = plt.subplots(1, 2, figsize=(12, 4))\n",
    "s = 10\n",
    "plt.tight_layout()\n",
    "sc.pl.umap(adata_all_harmony, color='merged_cell_type', s=s, ax = axs[0], legend_loc=False, title='cell type', frameon=False, show=False)\n",
    "sc.pl.umap(adata_all_harmony, color='batch', s=s, ax = axs[1], title='batch', frameon=False, show=False)\n",
    "\n",
    "\n",
    "# plt.subplots_adjust(wspace=0.025, hspace=0.1)\n",
    "# plt.savefig(f'results/figures/UMAP_all_cell_type_batch{today}.png', dpi=300)"
   ]
  },
  {
   "cell_type": "markdown",
   "id": "f2cd3bd6-c7b5-4f3c-bca8-ca5c2a03d0e9",
   "metadata": {},
   "source": [
    "## Proportion of cell types within WT and KO"
   ]
  },
  {
   "cell_type": "code",
   "execution_count": null,
   "id": "c50773a5-7f2e-462f-9252-c48b8aec46d8",
   "metadata": {
    "tags": []
   },
   "outputs": [],
   "source": [
    "adata_plot_KOvsWT(adata_all_harmony, list(dict_cell_types_colors.keys()))"
   ]
  },
  {
   "cell_type": "code",
   "execution_count": null,
   "id": "f30742cb-dd0e-4633-9318-7c2b34fe8cb6",
   "metadata": {
    "tags": []
   },
   "outputs": [],
   "source": [
    "adata_plot_KOvsWT_2bars(adata_all_harmony, list(dict_cell_types_colors.keys()))\n",
    "plt.savefig(f'results/figures/Fig2C_{today}.jpg', dpi=300)\n",
    "plt.savefig(f'results/figures/Fig2C.jpg', dpi=300)"
   ]
  },
  {
   "cell_type": "code",
   "execution_count": null,
   "id": "0ccba22f-489b-46ba-b961-14cd2f5029db",
   "metadata": {
    "tags": []
   },
   "outputs": [],
   "source": [
    "adata_plot_KOvsWT_2bars(adata_all_harmony, list(dict_cell_types_colors.keys()))\n",
    "plt.savefig(f'results/figures/Fig2C_{today}.jpg', dpi=300)\n",
    "plt.savefig(f'results/figures/Fig2C.jpg', dpi=300)"
   ]
  },
  {
   "cell_type": "markdown",
   "id": "605218f3-eb72-473b-8c5b-9230099d22dd",
   "metadata": {},
   "source": [
    "### Main population markers"
   ]
  },
  {
   "cell_type": "code",
   "execution_count": null,
   "id": "de6a5425-f92b-4fc6-9728-1af4cb1f0b11",
   "metadata": {
    "tags": []
   },
   "outputs": [],
   "source": [
    "cell_markers = {'0: KRT': ['Lgals7', 'S100a14', 'Perp', 'Sfn', 'Dmkn', 'Dsp', 'Ly6d', 'Krt14', 'Dsc3', 'Krt5', 'Pkp3', 'Pkp1', 'Rab25', 'Apoc1', 'Aqp3', \n",
    "                                 'Tacstd2', 'Lypd3', 'Krtdap', 'Calm4', 'Krt15', 'Col17a1', 'Serpinb5', 'Fam25c', 'Dsg1a', 'Ckmt1', 'Urah', 'Esrp1', 'Capns2', \n",
    "                                 'Trp63', 'Sbsn', 'Dapl1', 'Fgfbp1', 'Krt80', 'Stard10', 'Tfap2a', 'Cldn4', 'Sytl1', 'Celsr2',], \n",
    "                '1: FB': ['Bgn', 'Sparc', 'Col6a1', 'Dcn', 'Col1a1', 'Col1a2', 'Mmp2', 'Serpinf1', 'Lum', 'Pcolce', 'Ccdc80', 'Mfap4', \n",
    "                         'Mfap2', 'Plac9b', \n",
    "                               'Comp', 'Gpc3', 'Ikbip', 'Clec3b',  'Thbs2', 'Igf2', 'Lox', 'Prrx2', 'Ntn1', 'Fkbp7', 'Cyp26b1', 'Apod', 'Lhfp', 'Srpx', \n",
    "                               'Cpq', 'Creb3l1', 'Cthrc1', 'P3h3', 'Crtap', 'Gpx7'], \n",
    "                '2: CHFB': ['Col2a1', 'Acan', 'Col9a1', 'Col11a1', 'Comp', 'Col9a2', 'Snorc', 'Col11a2', 'Col9a3', 'Fmod', 'Cnmd', 'Mia', 'Ecrg4', 'Chad', 'Ucma', 'Hapln1', 'Scrg1', 'Chadl', 'Msmo1', 'Cspg4', 'Trpv4', 'Plod2', 'Sox5', 'Plagl1'],\n",
    "                '3: VEC': ['Pecam1', 'Cdh5', 'Arhgap29', 'Adgrf5', 'Emcn', 'Egfl7', 'Rasip1', 'Plvap', 'Eng', 'Cd93', 'Gimap6', 'Fabp4', 'Mast4', 'Gng11', \n",
    "                                'Pdlim1', 'Ecscr', 'Ptprb', 'Cldn5', 'Tie1', 'Kitl', 'Depp1', 'Serpine1', 'S1pr1', 'Flt1', 'Neurl3', 'Adgrl4', 'Sox7', 'Aqp1', \n",
    "                                'Lrrc32', 'Upp1', 'Pdgfb', 'Robo4', 'Slfn5', 'Icam2', 'Parvb', 'Kdr', 'Podxl', 'Sox17', 'Erg', 'Mmrn2', 'Dll4', ], \n",
    "                '4: LEC': ['Fgl2', 'Olfm1', 'Gdf15', 'Mmrn1', 'Prox1', 'Pard6g', 'Ccl21a', 'Lyve1', 'Reln', 'Dtx1', 'Tbx1', 'Sh3gl3', 'Flt4', 'Slc45a3', \n",
    "                              'Nts', 'Slc38a4', 'Klhl4', 'Pgm5', 'Flt4', 'Klhl4', 'Slc5a3', 'Pgm5', 'Sgk3', 'Fam189a2', 'Mical2', 'Tbc1d4', 'Clca3a1', 'Scn3a', 'Prkcz',\n",
    "                              'Cox19', 'Eif2b2', 'Stab1', 'Stmn2', 'Rnf141', 'Tec'], \n",
    "                '5: PVC': ['Igfbp7', 'Rgs5', 'Procr', 'Acta2', 'Ndufa4l2', 'Ptp4a3', 'Tagln', 'Aoc3', 'Myh11', \n",
    "                                      'Mustn1', 'Apold1', 'Epas1', 'Esam', 'Pdgfrb', 'Myl9', 'Mcam', 'Rgs4', 'Ngf', 'Tinagl1', \n",
    "                                      'Ppp1r14a', 'Kcne4', 'Gja4', 'Ednrb', 'Gucy1b1', 'Carmn', 'Gucy1a1', 'Synpo2', 'Abcc9', 'Itga7', \n",
    "                                      'Notch3', 'Mylk', 'Actg2', 'Higd1b'],\n",
    "                '6: SCH': ['Plp1', 'Egfl8', 'Kcna1', 'Mpz', 'Pmp22', 'Cadm4', 'Foxd3', 'Sema3b', 'Mal', 'Gatm', 'Mbp', 'Cnp', 'Limch1', \n",
    "                                 'Plekha4', 'Art3', 'Aatk', 'Gas2l3', 'Col28a1', 'Prx', 'Dmd', 'Plekhb1', 'Sox10', 'Utrn', 'Cldn19', 'Ncmap', \n",
    "                                 'Mag', 'Zfp536', 'Hspa12a', 'Mlip', 'Itgb8', 'Bcas1', 'Cd59a', 'Cmtm5', 'Pea15a', 'Snca', 'Gjc3', 'Fam178b', \n",
    "                                 'Ugt8a', 'Adam23', 'Drp2', 'Kcna2', 'Cadm1'], \n",
    "                '7: MC': ['Cma1', 'Tpsb2', 'Mcpt4', 'Hs3st1', 'Tpsab1', 'Tph1', 'Cpa3', 'Gata2', 'Vwa5a', 'Slco2b1', 'Dapp1', 'Cyp11a1', 'Kit', 'Adora3', 'Ap1s3', 'Csf2rb', 'Mrgprb1', 'Sytl3', 'Rab27b', 'Penk', 'Hpgds', 'Ms6st2', 'Mcpt-ps1', 'Lat2', 'Adora2a', 'Calca', 'Slc45a3'],\n",
    "                '8: LYM': ['Ctla2a', 'Rgs1', 'Cd3d', 'Cd3g', 'Trbc2', 'Ptprcap', 'Neurl3', 'Tnfrsf9', 'Trdv4', 'Trbc1', 'Klrk1', 'Cd3e', 'Cd2', 'Nkg7', 'Il2rg', \n",
    "                             'Cd7', 'Tcrg-C1', 'Itk', 'Ctsw', 'Il2rb', 'Ltb', 'Ptpn22', 'Satb1', 'Klrb1b', 'Klrd1', 'Sytl3', 'Lck', 'Sipa1l1', 'Grap2', 'Cd69', 'Camk4'],\n",
    "                '9: NEU': ['Cstdc4', 'S100a8', 'Csta2', 'S100a9', 'Cstdc5', 'Stfa2l1', 'Wfdc21', 'G0s2', 'Hcar2', 'Csta3', 'Stfa3', 'Lyz2', 'Itgam', \n",
    "                               'Retnlg', 'Ngp', 'Pglyrp1', 'Clec4e', 'Camp', 'Hdc', 'C3', 'Cd300lf', 'Hp', 'F10', 'Trem3', 'Mcemp1', 'Chil1', 'Ltf', 'Slc2a3', \n",
    "                               'Asprv1', 'Sp140', 'Chil3', 'Msra', 'Cstdc6',],\n",
    "                '10: APC': ['Tyrobp', 'Ctss', 'Fcer1g', 'Cd74', 'Srgn', 'Basp1', 'H2-Aa', 'Slfn2', 'H2-Ab1', 'Cxcl16', 'H2-Eb1', 'Il7r', 'Csf2rb', 'Bcl2a1b', 'Ncf4', 'Csf1r', 'Malt1', 'Alox5ap', 'Csf2rb2', 'Cd68', 'Pik3r5', 'Pla2g7', 'Ms4a6d', 'Snx20', 'Bcl2a1a', 'Clec2d', 'Cd86' ,'Spi1' 'Lgals3', 'Ctsz'], \n",
    "               } "
   ]
  },
  {
   "cell_type": "code",
   "execution_count": null,
   "id": "85081562-32df-4ed5-b95e-c1a2f2c1868a",
   "metadata": {
    "tags": []
   },
   "outputs": [],
   "source": [
    "sc.tl.rank_genes_groups(adata_all_harmony, groupby='merged_cell_type')"
   ]
  },
  {
   "cell_type": "code",
   "execution_count": null,
   "id": "fc88e6e6-0e3c-437a-8a89-34ffc371da02",
   "metadata": {
    "scrolled": true,
    "tags": []
   },
   "outputs": [],
   "source": [
    "for cell_type, list_cell_markers in cell_markers.items():\n",
    "    print(cell_type)\n",
    "    sc.pl.umap(adata_all_harmony, color=list_cell_markers[:20], alpha=0.5, ncols=5, cmap=magma)"
   ]
  },
  {
   "cell_type": "code",
   "execution_count": null,
   "id": "0f4d28ae-6d81-493c-84f0-ece8b73fe52e",
   "metadata": {
    "tags": []
   },
   "outputs": [],
   "source": [
    "names = pd.DataFrame(adata_all_harmony.uns['rank_genes_groups']['names'])\n",
    "pvals = pd.DataFrame(adata_all_harmony.uns['rank_genes_groups']['pvals_adj'])"
   ]
  },
  {
   "cell_type": "code",
   "execution_count": null,
   "id": "c9f3adaa-a63f-471c-83c9-73bb625b461a",
   "metadata": {
    "tags": []
   },
   "outputs": [],
   "source": [
    "# Create a DataFrame with 30 most important genes\n",
    "list_dfs = []\n",
    "for cell_type, genes in cell_markers.items():\n",
    "    df = pd.DataFrame({f'{cell_type} genes': names[cell_type], f'p-value {cell_type}': pvals[cell_type]}, dtype=object)\n",
    "    df_short = df[df[f'{cell_type} genes'].isin(genes)].sort_values(by=f'p-value {cell_type}', ascending=True).iloc[:50].reset_index(drop=True)\n",
    "    df[f'p-value {cell_type}'] = df[f'p-value {cell_type}'].apply(lambda x: '%.3E' % x).values.tolist()\n",
    "    list_dfs.append(df_short)"
   ]
  },
  {
   "cell_type": "code",
   "execution_count": null,
   "id": "bdb43c95-248c-43ee-9c0e-a7a4383b9b67",
   "metadata": {
    "tags": []
   },
   "outputs": [],
   "source": [
    "df_all_celltypes = pd.concat(list_dfs, axis=1)\n",
    "df_all_celltypes.to_csv(f'results/{today}-general_population_DEGs.csv', index=False)\n",
    "df_all_celltypes"
   ]
  },
  {
   "cell_type": "markdown",
   "id": "586722c0-76e3-420a-8925-95a55942db09",
   "metadata": {},
   "source": [
    "## Tracksplot of cell markers"
   ]
  },
  {
   "cell_type": "code",
   "execution_count": null,
   "id": "527b380a-d96f-42ee-8783-26012dd1c87c",
   "metadata": {
    "tags": []
   },
   "outputs": [],
   "source": [
    "sc.pl.tracksplot(adata_all_harmony, groupby='merged_cell_type', var_names=df_all_celltypes.iloc[:4,::2].values.transpose().ravel(), \n",
    "                 dendrogram=True, xticklabels=False, use_raw=False, ax=ax, show=False)\n",
    "\n",
    "plt.savefig(f'results/figures/Fig2_Supp1_{today}.jpg', dpi=300)\n",
    "plt.savefig(f'results/figures/Fig2_Supp1.jpg', dpi=300)"
   ]
  },
  {
   "cell_type": "markdown",
   "id": "b0e8398d-6b45-4664-8275-8f71cdc54170",
   "metadata": {},
   "source": [
    "## Dotplot of cell markers"
   ]
  },
  {
   "cell_type": "code",
   "execution_count": null,
   "id": "6895423e-fe1a-41be-89be-38ec6c088bf3",
   "metadata": {
    "tags": []
   },
   "outputs": [],
   "source": [
    "categories_order = ['KRT', 'FB', 'CHFB', 'VEC', 'LEC', 'PVC', 'SCH', 'MC', 'LYM', 'NEU', 'APC']"
   ]
  },
  {
   "cell_type": "code",
   "execution_count": null,
   "id": "d84161aa-9427-481b-9deb-315c056b61ea",
   "metadata": {
    "tags": []
   },
   "outputs": [],
   "source": [
    "fig, ax = plt.subplots(1, 1, figsize=(12, 4))\n",
    "genes = ['Lgals7', 'S100a14', 'Krtdap', \n",
    "         'Dcn', 'Lum', 'Pdgfra', \n",
    "         'Col2a1', 'Acan', 'Col11a1', \n",
    "         'Cdh5', 'Emcn', 'Cd93',  \n",
    "         'Prox1', 'Ccl21a', 'Mmrn1', \n",
    "         'Rgs5', 'Acta2', 'Myh11',  \n",
    "         'Plp1', 'Mpz', 'Kcna1', \n",
    "         'Cma1', 'Tpsb2', 'Mcpt4', \n",
    "         'Ptprcap', 'Cd3d', 'Trbc1', \n",
    "         'S100a9', 'G0s2', 'Csta3', \n",
    "         'Ctss', 'Cd74', 'H2-Aa']\n",
    "\n",
    "sc.pl.dotplot(adata_all_harmony, groupby='merged_cell_type_name', var_names=genes, \n",
    "              dendrogram=False, show=False, \n",
    "             categories_order=categories_order, use_raw=False, ax=ax)\n",
    "\n",
    "plt.tight_layout()\n",
    "plt.savefig(f'results/figures/Fig2B_{today}.jpg', dpi=300)\n",
    "plt.savefig(f'results/figures/Fig2B.jpg', dpi=300)"
   ]
  },
  {
   "cell_type": "markdown",
   "id": "90abbe14-45ae-45d7-b724-10de5ca4225c",
   "metadata": {},
   "source": [
    "# Plots of difference of expression"
   ]
  },
  {
   "cell_type": "code",
   "execution_count": null,
   "id": "2168cbfb-d6aa-46a6-a0ff-03fefb870dcf",
   "metadata": {
    "tags": []
   },
   "outputs": [],
   "source": [
    "list_genes_exp = ['Pkm', 'Ldha', 'Ndrg1', 'Neat1', 'Hilpda', 'Hif1a', 'Bnip3', 'Slc2a1']"
   ]
  },
  {
   "cell_type": "code",
   "execution_count": null,
   "id": "90293f76-de45-4dc2-856a-2dfe3e62365b",
   "metadata": {
    "tags": []
   },
   "outputs": [],
   "source": [
    "# Violin plots\n",
    "fig, axs = plt.subplots(3, 3, figsize=(16, 12))\n",
    "\n",
    "order = itl.product(list(adata_all_harmony.obs['merged_cell_type_name'].cat.categories), ['WT', 'KO'])\n",
    "order = ['-'.join(i) for i in order]\n",
    "\n",
    "for idx, gene in enumerate(list_genes_exp):\n",
    "    sc.pl.violin(adata_all_harmony, groupby='conditon-cell_type', keys=gene, rotation=90, order=order,\n",
    "                 use_raw=False, ax=axs.ravel()[idx], show=False)\n",
    "\n",
    "    for dirr in ['top', 'right', 'left', 'bottom']:\n",
    "        axs.ravel()[idx].spines[dirr].set_visible(False)\n",
    "    axs.ravel()[idx].set_ylabel('')\n",
    "    axs.ravel()[idx].set_title(gene, fontsize='xx-large')\n",
    "        \n",
    "plt.tight_layout()\n",
    "plt.savefig(f'results/figures/Fig2E_violinplots_{today}.jpg', dpi=300)\n",
    "# plt.savefig(f'results/figures/Fig2E.png', dpi=300)"
   ]
  },
  {
   "cell_type": "code",
   "execution_count": null,
   "id": "8f4729bf-186b-479b-9d5d-df485f100570",
   "metadata": {
    "tags": []
   },
   "outputs": [],
   "source": [
    "fig, ax = plt.subplots(1, 1, figsize=(8, 4))\n",
    "\n",
    "sc.pl.stacked_violin(adata_all_harmony, var_names=list_genes_exp, groupby='conditon-cell_type', \n",
    "                 use_raw=False, categories_order=order, swap_axes=True, standard_scale='var', ax=ax, show=False,)\n",
    "\n",
    "plt.tight_layout()\n",
    "\n",
    "plt.savefig(f'results/figures/Fig2E_stacked_violinplots_{today}.jpg', dpi=300)\n",
    "plt.savefig(f'results/figures/Fig2E.jpg', dpi=300)"
   ]
  },
  {
   "cell_type": "code",
   "execution_count": null,
   "id": "a54b24e3-e6ad-4d5c-afb9-476b5a5ddabd",
   "metadata": {
    "tags": []
   },
   "outputs": [],
   "source": [
    "fig, ax = plt.subplots(1, 1, figsize=(8, 4))\n",
    "\n",
    "sc.pl.stacked_violin(adata_all_harmony, var_names=list_genes_exp, groupby='conditon-cell_type', \n",
    "                 use_raw=False, categories_order=order, swap_axes=True, standard_scale='var', row_palette='#454545', ax=ax, show=False,)\n",
    "\n",
    "plt.tight_layout()\n",
    "\n",
    "plt.savefig(f'results/figures/Fig2E_stacked_violinplots_gray_{today}.jpg', dpi=300)"
   ]
  },
  {
   "cell_type": "code",
   "execution_count": null,
   "id": "bb99c48d-eaee-4b0f-b856-edf662327f9f",
   "metadata": {
    "tags": []
   },
   "outputs": [],
   "source": [
    "fig, ax = plt.subplots(1, 1, figsize=(8, 4))\n",
    "\n",
    "sc.pl.dotplot(adata_all_harmony, var_names=list_genes_exp, groupby='conditon-cell_type', \n",
    "                 use_raw=False, categories_order=order, swap_axes=True, show=False, ax=ax)\n",
    "\n",
    "plt.tight_layout()\n",
    "\n",
    "plt.savefig(f'results/figures/Fig2E_dotplot_{today}.jpg', dpi=300)"
   ]
  },
  {
   "cell_type": "code",
   "execution_count": null,
   "id": "53874012-7eb4-44ae-a46a-04fed5ddbe1d",
   "metadata": {
    "tags": []
   },
   "outputs": [],
   "source": [
    "fig, ax = plt.subplots(1, 1, figsize=(8, 3))\n",
    "\n",
    "sc.pl.matrixplot(adata_all_harmony, groupby='conditon-cell_type', var_names=list_genes_exp, dendrogram=False, \n",
    "                 swap_axes=True, figsize=(10, 4), categories_order=order, use_raw=False, vmax=2, show=False, ax=ax)\n",
    "\n",
    "plt.savefig(f'results/figures/Fig2E_matrixplot_{today}.jpg', dpi=300)"
   ]
  },
  {
   "cell_type": "code",
   "execution_count": null,
   "id": "2a9f89e3-86ac-45e3-8f73-764d2f1d51a1",
   "metadata": {
    "tags": []
   },
   "outputs": [],
   "source": [
    "fig, ax = plt.subplots(1, 1, figsize=(8, 3))\n",
    "\n",
    "sc.pl.matrixplot(adata_all_harmony, groupby='merged_cell_type_name', var_names=list_genes_exp, dendrogram=False, \n",
    "                 swap_axes=True, figsize=(10, 4), categories_order=categories_order, use_raw=False, vmax=2, show=False, ax=ax)\n",
    "\n",
    "plt.savefig(f'results/figures/Fig2E_matrixplot_cell_type_{today}.jpg', dpi=300)"
   ]
  },
  {
   "cell_type": "markdown",
   "id": "32ff8977-b7f7-478e-9ce9-a198a5a3c48e",
   "metadata": {},
   "source": [
    "# Save adata"
   ]
  },
  {
   "cell_type": "code",
   "execution_count": null,
   "id": "e5e12384-56f3-4e65-9dd1-648a6201ab53",
   "metadata": {
    "tags": []
   },
   "outputs": [],
   "source": [
    "adata_all_harmony.write_h5ad('adatas/adata_all_harmony.h5')"
   ]
  },
  {
   "cell_type": "code",
   "execution_count": null,
   "id": "a8264e3e-287b-4cee-96f8-9f3c8e13fa4a",
   "metadata": {},
   "outputs": [],
   "source": []
  }
 ],
 "metadata": {
  "kernelspec": {
   "display_name": "Python [conda env:alex-base] *",
   "language": "python",
   "name": "conda-env-alex-base-py"
  },
  "language_info": {
   "codemirror_mode": {
    "name": "ipython",
    "version": 3
   },
   "file_extension": ".py",
   "mimetype": "text/x-python",
   "name": "python",
   "nbconvert_exporter": "python",
   "pygments_lexer": "ipython3",
   "version": "3.8.0"
  }
 },
 "nbformat": 4,
 "nbformat_minor": 5
}
