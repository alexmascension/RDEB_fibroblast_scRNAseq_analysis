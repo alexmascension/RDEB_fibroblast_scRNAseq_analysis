{
 "cells": [
  {
   "cell_type": "markdown",
   "id": "aa781ea4-1ef8-4bd8-b09d-1e513ed2c212",
   "metadata": {},
   "source": [
    "# Preparing adata files for cellxgene formatting\n",
    "\n",
    "**You need to run notebooks 2 to 6 first!!!!**"
   ]
  },
  {
   "cell_type": "code",
   "execution_count": null,
   "id": "beec4b87-e7ae-42fb-a135-12bb7617dfea",
   "metadata": {
    "tags": []
   },
   "outputs": [],
   "source": [
    "from cellassign import assign_cats\n",
    "import gzip\n",
    "import itertools as itl\n",
    "import matplotlib.pyplot as plt\n",
    "import matplotlib as mpl\n",
    "import numpy as np\n",
    "import os\n",
    "import pandas as pd\n",
    "import scanpy as sc\n",
    "import scanpy.external as sce\n",
    "import seaborn as sns\n",
    "import triku as tk\n",
    "import itertools"
   ]
  },
  {
   "cell_type": "code",
   "execution_count": null,
   "id": "e1fb0597-20bc-498b-81a7-e05c21bf9083",
   "metadata": {
    "tags": []
   },
   "outputs": [],
   "source": [
    "from functions import adata_plot_KOvsWT, stat_annot_gene, save_adata\n",
    "from functions import dict_WT_KO_colors"
   ]
  },
  {
   "cell_type": "code",
   "execution_count": null,
   "id": "965d7745-46a9-480c-9c08-4f0630f09114",
   "metadata": {
    "tags": []
   },
   "outputs": [],
   "source": [
    "# Palettes for UMAP gene expression\n",
    "\n",
    "magma = [plt.get_cmap('magma')(i) for i in np.linspace(0,1, 80)]\n",
    "magma[0] = (0.88, 0.88, 0.88, 1)\n",
    "magma = mpl.colors.LinearSegmentedColormap.from_list(\"\", magma[:65])"
   ]
  },
  {
   "cell_type": "code",
   "execution_count": null,
   "id": "3b5fc60d-a00c-4a00-ab55-829a8c481c3b",
   "metadata": {
    "tags": []
   },
   "outputs": [],
   "source": [
    "mpl.rcParams['figure.dpi'] = 200\n",
    "\n",
    "pd.set_option('display.max_columns', None)"
   ]
  },
  {
   "cell_type": "markdown",
   "id": "cd3d67f8-65f4-4a1c-b1dc-4b7de3024ff5",
   "metadata": {},
   "source": [
    "## Load adata"
   ]
  },
  {
   "cell_type": "code",
   "execution_count": null,
   "id": "1d6bdc16-1139-42b2-94bb-3b9dcd501fed",
   "metadata": {
    "tags": []
   },
   "outputs": [],
   "source": [
    "adata_fb = sc.read('adatas/adata_fibroblast.h5')\n",
    "adata_krt = sc.read('adatas/adata_keratinocyte.h5')\n",
    "adata_imm = sc.read('adatas/adata_immune.h5')\n",
    "adata_vasc = sc.read('adatas/adata_vasculature.h5')\n",
    "adata_all_harmony = sc.read_h5ad('adatas/adata_all_harmony.h5')"
   ]
  },
  {
   "cell_type": "code",
   "execution_count": null,
   "id": "1537aca5-8189-4173-b848-e9b45c233425",
   "metadata": {
    "tags": []
   },
   "outputs": [],
   "source": [
    "list_adatas = [adata_all_harmony, adata_fb, adata_krt, adata_imm, adata_vasc]"
   ]
  },
  {
   "cell_type": "markdown",
   "id": "5e3d2ef6-cb70-4347-8bd1-2505336269a0",
   "metadata": {},
   "source": [
    "## Setting obs values"
   ]
  },
  {
   "cell_type": "code",
   "execution_count": null,
   "id": "9c3869a0-af2f-4bbe-9903-ab4c682e48d6",
   "metadata": {
    "tags": []
   },
   "outputs": [],
   "source": [
    "for adata in list_adatas:\n",
    "    dict_vals = {'organism_ontology_term_id': 'NCBITaxon:10090', \n",
    "                 'tissue_ontology_term_id': 'UBERON:0015790', \n",
    "                 'assay_ontology_term_id': \"EFO:0009922\", \n",
    "                 'self_reported_ethnicity_ontology_term_id': 'na',\n",
    "                 'development_stage_ontology_term_id': \"MmusDv:0000046\", \n",
    "                 'sex_ontology_term_id': 'unknown',\n",
    "                 'assay_ontology_term_id': 'EFO:0008913', \n",
    "                 'suspension_type': 'cell', \n",
    "                 'is_primary_data': 'True'}\n",
    "    \n",
    "    for key, val in dict_vals.items():\n",
    "        adata.obs[key] = val\n",
    "        adata.obs[key] = adata.obs[key].astype('category')\n",
    "        \n",
    "    \n",
    "    disease_ontology_term_id = ['PATO:0000461' if i[:2] == 'WT' else 'MONDO:0006541' for i in adata.obs['batch'] ]\n",
    "    adata.obs['disease_ontology_term_id'] = disease_ontology_term_id\n",
    "    adata.obs['disease_ontology_term_id'] = adata.obs['disease_ontology_term_id'].astype('category')\n",
    "    \n",
    "    adata.obs['donor_id'] = adata.obs['batch']\n",
    "    adata.obs['donor_id'] = adata.obs['donor_id'].astype('category')\n",
    "    \n",
    "    adata.obs['cell_type'] = adata.obs['merged_cell_type']\n",
    "    adata.obs['cell_type'] = adata.obs['cell_type'].astype('category')"
   ]
  },
  {
   "cell_type": "markdown",
   "id": "ee329e61-cb6e-428a-9ba6-fe68edd3b4a9",
   "metadata": {},
   "source": [
    "## Setting cell type column based on ontology term id (if possible)"
   ]
  },
  {
   "cell_type": "code",
   "execution_count": null,
   "id": "2d98abf0-939a-47e2-a1a9-b01523657b02",
   "metadata": {
    "tags": []
   },
   "outputs": [],
   "source": [
    "dict_general_ct = {'1: FB': 'CL:0000057', '0: KRT': 'CL:0000312', '2: CHFB': 'CL:0000138', \n",
    "                   '3: VEC': 'CL:0000115', '4: LEC': 'CL:0002554', '5: PVC': 'CL:0000669', \n",
    "                   '6: SCH': 'CL:0002573', '8: LYM': 'CL:0001065', '9: NEU': 'CL:0000775',  \n",
    "                   '10: APC': 'CL:0000145', '7: MC': 'CL:0000097', \n",
    "                   'Fibroblast': 'CL:0000057', 'Keratinocyte': 'CL:0000312', 'Chondrocyte': 'CL:0000138', \n",
    "                   'Endothelial': 'CL:0000115', 'Lymphatic': 'CL:0002554', 'Perivascular cell': 'CL:0000669', \n",
    "                   'Schwann cell': 'CL:0002573', 'Lymphoid': 'CL:0001065', 'Neutrophil': 'CL:0000775',  \n",
    "                   'APC': 'CL:0000145', 'Mast cell': 'CL:0000097'}\n",
    "\n",
    "dict_immune = {'2: Act. Neu': 'CL:0000096', '11: BC': 'CL:0000236', '10: Bas': 'CL:0000767', \n",
    "               '4: Act. LC': 'CL:0000453', '5: LC': 'CL:0000453',\n",
    "               '6: Mφ/DCA': 'CL:0000235', '7: Mφ/DCB': 'CL:0000235', '8: Mφ/DCC': 'CL:0000235', \n",
    "               '9: MC': 'CL:0000097', \n",
    "               '3: Neu': 'CL:0000775', '12: PC': 'CL:0000786', '0: αβT': 'CL:0000084', '1: γδT': 'CL:0000084',}\n",
    "\n",
    "dict_vasc = {'Endo 0 (vein)': 'UBERON:0001638', 'Endo 1 (capillary)': 'UBERON:0001982', \n",
    "             'Endo 2 (capillary)': 'UBERON:0001982', 'Endo 3': 'CL:0000115', 'Endo 4 (artery)': 'UBERON:0001637', \n",
    "             'Endo 5': 'CL:0000115', 'Lymph 0': 'CL:0002554', 'Lymph 1': 'CL:0002554', 'Peri 0': 'CL:0000669', \n",
    "             'Peri 1': 'CL:0000669', 'Peri 2': 'CL:0000669', 'Peri 3': 'CL:0000669', 'Peri 4': 'CL:0000669', \n",
    "             'Schwann cell': 'CL:0002573'}"
   ]
  },
  {
   "cell_type": "code",
   "execution_count": null,
   "id": "ea8e378f-8966-47de-8a69-53dffb073a3c",
   "metadata": {
    "tags": []
   },
   "outputs": [],
   "source": [
    "for adata in list_adatas:\n",
    "    adata.obs['cell_type_ontology_term_id'] = [dict_general_ct[i] for i in adata.obs['cell_type']]\n",
    "    adata.obs['cell_type_ontology_term_id'] = adata.obs['cell_type_ontology_term_id'].astype('category')\n",
    "    \n",
    "adata_imm.obs['subtype_ontology_term_id'] = [dict_immune[i] for i in adata_imm.obs['subtype']]\n",
    "adata_imm.obs['subtype_ontology_term_id'] = adata_imm.obs['subtype_ontology_term_id'].astype('category')\n",
    "\n",
    "adata_vasc.obs['subtype_ontology_term_id'] = [dict_vasc[i] for i in adata_vasc.obs['subtype']]\n",
    "adata_vasc.obs['subtype_ontology_term_id'] = adata_vasc.obs['subtype_ontology_term_id'].astype('category')\n",
    "\n",
    "adata_krt.obs['subtype_ontology_term_id'] = \"CL:0000312\"\n",
    "adata_krt.obs['subtype_ontology_term_id'] = adata_krt.obs['subtype_ontology_term_id'].astype('category')\n",
    "\n",
    "adata_fb.obs['subtype_ontology_term_id'] = \"CL:0000057\"\n",
    "adata_fb.obs['subtype_ontology_term_id'] = adata_fb.obs['subtype_ontology_term_id'].astype('category')"
   ]
  },
  {
   "cell_type": "markdown",
   "id": "c0ac144e-6080-449f-9060-b3496047f512",
   "metadata": {},
   "source": [
    "## Setting var values"
   ]
  },
  {
   "cell_type": "code",
   "execution_count": null,
   "id": "c1cf6451-d1e2-4145-a329-cc917a546809",
   "metadata": {
    "tags": []
   },
   "outputs": [],
   "source": [
    "for adata in list_adatas:\n",
    "    dict_vals = {'feature_biotype': 'gene', \n",
    "                 'feature_reference': 'NCBITaxon:10090', \n",
    "                }\n",
    "    \n",
    "    for key, val in dict_vals.items():\n",
    "        adata.var[key] = val\n",
    "        adata.var[key] = adata.var[key].astype('category')\n",
    "        adata.raw.var[key] = val\n",
    "        adata.raw.var[key] = adata.raw.var[key].astype('category')\n",
    "    \n",
    "    # feature_is_filtered\n",
    "    adata.var['feature_is_filtered'] = False\n",
    "    raw_feature_is_filtered = [False if i in adata.var.index else True for i in adata.raw.var.index]\n",
    "    adata.raw.var['feature_is_filtered'] = raw_feature_is_filtered\n",
    "    \n",
    "    # Feature name\n",
    "    adata.var['feature_name'] = adata.var.index\n",
    "    adata.var['feature_name'] = adata.var['feature_name'].astype(str)\n",
    "    adata.raw.var['feature_name'] = adata.raw.var.index\n",
    "    adata.raw.var['feature_name'] = adata.raw.var['feature_name'].astype(str)\n",
    "    \n",
    "    # Change features to ensemble ID\n",
    "    adata.var.index = adata.var['Accession'].values\n",
    "    adata.raw.var.index = adata.raw.var['Accession'].values\n",
    "    \n",
    "    adata.var_names_make_unique()"
   ]
  },
  {
   "cell_type": "markdown",
   "id": "a2c67b3a-83ed-4fdd-b808-8ad1d307e163",
   "metadata": {},
   "source": [
    "## Setting uns values"
   ]
  },
  {
   "cell_type": "code",
   "execution_count": null,
   "id": "18843378-bb47-4103-9df6-aba6c47b137d",
   "metadata": {
    "tags": []
   },
   "outputs": [],
   "source": [
    "for adata in list_adatas:\n",
    "    dict_vals = {'schema_version': '3.0.0', 'default_embedding': 'X_umap', 'X_approximate_distribution': 'count',\n",
    "                 'title': 'Single cell RNA sequencing of paw skin from healthy and Col7a1 knockout (RDEB) mice', \n",
    "                 'batch_condition': 'batch', \n",
    "                 }\n",
    "    \n",
    "    for key, val in dict_vals.items():\n",
    "        adata.uns[key] = val"
   ]
  },
  {
   "cell_type": "markdown",
   "id": "ff0e2d0c-e526-4594-9db8-610b03018ad6",
   "metadata": {
    "execution": {
     "iopub.execute_input": "2022-10-14T10:13:53.768113Z",
     "iopub.status.busy": "2022-10-14T10:13:53.767521Z",
     "iopub.status.idle": "2022-10-14T10:13:53.777134Z",
     "shell.execute_reply": "2022-10-14T10:13:53.775755Z",
     "shell.execute_reply.started": "2022-10-14T10:13:53.768058Z"
    },
    "tags": []
   },
   "source": [
    "## Deleting unwanted columns"
   ]
  },
  {
   "cell_type": "code",
   "execution_count": null,
   "id": "b60a6bb8-7c49-466c-b2fc-ebf626cf22cb",
   "metadata": {
    "tags": []
   },
   "outputs": [],
   "source": [
    "for adata in list_adatas:\n",
    "    obs_options = ['organism_ontology_term_id', 'tissue_ontology_term_id', 'assay_ontology_term_id', \n",
    "                           'self_reported_ethnicity_ontology_term_id', 'development_stage_ontology_term_id', 'sex_ontology_term_id', \n",
    "                           'suspension_type', 'is_primary_data', 'disease_ontology_term_id', 'donor_id', 'cell_type_ontology_term_id', \n",
    "                           'subtype_ontology_term_id', 'batch', 'n_genes_by_counts', 'total_counts', 'total_counts_mt', 'cell_type', 'subtype',]\n",
    "    var_options = ['Accession', 'Chromosome', 'ChromosomeEnd', 'ChromosomeStart', 'FullName', 'GeneType', 'LocusType', \n",
    "                           'UniprotID', 'n_cells_by_counts', 'mean_counts', 'log1p_mean_counts', 'pct_dropout_by_counts', \n",
    "                           'total_counts', 'log1p_total_counts', 'n_counts', 'highly_variable', 'feature_biotype', \n",
    "                           'feature_reference', 'feature_is_filtered', 'feature_name']\n",
    "    \n",
    "    adata.obs = adata.obs[[i for i in obs_options if i in adata.obs.columns]]\n",
    "    \n",
    "            \n",
    "    adata.var = adata.var[[i for i in var_options if i in adata.var.columns]]"
   ]
  },
  {
   "cell_type": "markdown",
   "id": "073e1b6d-762c-4051-912d-17c9a2e7be8e",
   "metadata": {
    "execution": {
     "iopub.execute_input": "2022-10-14T10:13:53.768113Z",
     "iopub.status.busy": "2022-10-14T10:13:53.767521Z",
     "iopub.status.idle": "2022-10-14T10:13:53.777134Z",
     "shell.execute_reply": "2022-10-14T10:13:53.775755Z",
     "shell.execute_reply.started": "2022-10-14T10:13:53.768058Z"
    },
    "tags": []
   },
   "source": [
    "## Deleting unwanted uns"
   ]
  },
  {
   "cell_type": "code",
   "execution_count": null,
   "id": "fb9113c5-a74a-480b-92e7-8755b363b92c",
   "metadata": {
    "tags": []
   },
   "outputs": [],
   "source": [
    "for adata in list_adatas:\n",
    "    for uns in list(adata.uns.keys()):\n",
    "        if not (('colors' in uns) or (uns in dict_vals.keys())):\n",
    "            del adata.uns[uns]"
   ]
  },
  {
   "cell_type": "markdown",
   "id": "e5400b91-404a-4bc9-8e94-0c5c86cec127",
   "metadata": {},
   "source": [
    "## Saving adatas"
   ]
  },
  {
   "cell_type": "code",
   "execution_count": null,
   "id": "7b973e3c-642e-4764-a2c7-1318be4b4a2f",
   "metadata": {
    "tags": []
   },
   "outputs": [],
   "source": [
    "text_cell_by_gene = ''\n",
    "for name, adatax in zip(['FIBROBLAST', 'KERATINOCYTE', 'IMMUNE', 'VASCULATURE', 'ALL'], [adata_fb, adata_krt, adata_imm, adata_vasc, adata_all_harmony]):\n",
    "    text_cell_by_gene += name\n",
    "    text_cell_by_gene += 'Dataset-level metadata in uns'\n",
    "    text_cell_by_gene += 'schema_version: ' + str(adatax.uns['schema_version'])\n",
    "    text_cell_by_gene += 'title: ' + str(adatax.uns['title'])\n",
    "    text_cell_by_gene += 'batch_condition: ' + str(adatax.uns['batch_condition'])\n",
    "    text_cell_by_gene += 'default_embedding: ' + str(adatax.uns['default_embedding'])\n",
    "\n",
    "    text_cell_by_gene += '\\nData in .X and raw.X'\n",
    "    text_cell_by_gene += 'adata.X: ' + str(adatax.X.shape) + str(adatax.X.sum())\n",
    "    text_cell_by_gene += 'adata.raw.X: ' + str(adatax.raw.X.shape) + str(adatax.raw.X.sum())\n",
    "\n",
    "    text_cell_by_gene += '\\nCells metadata in obs'\n",
    "    text_cell_by_gene += 'organism_ontology_term_id: ' + str(adatax.obs['organism_ontology_term_id'].cat.categories.values)\n",
    "    text_cell_by_gene += 'tissue_ontology_term_id: ' + str(adatax.obs['tissue_ontology_term_id'].cat.categories.values)\n",
    "    text_cell_by_gene += 'assay_ontology_term_id: ' + str(adatax.obs['assay_ontology_term_id'].cat.categories.values)\n",
    "    text_cell_by_gene += 'disease_ontology_term_id: ' + str(adatax.obs['disease_ontology_term_id'].cat.categories.values)\n",
    "    text_cell_by_gene += 'cell_type_ontology_term_id: ' + str(adatax.obs['cell_type_ontology_term_id'].cat.categories.values)\n",
    "    text_cell_by_gene += 'self_reported_ethnicity_ontology_term_id: ' + str(adatax.obs['self_reported_ethnicity_ontology_term_id'].cat.categories.values)\n",
    "    text_cell_by_gene += 'development_stage_ontology_term_id: ' + str(adatax.obs['development_stage_ontology_term_id'].cat.categories.values)\n",
    "    text_cell_by_gene += 'sex_ontology_term_id: ' + str(adatax.obs['sex_ontology_term_id'].cat.categories.values)\n",
    "    text_cell_by_gene += 'donor_id: ' + str(adatax.obs['donor_id'].cat.categories.values)\n",
    "    text_cell_by_gene += 'suspension_type: ' + str(adatax.obs['suspension_type'].cat.categories.values)\n",
    "\n",
    "    text_cell_by_gene += '\\nEmbeddings in obsm'\n",
    "    text_cell_by_gene += str(adatax.obsm)\n",
    "\n",
    "    text_cell_by_gene += '\\nFeatures in var'\n",
    "    text_cell_by_gene += 'var.index: ' + str(adatax.var.index)\n",
    "    text_cell_by_gene += 'var.columns: ' + str(adatax.var.columns)\n",
    "\n",
    "    text_cell_by_gene += '\\nFeatures in var.raw'\n",
    "    text_cell_by_gene += '.raw.var.index: ' + str(adatax.raw.var.index)\n",
    "    text_cell_by_gene += '.raw.var.columns: ' + str(adatax.raw.var.columns)\n",
    "    text_cell_by_gene += '\\n\\n'\n",
    "\n",
    "text_file = open(\"adatas/cellxgene_output.txt\", \"w\")\n",
    "n = text_file.write(text_cell_by_gene)\n",
    "text_file.close()"
   ]
  },
  {
   "cell_type": "code",
   "execution_count": null,
   "id": "ef4118e3-7424-4750-98ac-8b58d568f819",
   "metadata": {
    "tags": []
   },
   "outputs": [],
   "source": [
    "adata_fb.write_h5ad('adatas/adata_fibroblast_cellxgene.h5', compression='gzip')\n",
    "adata_krt.write_h5ad('adatas/adata_keratinocyte_cellxgene.h5', compression='gzip')\n",
    "adata_imm.write_h5ad('adatas/adata_immune_cellxgene.h5', compression='gzip')\n",
    "adata_vasc.write_h5ad('adatas/adata_vasculature_cellxgene.h5', compression='gzip')\n",
    "adata_all_harmony.write_h5ad('adatas/adata_all_harmony_cellxgene.h5', compression='gzip')"
   ]
  },
  {
   "cell_type": "code",
   "execution_count": null,
   "id": "ae750f9e-4817-4406-9633-d09c41611b79",
   "metadata": {
    "tags": []
   },
   "outputs": [],
   "source": [
    "list_md5sum = []\n",
    "md5 = !md5sum adatas/adata_fibroblast_cellxgene.h5\n",
    "list_md5sum.append(md5)\n",
    "md5 = !md5sum adatas/adata_keratinocyte_cellxgene.h5\n",
    "list_md5sum.append(md5)\n",
    "md5 = !md5sum adatas/adata_immune_cellxgene.h5\n",
    "list_md5sum.append(md5)\n",
    "md5 = !md5sum adatas/adata_vasculature_cellxgene.h5\n",
    "list_md5sum.append(md5)\n",
    "md5 = !md5sum adatas/adata_all_harmony_cellxgene.h5\n",
    "list_md5sum.append(md5)"
   ]
  },
  {
   "cell_type": "code",
   "execution_count": null,
   "id": "6ca7bee8-057d-47b3-9801-306e7a7d9f63",
   "metadata": {
    "tags": []
   },
   "outputs": [],
   "source": [
    "list_md5sum = [i[0] for i in list_md5sum]\n",
    "\n",
    "text_list_md5sum = '\\n'.join(list_md5sum).replace('adatas/', '')"
   ]
  },
  {
   "cell_type": "code",
   "execution_count": null,
   "id": "a2f50ac9-04f0-49dd-a68a-3c1acd45f990",
   "metadata": {
    "tags": []
   },
   "outputs": [],
   "source": [
    "text_file = open(\"adatas/md5sum.txt\", \"w\")\n",
    "n = text_file.write(text_list_md5sum)\n",
    "text_file.close()"
   ]
  },
  {
   "cell_type": "code",
   "execution_count": null,
   "id": "4fd6ad42-8648-4f4f-8df5-ec28094ec97c",
   "metadata": {
    "tags": []
   },
   "outputs": [],
   "source": [
    "!cd adatas &&  tar -czf adatas_cellxgene.tar.gz md5sum.txt cellxgene_output.txt adata_fibroblast_cellxgene.h5 adata_keratinocyte_cellxgene.h5 adata_immune_cellxgene.h5 adata_vasculature_cellxgene.h5 adata_all_harmony_cellxgene.h5"
   ]
  },
  {
   "cell_type": "code",
   "execution_count": null,
   "id": "5b62a4fc-822e-4f49-adbb-6dc04508f4ce",
   "metadata": {
    "tags": []
   },
   "outputs": [],
   "source": [
    "os.system('jupyter nbconvert --to html X_preparing adatas_for_cellxgene.ipynb')"
   ]
  }
 ],
 "metadata": {
  "kernelspec": {
   "display_name": "Python [conda env:alex-base] *",
   "language": "python",
   "name": "conda-env-alex-base-py"
  },
  "language_info": {
   "codemirror_mode": {
    "name": "ipython",
    "version": 3
   },
   "file_extension": ".py",
   "mimetype": "text/x-python",
   "name": "python",
   "nbconvert_exporter": "python",
   "pygments_lexer": "ipython3",
   "version": "3.8.0"
  }
 },
 "nbformat": 4,
 "nbformat_minor": 5
}
