{
 "cells": [
  {
   "cell_type": "markdown",
   "id": "aa781ea4-1ef8-4bd8-b09d-1e513ed2c212",
   "metadata": {},
   "source": [
    "# Yanling single-cell analysis"
   ]
  },
  {
   "cell_type": "code",
   "execution_count": null,
   "id": "beec4b87-e7ae-42fb-a135-12bb7617dfea",
   "metadata": {
    "tags": []
   },
   "outputs": [],
   "source": [
    "from cellassign import assign_cats\n",
    "import gzip\n",
    "import itertools as itl\n",
    "import matplotlib.pyplot as plt\n",
    "import matplotlib as mpl\n",
    "import numpy as np\n",
    "import os\n",
    "import pandas as pd\n",
    "import scanpy as sc\n",
    "import scanpy.external as sce\n",
    "import seaborn as sns\n",
    "import triku as tk"
   ]
  },
  {
   "cell_type": "code",
   "execution_count": null,
   "id": "965d7745-46a9-480c-9c08-4f0630f09114",
   "metadata": {
    "tags": []
   },
   "outputs": [],
   "source": [
    "# Palettes for UMAP gene expression\n",
    "\n",
    "magma = [plt.get_cmap('magma')(i) for i in np.linspace(0,1, 80)]\n",
    "magma[0] = (0.88, 0.88, 0.88, 1)\n",
    "magma = mpl.colors.LinearSegmentedColormap.from_list(\"\", magma[:65])"
   ]
  },
  {
   "cell_type": "code",
   "execution_count": null,
   "id": "3b5fc60d-a00c-4a00-ab55-829a8c481c3b",
   "metadata": {
    "tags": []
   },
   "outputs": [],
   "source": [
    "mpl.rcParams['figure.dpi'] = 200"
   ]
  },
  {
   "cell_type": "code",
   "execution_count": null,
   "id": "d8f6ae2a-c403-443b-be5e-0cb5a338742b",
   "metadata": {
    "tags": []
   },
   "outputs": [],
   "source": [
    "def plot_batch_abundance(adatax, plot_status=False):\n",
    "    samples, clusters, list_prop = sorted(dict.fromkeys(adatax.obs['batch'])), sorted(dict.fromkeys(adatax.obs['leiden'])), []\n",
    "    product = itl.product(*[samples, clusters])\n",
    "\n",
    "    correction_factor = {sample: len(adatax)/(len(samples) * np.sum(adatax.obs['batch'] == sample)) for sample in samples}\n",
    "\n",
    "    for sample, cluster in product:\n",
    "        list_prop.append(correction_factor[sample] * \n",
    "                         len(adatax[(adatax.obs['leiden'] == cluster) & (adatax.obs['batch'] == sample)])/\n",
    "                         len(adatax[adatax.obs['leiden'] == cluster]))\n",
    "\n",
    "    df = pd.DataFrame({'x':clusters * len(samples), 'y':list_prop, 'hue':sorted(samples * len(clusters))})\n",
    "    if plot_status:\n",
    "        df['hue_status'] = [i[0] for i in df['hue']]\n",
    "        fig, axs = plt.subplots(1, 2, figsize=(16,4))\n",
    "        sns.barplot(x='x', y='y', hue='hue', data=df, ax=axs[0])\n",
    "        sns.barplot(x='x', y='y', hue='hue_status', data=df, ax=axs[1])\n",
    "    else:\n",
    "        fig, axs = plt.subplots(1, 1, figsize=(8,4))\n",
    "        sns.barplot(x='x', y='y', hue='hue', data=df, ax=axs)"
   ]
  },
  {
   "cell_type": "code",
   "execution_count": null,
   "id": "11317b20-a2e0-4bb1-b054-6583a79e2273",
   "metadata": {},
   "outputs": [],
   "source": [
    "fastq_dir = f'{os.getcwd()}/fastq' \n",
    "mouse_gencode_dir = \"/media/seth/SETH_DATA/SETH_Alex/Programs/mouse_GRCm38_gencode.v31\""
   ]
  },
  {
   "cell_type": "code",
   "execution_count": null,
   "id": "e75a06f0-a7b0-445f-bfff-09d1cead9f67",
   "metadata": {
    "tags": []
   },
   "outputs": [],
   "source": [
    "prefixes = ['KOD11', 'KOD12', 'WT1', 'WT2']"
   ]
  },
  {
   "cell_type": "markdown",
   "id": "61e3d09c-3eea-4edf-b8f6-0596deabcd8b",
   "metadata": {},
   "source": [
    "## Dataset processing [**DO NOT RUN IF NOT NECESSARY**]\n",
    "\n",
    "The reads are produced based on the 10X v3 library preparation kit, which consists of a cell barcode of 16 bp, a UMI of 12 bp, and a read of 91 bp.\n",
    "To process the files we are going to first trim the reads to that length, and then preprocess them using `loompy fastq` to get the files with the read information."
   ]
  },
  {
   "cell_type": "code",
   "execution_count": null,
   "id": "2132af20-7505-4c43-9d20-471b9400d3e1",
   "metadata": {
    "tags": []
   },
   "outputs": [],
   "source": [
    "df = pd.DataFrame({'name': prefixes, 'technology': ['10xv3'] * len(prefixes), 'targetnumcells': [1000] * len(prefixes)})\n",
    "df.to_csv(fastq_dir + '/metadata.tab', sep='\\t', index=None)"
   ]
  },
  {
   "cell_type": "code",
   "execution_count": null,
   "id": "259e556f-bb48-40f2-935e-a969d0d2f1e2",
   "metadata": {
    "tags": []
   },
   "outputs": [],
   "source": [
    "for filename_root in prefixes: \n",
    "    fileinR1 = gzip.open(f'{fastq_dir}/{filename_root}/long_{filename_root}_L001_R1_001.fastq.gz', 'rt') \n",
    "    fileinR2 = gzip.open(f'{fastq_dir}/{filename_root}/long_{filename_root}_L001_R2_001.fastq.gz', 'rt') \n",
    "    \n",
    "    fileoutR1 = open(f'{fastq_dir}/{filename_root}/{filename_root}_L001_R1_001.fastq', 'w') \n",
    "    fileoutR2 = open(f'{fastq_dir}/{filename_root}/{filename_root}_L001_R2_001.fastq', 'w') \n",
    "\n",
    "\n",
    "    count = 0\n",
    "\n",
    "    while True: \n",
    "        count += 1\n",
    "\n",
    "        # Get next line from file \n",
    "        lineR1 = fileinR1.readline() \n",
    "        lineR2 = fileinR2.readline() \n",
    "\n",
    "        if count % 4 in [1, 3]:\n",
    "            fileoutR1.write(lineR1.replace('\\n', '') + '\\n')\n",
    "            fileoutR2.write(lineR2.replace('\\n', '') + '\\n')\n",
    "        elif count == 2:\n",
    "            fileoutR1.write(lineR1.replace('\\n', '')[:28] + '\\n')\n",
    "            fileoutR2.write(lineR2.replace('\\n', '')[:91] + '\\n')\n",
    "        else:\n",
    "            fileoutR1.write(lineR1.replace('\\n', '')[:28] + '\\n')\n",
    "            fileoutR2.write(lineR2.replace('\\n', '')[:91] + '\\n')\n",
    "\n",
    "\n",
    "        # if line is empty \n",
    "        # end of file is reached \n",
    "        if not lineR1: \n",
    "            break\n",
    "\n",
    "    fileinR1.close() \n",
    "    fileinR2.close()\n",
    "    fileoutR1.close()\n",
    "    fileoutR2.close()\n",
    "    \n",
    "    os.system(f\"cd {fastq_dir}/{filename_root} && gzip {filename_root}_L001_R1_001.fastq\")\n",
    "    os.system(f\"cd {fastq_dir}/{filename_root} && gzip {filename_root}_L001_R2_001.fastq\")\n",
    "    os.system(f\"cd {fastq_dir} && loompy fromfq {filename_root}.loom {filename_root} {mouse_gencode_dir} metadata.tab {fastq_dir}/{filename_root}/{filename_root}_L001_R1_001.fastq.gz {fastq_dir}/{filename_root}/{filename_root}_L001_R2_001.fastq.gz\")"
   ]
  },
  {
   "cell_type": "markdown",
   "id": "2245aaa6-66ce-46a7-a910-0fc7a0e2cec3",
   "metadata": {},
   "source": [
    "## Load adatas"
   ]
  },
  {
   "cell_type": "code",
   "execution_count": null,
   "id": "2ebdf76b-fdda-44b8-a80c-7d726d381ef6",
   "metadata": {
    "tags": []
   },
   "outputs": [],
   "source": [
    "seed = 0"
   ]
  },
  {
   "cell_type": "code",
   "execution_count": null,
   "id": "b0f34535-b700-4c28-8a65-a42041b5a076",
   "metadata": {
    "tags": []
   },
   "outputs": [],
   "source": [
    "adata_KOD11 = sc.read(f\"{fastq_dir}/KOD11.loom\")\n",
    "adata_KOD11.var_names_make_unique()\n",
    "\n",
    "adata_KOD12 = sc.read(f\"{fastq_dir}/KOD12.loom\")\n",
    "adata_KOD12.var_names_make_unique()\n",
    "\n",
    "adata_WT1 = sc.read(f\"{fastq_dir}/WT1.loom\")\n",
    "adata_WT1.var_names_make_unique()\n",
    "\n",
    "adata_WT2 = sc.read(f\"{fastq_dir}/WT2.loom\")\n",
    "adata_WT2.var_names_make_unique()"
   ]
  },
  {
   "cell_type": "code",
   "execution_count": null,
   "id": "048e5a87-483b-4802-b512-be95f06b54e8",
   "metadata": {
    "tags": []
   },
   "outputs": [],
   "source": [
    "adata_all = sc.AnnData.concatenate(adata_KOD11, adata_KOD12, adata_WT1, adata_WT2, batch_categories=['KO1', 'KO2', 'WT1', 'WT2'])\n",
    "adata_all.obs['condition'] = [i[:2] for i in adata_all.obs['batch']]"
   ]
  },
  {
   "cell_type": "code",
   "execution_count": null,
   "id": "5587a0db-c6bd-42ea-bfc6-1063fdc602f2",
   "metadata": {
    "tags": []
   },
   "outputs": [],
   "source": [
    "adata_all.obs['status'] = [i[0] for i in adata_all.obs['batch']]"
   ]
  },
  {
   "cell_type": "code",
   "execution_count": null,
   "id": "312ca422-dcdc-4984-948c-f778fe627489",
   "metadata": {
    "tags": []
   },
   "outputs": [],
   "source": [
    "for prefix in prefixes:\n",
    "    adata_all.obs[f'is_{prefix}'] = (adata_all.obs['batch'] == prefix).astype(str)\n",
    "    adata_all.uns[f'is_{prefix}_colors'] = ['#bcbcbc', '#bc0000']"
   ]
  },
  {
   "cell_type": "markdown",
   "id": "c7c69705-36ec-45f4-9d7a-7405446d0c14",
   "metadata": {},
   "source": [
    "## Pre-Setting the AnnData files for cellxgene"
   ]
  },
  {
   "cell_type": "code",
   "execution_count": null,
   "id": "e59b8808-df37-4eee-a6f5-ba9649c39317",
   "metadata": {},
   "outputs": [],
   "source": [
    "adata_all.raw = adata_all"
   ]
  },
  {
   "cell_type": "markdown",
   "id": "dac2ebc0-6bf8-4f29-959e-bd3c5acde1b8",
   "metadata": {},
   "source": [
    "### Basic QC filtering\n",
    "\n",
    "In this step we are going to look for mitochondrial read and gene expression distribution to see if there are imbalances in the datasets, if they are correctable, and to apply the corrections in that case."
   ]
  },
  {
   "cell_type": "code",
   "execution_count": null,
   "id": "3612708e-9c7b-4236-80ca-b49bceb58715",
   "metadata": {
    "tags": []
   },
   "outputs": [],
   "source": [
    "# Basic QC filtering\n",
    "adata_all.var['mt'] = adata_all.var_names.str.startswith('mt-')  # annotate the group of mitochondrial genes as 'mt'\n",
    "sc.pp.calculate_qc_metrics(adata_all, qc_vars=['mt'], percent_top=None, inplace=True)"
   ]
  },
  {
   "cell_type": "code",
   "execution_count": null,
   "id": "da9ccd4d-537e-43da-b4e2-80af7b118a81",
   "metadata": {
    "tags": []
   },
   "outputs": [],
   "source": [
    "sc.pl.violin(adata_all, ['n_genes_by_counts', 'total_counts', 'pct_counts_mt'],\n",
    "             jitter=0.4, multi_panel=True)\n",
    "\n",
    "sc.pl.scatter(adata_all, x='total_counts', y='pct_counts_mt')\n",
    "sc.pl.scatter(adata_all, x='total_counts', y='n_genes_by_counts')"
   ]
  },
  {
   "cell_type": "markdown",
   "id": "a253dd51-de5f-4826-a198-0ecf359573a7",
   "metadata": {},
   "source": [
    "We see that the read distribution is irregular in the whole dataset, so we are going to plot the same distributions samplewise."
   ]
  },
  {
   "cell_type": "code",
   "execution_count": null,
   "id": "443b8883-e72c-4c74-9fe1-9b140989d9e4",
   "metadata": {
    "tags": []
   },
   "outputs": [],
   "source": [
    "# PERCENTAGE OF MITOCHONDRIAL READS\n",
    "fig, ax = plt.subplots(1, 1, figsize=(10, 4))\n",
    "df = pd.DataFrame({'x': adata_all.obs['batch'], 'y': np.log1p(adata_all.obs['pct_counts_mt'])})\n",
    "sns.violinplot(x='x', y='y', data=df, ax=ax)"
   ]
  },
  {
   "cell_type": "code",
   "execution_count": null,
   "id": "3b5409d9-e2fc-4cfc-bc1c-edacb8dc3339",
   "metadata": {
    "tags": []
   },
   "outputs": [],
   "source": [
    "# NATURAL LOG OF NUMBER OF GENES WITH AT LEAST 1 COUNT\n",
    "fig, ax = plt.subplots(1, 1, figsize=(10, 4))\n",
    "df = pd.DataFrame({'x': adata_all.obs['batch'], 'y': adata_all.obs['log1p_n_genes_by_counts']})\n",
    "sns.violinplot(x='x', y='y', data=df, ax=ax)"
   ]
  },
  {
   "cell_type": "code",
   "execution_count": null,
   "id": "d3a77957-a166-4633-a7e8-31980eea41dd",
   "metadata": {
    "tags": []
   },
   "outputs": [],
   "source": [
    "# Apply filters\n",
    "adata_all = adata_all[\n",
    "(((adata_all.obs.batch == 'KO1') & (adata_all.obs.log1p_n_genes_by_counts < 8.0) & (adata_all.obs.log1p_n_genes_by_counts > 5.8)) |\n",
    " ((adata_all.obs.batch == 'KO2') & (adata_all.obs.log1p_n_genes_by_counts < 8.0) & (adata_all.obs.log1p_n_genes_by_counts > 6.5)) |\n",
    " ((adata_all.obs.batch == 'WT1')   & (adata_all.obs.log1p_n_genes_by_counts < 8.0) & (adata_all.obs.log1p_n_genes_by_counts > 6.5)) |\n",
    " ((adata_all.obs.batch == 'WT2')   & (adata_all.obs.log1p_n_genes_by_counts < 8.0) & (adata_all.obs.log1p_n_genes_by_counts > 6.5)))]\n",
    "adata_all = adata_all[adata_all.obs.pct_counts_mt < 10, :]"
   ]
  },
  {
   "cell_type": "code",
   "execution_count": null,
   "id": "efcf6d71-1216-4994-a649-15f15257be7c",
   "metadata": {
    "tags": []
   },
   "outputs": [],
   "source": [
    "sc.pp.filter_genes(adata_all, min_counts=1)\n",
    "sc.pp.normalize_total(adata_all)\n",
    "sc.pp.log1p(adata_all)"
   ]
  },
  {
   "cell_type": "markdown",
   "id": "9bf4784f-dedd-4140-a9af-a4f761dc7774",
   "metadata": {},
   "source": [
    "## Cell type identification\n",
    "\n",
    "In this step we are going to generate a set of marker genes for different populations, that should be expressed in as many samples as possible. To do that we applied different clusterings to the samples, got the DEGs, and manually determined the set of genes.\n",
    "\n",
    "Afterwards, to assign the populations with the genes, we run the clustering to obtain many clusters, many of which are merged under the same population.\n",
    "\n",
    "Then, to check that each population is assigned correctly, we check that the marker genes are expressed in that populations. There might be some cases where two different populations appear as one (there are not enough cells to discern them, or they are mixed for whichever reason), or that a population is assigned despite not expressing all the markers."
   ]
  },
  {
   "cell_type": "code",
   "execution_count": null,
   "id": "a90f6ce3-a6a5-408e-8e52-e3d2e1220eaa",
   "metadata": {
    "tags": []
   },
   "outputs": [],
   "source": [
    "# 5 good genes per cell type\n",
    "# For immune cell types I used http://rstats.immgen.org/Skyline/skyline.html\n",
    "\n",
    "dict_celltypes = {'Keratinocyte $Krt5^+$': ['Krt5', 'Fgfr2', 'Lamb3', 'Col7a1', 'Gm17851'], \n",
    "                  'Keratinocyte $Krt10^+$': ['Krt10', 'Krt1', 'Them5', 'Endou', 'Klk8'],  # Spninous\n",
    "                  'Keratinocyte $Lor^+$': ['Lor', 'Nccrp1', 'Trex2', 'Lce1a1', 'Lce1b'],  # Granular\n",
    "                  'Keratinocyte $Tbx1^+$': ['Dusp6', 'Slc7a8', 'Tbx1', 'Shisa2', 'Ucp2'],\n",
    "                  'Keratinocyte $Krt28^+$': ['Krt28','Dlx3', 'Krt25', 'Krt27', 'Krt71'],\n",
    "                  'Keratinocyte $Krt75^+$': ['Gjb2', 'Wnt11', 'Krt75', 'Fzd5', 'Fads3'],\n",
    "                  'Keratinocyte $Defb6^+$': ['Krt79', 'Defb6', 'Atp6v1c2', 'Nebl', 'Teddm3'],\n",
    "                  'Keratinocyte $Anln^+$': ['Anln', 'Prc1', 'Cdk1', 'Cenpf', 'Dnph1'],\n",
    "                  'Keratinocyte $Cidea^+$': ['Cidea', 'Ldhb', 'Aadac', 'Bex1', 'Pparg'],\n",
    "                  # 'Fibroblast': ['Lum', 'Pdgfra', 'Mfap2', 'Mfap5', 'Clec3b'],\n",
    "                  'Fibroblast $Cxcl12^+$': ['Cxcl12', 'Htra3', 'C1s1', 'Lol', 'Cygb'],\n",
    "                  'Fibroblast $Thbs4^+$': ['Thbs4', 'Spon2', 'Fmod', 'Ptgis', 'Cilp2'],\n",
    "                  'Fibroblast $Cxcl1^+$': ['Cxcl1', 'Tnfaip6', 'Ccl7', 'Has1', 'Cxcl10'],\n",
    "                  'Fibroblast $Clec3b^+$': ['Clec3b', 'Fbn1', 'Pi16', 'Scara5', 'Ugp2'],\n",
    "                  'Fibroblast $Col8a1^+$': ['Col8a1', 'Eid1', 'Arap1', 'Gpr153', 'Igfbp2'],\n",
    "                  'Fibroblast $Coch^+$': ['Coch', 'Crabp1', 'Fbn2', 'Emid1', 'Wfdc1'],                  \n",
    "                  'Fibroblast $Rab37^+$': ['Rab37', 'Col22a1', 'F13a1', 'Htra4', 'Tspan15'],\n",
    "                  'Fibroblast $Chf^+$': ['Cfh', 'Alpl', 'Lifr', 'Sp7', 'Spp1'],\n",
    "                  'Fibroblast $Ptgs2^+$': ['Il1rl1', 'Ptgs2', 'Nr4a2', 'Gxylt2', 'Lum'],\n",
    "                  'Fibroblast $Serpine2^+$': ['Serpine2', 'Shox2', 'Wif1', 'Gm48159', 'Col23a1'],\n",
    "                  'Chondrogenic fibroblast': ['Col9a1', 'Col9a2', 'Scrg1', 'Hapln1', 'Trpv4'],\n",
    "                  'Vascular endothelial cell': ['Pecam1', 'Cldn5', 'Cdh5', 'Ptprb', 'Tie1'],\n",
    "                  'Lymphatic endothelial cell': ['Mmrn1', 'Ccl21a', 'Prox1', 'Lyve1', 'Flt4'],\n",
    "                  'Perivascular cell $Inpp4b^+$': ['Rgs5', 'Myh11', 'Aoc3', 'Inpp4b', 'Mrvi1'],\n",
    "                  'Perivascular cell $Il6^+$': ['Rgs5', 'Myh11', 'Il6', 'Procr', 'Ngf'],\n",
    "                  'Schwann cell': ['Prx', 'Mbp', 'Mpz', 'Ncmap', 'Cldn19'], \n",
    "                  'Glial cell': ['Gfra3', 'Plp1', 'Scn7a', 'Cdh19', 'Adam23'],  \n",
    "                  'Melanocyte': ['Pmel', 'Mlana', 'Dct'],\n",
    "                  'Skeletal muscle': ['Msc', 'Myod1', 'Cdh15', 'Peg3', 'Dag1'], \n",
    "                  'Red blood cell': ['Hba-a1', 'Hbb-bt', 'Hbb-bs', 'Car2', 'Rhd'],\n",
    "                  'T cell': ['Cd3d', 'Cd3e', 'Ifngr1', 'Klf2', 'Cd27'],\n",
    "                  'T cell (ILC/gd)?': ['Cd7', 'Cd3e', 'Ctsw', 'Cd3d', 'Cd3g'],\n",
    "                  'B cell': ['Rrm2', 'Rpa3', 'Cd79b', 'Dntt', 'Cd79a'],\n",
    "                  'Plasma cell': ['Ighm', 'Igkc', 'Cd79b', 'Iglc1', 'Iglc2'],\n",
    "                  'NK cell': ['Cd3d', 'Cd3e', 'Nkg7', 'Klrk1', 'Trdv4'],\n",
    "                  'Macrophage': ['C1qa', 'C1qc', 'Wfdc17', 'Pf4', 'Folr2'],\n",
    "                  'Monocyte': ['Wfdc17', 'Csf1r', 'F10', 'Ly6c2', 'Gsr'],\n",
    "                  'Neutrophil': ['S100a8', 'S100a9', 'Camp', 'Ltf', 'Chil3'],\n",
    "                  'Neutrophil*': ['S100a9', 'Acod1', 'Il1f9', 'Rhov', 'Stfa2l1'],\n",
    "                  'Dendritic cell': ['Cd209a', 'Irf5', 'Plbd1', 'Aif1', 'Cd209d'],\n",
    "                  'Langerhans cell': ['Cd207', 'Mfge8', 'Cd74', 'Il1r2', 'Tnfaip2'],\n",
    "                  'Mast cell': ['Cpa3', 'Cyp11a1', 'Cma1', 'Mcpt4', 'Tpsb2']\n",
    "                  }"
   ]
  },
  {
   "cell_type": "markdown",
   "id": "8e33d133-435f-4350-bcde-324f55131e04",
   "metadata": {},
   "source": [
    "### WT1"
   ]
  },
  {
   "cell_type": "code",
   "execution_count": null,
   "id": "8deb0754-35a9-4b42-8466-a1ed12a82442",
   "metadata": {
    "tags": []
   },
   "outputs": [],
   "source": [
    "adata_WT1 = adata_all[adata_all.obs['batch'] == 'WT1']\n",
    "sc.pp.filter_genes(adata_WT1, min_counts=1)\n",
    "\n",
    "sc.pp.pca(adata_WT1, random_state=seed, n_comps=30)\n",
    "sc.pp.neighbors(adata_WT1, random_state=seed, n_neighbors=int(0.5 * len(adata_WT1) ** 0.5), metric='cosine')\n",
    "tk.tl.triku(adata_WT1, use_raw=False)\n",
    "\n",
    "sc.tl.umap(adata_WT1, min_dist=0.3, random_state=seed)\n",
    "sc.tl.leiden(adata_WT1, resolution=13, random_state=seed)\n",
    "\n",
    "assign_cats(adata_WT1, dict_cats=dict_celltypes, min_score=0.4, quantile_gene_sel=0.7, key_added='cell_type')\n",
    "adata_WT1 = adata_WT1[adata_WT1.obs['cell_type'] != 'Red blood cell']\n",
    "\n",
    "sc.pp.subsample(adata_WT1, fraction=1, random_state=seed, copy=False)\n",
    "sc.pl.umap(adata_WT1, color=['log1p_n_genes_by_counts', 'leiden',], alpha=0.5, ncols=3, legend_loc='on data')\n",
    "sc.pl.umap(adata_WT1, color=['cell_type'], ncols=3)"
   ]
  },
  {
   "cell_type": "code",
   "execution_count": null,
   "id": "af560a6d-02e6-4150-935e-8ab7b1a15e60",
   "metadata": {
    "scrolled": true,
    "tags": []
   },
   "outputs": [],
   "source": [
    "for key, val in dict_celltypes.items():\n",
    "    print(key)\n",
    "    sc.pl.umap(adata_WT1, color=['cell_type'] + [i for i in val if i in adata_WT1.var_names], legend_loc='on data', cmap=magma, use_raw=False, ncols=4) "
   ]
  },
  {
   "cell_type": "markdown",
   "id": "b288814f-131f-40c9-8595-0230a2b424c0",
   "metadata": {},
   "source": [
    "### WT2"
   ]
  },
  {
   "cell_type": "code",
   "execution_count": null,
   "id": "48a568a9-716a-4fea-b454-1321ed721e50",
   "metadata": {
    "tags": []
   },
   "outputs": [],
   "source": [
    "adata_WT2 = adata_all[adata_all.obs['batch'] == 'WT2']\n",
    "sc.pp.filter_genes(adata_WT2, min_counts=1)\n",
    "\n",
    "sc.pp.pca(adata_WT2, random_state=seed, n_comps=50)\n",
    "sc.pp.neighbors(adata_WT2, random_state=seed, n_neighbors=int(0.5 * len(adata_WT2) ** 0.5), metric='cosine')\n",
    "tk.tl.triku(adata_WT2, use_raw=False)\n",
    "\n",
    "sc.tl.umap(adata_WT2, min_dist=0.3, random_state=seed)\n",
    "sc.tl.leiden(adata_WT2, resolution=13, random_state=seed)\n",
    "\n",
    "assign_cats(adata_WT2, dict_cats=dict_celltypes, min_score=0.45, quantile_gene_sel=0.75, key_added='cell_type')\n",
    "adata_WT2 = adata_WT2[adata_WT2.obs['cell_type'] != 'Red blood cell']\n",
    "\n",
    "\n",
    "sc.pp.subsample(adata_WT2, fraction=1, random_state=seed, copy=False)\n",
    "sc.pl.umap(adata_WT2, color=['log1p_n_genes_by_counts', 'leiden'], alpha=0.5, ncols=2, legend_loc='on data')\n",
    "sc.pl.umap(adata_WT2, color=['cell_type'], ncols=2, cmap=magma)"
   ]
  },
  {
   "cell_type": "code",
   "execution_count": null,
   "id": "48e37d20-00ab-47cc-afc9-bd37d8aeaf3f",
   "metadata": {
    "scrolled": true,
    "tags": []
   },
   "outputs": [],
   "source": [
    "for key, val in dict_celltypes.items():\n",
    "    print(key)\n",
    "    sc.pl.umap(adata_WT2, color=['cell_type'] + [i for i in val if i in adata_WT2.var_names], legend_loc='on data', cmap=magma, use_raw=False, ncols=4) "
   ]
  },
  {
   "cell_type": "markdown",
   "id": "577fcf75-3898-46f0-86b7-b688a9124937",
   "metadata": {},
   "source": [
    "### KO1"
   ]
  },
  {
   "cell_type": "code",
   "execution_count": null,
   "id": "e3b33926-20e3-4bfa-ad60-2f5a4b2824d3",
   "metadata": {
    "tags": []
   },
   "outputs": [],
   "source": [
    "adata_KOD11 = adata_all[adata_all.obs['batch'] == 'KO1']\n",
    "sc.pp.filter_genes(adata_KOD11, min_counts=1)\n",
    "\n",
    "sc.pp.pca(adata_KOD11, random_state=seed, n_comps=50)\n",
    "sc.pp.neighbors(adata_KOD11, random_state=seed, n_neighbors=int(0.5 * len(adata_KOD11) ** 0.5), metric='cosine')\n",
    "tk.tl.triku(adata_KOD11, use_raw=False)\n",
    "\n",
    "sc.tl.umap(adata_KOD11, min_dist=0.3, random_state=seed)\n",
    "sc.tl.leiden(adata_KOD11, resolution=11, random_state=seed)\n",
    "\n",
    "assign_cats(adata_KOD11, dict_cats=dict_celltypes, min_score=0.4, quantile_gene_sel=0.7, key_added='cell_type')\n",
    "adata_KOD11 = adata_KOD11[adata_KOD11.obs['cell_type'] != 'Red blood cell']\n",
    "\n",
    "sc.pp.subsample(adata_KOD11, fraction=1, random_state=seed, copy=False)\n",
    "sc.pl.umap(adata_KOD11, color=['log1p_n_genes_by_counts', 'leiden',], alpha=0.5, ncols=3, legend_loc='on data')\n",
    "sc.pl.umap(adata_KOD11, color=['cell_type'], ncols=3)"
   ]
  },
  {
   "cell_type": "code",
   "execution_count": null,
   "id": "cea74434-689f-4960-a8f9-4c5ea6e483b5",
   "metadata": {
    "scrolled": true,
    "tags": []
   },
   "outputs": [],
   "source": [
    "for key, val in dict_celltypes.items():\n",
    "    print(key)\n",
    "    sc.pl.umap(adata_KOD11, color=['cell_type'] + [i for i in val if i in adata_KOD11.var_names], legend_loc='on data', cmap=magma, use_raw=False, ncols=4) "
   ]
  },
  {
   "cell_type": "markdown",
   "id": "14cc7d4e-d7eb-4cf8-b52c-444f9b4461b8",
   "metadata": {},
   "source": [
    "### KO2"
   ]
  },
  {
   "cell_type": "code",
   "execution_count": null,
   "id": "bdde6b32-cf66-40a3-ad8f-507145c24693",
   "metadata": {
    "tags": []
   },
   "outputs": [],
   "source": [
    "adata_KOD12 = adata_all[adata_all.obs['batch'] == 'KO2']\n",
    "sc.pp.filter_genes(adata_KOD12, min_counts=1)\n",
    "\n",
    "sc.pp.pca(adata_KOD12, random_state=seed, n_comps=35)\n",
    "sc.pp.neighbors(adata_KOD12, random_state=seed, n_neighbors=int(0.5 * len(adata_KOD12) ** 0.5), metric='cosine')\n",
    "tk.tl.triku(adata_KOD12, use_raw=False)\n",
    "\n",
    "sc.tl.umap(adata_KOD12, min_dist=0.5, random_state=seed)\n",
    "sc.tl.leiden(adata_KOD12, resolution=13, random_state=seed)\n",
    "\n",
    "assign_cats(adata_KOD12, dict_cats=dict_celltypes, min_score=0.6, quantile_gene_sel=0.8, key_added='cell_type')\n",
    "adata_KOD12 = adata_KOD12[adata_KOD12.obs['cell_type'] != 'Red blood cell']\n",
    "\n",
    "sc.pp.subsample(adata_KOD12, fraction=1, random_state=seed, copy=False)\n",
    "sc.pl.umap(adata_KOD12, color=['log1p_n_genes_by_counts', 'leiden',], alpha=0.5, ncols=3, legend_loc='on data')\n",
    "sc.pl.umap(adata_KOD12, color=['cell_type'], ncols=3)"
   ]
  },
  {
   "cell_type": "code",
   "execution_count": null,
   "id": "60e2f26f-41a7-4dce-b6bf-f9126d78684d",
   "metadata": {
    "scrolled": true,
    "tags": []
   },
   "outputs": [],
   "source": [
    "for key, val in dict_celltypes.items():\n",
    "    print(key)\n",
    "    sc.pl.umap(adata_KOD12, color=['cell_type'] + [i for i in val if i in adata_KOD12.var_names], legend_loc='on data', cmap=magma, use_raw=False, ncols=4) "
   ]
  },
  {
   "cell_type": "markdown",
   "id": "6d354d36-38b5-43be-b174-f77ef251f954",
   "metadata": {},
   "source": [
    "## Comparison of clusters\n",
    "\n",
    "This part shows which automatically-assigned populations appear within is samples. **Caution: some non-appearing populations may appear, but are too small**."
   ]
  },
  {
   "cell_type": "code",
   "execution_count": null,
   "id": "2f716ce8-3c45-4b14-8021-7d3dca27e0c3",
   "metadata": {
    "tags": []
   },
   "outputs": [],
   "source": [
    "isincelltype = pd.DataFrame('', index=sorted(dict_celltypes.keys()), columns=prefixes)"
   ]
  },
  {
   "cell_type": "code",
   "execution_count": null,
   "id": "f04e7282-2264-4b6c-a0cf-67f9e8381858",
   "metadata": {
    "tags": []
   },
   "outputs": [],
   "source": [
    "for ct in isincelltype.index:\n",
    "    for prefix in isincelltype.columns:\n",
    "        if ct in set(eval(f'adata_{prefix}').obs['cell_type']):\n",
    "            isincelltype.loc[ct, prefix] = 'x'"
   ]
  },
  {
   "cell_type": "code",
   "execution_count": null,
   "id": "bd316c47-2b84-4af4-9a29-e9c4579ec5c5",
   "metadata": {
    "tags": []
   },
   "outputs": [],
   "source": [
    "isincelltype"
   ]
  },
  {
   "cell_type": "markdown",
   "id": "1b494c87-3b42-45c8-a328-867955a9e928",
   "metadata": {},
   "source": [
    "### Adding cell types"
   ]
  },
  {
   "cell_type": "code",
   "execution_count": null,
   "id": "4ded35ca-a316-4903-aaac-cd7cbb658b78",
   "metadata": {
    "tags": []
   },
   "outputs": [],
   "source": [
    "series = pd.Series(index = adata_all.obs_names)\n",
    "\n",
    "series.loc[adata_WT1.obs_names] = adata_WT1.obs['cell_type']\n",
    "series.loc[adata_WT2.obs_names] = adata_WT2.obs['cell_type']\n",
    "series.loc[adata_KOD11.obs_names] = adata_KOD11.obs['cell_type']\n",
    "series.loc[adata_KOD12.obs_names] = adata_KOD12.obs['cell_type']\n",
    "\n",
    "adata_all.obs['cell_type'] = series\n",
    "\n",
    "print(len(adata_all))\n",
    "adata_all = adata_all[np.array([i !='nan' for i in adata_all.obs['cell_type'].values.astype(str)])].copy() # REMOVE RBC!!!!!!\n",
    "print(len(adata_all))\n",
    "\n",
    "sc.pp.filter_genes(adata_all, min_counts=1)"
   ]
  },
  {
   "cell_type": "markdown",
   "id": "4949f1c4-ee8b-46b4-bc45-2bc5b98bdcbc",
   "metadata": {},
   "source": [
    "## WT dataset analysis\n",
    "\n",
    "We are going to join the populations using `harmony`. We also tried `bbknn` and `scnaorama`, but `harmony` yielded the best results."
   ]
  },
  {
   "cell_type": "code",
   "execution_count": null,
   "id": "71039710-dce0-4ec5-9886-e1a9d0a12ba8",
   "metadata": {
    "tags": []
   },
   "outputs": [],
   "source": [
    "adata_WT_harmony = adata_all[adata_all.obs['batch'].isin(['WT1', 'WT2'])]\n",
    "sc.pp.filter_genes(adata_WT_harmony, min_counts=1)"
   ]
  },
  {
   "cell_type": "code",
   "execution_count": null,
   "id": "97ac6d92-56fd-45c1-8c59-6c9b8db72046",
   "metadata": {
    "tags": []
   },
   "outputs": [],
   "source": [
    "sc.pp.pca(adata_WT_harmony, random_state=seed, n_comps=50)\n",
    "sce.pp.harmony_integrate(adata_WT_harmony, key='batch', max_iter_harmony=50, plot_convergence=True)\n",
    "sc.pp.neighbors(adata_WT_harmony, random_state=seed, n_neighbors=int(len(adata_WT_harmony) ** 0.5), metric='cosine', use_rep='X_pca_harmony')\n",
    "tk.tl.triku(adata_WT_harmony, use_raw=False)"
   ]
  },
  {
   "cell_type": "code",
   "execution_count": null,
   "id": "217686f7-de49-4479-a6bb-b9ff563dbc67",
   "metadata": {
    "tags": []
   },
   "outputs": [],
   "source": [
    "sc.tl.umap(adata_WT_harmony, min_dist=0.5, random_state=seed)\n",
    "sc.tl.leiden(adata_WT_harmony, resolution=0.5, random_state=seed)"
   ]
  },
  {
   "cell_type": "code",
   "execution_count": null,
   "id": "08f45f55-2059-4bb4-9804-0e056c2cf006",
   "metadata": {
    "tags": []
   },
   "outputs": [],
   "source": [
    "sc.pp.subsample(adata_WT_harmony, fraction=1, random_state=seed, copy=False)\n",
    "sc.pl.umap(adata_WT_harmony, color=['batch', 'log1p_n_genes_by_counts', 'leiden', 'cell_type'], ncols=2, alpha=0.5)"
   ]
  },
  {
   "cell_type": "code",
   "execution_count": null,
   "id": "9bd13c1f-76b7-44cc-a6ec-c8cce5c50877",
   "metadata": {
    "tags": []
   },
   "outputs": [],
   "source": [
    "sc.pl.umap(adata_WT_harmony, color=['cell_type'], ncols=2, legend_loc='on data')"
   ]
  },
  {
   "cell_type": "markdown",
   "id": "a7908833-a60b-4ed3-b428-23c520fa2598",
   "metadata": {},
   "source": [
    "We see that there is a fair integration of WT1 and WT2. WT1 seems to have more RBC and Neutrophils compared to WT2, but nothing really special."
   ]
  },
  {
   "cell_type": "markdown",
   "id": "67f92725-bb3e-4ece-ad00-886b07dfc634",
   "metadata": {},
   "source": [
    "## KOD dataset analysis"
   ]
  },
  {
   "cell_type": "code",
   "execution_count": null,
   "id": "9a97ab9c-a6f8-4461-983b-7288c602d00f",
   "metadata": {
    "tags": []
   },
   "outputs": [],
   "source": [
    "adata_KOD_harmony = adata_all[adata_all.obs['batch'].isin(['KO1', 'KO2'])]\n",
    "sc.pp.filter_genes(adata_KOD_harmony, min_counts=1)"
   ]
  },
  {
   "cell_type": "code",
   "execution_count": null,
   "id": "7c144a68-c25d-488f-ac0f-bc08ecc2f340",
   "metadata": {
    "tags": []
   },
   "outputs": [],
   "source": [
    "sc.pp.pca(adata_KOD_harmony, random_state=seed, n_comps=50)\n",
    "sce.pp.harmony_integrate(adata_KOD_harmony, key='batch', max_iter_harmony=50, plot_convergence=True)\n",
    "sc.pp.neighbors(adata_KOD_harmony, random_state=seed, n_neighbors=int(0.5 * len(adata_KOD_harmony) ** 0.5), metric='cosine', use_rep='X_pca_harmony')\n",
    "tk.tl.triku(adata_KOD_harmony, use_raw=False)"
   ]
  },
  {
   "cell_type": "code",
   "execution_count": null,
   "id": "3a34036b-b100-4908-bcd3-b44036ff7f61",
   "metadata": {
    "tags": []
   },
   "outputs": [],
   "source": [
    "sc.tl.umap(adata_KOD_harmony, min_dist=0.4, random_state=seed)\n",
    "sc.tl.leiden(adata_KOD_harmony, resolution=1.3, random_state=seed)"
   ]
  },
  {
   "cell_type": "code",
   "execution_count": null,
   "id": "006f42ec-3dd0-4ec3-b43d-55fcfcee2b01",
   "metadata": {
    "tags": []
   },
   "outputs": [],
   "source": [
    "sc.pl.umap(adata_KOD_harmony, color=['batch', 'log1p_n_genes_by_counts', 'leiden', 'cell_type'], ncols=2, alpha=0.5)"
   ]
  },
  {
   "cell_type": "code",
   "execution_count": null,
   "id": "a5135e6e-5eb2-4f54-bad5-d0d3d35c1a41",
   "metadata": {
    "tags": []
   },
   "outputs": [],
   "source": [
    "sc.pl.umap(adata_KOD_harmony, color=['cell_type'], ncols=2, legend_loc='on data')"
   ]
  },
  {
   "cell_type": "markdown",
   "id": "6be63657-837a-47e5-8c38-c859ac134b45",
   "metadata": {},
   "source": [
    "KOD11 seems to integrate worse with KOD12 than WT1 with WT2. KOD12 seems to have more RBCs, whereas KOD11 shows a greater numer of fibroblasts, and fewer keratinocyte populations."
   ]
  },
  {
   "cell_type": "markdown",
   "id": "942db576-d506-4be0-83e1-07e5cfb510c0",
   "metadata": {},
   "source": [
    "## Whole dataset analysis"
   ]
  },
  {
   "cell_type": "code",
   "execution_count": null,
   "id": "a4fdb964-aefa-42ca-ac66-31cbfa14f193",
   "metadata": {
    "tags": []
   },
   "outputs": [],
   "source": [
    "adata_all_harmony = adata_all.copy()\n",
    "sc.pp.pca(adata_all_harmony, random_state=seed, n_comps=30)\n",
    "sce.pp.harmony_integrate(adata_all_harmony, key='batch', max_iter_harmony=50, plot_convergence=True, sigma=0.05)\n",
    "sc.pp.neighbors(adata_all_harmony, random_state=seed, n_neighbors=int(0.2 * len(adata_all_harmony) ** 0.5), metric='cosine', use_rep='X_pca_harmony')\n",
    "tk.tl.triku(adata_all_harmony, use_raw=False)\n",
    "\n",
    "sc.tl.umap(adata_all_harmony, min_dist=0.7, random_state=seed)\n",
    "\n",
    "sc.tl.leiden(adata_all_harmony, resolution=4, random_state=seed)\n",
    "assign_cats(adata_all_harmony, dict_cats=dict_celltypes, min_score=0.6, quantile_gene_sel=0.8, key_added='cell_type_whole')\n",
    "\n",
    "# sc.pp.subsample(adata_all_harmony, fraction=1, random_state=seed, copy=False)\n",
    "# sc.pl.umap(adata_all_harmony, color=['batch', 'status', 'log1p_n_genes_by_counts', 'leiden', 'cell_type', 'cell_type_whole'], alpha=0.5, ncols=2)\n",
    "# sc.pl.umap(adata_all_harmony, color=[f'is_{prefix}' for prefix in prefixes], alpha=0.5, ncols=2)"
   ]
  },
  {
   "cell_type": "code",
   "execution_count": null,
   "id": "c30a1047-f926-49f2-abf7-a379fc8fc359",
   "metadata": {
    "tags": []
   },
   "outputs": [],
   "source": [
    "sc.pl.umap(adata_all_harmony, color=['cell_type', 'cell_type_whole', 'leiden'], alpha=0.7, ncols=1)"
   ]
  },
  {
   "cell_type": "markdown",
   "id": "91019969-3e56-4672-9838-1abd1375f664",
   "metadata": {},
   "source": [
    "### Analysis of positive results"
   ]
  },
  {
   "cell_type": "code",
   "execution_count": null,
   "id": "9ef6ed9d-293b-41bf-9e87-36996728b268",
   "metadata": {
    "tags": []
   },
   "outputs": [],
   "source": [
    "# IL1RL1 population\n",
    "# The protein encoded by this gene is a member of the interleukin 1 receptor family. \n",
    "# Studies of the similar gene in mouse suggested that this receptor can be induced by proinflammatory stimuli, \n",
    "# and may be involved in the function of helper T cells.\n",
    "\n",
    "sc.pl.umap(adata_all_harmony, color=['batch', 'cell_type', 'Il1rl1'], alpha=0.5, ncols=2, cmap=magma)\n",
    "sc.pl.umap(adata_all_harmony, color=[f'is_{prefix}' for prefix in prefixes], alpha=0.5, ncols=4)\n",
    "\n",
    "sc.pl.umap(adata_WT1, color=['Il1rl1', 'cell_type'], cmap=magma, use_raw=False, ncols=4) \n",
    "sc.pl.umap(adata_WT2, color=['Il1rl1', 'cell_type'], cmap=magma, use_raw=False, ncols=4) \n",
    "sc.pl.umap(adata_KOD11, color=['Il1rl1', 'cell_type'], cmap=magma, use_raw=False, ncols=4) \n",
    "sc.pl.umap(adata_KOD12, color=['Il1rl1', 'cell_type'], cmap=magma, use_raw=False, ncols=4) "
   ]
  },
  {
   "cell_type": "code",
   "execution_count": null,
   "id": "065769c7-05b1-4dcc-b6e0-40eb3833a3d8",
   "metadata": {
    "tags": []
   },
   "outputs": [],
   "source": [
    "# Neutrophil and * population\n",
    "\n",
    "sc.pl.umap(adata_all_harmony, color=['batch', 'cell_type', 'S100a9', 'Acod1', 'Il1f9', 'Rhov'], alpha=0.5, ncols=2, cmap=magma)\n",
    "sc.pl.umap(adata_all_harmony, color=[f'is_{prefix}' for prefix in prefixes], alpha=0.5, ncols=4)\n",
    "\n",
    "list_per = []\n",
    "for adata in prefixes:\n",
    "    a = len(eval(f'adata_{adata}')[eval(f'adata_{adata}').obs['cell_type'].isin(['Neutrophil', 'Neutrophil*'])])\n",
    "    b = len(eval(f'adata_{adata}'))\n",
    "    list_per.append(100 * a / b)\n",
    "\n",
    "df = pd.DataFrame({'x': prefixes, 'y': list_per})\n",
    "\n",
    "fig,ax = plt.subplots(1, 1, figsize=(4, 1))\n",
    "sns.barplot(x='x', y='y', data=df, ax=ax)"
   ]
  },
  {
   "cell_type": "code",
   "execution_count": null,
   "id": "51f76ad2-765a-4169-bdff-dcb457896c9b",
   "metadata": {
    "tags": []
   },
   "outputs": [],
   "source": [
    "# NK cells\n",
    "\n",
    "sc.pl.umap(adata_all_harmony, color=['batch', 'cell_type', 'Cd3d', 'Nkg7', 'Trdv4'], alpha=0.5, ncols=2, cmap=magma)\n",
    "sc.pl.umap(adata_all_harmony, color=[f'is_{prefix}' for prefix in prefixes], alpha=0.5, ncols=4)\n",
    "\n",
    "list_per = []\n",
    "for adata in prefixes:\n",
    "    a = len(eval(f'adata_{adata}')[eval(f'adata_{adata}').obs['cell_type'].isin(['NK cell', 'T cell', 'T cell (ILC/gd)?'])])\n",
    "    b = len(eval(f'adata_{adata}'))\n",
    "    list_per.append(100 * a / b)\n",
    "\n",
    "df = pd.DataFrame({'x': prefixes, 'y': list_per})\n",
    "\n",
    "fig,ax = plt.subplots(1, 1, figsize=(4, 1))\n",
    "sns.barplot(x='x', y='y', data=df, ax=ax)"
   ]
  },
  {
   "cell_type": "markdown",
   "id": "8af6aa06-a7a9-4932-b07d-dd968d28643a",
   "metadata": {},
   "source": [
    "## Analysis of Macrophage populations"
   ]
  },
  {
   "cell_type": "code",
   "execution_count": null,
   "id": "c99533ee-7a78-49da-a0cd-1d684d270ea1",
   "metadata": {
    "tags": []
   },
   "outputs": [],
   "source": [
    "adata_all_harmony_mono_macro = adata_all_harmony[adata_all_harmony.obs['cell_type'].isin(['Monocyte', 'Macrophage'])]\n",
    "\n",
    "sc.pp.filter_genes(adata_all_harmony_mono_macro, min_cells=5)\n",
    "sc.pp.pca(adata_all_harmony_mono_macro, random_state=seed, n_comps=30)\n",
    "sce.pp.harmony_integrate(adata_all_harmony_mono_macro, key='batch', max_iter_harmony=50, plot_convergence=True, sigma=0.05)\n",
    "sc.pp.neighbors(adata_all_harmony_mono_macro, random_state=seed, n_neighbors=int(len(adata_all_harmony_mono_macro) ** 0.5), metric='cosine', use_rep='X_pca_harmony')\n",
    "tk.tl.triku(adata_all_harmony_mono_macro, use_raw=False)\n",
    "\n",
    "sc.tl.umap(adata_all_harmony_mono_macro, min_dist=0.3, random_state=seed)\n",
    "sc.tl.leiden(adata_all_harmony_mono_macro, resolution=1.3, random_state=seed)\n",
    "\n",
    "sc.pp.subsample(adata_all_harmony_mono_macro, fraction=1, random_state=seed, copy=False)\n",
    "sc.pl.umap(adata_all_harmony_mono_macro, color=['batch', 'status', 'log1p_n_genes_by_counts', 'leiden', 'cell_type'], alpha=0.5, ncols=2)\n",
    "sc.pl.umap(adata_all_harmony_mono_macro, color=[f'is_{prefix}' for prefix in prefixes], alpha=0.5, ncols=2)"
   ]
  },
  {
   "cell_type": "markdown",
   "id": "1ae93957-e27f-487a-8870-7348be857f59",
   "metadata": {},
   "source": [
    "# Adata saving"
   ]
  },
  {
   "cell_type": "code",
   "execution_count": null,
   "id": "2dc4cab7-7940-40cc-a6f8-11a0b683ae62",
   "metadata": {
    "tags": []
   },
   "outputs": [],
   "source": [
    "adata_all_harmony.write_h5ad('adatas/adata_all_harmony.h5')"
   ]
  },
  {
   "cell_type": "code",
   "execution_count": null,
   "id": "771b05af-2b41-4bf2-9da2-9726d6954f89",
   "metadata": {},
   "outputs": [],
   "source": []
  }
 ],
 "metadata": {
  "kernelspec": {
   "display_name": "Python [conda env:alex-base] *",
   "language": "python",
   "name": "conda-env-alex-base-py"
  },
  "language_info": {
   "codemirror_mode": {
    "name": "ipython",
    "version": 3
   },
   "file_extension": ".py",
   "mimetype": "text/x-python",
   "name": "python",
   "nbconvert_exporter": "python",
   "pygments_lexer": "ipython3",
   "version": "3.8.0"
  }
 },
 "nbformat": 4,
 "nbformat_minor": 5
}
