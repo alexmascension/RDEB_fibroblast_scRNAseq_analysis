{
 "cells": [
  {
   "cell_type": "markdown",
   "id": "aa781ea4-1ef8-4bd8-b09d-1e513ed2c212",
   "metadata": {},
   "source": [
    "# Yanling single-cell analysis"
   ]
  },
  {
   "cell_type": "code",
   "execution_count": null,
   "id": "beec4b87-e7ae-42fb-a135-12bb7617dfea",
   "metadata": {
    "tags": []
   },
   "outputs": [],
   "source": [
    "from cellassign import assign_cats\n",
    "import gzip\n",
    "import itertools as itl\n",
    "import matplotlib.pyplot as plt\n",
    "import matplotlib as mpl\n",
    "import numpy as np\n",
    "import os\n",
    "import pandas as pd\n",
    "import scanpy as sc\n",
    "import scanpy.external as sce\n",
    "import seaborn as sns\n",
    "import triku as tk"
   ]
  },
  {
   "cell_type": "code",
   "execution_count": null,
   "id": "5a10c22a-06f0-41a0-b87e-9762735064a2",
   "metadata": {
    "tags": []
   },
   "outputs": [],
   "source": [
    "from scipy.stats import chi2_contingency"
   ]
  },
  {
   "cell_type": "code",
   "execution_count": null,
   "id": "965d7745-46a9-480c-9c08-4f0630f09114",
   "metadata": {
    "tags": []
   },
   "outputs": [],
   "source": [
    "# Palettes for UMAP gene expression\n",
    "\n",
    "magma = [plt.get_cmap('magma')(i) for i in np.linspace(0,1, 80)]\n",
    "magma[0] = (0.88, 0.88, 0.88, 1)\n",
    "magma = mpl.colors.LinearSegmentedColormap.from_list(\"\", magma[:65])"
   ]
  },
  {
   "cell_type": "code",
   "execution_count": null,
   "id": "3b5fc60d-a00c-4a00-ab55-829a8c481c3b",
   "metadata": {
    "tags": []
   },
   "outputs": [],
   "source": [
    "mpl.rcParams['figure.dpi'] = 200"
   ]
  },
  {
   "cell_type": "code",
   "execution_count": null,
   "id": "d8f6ae2a-c403-443b-be5e-0cb5a338742b",
   "metadata": {
    "tags": []
   },
   "outputs": [],
   "source": [
    "def plot_batch_abundance(adatax, plot_status=False):\n",
    "    samples, clusters, list_prop = sorted(dict.fromkeys(adatax.obs['batch'])), sorted(dict.fromkeys(adatax.obs['leiden'])), []\n",
    "    product = itl.product(*[samples, clusters])\n",
    "\n",
    "    correction_factor = {sample: len(adatax)/(len(samples) * np.sum(adatax.obs['batch'] == sample)) for sample in samples}\n",
    "\n",
    "    for sample, cluster in product:\n",
    "        list_prop.append(correction_factor[sample] * \n",
    "                         len(adatax[(adatax.obs['leiden'] == cluster) & (adatax.obs['batch'] == sample)])/\n",
    "                         len(adatax[adatax.obs['leiden'] == cluster]))\n",
    "\n",
    "    df = pd.DataFrame({'x':clusters * len(samples), 'y':list_prop, 'hue':sorted(samples * len(clusters))})\n",
    "    if plot_status:\n",
    "        df['hue_status'] = [i[0] for i in df['hue']]\n",
    "        fig, axs = plt.subplots(1, 2, figsize=(16,4))\n",
    "        sns.barplot(x='x', y='y', hue='hue', data=df, ax=axs[0])\n",
    "        sns.barplot(x='x', y='y', hue='hue_status', data=df, ax=axs[1])\n",
    "    else:\n",
    "        fig, axs = plt.subplots(1, 1, figsize=(8,4))\n",
    "        sns.barplot(x='x', y='y', hue='hue', data=df, ax=axs)"
   ]
  },
  {
   "cell_type": "code",
   "execution_count": null,
   "id": "11317b20-a2e0-4bb1-b054-6583a79e2273",
   "metadata": {},
   "outputs": [],
   "source": [
    "fastq_dir = f'{os.getcwd()}/fastq' \n",
    "mouse_gencode_dir = \"/media/seth/SETH_DATA/SETH_Alex/Programs/mouse_GRCm38_gencode.v31\""
   ]
  },
  {
   "cell_type": "code",
   "execution_count": null,
   "id": "e75a06f0-a7b0-445f-bfff-09d1cead9f67",
   "metadata": {
    "tags": []
   },
   "outputs": [],
   "source": [
    "prefixes = ['KOD11', 'KOD12', 'WT1', 'WT2']"
   ]
  },
  {
   "cell_type": "code",
   "execution_count": null,
   "id": "5d8faaf6-ec09-4261-961a-c6c9c276e346",
   "metadata": {
    "tags": []
   },
   "outputs": [],
   "source": [
    "seed = 0"
   ]
  },
  {
   "cell_type": "code",
   "execution_count": null,
   "id": "94265bb1-4073-446d-92cd-5690e1adb4a5",
   "metadata": {
    "tags": []
   },
   "outputs": [],
   "source": [
    "# def adata_plot_KOvsWT(adata, dict_names, do_return=False):\n",
    "    fig, ax = plt.subplots(2, 1, figsize=(9, 12))\n",
    "    \n",
    "    df_proportions_KO_WT = pd.DataFrame(columns=['KO', 'WT'], index=dict_names.keys())\n",
    "    df_counts_KO_WT = pd.DataFrame(columns=['KO', 'WT'], index=dict_names.keys())\n",
    "    df_pval = pd.DataFrame(columns=['p-val'], index=dict_names.keys())\n",
    "    \n",
    "    counts_KO_all = len(adata_all_harmony[adata_all_harmony.obs['condition'] == 'KO'])\n",
    "    counts_WT_all = len(adata_all_harmony[adata_all_harmony.obs['condition'] == 'WT'])\n",
    "    \n",
    "    print(f'N KO cells: {counts_KO_all}, {counts_KO_all/len(adata_all_harmony)}% | N WT cells: {counts_WT_all}, {counts_WT_all/len(adata_all_harmony)}%')\n",
    "    \n",
    "    for cell_type in dict_names.keys():\n",
    "        adata_sub = adata[adata.obs['cell_type'] == cell_type]\n",
    "        counts_KO = len(adata_sub[adata_sub.obs['condition'] == 'KO'])\n",
    "        counts_WT = len(adata_sub[adata_sub.obs['condition'] == 'WT'])\n",
    "\n",
    "        df_counts_KO_WT.loc[cell_type] = [counts_KO, counts_WT]\n",
    "        df_proportions_KO_WT.loc[cell_type] = [counts_KO/(counts_KO + counts_WT), counts_WT/(counts_KO + counts_WT)]\n",
    "        df_pval.loc[cell_type] = chi2_contingency(np.array([[counts_KO, counts_WT], [(counts_KO + counts_WT) * counts_KO_all/len(adata_all_harmony), (counts_KO + counts_WT) * counts_WT_all/len(adata_all_harmony) ]]))[1]\n",
    "        \n",
    "\n",
    "\n",
    "    idx_sort = (df_proportions_KO_WT['KO'] - df_proportions_KO_WT['WT']).sort_values(ascending=False).index\n",
    "\n",
    "\n",
    "    df_proportions_KO_WT.loc[idx_sort].plot(kind='bar', stacked=True, color=['#ff6194', '#3a98ba'], ax=ax[0])\n",
    "    df_counts_KO_WT.loc[idx_sort].plot(kind='bar', stacked=True, color=['#ff6194', '#3a98ba'], ax=ax[1])\n",
    "    \n",
    "    \n",
    "    for idx, pval in enumerate(df_pval.loc[idx_sort]['p-val'].values):\n",
    "        if 0.01 < pval < 0.05:\n",
    "            pval_txt = '*'\n",
    "        elif 0.001 < pval < 0.01:\n",
    "            pval_txt = '**'\n",
    "        elif 0.0001 < pval < 0.001:\n",
    "            pval_txt = '***'\n",
    "        elif pval < 0.0001:\n",
    "            pval_txt = '****'\n",
    "        else:\n",
    "            pval_txt = ''\n",
    "    \n",
    "        ax[0].text(idx, 1.03, pval_txt, ha='center')\n",
    "        \n",
    "        max_val = df_counts_KO_WT.loc[idx_sort].sum(1).max()\n",
    "        \n",
    "        ax[1].text(idx, df_counts_KO_WT.loc[idx_sort].sum(1).iloc[idx] + 0.03 * max_val, pval_txt, ha='center')\n",
    "    \n",
    "    ax[0].set_ylim([0, 1.1])\n",
    "    ax[1].set_ylim([0, 1.1 * max_val])\n",
    "    \n",
    "    plt.tight_layout()\n",
    "    \n",
    "    if do_return:\n",
    "        return df_proportions_KO_WT, df_counts_KO_WT, df_pval"
   ]
  },
  {
   "cell_type": "markdown",
   "id": "2245aaa6-66ce-46a7-a910-0fc7a0e2cec3",
   "metadata": {},
   "source": [
    "## Load adatas"
   ]
  },
  {
   "cell_type": "code",
   "execution_count": null,
   "id": "02ca7c57-fd25-4493-938c-a55b5de1e32b",
   "metadata": {
    "tags": []
   },
   "outputs": [],
   "source": [
    "adata_all_harmony = sc.read('adatas/adata_all_harmony.h5')"
   ]
  },
  {
   "cell_type": "code",
   "execution_count": null,
   "id": "cf69859d-afd8-4c4d-bee4-4c55f192eebf",
   "metadata": {
    "tags": []
   },
   "outputs": [],
   "source": [
    "sc.pl.umap(adata_all_harmony, color=['batch', 'condition', 'cell_type'], ncols=1)"
   ]
  },
  {
   "cell_type": "code",
   "execution_count": null,
   "id": "1e6928ce-4f57-441a-b17b-c86538ad4b40",
   "metadata": {
    "tags": []
   },
   "outputs": [],
   "source": [
    "adata_all_harmony.obs['cell_type'].cat.categories"
   ]
  },
  {
   "cell_type": "markdown",
   "id": "5f0afe75-ed19-4a6b-a052-d76e76191080",
   "metadata": {},
   "source": [
    "# Fibroblast analysis"
   ]
  },
  {
   "cell_type": "code",
   "execution_count": null,
   "id": "cb4b6595-a44a-4289-bcb9-8735d2d16fff",
   "metadata": {
    "tags": []
   },
   "outputs": [],
   "source": [
    "adata_fb = adata_all_harmony[adata_all_harmony.obs['cell_type'].isin([\n",
    "     # 'Fibroblast $Acan^+$',\n",
    "       'Fibroblast $Chf^+$', 'Fibroblast $Clec3b^+$', 'Fibroblast $Coch^+$',\n",
    "       'Fibroblast $Col8a1^+$', 'Fibroblast $Cxcl1^+$',\n",
    "       'Fibroblast $Cxcl12^+$', 'Fibroblast $Il1rl1^+$',\n",
    "       'Fibroblast $Rab37^+$', 'Fibroblast $Serpine2^+$',\n",
    "       'Fibroblast $Thbs4^+$',])]"
   ]
  },
  {
   "cell_type": "code",
   "execution_count": null,
   "id": "9d9b4296-e4e2-40c5-b9f1-348323358b2f",
   "metadata": {
    "tags": []
   },
   "outputs": [],
   "source": [
    "sc.pp.filter_genes(adata_fb, min_counts=1)"
   ]
  },
  {
   "cell_type": "code",
   "execution_count": null,
   "id": "608960c6-edcd-4ee0-8a4f-baa24191ed62",
   "metadata": {
    "tags": []
   },
   "outputs": [],
   "source": [
    "sc.pp.pca(adata_fb, random_state=seed, n_comps=50)\n",
    "sce.pp.harmony_integrate(adata_fb, key='batch', max_iter_harmony=50, plot_convergence=True)\n",
    "sc.pp.neighbors(adata_fb, random_state=seed, n_neighbors=int(len(adata_fb) ** 0.5), metric='cosine', use_rep='X_pca_harmony')\n",
    "tk.tl.triku(adata_fb)\n",
    "\n",
    "sc.pp.pca(adata_fb, random_state=seed, n_comps=50)\n",
    "sce.pp.harmony_integrate(adata_fb, key='batch', max_iter_harmony=50, plot_convergence=True)\n",
    "sc.pp.neighbors(adata_fb, random_state=seed, n_neighbors=int(len(adata_fb) ** 0.5), metric='cosine', use_rep='X_pca_harmony')"
   ]
  },
  {
   "cell_type": "code",
   "execution_count": null,
   "id": "d2a42f59-7806-436f-9aa9-4d4f13e06cc6",
   "metadata": {},
   "outputs": [],
   "source": [
    "sc.tl.umap(adata_fb)"
   ]
  },
  {
   "cell_type": "code",
   "execution_count": null,
   "id": "19ab1ecb-653f-49d9-86bb-ce01e9f62048",
   "metadata": {
    "tags": []
   },
   "outputs": [],
   "source": [
    "sc.pl.umap(adata_fb, color=['batch', 'condition', 'cell_type'], ncols=2)"
   ]
  },
  {
   "cell_type": "markdown",
   "id": "c3309958-a4a9-482a-b5fe-7092f254d4aa",
   "metadata": {},
   "source": [
    "We see that some populations (*Coch*$^+$ or *Thbs4*$^+$) are separated into two populations. We are going to separate them by finding the corresponding DEGs."
   ]
  },
  {
   "cell_type": "code",
   "execution_count": null,
   "id": "96cb6024-d47a-4b27-a606-b4d3454f7ba2",
   "metadata": {
    "tags": []
   },
   "outputs": [],
   "source": [
    "dict_fbs = {      \n",
    "                'Fibroblast $Ltbp2^+$': ['Eln', 'Thbs4', 'Ecrg4', 'Chodl', 'Edn3', 'Wnt5a', 'Cilp', 'Crabp1', 'Igfbp2', 'Ltbp2', 'Ism1', 'a', 'Slit2', 'Agt', 'Sema3a', 'Ccdc3', 'Rerg'],\n",
    "                'Fibroblast $Coch^+$': ['Coch', 'Tnmd', 'Col16a1', 'Col11a1', 'Emid1', 'Crabp1', 'Mafb', 'Fmod', 'Fbn2', 'Cxcr4', 'Gldn', 'Ogn', 'Kera', 'Wfdc1', 'Hs3st6', 'Pi16', 'Ntn5', 'Trib2'],\n",
    "                'Fibroblast $Cilp2^+$': ['Fmod', 'Comp', 'Tnmd', 'Cilp2', 'Ecrg4', 'Kera', 'Acan', 'Scx', 'Fibin', 'Chad', 'Egfl6', 'Tspan2'], \n",
    "                'Fibroblast $Higda^+$': ['Ldha', 'Higda', 'Mt2', 'Ero1l', 'Prg4', 'Mpp6', 'Rnf126', 'Pfkp', 'nip3', 'Slc7a2', 'Rcan1'],\n",
    "                'Fibroblast $Cxcl12^+$': ['Cxcl12', 'Htra3', 'C1s1', 'Lol', 'Cygb', 'Ly6a', 'Plac9b', 'Lpl', 'Gpc3', 'Ccl19', 'Itm2a', 'Cpxm1', 'Efemp1', 'H19', 'Zim1'],\n",
    "                'Fibroblast $Cxcl1^+$': ['Cxcl1', 'Tnfaip6', 'Ccl7', 'Has1', 'Cxcl10', 'Ccl2', 'Cxcl2', 'Gfpt2', 'Il6', 'Gpc3', 'Ccl11', 'Clec2d'],\n",
    "                'Fibroblast $Clec3b^+$': ['Clec3b', 'Fbn1', 'Pi16', 'Scara5', 'Ugp2', 'Cd248', 'Sema3c', 'Entpd2', 'Adamtsl4', 'Mgst3'],\n",
    "                'Fibroblast $Col8a1^+$': ['Col8a1', 'Eid1', 'Arap1', 'Gpr153', 'Igfbp2', 'Col12a1', 'Phldb2', 'Thbs2', 'Lrrc15', 'Osr2', 'Ccn5', 'Pth1r', 'C1qtnf3', 'Nnmt3'],\n",
    "                'Fibroblast $Rab37^+$': ['Rab37', 'Col22a1', 'F13a1', 'Htra4', 'Tspan15', 'Rgcc', 'Hbegf', 'Cd55', 'Capg', 'Itga6', 'Pcsk6', 'Sema3c', 'Htra4', 'Sox5', 'Rgs5', 'Aldh1a3', 'Sema3d', \n",
    "                                         'Cmtm8', 'Ackr2'],\n",
    "                'Fibroblast $Cfh^+$': ['Cfh', 'Alpl', 'Lifr', 'Sp7', 'Spp1', 'Runx2', 'Cp', 'Mmp13', 'Ptprd', 'Hp', 'St3Gal6', 'Ibsp', 'Cadm1', 'Lgmn', 'Limmch1', 'Vdr', 'Dapk2', 'Dlx5', 'Sept4'],\n",
    "                'Fibroblast $Il1rl1^+$': ['Il1rl1', 'Ptgs2', 'Nr4a2', 'Gxylt2', 'Lum', 'Pdpn', 'Mmp2', 'Olfr1033', 'Arpc3', 'Ptges', 'Plin2', 'Npc2', 'Tnc', 'Sh3Pxd2b', 'B2m', 'Twist2'],\n",
    "                'Fibroblast $Serpine2^+$': ['Serpine2', 'Shox2', 'Wif1', 'Gm48159', 'Col23a1', 'Cd24a', 'Nav2', 'Tfap2c', 'Tanc1', 'Scube3', 'Cblb', 'Fgfr2', 'Olfm', 'Prdm1', 'Alx3', 'Inhba', 'Dio3', 'Rspo1'],\n",
    "                  }"
   ]
  },
  {
   "cell_type": "code",
   "execution_count": null,
   "id": "84c230c9-eb9d-4553-9fe3-e049fb475a30",
   "metadata": {
    "tags": []
   },
   "outputs": [],
   "source": [
    "sc.tl.leiden(adata_fb, resolution=4)\n",
    "assign_cats(adata_fb, dict_cats=dict_fbs, min_score=0.4, quantile_gene_sel=0.7, key_added='cell_type')"
   ]
  },
  {
   "cell_type": "code",
   "execution_count": null,
   "id": "ee3c2cc1-4aea-47be-acf4-9a1f23fa102b",
   "metadata": {
    "tags": []
   },
   "outputs": [],
   "source": [
    "sc.pl.umap(adata_fb, color=['batch', 'condition', 'cell_type', 'Pdpn'], ncols=2, frameon=False, cmap=magma)"
   ]
  },
  {
   "cell_type": "code",
   "execution_count": null,
   "id": "a6aef5a1-da89-43e0-92f0-028d02c645c4",
   "metadata": {
    "tags": []
   },
   "outputs": [],
   "source": [
    "sc.pl.umap(adata_fb, color=['Pdpn'], ncols=2, frameon=False, cmap=magma)"
   ]
  },
  {
   "cell_type": "code",
   "execution_count": null,
   "id": "29c9d53f-22a1-48d9-be28-61946f06f58a",
   "metadata": {
    "tags": []
   },
   "outputs": [],
   "source": [
    "adata_plot_KOvsWT(adata_fb, dict_fbs)"
   ]
  },
  {
   "cell_type": "markdown",
   "id": "e411621f-889c-4901-ae13-6e284faf737d",
   "metadata": {},
   "source": [
    "# Keratinocyte analysis"
   ]
  },
  {
   "cell_type": "code",
   "execution_count": null,
   "id": "3affa7eb-29ce-49ff-9ec9-4fa98d2dc727",
   "metadata": {
    "tags": []
   },
   "outputs": [],
   "source": [
    "adata_krt = adata_all_harmony[adata_all_harmony.obs['cell_type'].isin([\n",
    "    'Keratinocyte $Krt5^+$', 'Keratinocyte $Krt10^+$', 'Keratinocyte $Lor^+$', 'Keratinocyte $Tbx1^+$', 'Keratinocyte $Krt28^+$', \n",
    "    'Keratinocyte $Krt75^+$', 'Keratinocyte $Defb6^+$', 'Keratinocyte $Anln^+$', 'Keratinocyte $Cidea^+$'\n",
    "])]"
   ]
  },
  {
   "cell_type": "code",
   "execution_count": null,
   "id": "eb2fb9ea-daae-49b6-bf24-0123243bc6d1",
   "metadata": {
    "tags": []
   },
   "outputs": [],
   "source": [
    "sc.pp.filter_genes(adata_krt, min_counts=1)"
   ]
  },
  {
   "cell_type": "code",
   "execution_count": null,
   "id": "09fecb72-9def-4367-b743-f50e78da1a56",
   "metadata": {
    "tags": []
   },
   "outputs": [],
   "source": [
    "sc.pp.pca(adata_krt, random_state=seed, n_comps=50)\n",
    "sce.pp.harmony_integrate(adata_krt, key='batch', max_iter_harmony=50, plot_convergence=True)\n",
    "sc.pp.neighbors(adata_krt, random_state=seed, n_neighbors=int(len(adata_krt) ** 0.5), metric='cosine', use_rep='X_pca_harmony')\n",
    "tk.tl.triku(adata_krt)\n",
    "\n",
    "sc.pp.pca(adata_krt, random_state=seed, n_comps=50)\n",
    "sce.pp.harmony_integrate(adata_krt, key='batch', max_iter_harmony=50, plot_convergence=True)\n",
    "sc.pp.neighbors(adata_krt, random_state=seed, n_neighbors=int(len(adata_krt) ** 0.5), metric='cosine', use_rep='X_pca_harmony')"
   ]
  },
  {
   "cell_type": "code",
   "execution_count": null,
   "id": "c8677f74-9590-4e03-a4eb-6cc058bd232d",
   "metadata": {
    "tags": []
   },
   "outputs": [],
   "source": [
    "sc.tl.umap(adata_krt, min_dist=1)"
   ]
  },
  {
   "cell_type": "code",
   "execution_count": null,
   "id": "3b1a80ea-1355-429a-9fac-0a4b63e5cce5",
   "metadata": {
    "tags": []
   },
   "outputs": [],
   "source": [
    "sc.pl.umap(adata_krt, color=['batch', 'condition', 'cell_type'], ncols=2)"
   ]
  },
  {
   "cell_type": "markdown",
   "id": "3caa1625-7066-4ca9-b1e8-7ecca900bd40",
   "metadata": {},
   "source": [
    "**LOCATION OF *INFLAMMATORY* KERATINOCYTES**"
   ]
  },
  {
   "cell_type": "code",
   "execution_count": null,
   "id": "43889d73-fa80-4ea7-a36c-b493b189c27e",
   "metadata": {
    "tags": []
   },
   "outputs": [],
   "source": [
    "sc.pl.umap(adata_krt, color=['Mmp13', 'Pdpn', 'Slfn2', 'Sprr2h', 'Il1f9'], alpha=0.5, ncols=3, cmap=magma)"
   ]
  },
  {
   "cell_type": "markdown",
   "id": "341cc1f1-c802-44fc-bffe-dc99024a450e",
   "metadata": {},
   "source": [
    "We see that some populations (*Anln*$^+$ or *Krt5*$^+$) are separated into two populations. We are going to separate them by finding the corresponding DEGs."
   ]
  },
  {
   "cell_type": "code",
   "execution_count": null,
   "id": "330961dd-6b80-41ac-aedd-542f3cd77d1d",
   "metadata": {
    "tags": []
   },
   "outputs": [],
   "source": [
    "dict_krts = {      \n",
    "                'Keratinocyte $Anln^+$': ['Anln', 'Prc1', 'Cdk1', 'Cenpf', 'Dnph1', 'Cdca8', 'Birc5', 'Cdca3', \n",
    "                                          'Spc24', 'Nusap1', 'Cenpa', 'Ccnb1', 'Racgap1', 'Cdc20'],\n",
    "                'Keratinocyte $Fxyd1^+$': ['Sparc', 'Vim', 'Lgals1', 'Emp3', 'Crip1', 'S100a4', 'Col6a1', 'Fxyd1', \n",
    "                                           'Fstl1', 'Col3a1', 'Matn2', 'Col6a3', 'Zeb2', 'Col5a1', 'Dcn', 'Pcolce'],\n",
    "                'Keratinocyte $Myh11^+$': ['Tagln', 'Col4a2', 'Col4a1', 'Acta2', 'Myh11', 'Igfbp2', 'Rbpms', 'Myl9', \n",
    "                                           'Gm48529', 'Ero1l', 'Anxa6', 'Ptprz1'],\n",
    "                'Keratinocyte $Krt8^+$': ['Krt18', 'Krt9', 'Cldn3', 'Cystm1', 'Wfdc18', 'Ceacam1', 'Wfdc2', 'Mapre2', \n",
    "                                          'Sec14l1', 'Hk1', 'Kcnn4', 'Tesc', 'Rbm47', 'Tpd52l1', 'Ppp1r1b'],\n",
    "                'Keratinocyte $Krt5^+$': ['Krt5', 'Igfbp2', 'Ly6a', 'Sparc', 'Cdh13', 'Il1r2', 'Efemp1', 'Smoc2', 'Ccdc3', \n",
    "                                          'Igfbp6', 'Antxr1', 'Ppic', 'Cotl1', 'Cav1', 'Thy1'], \n",
    "                'Keratinocyte $Ifi202b^+$': ['Krt5', 'S100a10', 'Eif5', 'Serpinb2', 'Ifi202b', 'Cxcl16', 'Fosl1', 'Sqstm1', \n",
    "                                             'Tiparp', 'Tinagl1', 'Krt16', 'Ptgs2', 'Epgn', 'Adam8', 'Cnksr1', 'Ccdc71l'], \n",
    "                'Keratinocyte $Krt10^+$': ['Krt10', 'Krt1', 'Them5', 'Endou', 'Klk8', 'Gltp', 'Calm5', 'Acsl1', 'Chit1', 'Elovl4', \n",
    "                                           'Oas1f', 'Ptgs1', 'Tmprss4', 'Ly6g6e', 'Prxl2b', 'Fam57a'],  # Spninous\n",
    "                'Keratinocyte $Lor^+$': ['Lor', 'Nccrp1', 'Trex2', 'Lce1a1', 'Lce1b', 'Flg', 'Lce1f', 'Hrnr', 'Crct1', 'Lce1g', \n",
    "                                         'Lce1e', 'Kprp', 'Il18', 'Lce1m', 'Lce1i', 'Lce1c', 'Lce1h', 'Lce1j', 'Flg2'],  # Granular\n",
    "                'Keratinocyte $Tbx1^+$': ['Krt17', 'Slc3a2', 'Cxcl14', 'Fgfr1', 'Thbs1', 'Tbx1', 'Dusp6', 'Slc7a8', 'Itgb1', 'Bgn', \n",
    "                                          'Smtn', 'Nedd9', 'Col18a1', 'Flna', 'Slpi', 'Lamb1', 'Col4a1', 'Basp1', 'Agrn', 'Tnc'],\n",
    "                'Keratinocyte $Shisa2^+$': ['Krt14', 'Gja1', 'Krt6a', 'Pdzrn3', 'Pthlh', 'Shisa2', 'Clasrp', 'Pfn2', 'Mgat4a'],\n",
    "                'Keratinocyte $Krt28^+$': ['Krt28', 'Krt25', 'Krt27', 'Krt71', 'Krt73', 'Tchh', 'Myh14', 'Msx2', 'Nkd2', \n",
    "                                           'Ggt1', 'Prss53', 'Dsc1', 'Ttyh2', 'Crnn', 'Msx2', 'Golga7b'],\n",
    "                'Keratinocyte $Krt35^+$': ['Krt35', 'Mt4', 'Gm49425', 'Msx1', 'S100a3', 'Krtap7-1', 'Krtap8-1', \n",
    "                                           'Ly6g6d', 'Selenbp1', 'Krt81', 'Krtap13-1', 'Rab3ip', 'Krtap22-2'],\n",
    "                'Keratinocyte $Krt75^+$': ['Krt17', 'Tm4sf1', 'Gjb2', 'Wnt11', 'Slc39a6', 'Krt75', 'Fzd5', 'Clu', 'Trim2', 'Sulf2', \n",
    "                                           'Lap3', 'Gm44460', 'Sult2b1', 'Slc39a8', 'Gm12446', 'Cyth1', 'Cdr2'],\n",
    "                'Keratinocyte $Gpx2^+$': ['Gpx2', 'Ly6g6c', 'Krt6a', 'Cpm', 'Cryab', 'Fads3', 'Pinlyp', 'Pgap2', 'Cd82', \n",
    "                                          'Klk7', 'Palld', 'Acot1', 'Ss18l2', 'Phactr1', 'Kcne1', 'Gabrp', 'Klk10', 'Ace2'],\n",
    "                'Keratinocyte $Defb6^+$': ['Krt79', 'Krt17', 'Cst6', 'Ly6g6c', 'Defb6', 'Defb1', 'Klk7', 'Dpysl3', \n",
    "                                           'Gata6', 'Alox12e', 'Nebl', 'Teddm3', 'Rbp1', 'Susd2', 'Pdzk1ip1', 'Ano9'],\n",
    "                'Keratinocyte $Sprr1b^+$': ['Krt16', 'Sprr1b', 'Sprr1a', 'Asprv1', 'Ehf', 'Sbsn', 'Krt80', 'Cnfn', 'Sprr2h', 'Gm9774', 'Ppif', 'Lpin2', 'Il1f9'],\n",
    "                'Keratinocyte $Cidea^+$': ['Mgst1', 'Cidea', 'Ldhb', 'Acsbg1', 'Pparg', 'Bex1', 'Krt79', 'Psph', \n",
    "                                           'Aadac', 'Glrx5', 'Sdc1', 'Eci2', 'Cbr1', 'Scp2', 'Aco1', 'Alad', 'Soat1', 'Cat', 'Lpl'],\n",
    "                  }"
   ]
  },
  {
   "cell_type": "code",
   "execution_count": null,
   "id": "f2a4a97e-4345-45de-96cc-70e2c534f4c3",
   "metadata": {
    "tags": []
   },
   "outputs": [],
   "source": [
    "sc.tl.leiden(adata_krt, resolution=4)\n",
    "assign_cats(adata_krt, dict_cats=dict_krts, min_score=0.4, quantile_gene_sel=0.7, key_added='cell_type')"
   ]
  },
  {
   "cell_type": "code",
   "execution_count": null,
   "id": "650c43a7-81b5-40ca-9768-23f635472dff",
   "metadata": {
    "tags": []
   },
   "outputs": [],
   "source": [
    "sc.pl.umap(adata_krt, color=['batch', 'condition', 'cell_type'], ncols=2, frameon=False, cmap=magma)"
   ]
  },
  {
   "cell_type": "code",
   "execution_count": null,
   "id": "68186a8e-7e13-4f8f-b8e5-f0485b7eb606",
   "metadata": {
    "tags": []
   },
   "outputs": [],
   "source": [
    "adata_plot_KOvsWT(adata_krt, dict_krts)"
   ]
  },
  {
   "cell_type": "markdown",
   "id": "34f36312-ebcf-4f88-ad66-9f675b782d89",
   "metadata": {},
   "source": [
    "# Immune analysis"
   ]
  },
  {
   "cell_type": "code",
   "execution_count": null,
   "id": "70636852-da76-4b00-8f1b-a7042d1f0424",
   "metadata": {
    "tags": []
   },
   "outputs": [],
   "source": [
    "adata_immune = adata_all_harmony[adata_all_harmony.obs['cell_type'].isin([\n",
    "     'T cell', 'T cell (ILC/gd)?', 'B cell', 'NK cell', 'Macrophage', 'Monocyte', 'Neutrophil', 'Neutrophil*', 'Dendritic cell', 'Langerhans cell', 'Mast cell'\n",
    "])]"
   ]
  },
  {
   "cell_type": "code",
   "execution_count": null,
   "id": "00580814-f70f-4016-a4fc-9efd233fd381",
   "metadata": {
    "tags": []
   },
   "outputs": [],
   "source": [
    "sc.pp.filter_genes(adata_immune, min_counts=1)"
   ]
  },
  {
   "cell_type": "code",
   "execution_count": null,
   "id": "d24e132f-b43d-4a57-83c8-dece788a8505",
   "metadata": {
    "tags": []
   },
   "outputs": [],
   "source": [
    "sc.pp.pca(adata_immune, random_state=seed, n_comps=50)\n",
    "sce.pp.harmony_integrate(adata_immune, key='batch', max_iter_harmony=50, plot_convergence=True)\n",
    "sc.pp.neighbors(adata_immune, random_state=seed, n_neighbors=int(len(adata_immune) ** 0.5), metric='cosine', use_rep='X_pca_harmony')\n",
    "tk.tl.triku(adata_immune)\n",
    "\n",
    "sc.pp.pca(adata_immune, random_state=seed, n_comps=50)\n",
    "sce.pp.harmony_integrate(adata_immune, key='batch', max_iter_harmony=50, plot_convergence=True)\n",
    "sc.pp.neighbors(adata_immune, random_state=seed, n_neighbors=int(len(adata_immune) ** 0.5), metric='cosine', use_rep='X_pca_harmony')"
   ]
  },
  {
   "cell_type": "code",
   "execution_count": null,
   "id": "dab151ed-aa23-4cf0-92ee-a69898e543c8",
   "metadata": {
    "tags": []
   },
   "outputs": [],
   "source": [
    "sc.tl.umap(adata_immune, min_dist=1)"
   ]
  },
  {
   "cell_type": "code",
   "execution_count": null,
   "id": "2164c424-a1a8-4090-a25f-f95b8e1914b2",
   "metadata": {
    "tags": []
   },
   "outputs": [],
   "source": [
    "sc.pl.umap(adata_immune, color=['batch', 'condition', 'cell_type'], ncols=2)"
   ]
  },
  {
   "cell_type": "code",
   "execution_count": null,
   "id": "861b24a5-ae0c-4508-bdad-64424c82b344",
   "metadata": {
    "tags": []
   },
   "outputs": [],
   "source": [
    "dict_immune = {    \n",
    "                  'Langerhans cell': ['Cd74', 'H2-Aa', 'H2-Eb1', 'Mfge8', 'Pgf', 'Cd207', 'Nr4a3', 'Il1r2', 'Pkib', 'Grk3', 'Ktn1', 'Cldn1', 'Pxdc1', 'Dnah2', 'Timd4', \n",
    "                                      'Epcam', 'Ccr7', 'St14', 'Mreg', 'Cd40'],\n",
    "                  'Langerhans $LSR^+$': ['Cd207', 'H2-DMa', 'Ltc4s', 'H2-DMb1', 'Epcam', 'Napsa', 'Hspa1a', 'Lsr', 'Ptpn6', 'Scimp', 'Ptgs1', 'Cyp4f16', 'Tcea3', 'Cd72', 'Cdh1', 'Spint1',\n",
    "                                         'Dok3', 'Tmem45b', 'Alox5', 'Itgax', 'Fads1', 'Gna15', 'Scap'],\n",
    "                  'T cell': ['Tnfrsf18', 'Cxcr6', 'Ifngr1', 'Cd52', 'Rora', 'Il7r', 'Aebp2', 'Icos', 'Dgat1', 'Ccr2', 'Shisa5', 'Grap', 'Cd27', 'Pdcd1', 'Ikzf3', 'Il18r1', \n",
    "                             'Gata3', 'Spn', 'Tnfrsf4'],\n",
    "                  'B cell': ['Vpreb3', 'Chchd10', 'Ighm', 'Cd79a', 'Cd79b', 'Stmn1', 'Igll1', 'Dut', 'Top2a', 'Rasgrp2', 'Myb', 'Ssrp1', 'Gimap6', 'Selenoh', 'Apobec3', 'Smc2',\n",
    "                             'Cks1b', 'Lgals9', 'Ebf1', 'Csrp2', 'Adgrg1', 'Pou2af1', 'Tcf3', 'Hist1h1a', 'Parp1', 'Lig1', 'Dntt', 'Sox4'],\n",
    "                  'Plasma cell': ['Ighm', 'Igkc', 'Cd79a', 'Ly6d', 'Cd79b', 'Iglc3', 'Ms4a1', 'Iglc2', 'Tnfrsf13c', 'Iglc1', 'Sdc1', 'Cd74', 'Txndc16', 'Ighd'],\n",
    "                  'NK cell': ['Ctla2a', 'Rgs2', 'Cd3d', 'Cd3g', 'Fermt2', 'Tcrg-C1', 'Nkg7', 'Ctsw', 'Rab4a', 'Cd7', 'Klrk1', 'Trf', 'Itk', 'Ubald2', 'Il2rb', 'Map1b', 'Klrb1b', 'Cd2', \n",
    "                              'Trbc2', 'Abcb1b', 'Rasl11b', 'Parp8', 'Tiam1'],\n",
    "                  'Macrophage': ['Pf4', 'Grn', 'C1qb', 'Dab2', 'C1qc', 'Apoe', 'C1qa', 'Ms4a7', 'Timp2', 'Cd36', 'Mrc1', 'Fxyd2', 'F13a1', 'Igf1', 'Rgl1', 'Ednrb', 'Hgsnat', 'Tgfbi', 'Rnase4', \n",
    "                                 'Sash1', 'Folr2', 'Gas6', 'Stab1', 'Ccl8', 'Fcgrt', 'Ms4a6c', 'P2rx7'],\n",
    "                  'Dendritic cell': ['Cd209a', 'Cd209d', 'Plbd1', 'Aif1', 'Cd74', 'Clec4e', 'Tgfbi', 'Pdpn', 'Cxcl3', 'Vat1', 'Slc39a14', 'Eps8', 'Tppp3', \n",
    "                                     'Procr', 'Tarm1', 'Clec4a3', 'Ccl5'],\n",
    "                  'DC / Langerhans': ['Cd74', 'Cst3', 'Ccr7', 'Bcl2a1a', 'Il4i1', 'Cacnb3', 'Ccl22', 'Fscn1', 'Pkib', 'Wnk1', 'Cd200', 'Gm13546', 'Serpinb9b', 'Relb', 'Cd40', 'Arl5a'],\n",
    "                  'Monocyte': ['Wfdc17', 'Csf1r', 'F10', 'Ly6c2', 'Gsr', 'Anxa5', 'Ptgs2', 'Cxcl3', 'Pid1', 'Serpinb2', 'Nos2', 'Csf3', 'Vcan', 'Inhba', 'Ptges', 'Saa3', \n",
    "                               'F13a1', 'Met', 'Arg1'],\n",
    "                  'Neutrophil': ['S100a8', 'S100a9', 'Camp', 'Ltf', 'Chil3', 'Tinagl1', 'Stfa1', 'Ngp', 'Chil3', 'Cd177', 'Adpgk', 'Syne1', 'Cebpe', 'Hsd11b1', 'Mgst1', \n",
    "                                 'Tst', 'Ly6c2', 'Pilrb2', 'Fcnb', 'Rab44', 'Nfe2', 'Cpne3', 'Ldhc', 'Hmgn2', 'Adgrg3'],\n",
    "                  'Neutrophil*': ['Acod1', 'Il1f9', 'Rhov', 'Stfa2l1', 'Ccl3', 'Hcar2', 'Slpi', 'Ccrl2', 'Csta3', 'Il1rn', 'Cxcl3', 'G0s2', 'Stfa2', 'Ptgs2', 'Asprv1', 'Fpr1'],\n",
    "                  'Mast cell': ['Cma1', 'Tpsb2', 'Mcpt4', 'Fdx1', 'Hs3st1', 'Cd55', 'Tpsab1', 'Hdc', 'Tph1', 'Cpa3', 'Fgfr1', 'Gata2', 'Slco2b1', 'Vwa5a', 'Il1rl1', \n",
    "                                'Cyp11a1', 'Adora3', 'Kit', 'Ap1s3', 'Hexb', 'Creb3l1', 'Mrgprb1', 'Rab27b', 'Penk', 'Hs6st2', 'Adamts9', 'Akap12', 'Slc45a3', 'Mrgprb2', 'Gnai1']\n",
    "                  }"
   ]
  },
  {
   "cell_type": "code",
   "execution_count": null,
   "id": "33dcd772-446d-40ff-95f8-5d4a5dd15731",
   "metadata": {
    "tags": []
   },
   "outputs": [],
   "source": [
    "sc.tl.leiden(adata_immune, resolution=1.5)\n",
    "assign_cats(adata_immune, dict_cats=dict_immune, min_score=0.4, quantile_gene_sel=0.7, key_added='cell_type')"
   ]
  },
  {
   "cell_type": "code",
   "execution_count": null,
   "id": "8cf787f0-230e-42b4-8f68-0a6029df6a12",
   "metadata": {
    "tags": []
   },
   "outputs": [],
   "source": [
    "sc.pl.umap(adata_immune, color=['batch', 'condition', 'leiden', 'cell_type'] \n",
    "           , ncols=2, frameon=False, cmap=magma)"
   ]
  },
  {
   "cell_type": "code",
   "execution_count": null,
   "id": "350adc27-601f-4639-87a9-e003209e7768",
   "metadata": {
    "tags": []
   },
   "outputs": [],
   "source": [
    "adata_plot_KOvsWT(adata_immune, dict_immune)"
   ]
  },
  {
   "cell_type": "code",
   "execution_count": null,
   "id": "172b828b-ec04-45f8-b1f4-f1ed711d67ed",
   "metadata": {},
   "outputs": [],
   "source": []
  },
  {
   "cell_type": "code",
   "execution_count": null,
   "id": "bac87a12-8a16-43d6-8150-f1766326e878",
   "metadata": {},
   "outputs": [],
   "source": []
  }
 ],
 "metadata": {
  "kernelspec": {
   "display_name": "Python [conda env:alex-base] *",
   "language": "python",
   "name": "conda-env-alex-base-py"
  },
  "language_info": {
   "codemirror_mode": {
    "name": "ipython",
    "version": 3
   },
   "file_extension": ".py",
   "mimetype": "text/x-python",
   "name": "python",
   "nbconvert_exporter": "python",
   "pygments_lexer": "ipython3",
   "version": "3.8.0"
  }
 },
 "nbformat": 4,
 "nbformat_minor": 5
}
