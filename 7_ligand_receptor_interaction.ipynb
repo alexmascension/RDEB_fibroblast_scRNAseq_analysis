{
 "cells": [
  {
   "cell_type": "markdown",
   "id": "aa781ea4-1ef8-4bd8-b09d-1e513ed2c212",
   "metadata": {},
   "source": [
    "# Figures associated to LR interactions\n",
    "\n",
    "**You need to run notebooks 2 to 6 first!!!!**"
   ]
  },
  {
   "cell_type": "code",
   "execution_count": null,
   "id": "beec4b87-e7ae-42fb-a135-12bb7617dfea",
   "metadata": {
    "tags": []
   },
   "outputs": [],
   "source": [
    "from cellassign import assign_cats\n",
    "import gzip\n",
    "import itertools as itl\n",
    "import matplotlib.pyplot as plt\n",
    "import matplotlib as mpl\n",
    "import numpy as np\n",
    "import os\n",
    "import pandas as pd\n",
    "import scanpy as sc\n",
    "import scanpy.external as sce\n",
    "import seaborn as sns\n",
    "import triku as tk\n",
    "import itertools\n",
    "import matplotlib.pylab as pylab"
   ]
  },
  {
   "cell_type": "code",
   "execution_count": null,
   "id": "e1fb0597-20bc-498b-81a7-e05c21bf9083",
   "metadata": {},
   "outputs": [],
   "source": [
    "from functions import adata_plot_KOvsWT, stat_annot_gene\n",
    "from functions import dict_WT_KO_colors"
   ]
  },
  {
   "cell_type": "code",
   "execution_count": null,
   "id": "965d7745-46a9-480c-9c08-4f0630f09114",
   "metadata": {
    "tags": []
   },
   "outputs": [],
   "source": [
    "# Palettes for UMAP gene expression\n",
    "\n",
    "magma = [plt.get_cmap('magma')(i) for i in np.linspace(0,1, 80)]\n",
    "magma[0] = (0.88, 0.88, 0.88, 1)\n",
    "magma = mpl.colors.LinearSegmentedColormap.from_list(\"\", magma[:65])"
   ]
  },
  {
   "cell_type": "code",
   "execution_count": null,
   "id": "b470ff13-1c41-447a-8267-e762d61f3d00",
   "metadata": {
    "tags": []
   },
   "outputs": [],
   "source": [
    "params = {'figure.dpi': 200,\n",
    "          'legend.fontsize': 'large',\n",
    "         'axes.labelsize': 'x-large',\n",
    "         'axes.titlesize':'x-large',\n",
    "         'xtick.labelsize':'x-large',\n",
    "         'ytick.labelsize':'x-large', \n",
    "         'axes.grid': False}\n",
    "pylab.rcParams.update(params)\n",
    "# mpl.style.use('default')\n",
    "\n",
    "pd.set_option('display.max_columns', None)"
   ]
  },
  {
   "cell_type": "markdown",
   "id": "851e2f7c-361c-4e68-aa6e-d32abd0b89b3",
   "metadata": {},
   "source": [
    "## Functions and variables"
   ]
  },
  {
   "cell_type": "code",
   "execution_count": null,
   "id": "2cb59f56-277b-498b-b9ea-abe1361a5bab",
   "metadata": {
    "tags": []
   },
   "outputs": [],
   "source": [
    "%store -r dict_WT_KO_colors\n",
    "%store -r seed"
   ]
  },
  {
   "cell_type": "markdown",
   "id": "cd3d67f8-65f4-4a1c-b1dc-4b7de3024ff5",
   "metadata": {},
   "source": [
    "## Load adata"
   ]
  },
  {
   "cell_type": "code",
   "execution_count": null,
   "id": "1d6bdc16-1139-42b2-94bb-3b9dcd501fed",
   "metadata": {
    "tags": []
   },
   "outputs": [],
   "source": [
    "adata_fb = sc.read('adatas/adata_fibroblast.h5')\n",
    "adata_krt = sc.read('adatas/adata_keratinocyte.h5')\n",
    "adata_imm = sc.read('adatas/adata_immune.h5')\n",
    "adata_vasc = sc.read('adatas/adata_vasculature.h5')\n",
    "adata_all_harmony = sc.read_h5ad('adatas/adata_all_harmony.h5')"
   ]
  },
  {
   "cell_type": "code",
   "execution_count": null,
   "id": "7e743f15-5d99-48a3-b1a0-a59550a2860c",
   "metadata": {
    "tags": []
   },
   "outputs": [],
   "source": [
    "adata_combined = sc.AnnData.concatenate(adata_fb, adata_krt, adata_imm, adata_vasc)\n",
    "adata_combined.obs_names = [i[:-2] for i in adata_combined.obs_names]\n",
    "# We do this because some gene expression may be lost when removing genes in subtype anndatas\n",
    "# adata_combined.X = adata_all_harmony[adata_combined.obs_names, adata_combined.var_names].X  "
   ]
  },
  {
   "cell_type": "code",
   "execution_count": null,
   "id": "03aeaf3c-f559-41bb-991e-771c1671687c",
   "metadata": {
    "tags": []
   },
   "outputs": [],
   "source": [
    "print([(i[1], i[0]) for i in [('Ccl4', 'Ccr5'), ('Ccl6', 'Ccr1'), ('Ccl7', 'Ccr1'), ('Ccl7', 'Ccr2'),\n",
    "            ('Ccl8', 'Ccr3'), ('Ccl22', 'Ccr4'),]])\n"
   ]
  },
  {
   "cell_type": "code",
   "execution_count": null,
   "id": "09aab721-703f-4914-a0f6-b57a35564218",
   "metadata": {
    "scrolled": true,
    "tags": []
   },
   "outputs": [],
   "source": [
    "LR_pairs = [('C3ar1', 'C3'), ('Csf1', 'Csf1r'), ('Csf2', 'Csf2ra'), ('Cxcl1', 'Cxcr2'), ('Cxcl2', 'Cxcr4'), \n",
    "            ('Cxcr6', 'Cxcl16'), ('Ccr2', 'Ccl2'), ('Ccr4', 'Ccl2'), ('Ccr1', 'Ccl3'), ('Ccr4', 'Ccl3'),  ('Ccr5', 'Ccl3'), \n",
    "            ('Ccr5', 'Ccl4'), ('Ccr1', 'Ccl6'), ('Ccr1', 'Ccl7'), ('Ccr2', 'Ccl7'), # ('Ccr3', 'Ccl8'), ('Ccr4', 'Ccl22'), \n",
    "            ('Il1f9', 'Il1rl2'), ('Il1a', 'Il1rl1'), ('Il1b', 'Il1rl1'),\n",
    "            ('Il33', 'Il1rl1'), ('Tnf', 'Tnfrsf1b'), ('Tnfsf9', 'Tnfrsf9'), ('Vegfa', 'Flt1'), ('Vegfb', 'Flt1'),\n",
    "            ('Pdcd1', 'Cd274'),]\n",
    "\n",
    "# for pair in LR_pairs:\n",
    "#     print(pair[0], pair[0] in adata_imm.var_names, pair[0] in adata_rest.var_names,)\n",
    "#     print(pair[1], pair[1] in adata_imm.var_names, pair[1] in adata_rest.var_names, '\\n\\n')"
   ]
  },
  {
   "cell_type": "code",
   "execution_count": null,
   "id": "64ca64f3-fb34-41ed-b0a0-24af089dd176",
   "metadata": {
    "tags": []
   },
   "outputs": [],
   "source": [
    "def plot_violin_ab(gene_1, gene_2, adata_1, adata_2):\n",
    "    fig = plt.figure(constrained_layout=False, figsize=(12, 4))\n",
    "    gs1 = fig.add_gridspec(nrows=1, ncols=4)\n",
    "    ax1, ax2 = fig.add_subplot(gs1[0]), fig.add_subplot(gs1[1:])\n",
    "\n",
    "    sc.pl.violin(adata_1, groupby='subtype', keys=gene_1, rotation=90, ax=ax1, show=False)\n",
    "    sc.pl.violin(adata_2, groupby='subtype', keys=gene_2, rotation=90, \n",
    "                 ax=ax2, show=False)\n",
    "    plt.tight_layout()"
   ]
  },
  {
   "cell_type": "code",
   "execution_count": null,
   "id": "d05a1399-e430-43fb-b26f-ae1111adada4",
   "metadata": {
    "tags": []
   },
   "outputs": [],
   "source": [
    "adata_rest = sc.AnnData.concatenate(adata_fb, adata_krt, adata_vasc)\n",
    "\n",
    "for pair_1, pair_2 in LR_pairs:\n",
    "    plot_violin_ab(pair_1, pair_2, adata_imm, adata_rest)"
   ]
  },
  {
   "cell_type": "code",
   "execution_count": null,
   "id": "77ba719d-e747-427a-ac65-d18e5881f058",
   "metadata": {},
   "outputs": [],
   "source": []
  }
 ],
 "metadata": {
  "kernelspec": {
   "display_name": "Python [conda env:alex-base] *",
   "language": "python",
   "name": "conda-env-alex-base-py"
  },
  "language_info": {
   "codemirror_mode": {
    "name": "ipython",
    "version": 3
   },
   "file_extension": ".py",
   "mimetype": "text/x-python",
   "name": "python",
   "nbconvert_exporter": "python",
   "pygments_lexer": "ipython3",
   "version": "3.8.0"
  }
 },
 "nbformat": 4,
 "nbformat_minor": 5
}
